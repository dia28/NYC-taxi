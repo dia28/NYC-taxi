{
 "cells": [
  {
   "cell_type": "code",
   "execution_count": 0,
   "metadata": {
    "application/vnd.databricks.v1+cell": {
     "cellMetadata": {
      "byteLimit": 2048000,
      "implicitDf": true,
      "rowLimit": 10000
     },
     "inputWidgets": {},
     "nuid": "1ef2d6e9-7350-4bd5-b69f-fe9c19d858a9",
     "showTitle": false,
     "tableResultSettingsMap": {},
     "title": ""
    }
   },
   "outputs": [],
   "source": [
    "%sql\n",
    "CREATE VOLUME IF NOT EXISTS workspace.default.nyc_taxi;"
   ]
  },
  {
   "cell_type": "code",
   "execution_count": 0,
   "metadata": {
    "application/vnd.databricks.v1+cell": {
     "cellMetadata": {
      "byteLimit": 2048000,
      "rowLimit": 10000
     },
     "inputWidgets": {},
     "nuid": "1f8b691d-adf0-4f51-bb67-67b2b2de03db",
     "showTitle": false,
     "tableResultSettingsMap": {},
     "title": ""
    }
   },
   "outputs": [],
   "source": [
    "import os\n",
    "import urllib.request\n",
    "from datetime import datetime\n",
    "from pyspark.sql.functions import current_timestamp, input_file_name\n",
    "\n",
    "# Taxi types to process\n",
    "TAXI_TYPES = [\"yellow\", \"green\", \"fhv\", \"fhvhv\"]\n",
    "START_YEAR = 2020\n",
    "CURRENT_YEAR = datetime.now().year\n",
    "\n",
    "# NYC TLC data base URL\n",
    "BASE_URL = \"https://d37ci6vzurychx.cloudfront.net/trip-data\"\n",
    "\n",
    "# DBFS mount locations\n",
    "RAW_BASE = \"/Volumes/workspace/default/nyc_taxi/raw\"\n",
    "BRONZE_BASE = \"/Volumes/workspace/default/nyc_taxi/bronze\"\n",
    "SILVER_BASE = \"/Volumes/workspace/default/nyc_taxi/silver\"\n",
    "GOLD_BASE = \"/Volumes/workspace/default/nyc_taxi/gold\""
   ]
  },
  {
   "cell_type": "code",
   "execution_count": 0,
   "metadata": {
    "application/vnd.databricks.v1+cell": {
     "cellMetadata": {
      "byteLimit": 2048000,
      "rowLimit": 10000
     },
     "inputWidgets": {},
     "nuid": "a5371129-2594-4dba-bff2-810e79133119",
     "showTitle": false,
     "tableResultSettingsMap": {},
     "title": ""
    }
   },
   "outputs": [],
   "source": [
    "def file_exists_dbfs(path):\n",
    "    \"\"\"Check if file exists in DBFS\"\"\"\n",
    "    try:\n",
    "        return len(dbutils.fs.ls(path)) > 0\n",
    "    except:\n",
    "        return False\n",
    "    \n",
    "def download_and_save(taxi_type, year, month):\n",
    "    \"\"\"\n",
    "    Download monthly taxi file from NYC TLC and save to DBFS raw folder\n",
    "    Skip if file already exists\n",
    "    \"\"\"\n",
    "    file_name = f\"{taxi_type}_tripdata_{year}-{month:02d}.parquet\"\n",
    "    raw_dir = f\"{RAW_BASE}/{taxi_type}/{year}\"\n",
    "    raw_path = f\"{raw_dir}/{file_name}\"\n",
    "    \n",
    "    # Skip if file already in raw\n",
    "    if file_exists_dbfs(raw_path):\n",
    "        print(f\"Skipping download (already exists): {raw_path}\")\n",
    "        return raw_path\n",
    "    \n",
    "    # ensure parent dir exists \n",
    "    os.makedirs(raw_dir, exist_ok=True)\n",
    "\n",
    "    # Download from source and save to DBFS raw folder\n",
    "    url = f\"{BASE_URL}/{file_name}\"\n",
    "    try:\n",
    "        print(f\"Downloading {url}\")\n",
    "        urllib.request.urlretrieve(url, raw_path)\n",
    "        print(f\"Saved raw file to {raw_path}\")\n",
    "    except Exception as e:\n",
    "        print(f\"File not found or error downloading {file_name}: {e}\")\n",
    "        return None\n",
    "    \n",
    "    return raw_path"
   ]
  },
  {
   "cell_type": "code",
   "execution_count": 0,
   "metadata": {
    "application/vnd.databricks.v1+cell": {
     "cellMetadata": {
      "byteLimit": 2048000,
      "rowLimit": 10000
     },
     "inputWidgets": {},
     "nuid": "f68fddbc-772c-41a4-bd41-54615b8a6255",
     "showTitle": false,
     "tableResultSettingsMap": {},
     "title": ""
    }
   },
   "outputs": [],
   "source": [
    "from pyspark.sql.functions import col, lit\n",
    "def load_to_bronze(raw_path, taxi_type):\n",
    "    \"\"\"\n",
    "    Load raw file into Bronze Delta table with minimal transformations\n",
    "    Skip if file already ingested (by checking source_file in bronze)\n",
    "    \"\"\"\n",
    "    bronze_path = f\"{BRONZE_BASE}/{taxi_type}\"\n",
    "    table_name = f\"bronze_{taxi_type}_taxi\"\n",
    "    \n",
    "    # Check if file already loaded\n",
    "    try:\n",
    "        bronze_df = spark.read.format(\"delta\").load(bronze_path)\n",
    "        if \"source_file\" in bronze_df.columns:\n",
    "            if bronze_df.filter(bronze_df.source_file.endswith(f\"/{os.path.basename(raw_path)}\")).limit(1).count() > 0:\n",
    "                print(f\"Skipping Bronze load (already ingested): {raw_path}\")\n",
    "                return\n",
    "    except:\n",
    "        # Bronze table might not exist yet\n",
    "        pass\n",
    "\n",
    "    # Load parquet file\n",
    "    df = (spark.read.format(\"parquet\")\n",
    "          .option(\"inferSchema\", \"true\")\n",
    "          .load(raw_path)\n",
    "          .withColumn(\"ingestion_date\", current_timestamp())\n",
    "          .withColumn(\"source_file\", lit(os.path.basename(raw_path)))\n",
    "          .withColumn(\"taxi_type\", lit(taxi_type))\n",
    "        )\n",
    "    # Pentru a evita erorile de inconsistenta, cast to string\n",
    "    for col_name, dtype in df.dtypes:\n",
    "        df = df.withColumn(col_name, col(col_name).cast(\"string\"))\n",
    "\n",
    "    # Append to Delta table\n",
    "    (df.write\n",
    "       .format(\"delta\")\n",
    "       .mode(\"append\")\n",
    "       .option(\"mergeSchema\", \"true\")\n",
    "       .save(bronze_path))\n",
    "\n",
    "    print(f\"Written to Bronze: {bronze_path}\")\n"
   ]
  },
  {
   "cell_type": "code",
   "execution_count": 0,
   "metadata": {
    "application/vnd.databricks.v1+cell": {
     "cellMetadata": {
      "byteLimit": 2048000,
      "rowLimit": 10000
     },
     "inputWidgets": {},
     "nuid": "8e1a07ca-3caa-4dbc-a2c7-0ca4c3db5f39",
     "showTitle": false,
     "tableResultSettingsMap": {},
     "title": ""
    }
   },
   "outputs": [
    {
     "name": "stdout",
     "output_type": "stream",
     "text": [
      "Skipping download (already exists): /Volumes/workspace/default/nyc_taxi/raw/yellow/2020/yellow_tripdata_2020-01.parquet\n",
      "Written to Bronze: /Volumes/workspace/default/nyc_taxi/bronze/yellow\n",
      "Skipping download (already exists): /Volumes/workspace/default/nyc_taxi/raw/yellow/2020/yellow_tripdata_2020-02.parquet\n",
      "Written to Bronze: /Volumes/workspace/default/nyc_taxi/bronze/yellow\n",
      "Skipping download (already exists): /Volumes/workspace/default/nyc_taxi/raw/yellow/2020/yellow_tripdata_2020-03.parquet\n",
      "Written to Bronze: /Volumes/workspace/default/nyc_taxi/bronze/yellow\n",
      "Skipping download (already exists): /Volumes/workspace/default/nyc_taxi/raw/yellow/2020/yellow_tripdata_2020-04.parquet\n",
      "Written to Bronze: /Volumes/workspace/default/nyc_taxi/bronze/yellow\n",
      "Skipping download (already exists): /Volumes/workspace/default/nyc_taxi/raw/yellow/2020/yellow_tripdata_2020-05.parquet\n",
      "Written to Bronze: /Volumes/workspace/default/nyc_taxi/bronze/yellow\n",
      "Skipping download (already exists): /Volumes/workspace/default/nyc_taxi/raw/yellow/2020/yellow_tripdata_2020-06.parquet\n",
      "Written to Bronze: /Volumes/workspace/default/nyc_taxi/bronze/yellow\n",
      "Skipping download (already exists): /Volumes/workspace/default/nyc_taxi/raw/yellow/2020/yellow_tripdata_2020-07.parquet\n",
      "Written to Bronze: /Volumes/workspace/default/nyc_taxi/bronze/yellow\n",
      "Skipping download (already exists): /Volumes/workspace/default/nyc_taxi/raw/yellow/2020/yellow_tripdata_2020-08.parquet\n",
      "Written to Bronze: /Volumes/workspace/default/nyc_taxi/bronze/yellow\n",
      "Skipping download (already exists): /Volumes/workspace/default/nyc_taxi/raw/yellow/2020/yellow_tripdata_2020-09.parquet\n",
      "Written to Bronze: /Volumes/workspace/default/nyc_taxi/bronze/yellow\n",
      "Skipping download (already exists): /Volumes/workspace/default/nyc_taxi/raw/yellow/2020/yellow_tripdata_2020-10.parquet\n",
      "Written to Bronze: /Volumes/workspace/default/nyc_taxi/bronze/yellow\n",
      "Skipping download (already exists): /Volumes/workspace/default/nyc_taxi/raw/yellow/2020/yellow_tripdata_2020-11.parquet\n",
      "Written to Bronze: /Volumes/workspace/default/nyc_taxi/bronze/yellow\n",
      "Skipping download (already exists): /Volumes/workspace/default/nyc_taxi/raw/yellow/2020/yellow_tripdata_2020-12.parquet\n",
      "Written to Bronze: /Volumes/workspace/default/nyc_taxi/bronze/yellow\n",
      "Skipping download (already exists): /Volumes/workspace/default/nyc_taxi/raw/yellow/2021/yellow_tripdata_2021-01.parquet\n",
      "Written to Bronze: /Volumes/workspace/default/nyc_taxi/bronze/yellow\n",
      "Skipping download (already exists): /Volumes/workspace/default/nyc_taxi/raw/yellow/2021/yellow_tripdata_2021-02.parquet\n",
      "Written to Bronze: /Volumes/workspace/default/nyc_taxi/bronze/yellow\n",
      "Skipping download (already exists): /Volumes/workspace/default/nyc_taxi/raw/yellow/2021/yellow_tripdata_2021-03.parquet\n",
      "Written to Bronze: /Volumes/workspace/default/nyc_taxi/bronze/yellow\n",
      "Skipping download (already exists): /Volumes/workspace/default/nyc_taxi/raw/yellow/2021/yellow_tripdata_2021-04.parquet\n",
      "Written to Bronze: /Volumes/workspace/default/nyc_taxi/bronze/yellow\n",
      "Skipping download (already exists): /Volumes/workspace/default/nyc_taxi/raw/yellow/2021/yellow_tripdata_2021-05.parquet\n",
      "Written to Bronze: /Volumes/workspace/default/nyc_taxi/bronze/yellow\n",
      "Skipping download (already exists): /Volumes/workspace/default/nyc_taxi/raw/yellow/2021/yellow_tripdata_2021-06.parquet\n",
      "Written to Bronze: /Volumes/workspace/default/nyc_taxi/bronze/yellow\n",
      "Skipping download (already exists): /Volumes/workspace/default/nyc_taxi/raw/yellow/2021/yellow_tripdata_2021-07.parquet\n",
      "Written to Bronze: /Volumes/workspace/default/nyc_taxi/bronze/yellow\n",
      "Skipping download (already exists): /Volumes/workspace/default/nyc_taxi/raw/yellow/2021/yellow_tripdata_2021-08.parquet\n",
      "Written to Bronze: /Volumes/workspace/default/nyc_taxi/bronze/yellow\n",
      "Skipping download (already exists): /Volumes/workspace/default/nyc_taxi/raw/yellow/2021/yellow_tripdata_2021-09.parquet\n",
      "Written to Bronze: /Volumes/workspace/default/nyc_taxi/bronze/yellow\n",
      "Skipping download (already exists): /Volumes/workspace/default/nyc_taxi/raw/yellow/2021/yellow_tripdata_2021-10.parquet\n",
      "Written to Bronze: /Volumes/workspace/default/nyc_taxi/bronze/yellow\n",
      "Skipping download (already exists): /Volumes/workspace/default/nyc_taxi/raw/yellow/2021/yellow_tripdata_2021-11.parquet\n",
      "Written to Bronze: /Volumes/workspace/default/nyc_taxi/bronze/yellow\n",
      "Skipping download (already exists): /Volumes/workspace/default/nyc_taxi/raw/yellow/2021/yellow_tripdata_2021-12.parquet\n",
      "Written to Bronze: /Volumes/workspace/default/nyc_taxi/bronze/yellow\n",
      "Skipping download (already exists): /Volumes/workspace/default/nyc_taxi/raw/yellow/2022/yellow_tripdata_2022-01.parquet\n",
      "Written to Bronze: /Volumes/workspace/default/nyc_taxi/bronze/yellow\n",
      "Skipping download (already exists): /Volumes/workspace/default/nyc_taxi/raw/yellow/2022/yellow_tripdata_2022-02.parquet\n",
      "Written to Bronze: /Volumes/workspace/default/nyc_taxi/bronze/yellow\n",
      "Skipping download (already exists): /Volumes/workspace/default/nyc_taxi/raw/yellow/2022/yellow_tripdata_2022-03.parquet\n",
      "Written to Bronze: /Volumes/workspace/default/nyc_taxi/bronze/yellow\n",
      "Skipping download (already exists): /Volumes/workspace/default/nyc_taxi/raw/yellow/2022/yellow_tripdata_2022-04.parquet\n",
      "Written to Bronze: /Volumes/workspace/default/nyc_taxi/bronze/yellow\n",
      "Skipping download (already exists): /Volumes/workspace/default/nyc_taxi/raw/yellow/2022/yellow_tripdata_2022-05.parquet\n",
      "Written to Bronze: /Volumes/workspace/default/nyc_taxi/bronze/yellow\n",
      "Skipping download (already exists): /Volumes/workspace/default/nyc_taxi/raw/yellow/2022/yellow_tripdata_2022-06.parquet\n",
      "Written to Bronze: /Volumes/workspace/default/nyc_taxi/bronze/yellow\n",
      "Skipping download (already exists): /Volumes/workspace/default/nyc_taxi/raw/yellow/2022/yellow_tripdata_2022-07.parquet\n",
      "Written to Bronze: /Volumes/workspace/default/nyc_taxi/bronze/yellow\n",
      "Skipping download (already exists): /Volumes/workspace/default/nyc_taxi/raw/yellow/2022/yellow_tripdata_2022-08.parquet\n",
      "Written to Bronze: /Volumes/workspace/default/nyc_taxi/bronze/yellow\n",
      "Skipping download (already exists): /Volumes/workspace/default/nyc_taxi/raw/yellow/2022/yellow_tripdata_2022-09.parquet\n",
      "Written to Bronze: /Volumes/workspace/default/nyc_taxi/bronze/yellow\n",
      "Skipping download (already exists): /Volumes/workspace/default/nyc_taxi/raw/yellow/2022/yellow_tripdata_2022-10.parquet\n",
      "Written to Bronze: /Volumes/workspace/default/nyc_taxi/bronze/yellow\n",
      "Skipping download (already exists): /Volumes/workspace/default/nyc_taxi/raw/yellow/2022/yellow_tripdata_2022-11.parquet\n",
      "Written to Bronze: /Volumes/workspace/default/nyc_taxi/bronze/yellow\n",
      "Skipping download (already exists): /Volumes/workspace/default/nyc_taxi/raw/yellow/2022/yellow_tripdata_2022-12.parquet\n",
      "Written to Bronze: /Volumes/workspace/default/nyc_taxi/bronze/yellow\n",
      "Skipping download (already exists): /Volumes/workspace/default/nyc_taxi/raw/yellow/2023/yellow_tripdata_2023-01.parquet\n",
      "Written to Bronze: /Volumes/workspace/default/nyc_taxi/bronze/yellow\n",
      "Skipping download (already exists): /Volumes/workspace/default/nyc_taxi/raw/yellow/2023/yellow_tripdata_2023-02.parquet\n",
      "Written to Bronze: /Volumes/workspace/default/nyc_taxi/bronze/yellow\n",
      "Skipping download (already exists): /Volumes/workspace/default/nyc_taxi/raw/yellow/2023/yellow_tripdata_2023-03.parquet\n",
      "Written to Bronze: /Volumes/workspace/default/nyc_taxi/bronze/yellow\n",
      "Skipping download (already exists): /Volumes/workspace/default/nyc_taxi/raw/yellow/2023/yellow_tripdata_2023-04.parquet\n",
      "Written to Bronze: /Volumes/workspace/default/nyc_taxi/bronze/yellow\n",
      "Skipping download (already exists): /Volumes/workspace/default/nyc_taxi/raw/yellow/2023/yellow_tripdata_2023-05.parquet\n",
      "Written to Bronze: /Volumes/workspace/default/nyc_taxi/bronze/yellow\n",
      "Skipping download (already exists): /Volumes/workspace/default/nyc_taxi/raw/yellow/2023/yellow_tripdata_2023-06.parquet\n",
      "Written to Bronze: /Volumes/workspace/default/nyc_taxi/bronze/yellow\n",
      "Skipping download (already exists): /Volumes/workspace/default/nyc_taxi/raw/yellow/2023/yellow_tripdata_2023-07.parquet\n",
      "Written to Bronze: /Volumes/workspace/default/nyc_taxi/bronze/yellow\n",
      "Skipping download (already exists): /Volumes/workspace/default/nyc_taxi/raw/yellow/2023/yellow_tripdata_2023-08.parquet\n",
      "Written to Bronze: /Volumes/workspace/default/nyc_taxi/bronze/yellow\n",
      "Skipping download (already exists): /Volumes/workspace/default/nyc_taxi/raw/yellow/2023/yellow_tripdata_2023-09.parquet\n",
      "Written to Bronze: /Volumes/workspace/default/nyc_taxi/bronze/yellow\n",
      "Skipping download (already exists): /Volumes/workspace/default/nyc_taxi/raw/yellow/2023/yellow_tripdata_2023-10.parquet\n",
      "Written to Bronze: /Volumes/workspace/default/nyc_taxi/bronze/yellow\n",
      "Skipping download (already exists): /Volumes/workspace/default/nyc_taxi/raw/yellow/2023/yellow_tripdata_2023-11.parquet\n",
      "Written to Bronze: /Volumes/workspace/default/nyc_taxi/bronze/yellow\n",
      "Skipping download (already exists): /Volumes/workspace/default/nyc_taxi/raw/yellow/2023/yellow_tripdata_2023-12.parquet\n",
      "Written to Bronze: /Volumes/workspace/default/nyc_taxi/bronze/yellow\n",
      "Skipping download (already exists): /Volumes/workspace/default/nyc_taxi/raw/yellow/2024/yellow_tripdata_2024-01.parquet\n",
      "Written to Bronze: /Volumes/workspace/default/nyc_taxi/bronze/yellow\n",
      "Skipping download (already exists): /Volumes/workspace/default/nyc_taxi/raw/yellow/2024/yellow_tripdata_2024-02.parquet\n",
      "Written to Bronze: /Volumes/workspace/default/nyc_taxi/bronze/yellow\n",
      "Skipping download (already exists): /Volumes/workspace/default/nyc_taxi/raw/yellow/2024/yellow_tripdata_2024-03.parquet\n",
      "Written to Bronze: /Volumes/workspace/default/nyc_taxi/bronze/yellow\n",
      "Skipping download (already exists): /Volumes/workspace/default/nyc_taxi/raw/yellow/2024/yellow_tripdata_2024-04.parquet\n",
      "Written to Bronze: /Volumes/workspace/default/nyc_taxi/bronze/yellow\n",
      "Skipping download (already exists): /Volumes/workspace/default/nyc_taxi/raw/yellow/2024/yellow_tripdata_2024-05.parquet\n",
      "Written to Bronze: /Volumes/workspace/default/nyc_taxi/bronze/yellow\n",
      "Skipping download (already exists): /Volumes/workspace/default/nyc_taxi/raw/yellow/2024/yellow_tripdata_2024-06.parquet\n",
      "Written to Bronze: /Volumes/workspace/default/nyc_taxi/bronze/yellow\n",
      "Skipping download (already exists): /Volumes/workspace/default/nyc_taxi/raw/yellow/2024/yellow_tripdata_2024-07.parquet\n",
      "Written to Bronze: /Volumes/workspace/default/nyc_taxi/bronze/yellow\n",
      "Skipping download (already exists): /Volumes/workspace/default/nyc_taxi/raw/yellow/2024/yellow_tripdata_2024-08.parquet\n",
      "Written to Bronze: /Volumes/workspace/default/nyc_taxi/bronze/yellow\n",
      "Skipping download (already exists): /Volumes/workspace/default/nyc_taxi/raw/yellow/2024/yellow_tripdata_2024-09.parquet\n",
      "Written to Bronze: /Volumes/workspace/default/nyc_taxi/bronze/yellow\n",
      "Skipping download (already exists): /Volumes/workspace/default/nyc_taxi/raw/yellow/2024/yellow_tripdata_2024-10.parquet\n",
      "Written to Bronze: /Volumes/workspace/default/nyc_taxi/bronze/yellow\n",
      "Skipping download (already exists): /Volumes/workspace/default/nyc_taxi/raw/yellow/2024/yellow_tripdata_2024-11.parquet\n",
      "Written to Bronze: /Volumes/workspace/default/nyc_taxi/bronze/yellow\n",
      "Skipping download (already exists): /Volumes/workspace/default/nyc_taxi/raw/yellow/2024/yellow_tripdata_2024-12.parquet\n",
      "Written to Bronze: /Volumes/workspace/default/nyc_taxi/bronze/yellow\n",
      "Skipping download (already exists): /Volumes/workspace/default/nyc_taxi/raw/yellow/2025/yellow_tripdata_2025-01.parquet\n",
      "Written to Bronze: /Volumes/workspace/default/nyc_taxi/bronze/yellow\n",
      "Skipping download (already exists): /Volumes/workspace/default/nyc_taxi/raw/yellow/2025/yellow_tripdata_2025-02.parquet\n",
      "Written to Bronze: /Volumes/workspace/default/nyc_taxi/bronze/yellow\n",
      "Skipping download (already exists): /Volumes/workspace/default/nyc_taxi/raw/yellow/2025/yellow_tripdata_2025-03.parquet\n",
      "Written to Bronze: /Volumes/workspace/default/nyc_taxi/bronze/yellow\n",
      "Skipping download (already exists): /Volumes/workspace/default/nyc_taxi/raw/yellow/2025/yellow_tripdata_2025-04.parquet\n",
      "Written to Bronze: /Volumes/workspace/default/nyc_taxi/bronze/yellow\n",
      "Skipping download (already exists): /Volumes/workspace/default/nyc_taxi/raw/yellow/2025/yellow_tripdata_2025-05.parquet\n",
      "Written to Bronze: /Volumes/workspace/default/nyc_taxi/bronze/yellow\n",
      "Skipping download (already exists): /Volumes/workspace/default/nyc_taxi/raw/yellow/2025/yellow_tripdata_2025-06.parquet\n",
      "Written to Bronze: /Volumes/workspace/default/nyc_taxi/bronze/yellow\n",
      "Skipping download (already exists): /Volumes/workspace/default/nyc_taxi/raw/yellow/2025/yellow_tripdata_2025-07.parquet\n",
      "Written to Bronze: /Volumes/workspace/default/nyc_taxi/bronze/yellow\n",
      "Downloading https://d37ci6vzurychx.cloudfront.net/trip-data/yellow_tripdata_2025-08.parquet\n",
      "File not found or error downloading yellow_tripdata_2025-08.parquet: HTTP Error 403: Forbidden\n",
      "Skipping download (already exists): /Volumes/workspace/default/nyc_taxi/raw/green/2020/green_tripdata_2020-01.parquet\n",
      "Written to Bronze: /Volumes/workspace/default/nyc_taxi/bronze/green\n",
      "Downloading https://d37ci6vzurychx.cloudfront.net/trip-data/green_tripdata_2020-02.parquet\n",
      "Saved raw file to /Volumes/workspace/default/nyc_taxi/raw/green/2020/green_tripdata_2020-02.parquet\n",
      "Written to Bronze: /Volumes/workspace/default/nyc_taxi/bronze/green\n",
      "Downloading https://d37ci6vzurychx.cloudfront.net/trip-data/green_tripdata_2020-03.parquet\n",
      "Saved raw file to /Volumes/workspace/default/nyc_taxi/raw/green/2020/green_tripdata_2020-03.parquet\n",
      "Written to Bronze: /Volumes/workspace/default/nyc_taxi/bronze/green\n",
      "Downloading https://d37ci6vzurychx.cloudfront.net/trip-data/green_tripdata_2020-04.parquet\n",
      "Saved raw file to /Volumes/workspace/default/nyc_taxi/raw/green/2020/green_tripdata_2020-04.parquet\n",
      "Written to Bronze: /Volumes/workspace/default/nyc_taxi/bronze/green\n",
      "Downloading https://d37ci6vzurychx.cloudfront.net/trip-data/green_tripdata_2020-05.parquet\n",
      "Saved raw file to /Volumes/workspace/default/nyc_taxi/raw/green/2020/green_tripdata_2020-05.parquet\n",
      "Written to Bronze: /Volumes/workspace/default/nyc_taxi/bronze/green\n",
      "Downloading https://d37ci6vzurychx.cloudfront.net/trip-data/green_tripdata_2020-06.parquet\n",
      "Saved raw file to /Volumes/workspace/default/nyc_taxi/raw/green/2020/green_tripdata_2020-06.parquet\n",
      "Written to Bronze: /Volumes/workspace/default/nyc_taxi/bronze/green\n",
      "Downloading https://d37ci6vzurychx.cloudfront.net/trip-data/green_tripdata_2020-07.parquet\n",
      "Saved raw file to /Volumes/workspace/default/nyc_taxi/raw/green/2020/green_tripdata_2020-07.parquet\n",
      "Written to Bronze: /Volumes/workspace/default/nyc_taxi/bronze/green\n",
      "Downloading https://d37ci6vzurychx.cloudfront.net/trip-data/green_tripdata_2020-08.parquet\n",
      "Saved raw file to /Volumes/workspace/default/nyc_taxi/raw/green/2020/green_tripdata_2020-08.parquet\n",
      "Written to Bronze: /Volumes/workspace/default/nyc_taxi/bronze/green\n",
      "Downloading https://d37ci6vzurychx.cloudfront.net/trip-data/green_tripdata_2020-09.parquet\n",
      "Saved raw file to /Volumes/workspace/default/nyc_taxi/raw/green/2020/green_tripdata_2020-09.parquet\n",
      "Written to Bronze: /Volumes/workspace/default/nyc_taxi/bronze/green\n",
      "Downloading https://d37ci6vzurychx.cloudfront.net/trip-data/green_tripdata_2020-10.parquet\n",
      "Saved raw file to /Volumes/workspace/default/nyc_taxi/raw/green/2020/green_tripdata_2020-10.parquet\n",
      "Written to Bronze: /Volumes/workspace/default/nyc_taxi/bronze/green\n",
      "Downloading https://d37ci6vzurychx.cloudfront.net/trip-data/green_tripdata_2020-11.parquet\n",
      "Saved raw file to /Volumes/workspace/default/nyc_taxi/raw/green/2020/green_tripdata_2020-11.parquet\n",
      "Written to Bronze: /Volumes/workspace/default/nyc_taxi/bronze/green\n",
      "Downloading https://d37ci6vzurychx.cloudfront.net/trip-data/green_tripdata_2020-12.parquet\n",
      "Saved raw file to /Volumes/workspace/default/nyc_taxi/raw/green/2020/green_tripdata_2020-12.parquet\n",
      "Written to Bronze: /Volumes/workspace/default/nyc_taxi/bronze/green\n",
      "Downloading https://d37ci6vzurychx.cloudfront.net/trip-data/green_tripdata_2021-01.parquet\n",
      "Saved raw file to /Volumes/workspace/default/nyc_taxi/raw/green/2021/green_tripdata_2021-01.parquet\n",
      "Written to Bronze: /Volumes/workspace/default/nyc_taxi/bronze/green\n",
      "Downloading https://d37ci6vzurychx.cloudfront.net/trip-data/green_tripdata_2021-02.parquet\n",
      "Saved raw file to /Volumes/workspace/default/nyc_taxi/raw/green/2021/green_tripdata_2021-02.parquet\n",
      "Written to Bronze: /Volumes/workspace/default/nyc_taxi/bronze/green\n",
      "Downloading https://d37ci6vzurychx.cloudfront.net/trip-data/green_tripdata_2021-03.parquet\n",
      "Saved raw file to /Volumes/workspace/default/nyc_taxi/raw/green/2021/green_tripdata_2021-03.parquet\n",
      "Written to Bronze: /Volumes/workspace/default/nyc_taxi/bronze/green\n",
      "Downloading https://d37ci6vzurychx.cloudfront.net/trip-data/green_tripdata_2021-04.parquet\n",
      "Saved raw file to /Volumes/workspace/default/nyc_taxi/raw/green/2021/green_tripdata_2021-04.parquet\n",
      "Written to Bronze: /Volumes/workspace/default/nyc_taxi/bronze/green\n",
      "Downloading https://d37ci6vzurychx.cloudfront.net/trip-data/green_tripdata_2021-05.parquet\n",
      "Saved raw file to /Volumes/workspace/default/nyc_taxi/raw/green/2021/green_tripdata_2021-05.parquet\n",
      "Written to Bronze: /Volumes/workspace/default/nyc_taxi/bronze/green\n",
      "Downloading https://d37ci6vzurychx.cloudfront.net/trip-data/green_tripdata_2021-06.parquet\n",
      "Saved raw file to /Volumes/workspace/default/nyc_taxi/raw/green/2021/green_tripdata_2021-06.parquet\n",
      "Written to Bronze: /Volumes/workspace/default/nyc_taxi/bronze/green\n",
      "Downloading https://d37ci6vzurychx.cloudfront.net/trip-data/green_tripdata_2021-07.parquet\n",
      "Saved raw file to /Volumes/workspace/default/nyc_taxi/raw/green/2021/green_tripdata_2021-07.parquet\n",
      "Written to Bronze: /Volumes/workspace/default/nyc_taxi/bronze/green\n",
      "Downloading https://d37ci6vzurychx.cloudfront.net/trip-data/green_tripdata_2021-08.parquet\n",
      "Saved raw file to /Volumes/workspace/default/nyc_taxi/raw/green/2021/green_tripdata_2021-08.parquet\n",
      "Written to Bronze: /Volumes/workspace/default/nyc_taxi/bronze/green\n",
      "Downloading https://d37ci6vzurychx.cloudfront.net/trip-data/green_tripdata_2021-09.parquet\n",
      "Saved raw file to /Volumes/workspace/default/nyc_taxi/raw/green/2021/green_tripdata_2021-09.parquet\n",
      "Written to Bronze: /Volumes/workspace/default/nyc_taxi/bronze/green\n",
      "Downloading https://d37ci6vzurychx.cloudfront.net/trip-data/green_tripdata_2021-10.parquet\n",
      "Saved raw file to /Volumes/workspace/default/nyc_taxi/raw/green/2021/green_tripdata_2021-10.parquet\n",
      "Written to Bronze: /Volumes/workspace/default/nyc_taxi/bronze/green\n",
      "Downloading https://d37ci6vzurychx.cloudfront.net/trip-data/green_tripdata_2021-11.parquet\n",
      "Saved raw file to /Volumes/workspace/default/nyc_taxi/raw/green/2021/green_tripdata_2021-11.parquet\n",
      "Written to Bronze: /Volumes/workspace/default/nyc_taxi/bronze/green\n",
      "Downloading https://d37ci6vzurychx.cloudfront.net/trip-data/green_tripdata_2021-12.parquet\n",
      "Saved raw file to /Volumes/workspace/default/nyc_taxi/raw/green/2021/green_tripdata_2021-12.parquet\n",
      "Written to Bronze: /Volumes/workspace/default/nyc_taxi/bronze/green\n",
      "Downloading https://d37ci6vzurychx.cloudfront.net/trip-data/green_tripdata_2022-01.parquet\n",
      "Saved raw file to /Volumes/workspace/default/nyc_taxi/raw/green/2022/green_tripdata_2022-01.parquet\n",
      "Written to Bronze: /Volumes/workspace/default/nyc_taxi/bronze/green\n",
      "Downloading https://d37ci6vzurychx.cloudfront.net/trip-data/green_tripdata_2022-02.parquet\n",
      "Saved raw file to /Volumes/workspace/default/nyc_taxi/raw/green/2022/green_tripdata_2022-02.parquet\n",
      "Written to Bronze: /Volumes/workspace/default/nyc_taxi/bronze/green\n",
      "Downloading https://d37ci6vzurychx.cloudfront.net/trip-data/green_tripdata_2022-03.parquet\n",
      "Saved raw file to /Volumes/workspace/default/nyc_taxi/raw/green/2022/green_tripdata_2022-03.parquet\n",
      "Written to Bronze: /Volumes/workspace/default/nyc_taxi/bronze/green\n",
      "Downloading https://d37ci6vzurychx.cloudfront.net/trip-data/green_tripdata_2022-04.parquet\n",
      "Saved raw file to /Volumes/workspace/default/nyc_taxi/raw/green/2022/green_tripdata_2022-04.parquet\n",
      "Written to Bronze: /Volumes/workspace/default/nyc_taxi/bronze/green\n",
      "Downloading https://d37ci6vzurychx.cloudfront.net/trip-data/green_tripdata_2022-05.parquet\n",
      "Saved raw file to /Volumes/workspace/default/nyc_taxi/raw/green/2022/green_tripdata_2022-05.parquet\n",
      "Written to Bronze: /Volumes/workspace/default/nyc_taxi/bronze/green\n",
      "Downloading https://d37ci6vzurychx.cloudfront.net/trip-data/green_tripdata_2022-06.parquet\n",
      "Saved raw file to /Volumes/workspace/default/nyc_taxi/raw/green/2022/green_tripdata_2022-06.parquet\n",
      "Written to Bronze: /Volumes/workspace/default/nyc_taxi/bronze/green\n",
      "Downloading https://d37ci6vzurychx.cloudfront.net/trip-data/green_tripdata_2022-07.parquet\n",
      "Saved raw file to /Volumes/workspace/default/nyc_taxi/raw/green/2022/green_tripdata_2022-07.parquet\n",
      "Written to Bronze: /Volumes/workspace/default/nyc_taxi/bronze/green\n",
      "Downloading https://d37ci6vzurychx.cloudfront.net/trip-data/green_tripdata_2022-08.parquet\n",
      "Saved raw file to /Volumes/workspace/default/nyc_taxi/raw/green/2022/green_tripdata_2022-08.parquet\n",
      "Written to Bronze: /Volumes/workspace/default/nyc_taxi/bronze/green\n",
      "Downloading https://d37ci6vzurychx.cloudfront.net/trip-data/green_tripdata_2022-09.parquet\n",
      "Saved raw file to /Volumes/workspace/default/nyc_taxi/raw/green/2022/green_tripdata_2022-09.parquet\n",
      "Written to Bronze: /Volumes/workspace/default/nyc_taxi/bronze/green\n",
      "Downloading https://d37ci6vzurychx.cloudfront.net/trip-data/green_tripdata_2022-10.parquet\n",
      "Saved raw file to /Volumes/workspace/default/nyc_taxi/raw/green/2022/green_tripdata_2022-10.parquet\n",
      "Written to Bronze: /Volumes/workspace/default/nyc_taxi/bronze/green\n",
      "Downloading https://d37ci6vzurychx.cloudfront.net/trip-data/green_tripdata_2022-11.parquet\n",
      "Saved raw file to /Volumes/workspace/default/nyc_taxi/raw/green/2022/green_tripdata_2022-11.parquet\n",
      "Written to Bronze: /Volumes/workspace/default/nyc_taxi/bronze/green\n",
      "Downloading https://d37ci6vzurychx.cloudfront.net/trip-data/green_tripdata_2022-12.parquet\n",
      "Saved raw file to /Volumes/workspace/default/nyc_taxi/raw/green/2022/green_tripdata_2022-12.parquet\n",
      "Written to Bronze: /Volumes/workspace/default/nyc_taxi/bronze/green\n",
      "Downloading https://d37ci6vzurychx.cloudfront.net/trip-data/green_tripdata_2023-01.parquet\n",
      "Saved raw file to /Volumes/workspace/default/nyc_taxi/raw/green/2023/green_tripdata_2023-01.parquet\n",
      "Written to Bronze: /Volumes/workspace/default/nyc_taxi/bronze/green\n",
      "Downloading https://d37ci6vzurychx.cloudfront.net/trip-data/green_tripdata_2023-02.parquet\n",
      "Saved raw file to /Volumes/workspace/default/nyc_taxi/raw/green/2023/green_tripdata_2023-02.parquet\n",
      "Written to Bronze: /Volumes/workspace/default/nyc_taxi/bronze/green\n",
      "Downloading https://d37ci6vzurychx.cloudfront.net/trip-data/green_tripdata_2023-03.parquet\n",
      "Saved raw file to /Volumes/workspace/default/nyc_taxi/raw/green/2023/green_tripdata_2023-03.parquet\n",
      "Written to Bronze: /Volumes/workspace/default/nyc_taxi/bronze/green\n",
      "Downloading https://d37ci6vzurychx.cloudfront.net/trip-data/green_tripdata_2023-04.parquet\n",
      "Saved raw file to /Volumes/workspace/default/nyc_taxi/raw/green/2023/green_tripdata_2023-04.parquet\n",
      "Written to Bronze: /Volumes/workspace/default/nyc_taxi/bronze/green\n",
      "Downloading https://d37ci6vzurychx.cloudfront.net/trip-data/green_tripdata_2023-05.parquet\n",
      "Saved raw file to /Volumes/workspace/default/nyc_taxi/raw/green/2023/green_tripdata_2023-05.parquet\n",
      "Written to Bronze: /Volumes/workspace/default/nyc_taxi/bronze/green\n",
      "Downloading https://d37ci6vzurychx.cloudfront.net/trip-data/green_tripdata_2023-06.parquet\n",
      "Saved raw file to /Volumes/workspace/default/nyc_taxi/raw/green/2023/green_tripdata_2023-06.parquet\n",
      "Written to Bronze: /Volumes/workspace/default/nyc_taxi/bronze/green\n",
      "Downloading https://d37ci6vzurychx.cloudfront.net/trip-data/green_tripdata_2023-07.parquet\n",
      "Saved raw file to /Volumes/workspace/default/nyc_taxi/raw/green/2023/green_tripdata_2023-07.parquet\n",
      "Written to Bronze: /Volumes/workspace/default/nyc_taxi/bronze/green\n",
      "Downloading https://d37ci6vzurychx.cloudfront.net/trip-data/green_tripdata_2023-08.parquet\n",
      "Saved raw file to /Volumes/workspace/default/nyc_taxi/raw/green/2023/green_tripdata_2023-08.parquet\n",
      "Written to Bronze: /Volumes/workspace/default/nyc_taxi/bronze/green\n",
      "Downloading https://d37ci6vzurychx.cloudfront.net/trip-data/green_tripdata_2023-09.parquet\n",
      "Saved raw file to /Volumes/workspace/default/nyc_taxi/raw/green/2023/green_tripdata_2023-09.parquet\n",
      "Written to Bronze: /Volumes/workspace/default/nyc_taxi/bronze/green\n",
      "Downloading https://d37ci6vzurychx.cloudfront.net/trip-data/green_tripdata_2023-10.parquet\n",
      "Saved raw file to /Volumes/workspace/default/nyc_taxi/raw/green/2023/green_tripdata_2023-10.parquet\n",
      "Written to Bronze: /Volumes/workspace/default/nyc_taxi/bronze/green\n",
      "Downloading https://d37ci6vzurychx.cloudfront.net/trip-data/green_tripdata_2023-11.parquet\n",
      "Saved raw file to /Volumes/workspace/default/nyc_taxi/raw/green/2023/green_tripdata_2023-11.parquet\n",
      "Written to Bronze: /Volumes/workspace/default/nyc_taxi/bronze/green\n",
      "Downloading https://d37ci6vzurychx.cloudfront.net/\n",
      "\n",
      "*** WARNING: max output size exceeded, skipping output. ***\n",
      "\n",
      "nze: /Volumes/workspace/default/nyc_taxi/bronze/fhv\n",
      "Downloading https://d37ci6vzurychx.cloudfront.net/trip-data/fhv_tripdata_2023-03.parquet\n",
      "Saved raw file to /Volumes/workspace/default/nyc_taxi/raw/fhv/2023/fhv_tripdata_2023-03.parquet\n",
      "Written to Bronze: /Volumes/workspace/default/nyc_taxi/bronze/fhv\n",
      "Downloading https://d37ci6vzurychx.cloudfront.net/trip-data/fhv_tripdata_2023-04.parquet\n",
      "Saved raw file to /Volumes/workspace/default/nyc_taxi/raw/fhv/2023/fhv_tripdata_2023-04.parquet\n",
      "Written to Bronze: /Volumes/workspace/default/nyc_taxi/bronze/fhv\n",
      "Downloading https://d37ci6vzurychx.cloudfront.net/trip-data/fhv_tripdata_2023-05.parquet\n",
      "Saved raw file to /Volumes/workspace/default/nyc_taxi/raw/fhv/2023/fhv_tripdata_2023-05.parquet\n",
      "Written to Bronze: /Volumes/workspace/default/nyc_taxi/bronze/fhv\n",
      "Downloading https://d37ci6vzurychx.cloudfront.net/trip-data/fhv_tripdata_2023-06.parquet\n",
      "Saved raw file to /Volumes/workspace/default/nyc_taxi/raw/fhv/2023/fhv_tripdata_2023-06.parquet\n",
      "Written to Bronze: /Volumes/workspace/default/nyc_taxi/bronze/fhv\n",
      "Downloading https://d37ci6vzurychx.cloudfront.net/trip-data/fhv_tripdata_2023-07.parquet\n",
      "Saved raw file to /Volumes/workspace/default/nyc_taxi/raw/fhv/2023/fhv_tripdata_2023-07.parquet\n",
      "Written to Bronze: /Volumes/workspace/default/nyc_taxi/bronze/fhv\n",
      "Downloading https://d37ci6vzurychx.cloudfront.net/trip-data/fhv_tripdata_2023-08.parquet\n",
      "Saved raw file to /Volumes/workspace/default/nyc_taxi/raw/fhv/2023/fhv_tripdata_2023-08.parquet\n",
      "Written to Bronze: /Volumes/workspace/default/nyc_taxi/bronze/fhv\n",
      "Downloading https://d37ci6vzurychx.cloudfront.net/trip-data/fhv_tripdata_2023-09.parquet\n",
      "Saved raw file to /Volumes/workspace/default/nyc_taxi/raw/fhv/2023/fhv_tripdata_2023-09.parquet\n",
      "Written to Bronze: /Volumes/workspace/default/nyc_taxi/bronze/fhv\n",
      "Downloading https://d37ci6vzurychx.cloudfront.net/trip-data/fhv_tripdata_2023-10.parquet\n",
      "Saved raw file to /Volumes/workspace/default/nyc_taxi/raw/fhv/2023/fhv_tripdata_2023-10.parquet\n",
      "Written to Bronze: /Volumes/workspace/default/nyc_taxi/bronze/fhv\n",
      "Downloading https://d37ci6vzurychx.cloudfront.net/trip-data/fhv_tripdata_2023-11.parquet\n",
      "Saved raw file to /Volumes/workspace/default/nyc_taxi/raw/fhv/2023/fhv_tripdata_2023-11.parquet\n",
      "Written to Bronze: /Volumes/workspace/default/nyc_taxi/bronze/fhv\n",
      "Downloading https://d37ci6vzurychx.cloudfront.net/trip-data/fhv_tripdata_2023-12.parquet\n",
      "Saved raw file to /Volumes/workspace/default/nyc_taxi/raw/fhv/2023/fhv_tripdata_2023-12.parquet\n",
      "Written to Bronze: /Volumes/workspace/default/nyc_taxi/bronze/fhv\n",
      "Downloading https://d37ci6vzurychx.cloudfront.net/trip-data/fhv_tripdata_2024-01.parquet\n",
      "Saved raw file to /Volumes/workspace/default/nyc_taxi/raw/fhv/2024/fhv_tripdata_2024-01.parquet\n",
      "Written to Bronze: /Volumes/workspace/default/nyc_taxi/bronze/fhv\n",
      "Downloading https://d37ci6vzurychx.cloudfront.net/trip-data/fhv_tripdata_2024-02.parquet\n",
      "Saved raw file to /Volumes/workspace/default/nyc_taxi/raw/fhv/2024/fhv_tripdata_2024-02.parquet\n",
      "Written to Bronze: /Volumes/workspace/default/nyc_taxi/bronze/fhv\n",
      "Downloading https://d37ci6vzurychx.cloudfront.net/trip-data/fhv_tripdata_2024-03.parquet\n",
      "Saved raw file to /Volumes/workspace/default/nyc_taxi/raw/fhv/2024/fhv_tripdata_2024-03.parquet\n",
      "Written to Bronze: /Volumes/workspace/default/nyc_taxi/bronze/fhv\n",
      "Downloading https://d37ci6vzurychx.cloudfront.net/trip-data/fhv_tripdata_2024-04.parquet\n",
      "Saved raw file to /Volumes/workspace/default/nyc_taxi/raw/fhv/2024/fhv_tripdata_2024-04.parquet\n",
      "Written to Bronze: /Volumes/workspace/default/nyc_taxi/bronze/fhv\n",
      "Downloading https://d37ci6vzurychx.cloudfront.net/trip-data/fhv_tripdata_2024-05.parquet\n",
      "Saved raw file to /Volumes/workspace/default/nyc_taxi/raw/fhv/2024/fhv_tripdata_2024-05.parquet\n",
      "Written to Bronze: /Volumes/workspace/default/nyc_taxi/bronze/fhv\n",
      "Downloading https://d37ci6vzurychx.cloudfront.net/trip-data/fhv_tripdata_2024-06.parquet\n",
      "Saved raw file to /Volumes/workspace/default/nyc_taxi/raw/fhv/2024/fhv_tripdata_2024-06.parquet\n",
      "Written to Bronze: /Volumes/workspace/default/nyc_taxi/bronze/fhv\n",
      "Downloading https://d37ci6vzurychx.cloudfront.net/trip-data/fhv_tripdata_2024-07.parquet\n",
      "Saved raw file to /Volumes/workspace/default/nyc_taxi/raw/fhv/2024/fhv_tripdata_2024-07.parquet\n",
      "Written to Bronze: /Volumes/workspace/default/nyc_taxi/bronze/fhv\n",
      "Downloading https://d37ci6vzurychx.cloudfront.net/trip-data/fhv_tripdata_2024-08.parquet\n",
      "Saved raw file to /Volumes/workspace/default/nyc_taxi/raw/fhv/2024/fhv_tripdata_2024-08.parquet\n",
      "Written to Bronze: /Volumes/workspace/default/nyc_taxi/bronze/fhv\n",
      "Downloading https://d37ci6vzurychx.cloudfront.net/trip-data/fhv_tripdata_2024-09.parquet\n",
      "Saved raw file to /Volumes/workspace/default/nyc_taxi/raw/fhv/2024/fhv_tripdata_2024-09.parquet\n",
      "Written to Bronze: /Volumes/workspace/default/nyc_taxi/bronze/fhv\n",
      "Downloading https://d37ci6vzurychx.cloudfront.net/trip-data/fhv_tripdata_2024-10.parquet\n",
      "Saved raw file to /Volumes/workspace/default/nyc_taxi/raw/fhv/2024/fhv_tripdata_2024-10.parquet\n",
      "Written to Bronze: /Volumes/workspace/default/nyc_taxi/bronze/fhv\n",
      "Downloading https://d37ci6vzurychx.cloudfront.net/trip-data/fhv_tripdata_2024-11.parquet\n",
      "Saved raw file to /Volumes/workspace/default/nyc_taxi/raw/fhv/2024/fhv_tripdata_2024-11.parquet\n",
      "Written to Bronze: /Volumes/workspace/default/nyc_taxi/bronze/fhv\n",
      "Downloading https://d37ci6vzurychx.cloudfront.net/trip-data/fhv_tripdata_2024-12.parquet\n",
      "Saved raw file to /Volumes/workspace/default/nyc_taxi/raw/fhv/2024/fhv_tripdata_2024-12.parquet\n",
      "Written to Bronze: /Volumes/workspace/default/nyc_taxi/bronze/fhv\n",
      "Downloading https://d37ci6vzurychx.cloudfront.net/trip-data/fhv_tripdata_2025-01.parquet\n",
      "Saved raw file to /Volumes/workspace/default/nyc_taxi/raw/fhv/2025/fhv_tripdata_2025-01.parquet\n",
      "Written to Bronze: /Volumes/workspace/default/nyc_taxi/bronze/fhv\n",
      "Downloading https://d37ci6vzurychx.cloudfront.net/trip-data/fhv_tripdata_2025-02.parquet\n",
      "Saved raw file to /Volumes/workspace/default/nyc_taxi/raw/fhv/2025/fhv_tripdata_2025-02.parquet\n",
      "Written to Bronze: /Volumes/workspace/default/nyc_taxi/bronze/fhv\n",
      "Downloading https://d37ci6vzurychx.cloudfront.net/trip-data/fhv_tripdata_2025-03.parquet\n",
      "Saved raw file to /Volumes/workspace/default/nyc_taxi/raw/fhv/2025/fhv_tripdata_2025-03.parquet\n",
      "Written to Bronze: /Volumes/workspace/default/nyc_taxi/bronze/fhv\n",
      "Downloading https://d37ci6vzurychx.cloudfront.net/trip-data/fhv_tripdata_2025-04.parquet\n",
      "Saved raw file to /Volumes/workspace/default/nyc_taxi/raw/fhv/2025/fhv_tripdata_2025-04.parquet\n",
      "Written to Bronze: /Volumes/workspace/default/nyc_taxi/bronze/fhv\n",
      "Downloading https://d37ci6vzurychx.cloudfront.net/trip-data/fhv_tripdata_2025-05.parquet\n",
      "Saved raw file to /Volumes/workspace/default/nyc_taxi/raw/fhv/2025/fhv_tripdata_2025-05.parquet\n",
      "Written to Bronze: /Volumes/workspace/default/nyc_taxi/bronze/fhv\n",
      "Downloading https://d37ci6vzurychx.cloudfront.net/trip-data/fhv_tripdata_2025-06.parquet\n",
      "Saved raw file to /Volumes/workspace/default/nyc_taxi/raw/fhv/2025/fhv_tripdata_2025-06.parquet\n",
      "Written to Bronze: /Volumes/workspace/default/nyc_taxi/bronze/fhv\n",
      "Downloading https://d37ci6vzurychx.cloudfront.net/trip-data/fhv_tripdata_2025-07.parquet\n",
      "File not found or error downloading fhv_tripdata_2025-07.parquet: HTTP Error 403: Forbidden\n",
      "Downloading https://d37ci6vzurychx.cloudfront.net/trip-data/fhv_tripdata_2025-08.parquet\n",
      "File not found or error downloading fhv_tripdata_2025-08.parquet: HTTP Error 403: Forbidden\n",
      "Downloading https://d37ci6vzurychx.cloudfront.net/trip-data/fhvhv_tripdata_2020-01.parquet\n",
      "Saved raw file to /Volumes/workspace/default/nyc_taxi/raw/fhvhv/2020/fhvhv_tripdata_2020-01.parquet\n",
      "Written to Bronze: /Volumes/workspace/default/nyc_taxi/bronze/fhvhv\n",
      "Downloading https://d37ci6vzurychx.cloudfront.net/trip-data/fhvhv_tripdata_2020-02.parquet\n",
      "Saved raw file to /Volumes/workspace/default/nyc_taxi/raw/fhvhv/2020/fhvhv_tripdata_2020-02.parquet\n",
      "Written to Bronze: /Volumes/workspace/default/nyc_taxi/bronze/fhvhv\n",
      "Downloading https://d37ci6vzurychx.cloudfront.net/trip-data/fhvhv_tripdata_2020-03.parquet\n",
      "Saved raw file to /Volumes/workspace/default/nyc_taxi/raw/fhvhv/2020/fhvhv_tripdata_2020-03.parquet\n",
      "Written to Bronze: /Volumes/workspace/default/nyc_taxi/bronze/fhvhv\n",
      "Downloading https://d37ci6vzurychx.cloudfront.net/trip-data/fhvhv_tripdata_2020-04.parquet\n",
      "Saved raw file to /Volumes/workspace/default/nyc_taxi/raw/fhvhv/2020/fhvhv_tripdata_2020-04.parquet\n",
      "Written to Bronze: /Volumes/workspace/default/nyc_taxi/bronze/fhvhv\n",
      "Downloading https://d37ci6vzurychx.cloudfront.net/trip-data/fhvhv_tripdata_2020-05.parquet\n",
      "Saved raw file to /Volumes/workspace/default/nyc_taxi/raw/fhvhv/2020/fhvhv_tripdata_2020-05.parquet\n",
      "Written to Bronze: /Volumes/workspace/default/nyc_taxi/bronze/fhvhv\n",
      "Downloading https://d37ci6vzurychx.cloudfront.net/trip-data/fhvhv_tripdata_2020-06.parquet\n",
      "Saved raw file to /Volumes/workspace/default/nyc_taxi/raw/fhvhv/2020/fhvhv_tripdata_2020-06.parquet\n",
      "Written to Bronze: /Volumes/workspace/default/nyc_taxi/bronze/fhvhv\n",
      "Downloading https://d37ci6vzurychx.cloudfront.net/trip-data/fhvhv_tripdata_2020-07.parquet\n",
      "Saved raw file to /Volumes/workspace/default/nyc_taxi/raw/fhvhv/2020/fhvhv_tripdata_2020-07.parquet\n",
      "Written to Bronze: /Volumes/workspace/default/nyc_taxi/bronze/fhvhv\n",
      "Downloading https://d37ci6vzurychx.cloudfront.net/trip-data/fhvhv_tripdata_2020-08.parquet\n",
      "Saved raw file to /Volumes/workspace/default/nyc_taxi/raw/fhvhv/2020/fhvhv_tripdata_2020-08.parquet\n",
      "Written to Bronze: /Volumes/workspace/default/nyc_taxi/bronze/fhvhv\n",
      "Downloading https://d37ci6vzurychx.cloudfront.net/trip-data/fhvhv_tripdata_2020-09.parquet\n",
      "Saved raw file to /Volumes/workspace/default/nyc_taxi/raw/fhvhv/2020/fhvhv_tripdata_2020-09.parquet\n",
      "Written to Bronze: /Volumes/workspace/default/nyc_taxi/bronze/fhvhv\n",
      "Downloading https://d37ci6vzurychx.cloudfront.net/trip-data/fhvhv_tripdata_2020-10.parquet\n",
      "Saved raw file to /Volumes/workspace/default/nyc_taxi/raw/fhvhv/2020/fhvhv_tripdata_2020-10.parquet\n",
      "Written to Bronze: /Volumes/workspace/default/nyc_taxi/bronze/fhvhv\n",
      "Downloading https://d37ci6vzurychx.cloudfront.net/trip-data/fhvhv_tripdata_2020-11.parquet\n",
      "Saved raw file to /Volumes/workspace/default/nyc_taxi/raw/fhvhv/2020/fhvhv_tripdata_2020-11.parquet\n",
      "Written to Bronze: /Volumes/workspace/default/nyc_taxi/bronze/fhvhv\n",
      "Downloading https://d37ci6vzurychx.cloudfront.net/trip-data/fhvhv_tripdata_2020-12.parquet\n",
      "Saved raw file to /Volumes/workspace/default/nyc_taxi/raw/fhvhv/2020/fhvhv_tripdata_2020-12.parquet\n",
      "Written to Bronze: /Volumes/workspace/default/nyc_taxi/bronze/fhvhv\n",
      "Downloading https://d37ci6vzurychx.cloudfront.net/trip-data/fhvhv_tripdata_2021-01.parquet\n",
      "Saved raw file to /Volumes/workspace/default/nyc_taxi/raw/fhvhv/2021/fhvhv_tripdata_2021-01.parquet\n",
      "Written to Bronze: /Volumes/workspace/default/nyc_taxi/bronze/fhvhv\n",
      "Downloading https://d37ci6vzurychx.cloudfront.net/trip-data/fhvhv_tripdata_2021-02.parquet\n",
      "Saved raw file to /Volumes/workspace/default/nyc_taxi/raw/fhvhv/2021/fhvhv_tripdata_2021-02.parquet\n",
      "Written to Bronze: /Volumes/workspace/default/nyc_taxi/bronze/fhvhv\n",
      "Downloading https://d37ci6vzurychx.cloudfront.net/trip-data/fhvhv_tripdata_2021-03.parquet\n",
      "Saved raw file to /Volumes/workspace/default/nyc_taxi/raw/fhvhv/2021/fhvhv_tripdata_2021-03.parquet\n",
      "Written to Bronze: /Volumes/workspace/default/nyc_taxi/bronze/fhvhv\n",
      "Downloading https://d37ci6vzurychx.cloudfront.net/trip-data/fhvhv_tripdata_2021-04.parquet\n",
      "Saved raw file to /Volumes/workspace/default/nyc_taxi/raw/fhvhv/2021/fhvhv_tripdata_2021-04.parquet\n",
      "Written to Bronze: /Volumes/workspace/default/nyc_taxi/bronze/fhvhv\n",
      "Downloading https://d37ci6vzurychx.cloudfront.net/trip-data/fhvhv_tripdata_2021-05.parquet\n",
      "Saved raw file to /Volumes/workspace/default/nyc_taxi/raw/fhvhv/2021/fhvhv_tripdata_2021-05.parquet\n",
      "Written to Bronze: /Volumes/workspace/default/nyc_taxi/bronze/fhvhv\n",
      "Downloading https://d37ci6vzurychx.cloudfront.net/trip-data/fhvhv_tripdata_2021-06.parquet\n",
      "Saved raw file to /Volumes/workspace/default/nyc_taxi/raw/fhvhv/2021/fhvhv_tripdata_2021-06.parquet\n",
      "Written to Bronze: /Volumes/workspace/default/nyc_taxi/bronze/fhvhv\n",
      "Downloading https://d37ci6vzurychx.cloudfront.net/trip-data/fhvhv_tripdata_2021-07.parquet\n",
      "Saved raw file to /Volumes/workspace/default/nyc_taxi/raw/fhvhv/2021/fhvhv_tripdata_2021-07.parquet\n",
      "Written to Bronze: /Volumes/workspace/default/nyc_taxi/bronze/fhvhv\n",
      "Downloading https://d37ci6vzurychx.cloudfront.net/trip-data/fhvhv_tripdata_2021-08.parquet\n",
      "Saved raw file to /Volumes/workspace/default/nyc_taxi/raw/fhvhv/2021/fhvhv_tripdata_2021-08.parquet\n",
      "Written to Bronze: /Volumes/workspace/default/nyc_taxi/bronze/fhvhv\n",
      "Downloading https://d37ci6vzurychx.cloudfront.net/trip-data/fhvhv_tripdata_2021-09.parquet\n",
      "Saved raw file to /Volumes/workspace/default/nyc_taxi/raw/fhvhv/2021/fhvhv_tripdata_2021-09.parquet\n",
      "Written to Bronze: /Volumes/workspace/default/nyc_taxi/bronze/fhvhv\n",
      "Downloading https://d37ci6vzurychx.cloudfront.net/trip-data/fhvhv_tripdata_2021-10.parquet\n",
      "Saved raw file to /Volumes/workspace/default/nyc_taxi/raw/fhvhv/2021/fhvhv_tripdata_2021-10.parquet\n",
      "Written to Bronze: /Volumes/workspace/default/nyc_taxi/bronze/fhvhv\n",
      "Downloading https://d37ci6vzurychx.cloudfront.net/trip-data/fhvhv_tripdata_2021-11.parquet\n",
      "Saved raw file to /Volumes/workspace/default/nyc_taxi/raw/fhvhv/2021/fhvhv_tripdata_2021-11.parquet\n",
      "Written to Bronze: /Volumes/workspace/default/nyc_taxi/bronze/fhvhv\n",
      "Downloading https://d37ci6vzurychx.cloudfront.net/trip-data/fhvhv_tripdata_2021-12.parquet\n",
      "Saved raw file to /Volumes/workspace/default/nyc_taxi/raw/fhvhv/2021/fhvhv_tripdata_2021-12.parquet\n",
      "Written to Bronze: /Volumes/workspace/default/nyc_taxi/bronze/fhvhv\n",
      "Downloading https://d37ci6vzurychx.cloudfront.net/trip-data/fhvhv_tripdata_2022-01.parquet\n",
      "Saved raw file to /Volumes/workspace/default/nyc_taxi/raw/fhvhv/2022/fhvhv_tripdata_2022-01.parquet\n",
      "Written to Bronze: /Volumes/workspace/default/nyc_taxi/bronze/fhvhv\n",
      "Downloading https://d37ci6vzurychx.cloudfront.net/trip-data/fhvhv_tripdata_2022-02.parquet\n",
      "Saved raw file to /Volumes/workspace/default/nyc_taxi/raw/fhvhv/2022/fhvhv_tripdata_2022-02.parquet\n",
      "Written to Bronze: /Volumes/workspace/default/nyc_taxi/bronze/fhvhv\n",
      "Downloading https://d37ci6vzurychx.cloudfront.net/trip-data/fhvhv_tripdata_2022-03.parquet\n",
      "Saved raw file to /Volumes/workspace/default/nyc_taxi/raw/fhvhv/2022/fhvhv_tripdata_2022-03.parquet\n",
      "Written to Bronze: /Volumes/workspace/default/nyc_taxi/bronze/fhvhv\n",
      "Downloading https://d37ci6vzurychx.cloudfront.net/trip-data/fhvhv_tripdata_2022-04.parquet\n",
      "Saved raw file to /Volumes/workspace/default/nyc_taxi/raw/fhvhv/2022/fhvhv_tripdata_2022-04.parquet\n",
      "Written to Bronze: /Volumes/workspace/default/nyc_taxi/bronze/fhvhv\n",
      "Downloading https://d37ci6vzurychx.cloudfront.net/trip-data/fhvhv_tripdata_2022-05.parquet\n",
      "Saved raw file to /Volumes/workspace/default/nyc_taxi/raw/fhvhv/2022/fhvhv_tripdata_2022-05.parquet\n",
      "Written to Bronze: /Volumes/workspace/default/nyc_taxi/bronze/fhvhv\n",
      "Downloading https://d37ci6vzurychx.cloudfront.net/trip-data/fhvhv_tripdata_2022-06.parquet\n",
      "Saved raw file to /Volumes/workspace/default/nyc_taxi/raw/fhvhv/2022/fhvhv_tripdata_2022-06.parquet\n",
      "Written to Bronze: /Volumes/workspace/default/nyc_taxi/bronze/fhvhv\n",
      "Downloading https://d37ci6vzurychx.cloudfront.net/trip-data/fhvhv_tripdata_2022-07.parquet\n",
      "Saved raw file to /Volumes/workspace/default/nyc_taxi/raw/fhvhv/2022/fhvhv_tripdata_2022-07.parquet\n",
      "Written to Bronze: /Volumes/workspace/default/nyc_taxi/bronze/fhvhv\n",
      "Downloading https://d37ci6vzurychx.cloudfront.net/trip-data/fhvhv_tripdata_2022-08.parquet\n",
      "Saved raw file to /Volumes/workspace/default/nyc_taxi/raw/fhvhv/2022/fhvhv_tripdata_2022-08.parquet\n",
      "Written to Bronze: /Volumes/workspace/default/nyc_taxi/bronze/fhvhv\n",
      "Downloading https://d37ci6vzurychx.cloudfront.net/trip-data/fhvhv_tripdata_2022-09.parquet\n",
      "Saved raw file to /Volumes/workspace/default/nyc_taxi/raw/fhvhv/2022/fhvhv_tripdata_2022-09.parquet\n",
      "Written to Bronze: /Volumes/workspace/default/nyc_taxi/bronze/fhvhv\n",
      "Downloading https://d37ci6vzurychx.cloudfront.net/trip-data/fhvhv_tripdata_2022-10.parquet\n",
      "Saved raw file to /Volumes/workspace/default/nyc_taxi/raw/fhvhv/2022/fhvhv_tripdata_2022-10.parquet\n",
      "Written to Bronze: /Volumes/workspace/default/nyc_taxi/bronze/fhvhv\n",
      "Downloading https://d37ci6vzurychx.cloudfront.net/trip-data/fhvhv_tripdata_2022-11.parquet\n",
      "Saved raw file to /Volumes/workspace/default/nyc_taxi/raw/fhvhv/2022/fhvhv_tripdata_2022-11.parquet\n",
      "Written to Bronze: /Volumes/workspace/default/nyc_taxi/bronze/fhvhv\n",
      "Downloading https://d37ci6vzurychx.cloudfront.net/trip-data/fhvhv_tripdata_2022-12.parquet\n",
      "Saved raw file to /Volumes/workspace/default/nyc_taxi/raw/fhvhv/2022/fhvhv_tripdata_2022-12.parquet\n",
      "Written to Bronze: /Volumes/workspace/default/nyc_taxi/bronze/fhvhv\n",
      "Downloading https://d37ci6vzurychx.cloudfront.net/trip-data/fhvhv_tripdata_2023-01.parquet\n",
      "Saved raw file to /Volumes/workspace/default/nyc_taxi/raw/fhvhv/2023/fhvhv_tripdata_2023-01.parquet\n",
      "Written to Bronze: /Volumes/workspace/default/nyc_taxi/bronze/fhvhv\n",
      "Downloading https://d37ci6vzurychx.cloudfront.net/trip-data/fhvhv_tripdata_2023-02.parquet\n",
      "Saved raw file to /Volumes/workspace/default/nyc_taxi/raw/fhvhv/2023/fhvhv_tripdata_2023-02.parquet\n",
      "Written to Bronze: /Volumes/workspace/default/nyc_taxi/bronze/fhvhv\n",
      "Downloading https://d37ci6vzurychx.cloudfront.net/trip-data/fhvhv_tripdata_2023-03.parquet\n",
      "Saved raw file to /Volumes/workspace/default/nyc_taxi/raw/fhvhv/2023/fhvhv_tripdata_2023-03.parquet\n",
      "Written to Bronze: /Volumes/workspace/default/nyc_taxi/bronze/fhvhv\n",
      "Downloading https://d37ci6vzurychx.cloudfront.net/trip-data/fhvhv_tripdata_2023-04.parquet\n",
      "Saved raw file to /Volumes/workspace/default/nyc_taxi/raw/fhvhv/2023/fhvhv_tripdata_2023-04.parquet\n",
      "Written to Bronze: /Volumes/workspace/default/nyc_taxi/bronze/fhvhv\n",
      "Downloading https://d37ci6vzurychx.cloudfront.net/trip-data/fhvhv_tripdata_2023-05.parquet\n",
      "Saved raw file to /Volumes/workspace/default/nyc_taxi/raw/fhvhv/2023/fhvhv_tripdata_2023-05.parquet\n",
      "Written to Bronze: /Volumes/workspace/default/nyc_taxi/bronze/fhvhv\n",
      "Downloading https://d37ci6vzurychx.cloudfront.net/trip-data/fhvhv_tripdata_2023-06.parquet\n",
      "Saved raw file to /Volumes/workspace/default/nyc_taxi/raw/fhvhv/2023/fhvhv_tripdata_2023-06.parquet\n",
      "Written to Bronze: /Volumes/workspace/default/nyc_taxi/bronze/fhvhv\n",
      "Downloading https://d37ci6vzurychx.cloudfront.net/trip-data/fhvhv_tripdata_2023-07.parquet\n",
      "Saved raw file to /Volumes/workspace/default/nyc_taxi/raw/fhvhv/2023/fhvhv_tripdata_2023-07.parquet\n",
      "Written to Bronze: /Volumes/workspace/default/nyc_taxi/bronze/fhvhv\n",
      "Downloading https://d37ci6vzurychx.cloudfront.net/trip-data/fhvhv_tripdata_2023-08.parquet\n",
      "Saved raw file to /Volumes/workspace/default/nyc_taxi/raw/fhvhv/2023/fhvhv_tripdata_2023-08.parquet\n",
      "Written to Bronze: /Volumes/workspace/default/nyc_taxi/bronze/fhvhv\n",
      "Downloading https://d37ci6vzurychx.cloudfront.net/trip-data/fhvhv_tripdata_2023-09.parquet\n",
      "Saved raw file to /Volumes/workspace/default/nyc_taxi/raw/fhvhv/2023/fhvhv_tripdata_2023-09.parquet\n",
      "Written to Bronze: /Volumes/workspace/default/nyc_taxi/bronze/fhvhv\n",
      "Downloading https://d37ci6vzurychx.cloudfront.net/trip-data/fhvhv_tripdata_2023-10.parquet\n",
      "Saved raw file to /Volumes/workspace/default/nyc_taxi/raw/fhvhv/2023/fhvhv_tripdata_2023-10.parquet\n",
      "Written to Bronze: /Volumes/workspace/default/nyc_taxi/bronze/fhvhv\n",
      "Downloading https://d37ci6vzurychx.cloudfront.net/trip-data/fhvhv_tripdata_2023-11.parquet\n",
      "Saved raw file to /Volumes/workspace/default/nyc_taxi/raw/fhvhv/2023/fhvhv_tripdata_2023-11.parquet\n",
      "Written to Bronze: /Volumes/workspace/default/nyc_taxi/bronze/fhvhv\n",
      "Downloading https://d37ci6vzurychx.cloudfront.net/trip-data/fhvhv_tripdata_2023-12.parquet\n",
      "Saved raw file to /Volumes/workspace/default/nyc_taxi/raw/fhvhv/2023/fhvhv_tripdata_2023-12.parquet\n",
      "Written to Bronze: /Volumes/workspace/default/nyc_taxi/bronze/fhvhv\n",
      "Downloading https://d37ci6vzurychx.cloudfront.net/trip-data/fhvhv_tripdata_2024-01.parquet\n",
      "Saved raw file to /Volumes/workspace/default/nyc_taxi/raw/fhvhv/2024/fhvhv_tripdata_2024-01.parquet\n",
      "Written to Bronze: /Volumes/workspace/default/nyc_taxi/bronze/fhvhv\n",
      "Downloading https://d37ci6vzurychx.cloudfront.net/trip-data/fhvhv_tripdata_2024-02.parquet\n",
      "Saved raw file to /Volumes/workspace/default/nyc_taxi/raw/fhvhv/2024/fhvhv_tripdata_2024-02.parquet\n",
      "Written to Bronze: /Volumes/workspace/default/nyc_taxi/bronze/fhvhv\n",
      "Downloading https://d37ci6vzurychx.cloudfront.net/trip-data/fhvhv_tripdata_2024-03.parquet\n",
      "Saved raw file to /Volumes/workspace/default/nyc_taxi/raw/fhvhv/2024/fhvhv_tripdata_2024-03.parquet\n",
      "Written to Bronze: /Volumes/workspace/default/nyc_taxi/bronze/fhvhv\n",
      "Downloading https://d37ci6vzurychx.cloudfront.net/trip-data/fhvhv_tripdata_2024-04.parquet\n",
      "Saved raw file to /Volumes/workspace/default/nyc_taxi/raw/fhvhv/2024/fhvhv_tripdata_2024-04.parquet\n",
      "Written to Bronze: /Volumes/workspace/default/nyc_taxi/bronze/fhvhv\n",
      "Downloading https://d37ci6vzurychx.cloudfront.net/trip-data/fhvhv_tripdata_2024-05.parquet\n",
      "Saved raw file to /Volumes/workspace/default/nyc_taxi/raw/fhvhv/2024/fhvhv_tripdata_2024-05.parquet\n",
      "Written to Bronze: /Volumes/workspace/default/nyc_taxi/bronze/fhvhv\n",
      "Downloading https://d37ci6vzurychx.cloudfront.net/trip-data/fhvhv_tripdata_2024-06.parquet\n",
      "Saved raw file to /Volumes/workspace/default/nyc_taxi/raw/fhvhv/2024/fhvhv_tripdata_2024-06.parquet\n",
      "Written to Bronze: /Volumes/workspace/default/nyc_taxi/bronze/fhvhv\n",
      "Downloading https://d37ci6vzurychx.cloudfront.net/trip-data/fhvhv_tripdata_2024-07.parquet\n",
      "Saved raw file to /Volumes/workspace/default/nyc_taxi/raw/fhvhv/2024/fhvhv_tripdata_2024-07.parquet\n",
      "Written to Bronze: /Volumes/workspace/default/nyc_taxi/bronze/fhvhv\n",
      "Downloading https://d37ci6vzurychx.cloudfront.net/trip-data/fhvhv_tripdata_2024-08.parquet\n",
      "Saved raw file to /Volumes/workspace/default/nyc_taxi/raw/fhvhv/2024/fhvhv_tripdata_2024-08.parquet\n",
      "Written to Bronze: /Volumes/workspace/default/nyc_taxi/bronze/fhvhv\n",
      "Downloading https://d37ci6vzurychx.cloudfront.net/trip-data/fhvhv_tripdata_2024-09.parquet\n",
      "Saved raw file to /Volumes/workspace/default/nyc_taxi/raw/fhvhv/2024/fhvhv_tripdata_2024-09.parquet\n",
      "Written to Bronze: /Volumes/workspace/default/nyc_taxi/bronze/fhvhv\n",
      "Downloading https://d37ci6vzurychx.cloudfront.net/trip-data/fhvhv_tripdata_2024-10.parquet\n",
      "Saved raw file to /Volumes/workspace/default/nyc_taxi/raw/fhvhv/2024/fhvhv_tripdata_2024-10.parquet\n",
      "Written to Bronze: /Volumes/workspace/default/nyc_taxi/bronze/fhvhv\n",
      "Downloading https://d37ci6vzurychx.cloudfront.net/trip-data/fhvhv_tripdata_2024-11.parquet\n",
      "Saved raw file to /Volumes/workspace/default/nyc_taxi/raw/fhvhv/2024/fhvhv_tripdata_2024-11.parquet\n",
      "Written to Bronze: /Volumes/workspace/default/nyc_taxi/bronze/fhvhv\n",
      "Downloading https://d37ci6vzurychx.cloudfront.net/trip-data/fhvhv_tripdata_2024-12.parquet\n",
      "Saved raw file to /Volumes/workspace/default/nyc_taxi/raw/fhvhv/2024/fhvhv_tripdata_2024-12.parquet\n",
      "Written to Bronze: /Volumes/workspace/default/nyc_taxi/bronze/fhvhv\n",
      "Downloading https://d37ci6vzurychx.cloudfront.net/trip-data/fhvhv_tripdata_2025-01.parquet\n",
      "Saved raw file to /Volumes/workspace/default/nyc_taxi/raw/fhvhv/2025/fhvhv_tripdata_2025-01.parquet\n",
      "Written to Bronze: /Volumes/workspace/default/nyc_taxi/bronze/fhvhv\n",
      "Downloading https://d37ci6vzurychx.cloudfront.net/trip-data/fhvhv_tripdata_2025-02.parquet\n",
      "Saved raw file to /Volumes/workspace/default/nyc_taxi/raw/fhvhv/2025/fhvhv_tripdata_2025-02.parquet\n",
      "Written to Bronze: /Volumes/workspace/default/nyc_taxi/bronze/fhvhv\n",
      "Downloading https://d37ci6vzurychx.cloudfront.net/trip-data/fhvhv_tripdata_2025-03.parquet\n",
      "Saved raw file to /Volumes/workspace/default/nyc_taxi/raw/fhvhv/2025/fhvhv_tripdata_2025-03.parquet\n",
      "Written to Bronze: /Volumes/workspace/default/nyc_taxi/bronze/fhvhv\n",
      "Downloading https://d37ci6vzurychx.cloudfront.net/trip-data/fhvhv_tripdata_2025-04.parquet\n",
      "Saved raw file to /Volumes/workspace/default/nyc_taxi/raw/fhvhv/2025/fhvhv_tripdata_2025-04.parquet\n",
      "Written to Bronze: /Volumes/workspace/default/nyc_taxi/bronze/fhvhv\n",
      "Downloading https://d37ci6vzurychx.cloudfront.net/trip-data/fhvhv_tripdata_2025-05.parquet\n",
      "Saved raw file to /Volumes/workspace/default/nyc_taxi/raw/fhvhv/2025/fhvhv_tripdata_2025-05.parquet\n",
      "Written to Bronze: /Volumes/workspace/default/nyc_taxi/bronze/fhvhv\n",
      "Downloading https://d37ci6vzurychx.cloudfront.net/trip-data/fhvhv_tripdata_2025-06.parquet\n",
      "Saved raw file to /Volumes/workspace/default/nyc_taxi/raw/fhvhv/2025/fhvhv_tripdata_2025-06.parquet\n",
      "Written to Bronze: /Volumes/workspace/default/nyc_taxi/bronze/fhvhv\n",
      "Downloading https://d37ci6vzurychx.cloudfront.net/trip-data/fhvhv_tripdata_2025-07.parquet\n",
      "Saved raw file to /Volumes/workspace/default/nyc_taxi/raw/fhvhv/2025/fhvhv_tripdata_2025-07.parquet\n",
      "Written to Bronze: /Volumes/workspace/default/nyc_taxi/bronze/fhvhv\n",
      "Downloading https://d37ci6vzurychx.cloudfront.net/trip-data/fhvhv_tripdata_2025-08.parquet\n",
      "File not found or error downloading fhvhv_tripdata_2025-08.parquet: HTTP Error 403: Forbidden\n",
      "Ingestion complete.\n"
     ]
    }
   ],
   "source": [
    "# for taxi_type in TAXI_TYPES:\n",
    "#     for year in range(START_YEAR, CURRENT_YEAR + 1):\n",
    "#         for month in range(1, 13):\n",
    "#             # Skip future months\n",
    "#             if year == CURRENT_YEAR and month > datetime.now().month:\n",
    "#                 continue\n",
    "            \n",
    "#             # Download raw file (skip if exists)\n",
    "#             raw_file_path = download_and_save(taxi_type, year, month)\n",
    "#             if raw_file_path:\n",
    "#                 # Load into Bronze (skip if already ingested)\n",
    "#                 load_to_bronze(raw_file_path, taxi_type)\n",
    "\n",
    "# print(\"Ingestion complete.\")"
   ]
  },
  {
   "cell_type": "code",
   "execution_count": 0,
   "metadata": {
    "application/vnd.databricks.v1+cell": {
     "cellMetadata": {
      "byteLimit": 2048000,
      "rowLimit": 10000
     },
     "inputWidgets": {},
     "nuid": "18cd7f94-d0d4-4006-b817-4d9ea768d687",
     "showTitle": false,
     "tableResultSettingsMap": {},
     "title": ""
    }
   },
   "outputs": [
    {
     "name": "stdout",
     "output_type": "stream",
     "text": [
      "root\n",
      " |-- VendorID: string (nullable = true)\n",
      " |-- tpep_pickup_datetime: string (nullable = true)\n",
      " |-- tpep_dropoff_datetime: string (nullable = true)\n",
      " |-- passenger_count: string (nullable = true)\n",
      " |-- trip_distance: string (nullable = true)\n",
      " |-- RatecodeID: string (nullable = true)\n",
      " |-- store_and_fwd_flag: string (nullable = true)\n",
      " |-- PULocationID: string (nullable = true)\n",
      " |-- DOLocationID: string (nullable = true)\n",
      " |-- payment_type: string (nullable = true)\n",
      " |-- fare_amount: string (nullable = true)\n",
      " |-- extra: string (nullable = true)\n",
      " |-- mta_tax: string (nullable = true)\n",
      " |-- tip_amount: string (nullable = true)\n",
      " |-- tolls_amount: string (nullable = true)\n",
      " |-- improvement_surcharge: string (nullable = true)\n",
      " |-- total_amount: string (nullable = true)\n",
      " |-- congestion_surcharge: string (nullable = true)\n",
      " |-- airport_fee: string (nullable = true)\n",
      " |-- ingestion_date: string (nullable = true)\n",
      " |-- source_file: string (nullable = true)\n",
      " |-- taxi_type: string (nullable = true)\n",
      " |-- cbd_congestion_fee: string (nullable = true)\n",
      "\n"
     ]
    }
   ],
   "source": [
    "bronze_yellow_taxi = spark.read.format(\"delta\").load(f\"{BRONZE_BASE}/yellow\")\n",
    "bronze_yellow_taxi.printSchema()"
   ]
  },
  {
   "cell_type": "code",
   "execution_count": 0,
   "metadata": {
    "application/vnd.databricks.v1+cell": {
     "cellMetadata": {
      "byteLimit": 2048000,
      "rowLimit": 10000
     },
     "inputWidgets": {},
     "nuid": "ad8b2386-32c4-447d-b77c-95632d47eae0",
     "showTitle": false,
     "tableResultSettingsMap": {},
     "title": ""
    }
   },
   "outputs": [
    {
     "name": "stdout",
     "output_type": "stream",
     "text": [
      "root\n",
      " |-- VendorID: string (nullable = true)\n",
      " |-- lpep_pickup_datetime: string (nullable = true)\n",
      " |-- lpep_dropoff_datetime: string (nullable = true)\n",
      " |-- store_and_fwd_flag: string (nullable = true)\n",
      " |-- RatecodeID: string (nullable = true)\n",
      " |-- PULocationID: string (nullable = true)\n",
      " |-- DOLocationID: string (nullable = true)\n",
      " |-- passenger_count: string (nullable = true)\n",
      " |-- trip_distance: string (nullable = true)\n",
      " |-- fare_amount: string (nullable = true)\n",
      " |-- extra: string (nullable = true)\n",
      " |-- mta_tax: string (nullable = true)\n",
      " |-- tip_amount: string (nullable = true)\n",
      " |-- tolls_amount: string (nullable = true)\n",
      " |-- ehail_fee: string (nullable = true)\n",
      " |-- improvement_surcharge: string (nullable = true)\n",
      " |-- total_amount: string (nullable = true)\n",
      " |-- payment_type: string (nullable = true)\n",
      " |-- trip_type: string (nullable = true)\n",
      " |-- congestion_surcharge: string (nullable = true)\n",
      " |-- ingestion_date: string (nullable = true)\n",
      " |-- source_file: string (nullable = true)\n",
      " |-- taxi_type: string (nullable = true)\n",
      " |-- cbd_congestion_fee: string (nullable = true)\n",
      "\n"
     ]
    }
   ],
   "source": [
    "bronze_green_taxi = spark.read.format(\"delta\").load(f\"{BRONZE_BASE}/green\")\n",
    "bronze_green_taxi.printSchema()"
   ]
  },
  {
   "cell_type": "code",
   "execution_count": 0,
   "metadata": {
    "application/vnd.databricks.v1+cell": {
     "cellMetadata": {
      "byteLimit": 2048000,
      "rowLimit": 10000
     },
     "inputWidgets": {},
     "nuid": "d21a690e-fb99-43e8-a849-2706b548b2ea",
     "showTitle": false,
     "tableResultSettingsMap": {},
     "title": ""
    }
   },
   "outputs": [
    {
     "name": "stdout",
     "output_type": "stream",
     "text": [
      "root\n",
      " |-- VendorID: integer (nullable = true)\n",
      " |-- tpep_pickup_datetime: timestamp_ntz (nullable = true)\n",
      " |-- tpep_dropoff_datetime: timestamp_ntz (nullable = true)\n",
      " |-- passenger_count: long (nullable = true)\n",
      " |-- trip_distance: double (nullable = true)\n",
      " |-- RatecodeID: long (nullable = true)\n",
      " |-- store_and_fwd_flag: string (nullable = true)\n",
      " |-- PULocationID: integer (nullable = true)\n",
      " |-- DOLocationID: integer (nullable = true)\n",
      " |-- payment_type: long (nullable = true)\n",
      " |-- fare_amount: double (nullable = true)\n",
      " |-- extra: double (nullable = true)\n",
      " |-- mta_tax: double (nullable = true)\n",
      " |-- tip_amount: double (nullable = true)\n",
      " |-- tolls_amount: double (nullable = true)\n",
      " |-- improvement_surcharge: double (nullable = true)\n",
      " |-- total_amount: double (nullable = true)\n",
      " |-- congestion_surcharge: double (nullable = true)\n",
      " |-- Airport_fee: double (nullable = true)\n",
      " |-- cbd_congestion_fee: double (nullable = true)\n",
      "\n"
     ]
    }
   ],
   "source": [
    "sample_raw_yellow = spark.read.parquet(\"/Volumes/workspace/default/nyc_taxi/raw/yellow/2025/yellow_tripdata_2025-04.parquet\")\n",
    "sample_raw_yellow.printSchema()"
   ]
  },
  {
   "cell_type": "code",
   "execution_count": 0,
   "metadata": {
    "application/vnd.databricks.v1+cell": {
     "cellMetadata": {
      "byteLimit": 2048000,
      "rowLimit": 10000
     },
     "inputWidgets": {},
     "nuid": "3a5e218d-fba8-467f-94c8-d44b3fdf8616",
     "showTitle": false,
     "tableResultSettingsMap": {},
     "title": ""
    }
   },
   "outputs": [
    {
     "name": "stdout",
     "output_type": "stream",
     "text": [
      "+-----------+\n",
      "|airport_fee|\n",
      "+-----------+\n",
      "|       NULL|\n",
      "|       1.75|\n",
      "|       1.25|\n",
      "|        0.0|\n",
      "|      -1.75|\n",
      "|       6.75|\n",
      "|        5.0|\n",
      "|      -1.25|\n",
      "|       0.75|\n",
      "|        0.5|\n",
      "|        1.7|\n",
      "|        1.0|\n",
      "+-----------+\n",
      "\n"
     ]
    }
   ],
   "source": [
    "bronze_yellow_taxi.select(\"airport_fee\").distinct().show()"
   ]
  },
  {
   "cell_type": "code",
   "execution_count": 0,
   "metadata": {
    "application/vnd.databricks.v1+cell": {
     "cellMetadata": {
      "byteLimit": 2048000,
      "rowLimit": 10000
     },
     "inputWidgets": {},
     "nuid": "c484dee7-0bc2-4658-8bc9-ae700cefb764",
     "showTitle": false,
     "tableResultSettingsMap": {},
     "title": ""
    }
   },
   "outputs": [
    {
     "name": "stdout",
     "output_type": "stream",
     "text": [
      "root\n",
      " |-- dispatching_base_num: string (nullable = true)\n",
      " |-- pickup_datetime: string (nullable = true)\n",
      " |-- dropOff_datetime: string (nullable = true)\n",
      " |-- PUlocationID: string (nullable = true)\n",
      " |-- DOlocationID: string (nullable = true)\n",
      " |-- SR_Flag: string (nullable = true)\n",
      " |-- Affiliated_base_number: string (nullable = true)\n",
      " |-- ingestion_date: string (nullable = true)\n",
      " |-- source_file: string (nullable = true)\n",
      " |-- taxi_type: string (nullable = true)\n",
      "\n",
      "root\n",
      " |-- hvfhs_license_num: string (nullable = true)\n",
      " |-- dispatching_base_num: string (nullable = true)\n",
      " |-- originating_base_num: string (nullable = true)\n",
      " |-- request_datetime: string (nullable = true)\n",
      " |-- on_scene_datetime: string (nullable = true)\n",
      " |-- pickup_datetime: string (nullable = true)\n",
      " |-- dropoff_datetime: string (nullable = true)\n",
      " |-- PULocationID: string (nullable = true)\n",
      " |-- DOLocationID: string (nullable = true)\n",
      " |-- trip_miles: string (nullable = true)\n",
      " |-- trip_time: string (nullable = true)\n",
      " |-- base_passenger_fare: string (nullable = true)\n",
      " |-- tolls: string (nullable = true)\n",
      " |-- bcf: string (nullable = true)\n",
      " |-- sales_tax: string (nullable = true)\n",
      " |-- congestion_surcharge: string (nullable = true)\n",
      " |-- airport_fee: string (nullable = true)\n",
      " |-- tips: string (nullable = true)\n",
      " |-- driver_pay: string (nullable = true)\n",
      " |-- shared_request_flag: string (nullable = true)\n",
      " |-- shared_match_flag: string (nullable = true)\n",
      " |-- access_a_ride_flag: string (nullable = true)\n",
      " |-- wav_request_flag: string (nullable = true)\n",
      " |-- wav_match_flag: string (nullable = true)\n",
      " |-- ingestion_date: string (nullable = true)\n",
      " |-- source_file: string (nullable = true)\n",
      " |-- taxi_type: string (nullable = true)\n",
      " |-- cbd_congestion_fee: string (nullable = true)\n",
      "\n"
     ]
    }
   ],
   "source": [
    "bronze_fhv = spark.read.format(\"delta\").load(f\"{BRONZE_BASE}/fhv\")\n",
    "bronze_fhv.printSchema()\n",
    "bronze_fhvhv = spark.read.format(\"delta\").load(f\"{BRONZE_BASE}/fhvhv\")\n",
    "bronze_fhvhv.printSchema()"
   ]
  },
  {
   "cell_type": "markdown",
   "metadata": {
    "application/vnd.databricks.v1+cell": {
     "cellMetadata": {
      "byteLimit": 2048000,
      "rowLimit": 10000
     },
     "inputWidgets": {},
     "nuid": "e77b1d36-8d89-4aa4-b70c-2ec938ef721b",
     "showTitle": false,
     "tableResultSettingsMap": {},
     "title": ""
    }
   },
   "source": [
    "**Silver**"
   ]
  },
  {
   "cell_type": "code",
   "execution_count": 0,
   "metadata": {
    "application/vnd.databricks.v1+cell": {
     "cellMetadata": {
      "byteLimit": 2048000,
      "rowLimit": 10000
     },
     "inputWidgets": {},
     "nuid": "787f7eb6-c8e4-4c12-bd57-d52cf66f46ea",
     "showTitle": false,
     "tableResultSettingsMap": {},
     "title": ""
    }
   },
   "outputs": [],
   "source": [
    "# Cast the columns to the right type\n",
    "from pyspark.sql.functions import col, lit, to_timestamp, coalesce, sha2, concat_ws\n",
    "\n",
    "taxi_cols = [\n",
    "    \"vendor_id\", \"pickup_datetime\", \"dropoff_datetime\", \"passenger_count\",\n",
    "    \"trip_distance\", \"pickup_location_id\", \"dropoff_location_id\",\n",
    "    \"rate_code\", \"payment_type\", \"fare_amount\", \"extra\", \"mta_tax\",\n",
    "    \"tip_amount\", \"tolls_amount\", \"improvement_surcharge\", \"congestion_surcharge\",\n",
    "    \"airport_fee\", \"total_amount\", \"trip_type\", \"cbd_congestion_fee\",\n",
    "    \"ehail_fee\", \"taxi_type\", \"trip_id\"\n",
    "]\n",
    "\n",
    "fhv_cols = [\n",
    "    \"dispatching_base_num\",\"pickup_datetime\",\"dropoff_datetime\",\"pickup_location_id\",\n",
    "    \"dropoff_location_id\",\"sr_flag\", \"passenger_count\", \"trip_distance\", \"fare_amount\",\n",
    "    \"tip_amount\", \"total_amount\",\"trip_type\", \"trip_id\"\n",
    "]\n",
    "\n",
    "fhvhv_cols = [\n",
    "    \"hvfhs_license_num\",\"pickup_datetime\",\"dropoff_datetime\",\"pickup_location_id\",\"dropoff_location_id\",\n",
    "    \"dispatching_base_num\",\"trip_distance\",\"trip_duration_seconds\",\"fare_amount\",\"tip_amount\",\n",
    "    \"tolls_amount\",\"airport_fee\",\"congestion_surcharge\",\"sales_tax\",\"bcf\",\"driver_pay\",\n",
    "    \"cbd_congestion_fee\",\"total_amount\",\"trip_type\", \"trip_id\"\n",
    "]\n",
    "\n",
    "def transform_yellow(bronze_df):\n",
    "    return (\n",
    "        bronze_df\n",
    "        .withColumn(\"vendor_id\", col(\"VendorID\").cast(\"long\"))\n",
    "        .withColumn(\"pickup_datetime\", to_timestamp(col(\"tpep_pickup_datetime\")))\n",
    "        .withColumn(\"dropoff_datetime\", to_timestamp(col(\"tpep_dropoff_datetime\")))\n",
    "        .withColumn(\"passenger_count\", col(\"passenger_count\").cast(\"double\"))\n",
    "        .withColumn(\"trip_distance\", col(\"trip_distance\").cast(\"double\"))\n",
    "        .withColumn(\"pickup_location_id\", col(\"PULocationID\").cast(\"int\"))\n",
    "        .withColumn(\"dropoff_location_id\", col(\"DOLocationID\").cast(\"int\"))\n",
    "        .withColumn(\"rate_code\", col(\"RatecodeID\").cast(\"double\").cast(\"int\"))\n",
    "        .withColumn(\"payment_type\", col(\"payment_type\").cast(\"int\"))\n",
    "        .withColumn(\"fare_amount\", col(\"fare_amount\").cast(\"double\"))\n",
    "        .withColumn(\"extra\", col(\"extra\").cast(\"double\"))\n",
    "        .withColumn(\"mta_tax\", col(\"mta_tax\").cast(\"double\"))\n",
    "        .withColumn(\"tip_amount\", col(\"tip_amount\").cast(\"double\"))\n",
    "        .withColumn(\"tolls_amount\", col(\"tolls_amount\").cast(\"double\"))\n",
    "        .withColumn(\"improvement_surcharge\", col(\"improvement_surcharge\").cast(\"double\"))\n",
    "        .withColumn(\"congestion_surcharge\", col(\"congestion_surcharge\").cast(\"double\"))\n",
    "        .withColumn(\"airport_fee\", col(\"airport_fee\").cast(\"double\"))\n",
    "        .withColumn(\"total_amount\", col(\"total_amount\").cast(\"double\"))\n",
    "        .withColumn(\"trip_type\", lit(\"taxi\"))  # added by me\n",
    "        .withColumn(\"cbd_congestion_fee\", lit(None).cast(\"double\")) # available in Yellow from 2025\n",
    "        .withColumn(\"ehail_fee\", lit(None).cast(\"double\")) # not available in Yellow\n",
    "        .withColumn(\"taxi_type\", lit(\"yellow\"))\n",
    "        .withColumn(\"trip_id\", sha2(concat_ws(\"||\",\n",
    "            col(\"pickup_datetime\").cast(\"string\"),\n",
    "            col(\"dropoff_datetime\").cast(\"string\"),\n",
    "            col(\"pickup_location_id\"),\n",
    "            col(\"dropoff_location_id\"),\n",
    "            col(\"vendor_id\"),\n",
    "            col(\"taxi_type\")\n",
    "        ), 256))\n",
    "        .select(taxi_cols)\n",
    "    )\n",
    "    \n",
    "def transform_green(bronze_df):\n",
    "    return (\n",
    "        bronze_df\n",
    "        .withColumn(\"vendor_id\", col(\"VendorID\").cast(\"long\"))\n",
    "        .withColumn(\"pickup_datetime\", to_timestamp(col(\"lpep_pickup_datetime\")))\n",
    "        .withColumn(\"dropoff_datetime\", to_timestamp(col(\"lpep_dropoff_datetime\")))\n",
    "        .withColumn(\"passenger_count\", col(\"passenger_count\").cast(\"double\"))\n",
    "        .withColumn(\"trip_distance\", col(\"trip_distance\").cast(\"double\"))\n",
    "        .withColumn(\"pickup_location_id\", col(\"PULocationID\").cast(\"int\"))\n",
    "        .withColumn(\"dropoff_location_id\", col(\"DOLocationID\").cast(\"int\"))\n",
    "        .withColumn(\"rate_code\", col(\"RatecodeID\").cast(\"double\").cast(\"int\"))\n",
    "        .withColumn(\"payment_type\", col(\"payment_type\").cast(\"double\").cast(\"int\"))\n",
    "        .withColumn(\"fare_amount\", col(\"fare_amount\").cast(\"double\"))\n",
    "        .withColumn(\"extra\", col(\"extra\").cast(\"double\"))\n",
    "        .withColumn(\"mta_tax\", col(\"mta_tax\").cast(\"double\"))\n",
    "        .withColumn(\"tip_amount\", col(\"tip_amount\").cast(\"double\"))\n",
    "        .withColumn(\"tolls_amount\", col(\"tolls_amount\").cast(\"double\"))\n",
    "        .withColumn(\"ehail_fee\", col(\"ehail_fee\").cast(\"double\"))\n",
    "        .withColumn(\"improvement_surcharge\", col(\"improvement_surcharge\").cast(\"double\"))\n",
    "        .withColumn(\"congestion_surcharge\", col(\"congestion_surcharge\").cast(\"double\"))\n",
    "        .withColumn(\"airport_fee\", lit(None).cast(\"double\"))  # not available in Green\n",
    "        .withColumn(\"total_amount\", col(\"total_amount\").cast(\"double\"))\n",
    "        .withColumn(\"trip_type\", lit(\"taxi\")) # added by me\n",
    "        .withColumn(\"cbd_congestion_fee\", col(\"cbd_congestion_fee\").cast(\"double\")) # available in Green from 2025\n",
    "        .withColumn(\"taxi_type\", lit(\"green\"))\n",
    "        .withColumn(\"trip_id\", sha2(concat_ws(\"||\",\n",
    "            col(\"pickup_datetime\").cast(\"string\"),\n",
    "            col(\"dropoff_datetime\").cast(\"string\"),\n",
    "            col(\"pickup_location_id\"),\n",
    "            col(\"dropoff_location_id\"),\n",
    "            col(\"vendor_id\"),\n",
    "            col(\"taxi_type\")\n",
    "        ), 256))\n",
    "        .select(taxi_cols)\n",
    "    )\n",
    "\n",
    "def transform_fhv(bronze_df):\n",
    "    return (\n",
    "        bronze_df\n",
    "        .withColumn(\"pickup_datetime\", to_timestamp(col(\"pickup_datetime\")))\n",
    "        .withColumn(\"dropoff_datetime\", to_timestamp(col(\"dropOff_datetime\")))\n",
    "        .withColumn(\"pickup_location_id\", col(\"PUlocationID\").cast(\"double\").cast(\"int\"))\n",
    "        .withColumn(\"dropoff_location_id\", col(\"DOlocationID\").cast(\"double\").cast(\"int\"))\n",
    "        .withColumn(\"dispatching_base_num\", col(\"dispatching_base_num\"))\n",
    "        .withColumn(\"sr_flag\", col(\"SR_Flag\"))\n",
    "        .withColumn(\"fare_amount\", lit(None).cast(\"double\"))\n",
    "        .withColumn(\"trip_distance\", lit(None).cast(\"double\"))\n",
    "        .withColumn(\"passenger_count\", lit(None).cast(\"double\"))\n",
    "        .withColumn(\"tip_amount\", lit(None).cast(\"double\"))\n",
    "        .withColumn(\"total_amount\", lit(None).cast(\"double\"))\n",
    "        .withColumn(\"trip_type\", lit(\"fhv\"))\n",
    "        .withColumn(\"trip_id\", sha2(concat_ws(\"||\",\n",
    "            col(\"pickup_datetime\").cast(\"string\"),\n",
    "            col(\"dropoff_datetime\").cast(\"string\"),\n",
    "            col(\"pickup_location_id\"),\n",
    "            col(\"dropoff_location_id\"),\n",
    "            col(\"dispatching_base_num\"),\n",
    "            col(\"trip_type\")\n",
    "        ), 256))\n",
    "        .select(fhv_cols)\n",
    "    )   \n",
    "\n",
    "def transform_fhvhv(bronze_df):\n",
    "    return (\n",
    "        bronze_df\n",
    "        .withColumn(\"pickup_datetime\", to_timestamp(col(\"pickup_datetime\")))\n",
    "        .withColumn(\"dropoff_datetime\", to_timestamp(col(\"dropoff_datetime\")))\n",
    "        .withColumn(\"pickup_location_id\", col(\"PUlocationID\").cast(\"double\").cast(\"int\"))\n",
    "        .withColumn(\"dropoff_location_id\", col(\"DOlocationID\").cast(\"double\").cast(\"int\"))\n",
    "        .withColumn(\"hvfhs_license_num\", col(\"hvfhs_license_num\"))  # Uber/Lyft/Via/Juno string code\n",
    "        .withColumn(\"dispatching_base_num\", col(\"dispatching_base_num\"))  \n",
    "        .withColumn(\"trip_distance\", col(\"trip_miles\").cast(\"double\"))\n",
    "        .withColumn(\"trip_duration_seconds\", col(\"trip_time\").cast(\"double\"))\n",
    "        .withColumn(\"fare_amount\", col(\"base_passenger_fare\").cast(\"double\"))\n",
    "        .withColumn(\"tip_amount\", col(\"tips\").cast(\"double\"))\n",
    "        .withColumn(\"tolls_amount\", col(\"tolls\").cast(\"double\"))\n",
    "        .withColumn(\"airport_fee\", col(\"airport_fee\").cast(\"double\"))\n",
    "        .withColumn(\"congestion_surcharge\", col(\"congestion_surcharge\").cast(\"double\"))\n",
    "        .withColumn(\"sales_tax\", col(\"sales_tax\").cast(\"double\"))\n",
    "        .withColumn(\"bcf\", col(\"bcf\").cast(\"double\"))  # Black Car Fund surcharge\n",
    "        .withColumn(\"driver_pay\", col(\"driver_pay\").cast(\"double\"))\n",
    "        .withColumn(\"cbd_congestion_fee\", col(\"cbd_congestion_fee\").cast(\"double\")) \n",
    "        .withColumn(\"total_amount\", \n",
    "                    (coalesce(col(\"fare_amount\"), lit(0)) + \n",
    "                    coalesce(col(\"tolls_amount\"), lit(0)) + \n",
    "                    coalesce(col(\"sales_tax\"), lit(0)) + \n",
    "                    coalesce(col(\"congestion_surcharge\"), lit(0))+ \n",
    "                    coalesce(col(\"driver_pay\"), lit(0)) + \n",
    "                    coalesce(col(\"bcf\"), lit(0)) + \n",
    "                    coalesce(col(\"airport_fee\"), lit(0)) + \n",
    "                    coalesce(col(\"tip_amount\"), lit(0))).cast(\"double\"))\n",
    "        .withColumn(\"trip_type\", lit(\"fhvhv\"))\n",
    "        .withColumn(\"trip_id\", sha2(concat_ws(\"||\",\n",
    "            col(\"pickup_datetime\").cast(\"string\"),\n",
    "            col(\"dropoff_datetime\").cast(\"string\"),\n",
    "            col(\"pickup_location_id\"),\n",
    "            col(\"dropoff_location_id\"),\n",
    "            col(\"hvfhs_license_num\"),\n",
    "            col(\"trip_type\")\n",
    "        ), 256))\n",
    "        .select(fhvhv_cols)\n",
    "    )\n"
   ]
  },
  {
   "cell_type": "code",
   "execution_count": 0,
   "metadata": {
    "application/vnd.databricks.v1+cell": {
     "cellMetadata": {
      "byteLimit": 2048000,
      "rowLimit": 10000
     },
     "inputWidgets": {},
     "nuid": "1554bcd4-d4b5-4cf6-87df-8a6b1ff78eaa",
     "showTitle": false,
     "tableResultSettingsMap": {},
     "title": ""
    }
   },
   "outputs": [],
   "source": [
    "silver_yellow_taxi = transform_yellow(bronze_yellow_taxi)\n",
    "silver_green_taxi = transform_green(bronze_green_taxi)\n",
    "silver_fhv = transform_fhv(bronze_fhv)\n",
    "silver_fhvhv = transform_fhvhv(bronze_fhvhv)"
   ]
  },
  {
   "cell_type": "code",
   "execution_count": 0,
   "metadata": {
    "application/vnd.databricks.v1+cell": {
     "cellMetadata": {
      "byteLimit": 2048000,
      "rowLimit": 10000
     },
     "inputWidgets": {},
     "nuid": "0d7b9200-bb41-444a-a4e9-50cdd93bb77c",
     "showTitle": false,
     "tableResultSettingsMap": {},
     "title": ""
    }
   },
   "outputs": [
    {
     "name": "stdout",
     "output_type": "stream",
     "text": [
      "+---------+-------------------+-------------------+---------------+-------------+------------------+-------------------+---------+------------+-----------+-----+-------+----------+------------+---------------------+--------------------+-----------+------------+---------+------------------+---------+---------+--------------------+\n",
      "|vendor_id|    pickup_datetime|   dropoff_datetime|passenger_count|trip_distance|pickup_location_id|dropoff_location_id|rate_code|payment_type|fare_amount|extra|mta_tax|tip_amount|tolls_amount|improvement_surcharge|congestion_surcharge|airport_fee|total_amount|trip_type|cbd_congestion_fee|ehail_fee|taxi_type|             trip_id|\n",
      "+---------+-------------------+-------------------+---------------+-------------+------------------+-------------------+---------+------------+-----------+-----+-------+----------+------------+---------------------+--------------------+-----------+------------+---------+------------------+---------+---------+--------------------+\n",
      "|        1|2020-01-01 00:28:15|2020-01-01 00:33:03|            1.0|          1.2|               238|                239|        1|           1|        6.0|  3.0|    0.5|      1.47|         0.0|                  0.3|                 2.5|       NULL|       11.27|     taxi|              NULL|     NULL|   yellow|9e32dd969b32c3a73...|\n",
      "|        1|2020-01-01 00:35:39|2020-01-01 00:43:04|            1.0|          1.2|               239|                238|        1|           1|        7.0|  3.0|    0.5|       1.5|         0.0|                  0.3|                 2.5|       NULL|        12.3|     taxi|              NULL|     NULL|   yellow|b6353eb142f597c54...|\n",
      "|        1|2020-01-01 00:47:41|2020-01-01 00:53:52|            1.0|          0.6|               238|                238|        1|           1|        6.0|  3.0|    0.5|       1.0|         0.0|                  0.3|                 2.5|       NULL|        10.8|     taxi|              NULL|     NULL|   yellow|300b7d3f1d4ffe47f...|\n",
      "|        1|2020-01-01 00:55:23|2020-01-01 01:00:14|            1.0|          0.8|               238|                151|        1|           1|        5.5|  0.5|    0.5|      1.36|         0.0|                  0.3|                 0.0|       NULL|        8.16|     taxi|              NULL|     NULL|   yellow|a8a49bb2d3e90170e...|\n",
      "|        2|2020-01-01 00:01:58|2020-01-01 00:04:16|            1.0|          0.0|               193|                193|        1|           2|        3.5|  0.5|    0.5|       0.0|         0.0|                  0.3|                 0.0|       NULL|         4.8|     taxi|              NULL|     NULL|   yellow|da7913f1c84c727d0...|\n",
      "+---------+-------------------+-------------------+---------------+-------------+------------------+-------------------+---------+------------+-----------+-----+-------+----------+------------+---------------------+--------------------+-----------+------------+---------+------------------+---------+---------+--------------------+\n",
      "only showing top 5 rows\n",
      "+---------+-------------------+-------------------+---------------+-------------+------------------+-------------------+---------+------------+-----------+-----+-------+----------+------------+---------------------+--------------------+-----------+------------+---------+------------------+---------+---------+--------------------+\n",
      "|vendor_id|    pickup_datetime|   dropoff_datetime|passenger_count|trip_distance|pickup_location_id|dropoff_location_id|rate_code|payment_type|fare_amount|extra|mta_tax|tip_amount|tolls_amount|improvement_surcharge|congestion_surcharge|airport_fee|total_amount|trip_type|cbd_congestion_fee|ehail_fee|taxi_type|             trip_id|\n",
      "+---------+-------------------+-------------------+---------------+-------------+------------------+-------------------+---------+------------+-----------+-----+-------+----------+------------+---------------------+--------------------+-----------+------------+---------+------------------+---------+---------+--------------------+\n",
      "|        2|2019-12-18 15:52:30|2019-12-18 15:54:39|            5.0|          0.0|               264|                264|        1|           1|        3.5|  0.5|    0.5|      0.01|         0.0|                  0.3|                 0.0|       NULL|        4.81|     taxi|              NULL|     NULL|    green|87c25257c5a261953...|\n",
      "|        2|2020-01-01 00:45:58|2020-01-01 00:56:39|            2.0|         1.28|                66|                 65|        5|           1|       20.0|  0.0|    0.0|      4.06|         0.0|                  0.3|                 0.0|       NULL|       24.36|     taxi|              NULL|     NULL|    green|cbe2af8331fa66b7f...|\n",
      "|        2|2020-01-01 00:41:38|2020-01-01 00:52:49|            1.0|         2.47|               181|                228|        1|           1|       10.5|  0.5|    0.5|      3.54|         0.0|                  0.3|                 0.0|       NULL|       15.34|     taxi|              NULL|     NULL|    green|8134600d18c42a6c4...|\n",
      "|        1|2020-01-01 00:52:46|2020-01-01 01:14:21|            2.0|          6.3|               129|                263|        1|           2|       21.0| 3.25|    0.5|       0.0|         0.0|                  0.3|                2.75|       NULL|       25.05|     taxi|              NULL|     NULL|    green|1582e73415bd2569e...|\n",
      "|        1|2020-01-01 00:19:57|2020-01-01 00:30:56|            1.0|          2.3|               210|                150|        1|           1|       10.0|  0.5|    0.5|       0.0|         0.0|                  0.3|                 0.0|       NULL|        11.3|     taxi|              NULL|     NULL|    green|4f6f8695a6dda36e4...|\n",
      "+---------+-------------------+-------------------+---------------+-------------+------------------+-------------------+---------+------------+-----------+-----+-------+----------+------------+---------------------+--------------------+-----------+------------+---------+------------------+---------+---------+--------------------+\n",
      "only showing top 5 rows\n",
      "+--------------------+-------------------+-------------------+------------------+-------------------+-------+---------------+-------------+-----------+----------+------------+---------+--------------------+\n",
      "|dispatching_base_num|    pickup_datetime|   dropoff_datetime|pickup_location_id|dropoff_location_id|sr_flag|passenger_count|trip_distance|fare_amount|tip_amount|total_amount|trip_type|             trip_id|\n",
      "+--------------------+-------------------+-------------------+------------------+-------------------+-------+---------------+-------------+-----------+----------+------------+---------+--------------------+\n",
      "|              B00013|2025-06-01 00:00:00|2025-06-01 01:05:00|              NULL|               NULL|   NULL|           NULL|         NULL|       NULL|      NULL|        NULL|      fhv|3553ab20e4769a687...|\n",
      "|              B00112|2025-06-01 00:18:48|2025-06-01 00:45:27|              NULL|                 14|   NULL|           NULL|         NULL|       NULL|      NULL|        NULL|      fhv|832903588caf17c2d...|\n",
      "|              B00112|2025-06-01 00:54:19|2025-06-01 00:58:53|              NULL|                 14|   NULL|           NULL|         NULL|       NULL|      NULL|        NULL|      fhv|ed559ce2542f66525...|\n",
      "|              B00112|2025-06-01 00:56:42|2025-06-01 00:56:51|              NULL|                 14|   NULL|           NULL|         NULL|       NULL|      NULL|        NULL|      fhv|8450f8faaa4789fca...|\n",
      "|              B00112|2025-06-01 00:35:08|2025-06-01 01:03:24|              NULL|                 14|   NULL|           NULL|         NULL|       NULL|      NULL|        NULL|      fhv|489f914ce67142a89...|\n",
      "+--------------------+-------------------+-------------------+------------------+-------------------+-------+---------------+-------------+-----------+----------+------------+---------+--------------------+\n",
      "only showing top 5 rows\n",
      "+-----------------+-------------------+-------------------+------------------+-------------------+--------------------+-------------+---------------------+-----------+----------+------------+-----------+--------------------+---------+----+----------+------------------+------------------+---------+--------------------+\n",
      "|hvfhs_license_num|    pickup_datetime|   dropoff_datetime|pickup_location_id|dropoff_location_id|dispatching_base_num|trip_distance|trip_duration_seconds|fare_amount|tip_amount|tolls_amount|airport_fee|congestion_surcharge|sales_tax| bcf|driver_pay|cbd_congestion_fee|      total_amount|trip_type|             trip_id|\n",
      "+-----------------+-------------------+-------------------+------------------+-------------------+--------------------+-------------+---------------------+-----------+----------+------------+-----------+--------------------+---------+----+----------+------------------+------------------+---------+--------------------+\n",
      "|           HV0003|2024-12-01 00:30:18|2024-12-01 00:45:00|                81|                213|              B03404|         6.16|                882.0|       14.0|       0.0|         0.0|        0.0|                 0.0|     1.24|0.39|      20.8|              NULL|             36.43|    fhvhv|c00fa6d6e43d8a9a3...|\n",
      "|           HV0003|2024-12-01 00:47:39|2024-12-01 00:55:03|               213|                213|              B03404|         1.81|                444.0|      10.74|       0.0|         0.0|        0.0|                 0.0|     0.95|0.29|     10.62|              NULL|22.599999999999998|    fhvhv|f445aed83ffe5672f...|\n",
      "|           HV0003|2024-12-01 00:09:29|2024-12-01 00:20:48|               221|                221|              B03404|         1.46|                679.0|      11.13|       0.0|         0.0|        0.0|                 0.0|     0.99| 0.3|      9.59|              NULL|             22.01|    fhvhv|dd764847271520568...|\n",
      "+-----------------+-------------------+-------------------+------------------+-------------------+--------------------+-------------+---------------------+-----------+----------+------------+-----------+--------------------+---------+----+----------+------------------+------------------+---------+--------------------+\n",
      "only showing top 3 rows\n"
     ]
    }
   ],
   "source": [
    "# bronze_yellow_taxi.show(5)\n",
    "silver_yellow_taxi.show(5)\n",
    "# bronze_green_taxi.show(5)\n",
    "silver_green_taxi.show(5)\n",
    "# bronze_fhv.show(5)\n",
    "silver_fhv.show(5)\n",
    "# bronze_fhvhv.show(3)\n",
    "silver_fhvhv.show(3)"
   ]
  },
  {
   "cell_type": "code",
   "execution_count": 0,
   "metadata": {
    "application/vnd.databricks.v1+cell": {
     "cellMetadata": {
      "byteLimit": 2048000,
      "rowLimit": 10000
     },
     "inputWidgets": {},
     "nuid": "2a052d90-f4ff-475e-a0f7-14c486517b90",
     "showTitle": false,
     "tableResultSettingsMap": {},
     "title": ""
    }
   },
   "outputs": [],
   "source": [
    "from pyspark.sql.functions import col, lit, to_timestamp, unix_timestamp\n",
    "\n",
    "silver_taxi = silver_yellow_taxi.unionByName(silver_green_taxi)\n",
    "\n",
    "# add trip_duration_seconds to taxi\n",
    "silver_taxi = silver_taxi \\\n",
    "    .withColumn(\"trip_duration_seconds\",\n",
    "                    unix_timestamp(col(\"dropoff_datetime\")) - unix_timestamp(col(\"pickup_datetime\"))\n",
    "                    )\n",
    "\n",
    "# add trip_duration_seconds to fhv    \n",
    "silver_fhv = silver_fhv \\\n",
    "    .withColumn(\"trip_duration_seconds\",\n",
    "                    unix_timestamp(col(\"dropoff_datetime\")) - unix_timestamp(col(\"pickup_datetime\"))\n",
    "                    )"
   ]
  },
  {
   "cell_type": "code",
   "execution_count": 0,
   "metadata": {
    "application/vnd.databricks.v1+cell": {
     "cellMetadata": {
      "byteLimit": 2048000,
      "rowLimit": 10000
     },
     "inputWidgets": {},
     "nuid": "7a19df53-68ba-428e-9246-bec4ba5f892a",
     "showTitle": false,
     "tableResultSettingsMap": {},
     "title": ""
    }
   },
   "outputs": [],
   "source": [
    "from pyspark.sql.functions import col, lit\n",
    "\n",
    "def enrich_silver(df, source):\n",
    "    return (\n",
    "        df\n",
    "        .withColumn(\"is_valid_trip\",\n",
    "                    (col(\"trip_distance\").isNotNull()) &\n",
    "                    (col(\"trip_distance\") > 0) &\n",
    "                    (col(\"trip_duration_seconds\").isNotNull()) &\n",
    "                    (col(\"trip_duration_seconds\") > 0) &\n",
    "                    (col(\"fare_amount\").isNotNull()) &\n",
    "                    (col(\"fare_amount\") > 0) \n",
    "                    )\n",
    "        .withColumn(\"source\", lit(source))\n",
    "    )\n",
    "\n",
    "def enrich_silver_for_fhv(df):\n",
    "    return (\n",
    "        df\n",
    "        .withColumn(\"is_valid_trip\",\n",
    "                    (col(\"trip_duration_seconds\").isNotNull()) &\n",
    "                    (col(\"trip_duration_seconds\") > 0)\n",
    "                    )\n",
    "        .withColumn(\"source\", lit(\"fhv\"))\n",
    "    )"
   ]
  },
  {
   "cell_type": "code",
   "execution_count": 0,
   "metadata": {
    "application/vnd.databricks.v1+cell": {
     "cellMetadata": {
      "byteLimit": 2048000,
      "rowLimit": 10000
     },
     "inputWidgets": {},
     "nuid": "8c8bffbc-5c6a-40b4-b88b-44aaf851909d",
     "showTitle": false,
     "tableResultSettingsMap": {},
     "title": ""
    }
   },
   "outputs": [],
   "source": [
    "silver_taxi = enrich_silver(silver_taxi, \"taxi\")\n",
    "silver_fhv = enrich_silver_for_fhv(silver_fhv)\n",
    "silver_fhvhv = enrich_silver(silver_fhvhv, \"fhvhv\")"
   ]
  },
  {
   "cell_type": "code",
   "execution_count": 0,
   "metadata": {
    "application/vnd.databricks.v1+cell": {
     "cellMetadata": {
      "byteLimit": 2048000,
      "rowLimit": 10000
     },
     "inputWidgets": {},
     "nuid": "472b5041-858b-42ab-bc00-1aa122225098",
     "showTitle": false,
     "tableResultSettingsMap": {},
     "title": ""
    }
   },
   "outputs": [],
   "source": [
    "# Filter on is valid trip\n",
    "silver_taxi = silver_taxi.filter(silver_taxi[\"is_valid_trip\"] == True).drop(\"is_valid_trip\")\n",
    "silver_fhv = silver_fhv.filter(silver_fhv[\"is_valid_trip\"] == True).drop(\"is_valid_trip\")\n",
    "silver_fhvhv = silver_fhvhv.filter(silver_fhvhv[\"is_valid_trip\"] == True).drop(\"is_valid_trip\")"
   ]
  },
  {
   "cell_type": "code",
   "execution_count": 0,
   "metadata": {
    "application/vnd.databricks.v1+cell": {
     "cellMetadata": {
      "byteLimit": 2048000,
      "rowLimit": 10000
     },
     "inputWidgets": {},
     "nuid": "523eed91-1829-49b8-8772-994a977fc2cb",
     "showTitle": false,
     "tableResultSettingsMap": {},
     "title": ""
    }
   },
   "outputs": [
    {
     "name": "stdout",
     "output_type": "stream",
     "text": [
      "+---------+-------------------+-------------------+---------------+-------------+------------------+-------------------+---------+------------+-----------+-----+-------+----------+------------+---------------------+--------------------+-----------+------------+---------+------------------+---------+---------+--------------------+---------------------+------+\n",
      "|vendor_id|    pickup_datetime|   dropoff_datetime|passenger_count|trip_distance|pickup_location_id|dropoff_location_id|rate_code|payment_type|fare_amount|extra|mta_tax|tip_amount|tolls_amount|improvement_surcharge|congestion_surcharge|airport_fee|total_amount|trip_type|cbd_congestion_fee|ehail_fee|taxi_type|             trip_id|trip_duration_seconds|source|\n",
      "+---------+-------------------+-------------------+---------------+-------------+------------------+-------------------+---------+------------+-----------+-----+-------+----------+------------+---------------------+--------------------+-----------+------------+---------+------------------+---------+---------+--------------------+---------------------+------+\n",
      "|        1|2020-01-01 00:28:15|2020-01-01 00:33:03|            1.0|          1.2|               238|                239|        1|           1|        6.0|  3.0|    0.5|      1.47|         0.0|                  0.3|                 2.5|       NULL|       11.27|     taxi|              NULL|     NULL|   yellow|9e32dd969b32c3a73...|                  288|  taxi|\n",
      "|        1|2020-01-01 00:35:39|2020-01-01 00:43:04|            1.0|          1.2|               239|                238|        1|           1|        7.0|  3.0|    0.5|       1.5|         0.0|                  0.3|                 2.5|       NULL|        12.3|     taxi|              NULL|     NULL|   yellow|b6353eb142f597c54...|                  445|  taxi|\n",
      "|        1|2020-01-01 00:47:41|2020-01-01 00:53:52|            1.0|          0.6|               238|                238|        1|           1|        6.0|  3.0|    0.5|       1.0|         0.0|                  0.3|                 2.5|       NULL|        10.8|     taxi|              NULL|     NULL|   yellow|300b7d3f1d4ffe47f...|                  371|  taxi|\n",
      "|        1|2020-01-01 00:55:23|2020-01-01 01:00:14|            1.0|          0.8|               238|                151|        1|           1|        5.5|  0.5|    0.5|      1.36|         0.0|                  0.3|                 0.0|       NULL|        8.16|     taxi|              NULL|     NULL|   yellow|a8a49bb2d3e90170e...|                  291|  taxi|\n",
      "|        2|2020-01-01 00:09:44|2020-01-01 00:10:37|            1.0|         0.03|                 7|                193|        1|           2|        2.5|  0.5|    0.5|       0.0|         0.0|                  0.3|                 0.0|       NULL|         3.8|     taxi|              NULL|     NULL|   yellow|f4c4ff5d173c7079a...|                   53|  taxi|\n",
      "+---------+-------------------+-------------------+---------------+-------------+------------------+-------------------+---------+------------+-----------+-----+-------+----------+------------+---------------------+--------------------+-----------+------------+---------+------------------+---------+---------+--------------------+---------------------+------+\n",
      "only showing top 5 rows\n",
      "+--------------------+-------------------+-------------------+------------------+-------------------+-------+---------------+-------------+-----------+----------+------------+---------+--------------------+---------------------+------+\n",
      "|dispatching_base_num|    pickup_datetime|   dropoff_datetime|pickup_location_id|dropoff_location_id|sr_flag|passenger_count|trip_distance|fare_amount|tip_amount|total_amount|trip_type|             trip_id|trip_duration_seconds|source|\n",
      "+--------------------+-------------------+-------------------+------------------+-------------------+-------+---------------+-------------+-----------+----------+------------+---------+--------------------+---------------------+------+\n",
      "|              B00013|2025-06-01 00:00:00|2025-06-01 01:05:00|              NULL|               NULL|   NULL|           NULL|         NULL|       NULL|      NULL|        NULL|      fhv|3553ab20e4769a687...|                 3900|   fhv|\n",
      "|              B00112|2025-06-01 00:18:48|2025-06-01 00:45:27|              NULL|                 14|   NULL|           NULL|         NULL|       NULL|      NULL|        NULL|      fhv|832903588caf17c2d...|                 1599|   fhv|\n",
      "|              B00112|2025-06-01 00:54:19|2025-06-01 00:58:53|              NULL|                 14|   NULL|           NULL|         NULL|       NULL|      NULL|        NULL|      fhv|ed559ce2542f66525...|                  274|   fhv|\n",
      "|              B00112|2025-06-01 00:56:42|2025-06-01 00:56:51|              NULL|                 14|   NULL|           NULL|         NULL|       NULL|      NULL|        NULL|      fhv|8450f8faaa4789fca...|                    9|   fhv|\n",
      "|              B00112|2025-06-01 00:35:08|2025-06-01 01:03:24|              NULL|                 14|   NULL|           NULL|         NULL|       NULL|      NULL|        NULL|      fhv|489f914ce67142a89...|                 1696|   fhv|\n",
      "+--------------------+-------------------+-------------------+------------------+-------------------+-------+---------------+-------------+-----------+----------+------------+---------+--------------------+---------------------+------+\n",
      "only showing top 5 rows\n",
      "+-----------------+-------------------+-------------------+------------------+-------------------+--------------------+-------------+---------------------+-----------+----------+------------+-----------+--------------------+---------+----+----------+------------------+------------------+---------+--------------------+------+\n",
      "|hvfhs_license_num|    pickup_datetime|   dropoff_datetime|pickup_location_id|dropoff_location_id|dispatching_base_num|trip_distance|trip_duration_seconds|fare_amount|tip_amount|tolls_amount|airport_fee|congestion_surcharge|sales_tax| bcf|driver_pay|cbd_congestion_fee|      total_amount|trip_type|             trip_id|source|\n",
      "+-----------------+-------------------+-------------------+------------------+-------------------+--------------------+-------------+---------------------+-----------+----------+------------+-----------+--------------------+---------+----+----------+------------------+------------------+---------+--------------------+------+\n",
      "|           HV0003|2024-12-01 00:30:18|2024-12-01 00:45:00|                81|                213|              B03404|         6.16|                882.0|       14.0|       0.0|         0.0|        0.0|                 0.0|     1.24|0.39|      20.8|              NULL|             36.43|    fhvhv|c00fa6d6e43d8a9a3...| fhvhv|\n",
      "|           HV0003|2024-12-01 00:47:39|2024-12-01 00:55:03|               213|                213|              B03404|         1.81|                444.0|      10.74|       0.0|         0.0|        0.0|                 0.0|     0.95|0.29|     10.62|              NULL|22.599999999999998|    fhvhv|f445aed83ffe5672f...| fhvhv|\n",
      "|           HV0003|2024-12-01 00:09:29|2024-12-01 00:20:48|               221|                221|              B03404|         1.46|                679.0|      11.13|       0.0|         0.0|        0.0|                 0.0|     0.99| 0.3|      9.59|              NULL|             22.01|    fhvhv|dd764847271520568...| fhvhv|\n",
      "+-----------------+-------------------+-------------------+------------------+-------------------+--------------------+-------------+---------------------+-----------+----------+------------+-----------+--------------------+---------+----+----------+------------------+------------------+---------+--------------------+------+\n",
      "only showing top 3 rows\n"
     ]
    }
   ],
   "source": [
    "silver_taxi.show(5)\n",
    "silver_fhv.show(5)\n",
    "silver_fhvhv.show(3)"
   ]
  },
  {
   "cell_type": "code",
   "execution_count": 0,
   "metadata": {
    "application/vnd.databricks.v1+cell": {
     "cellMetadata": {
      "byteLimit": 2048000,
      "rowLimit": 10000
     },
     "inputWidgets": {},
     "nuid": "085e098a-9703-4403-a7fe-5ddaf637ca0a",
     "showTitle": false,
     "tableResultSettingsMap": {},
     "title": ""
    }
   },
   "outputs": [],
   "source": [
    "# # write to silver\n",
    "# silver_taxi.write.format(\"delta\").mode(\"overwrite\").save(f\"{SILVER_BASE}/silver_taxi\")\n",
    "# silver_fhv.write.format(\"delta\").mode(\"overwrite\").save(f\"{SILVER_BASE}/silver_fhv\")\n",
    "# silver_fhvhv.write.format(\"delta\").mode(\"overwrite\").save(f\"{SILVER_BASE}/silver_fhvhv\")"
   ]
  },
  {
   "cell_type": "markdown",
   "metadata": {
    "application/vnd.databricks.v1+cell": {
     "cellMetadata": {},
     "inputWidgets": {},
     "nuid": "a349cdde-8956-46d2-8f00-951544cdb3e6",
     "showTitle": false,
     "tableResultSettingsMap": {},
     "title": ""
    }
   },
   "source": [
    "**Gold**"
   ]
  },
  {
   "cell_type": "code",
   "execution_count": 0,
   "metadata": {
    "application/vnd.databricks.v1+cell": {
     "cellMetadata": {
      "byteLimit": 2048000,
      "rowLimit": 10000
     },
     "inputWidgets": {},
     "nuid": "fa9cc6d4-e1a5-4b0d-938f-310323952220",
     "showTitle": false,
     "tableResultSettingsMap": {},
     "title": ""
    }
   },
   "outputs": [],
   "source": [
    "from pyspark.sql.functions import col, year, month, dayofmonth, hour, dayofweek, weekofyear, quarter, to_date, lit, monotonically_increasing_id\n",
    "\n",
    "# read from silver\n",
    "silver_taxi_df = spark.read.format(\"delta\").load(f\"{SILVER_BASE}/silver_taxi\")\n",
    "silver_fhv_df = spark.read.format(\"delta\").load(f\"{SILVER_BASE}/silver_fhv\")\n",
    "silver_fhvhv_df = spark.read.format(\"delta\").load(f\"{SILVER_BASE}/silver_fhvhv\")"
   ]
  },
  {
   "cell_type": "code",
   "execution_count": 0,
   "metadata": {
    "application/vnd.databricks.v1+cell": {
     "cellMetadata": {
      "byteLimit": 2048000,
      "rowLimit": 10000
     },
     "inputWidgets": {},
     "nuid": "f90ad6c8-82fa-4e62-b770-da077c2f2f07",
     "showTitle": false,
     "tableResultSettingsMap": {},
     "title": ""
    }
   },
   "outputs": [
    {
     "name": "stdout",
     "output_type": "stream",
     "text": [
      "+----------+----+-----+---+----+-------+------------+-------+-----------+\n",
      "|      date|year|month|day|hour|weekday|week_of_year|quarter|calendar_id|\n",
      "+----------+----+-----+---+----+-------+------------+-------+-----------+\n",
      "|2001-01-01|2001|    1|  1|   0|      2|           1|      1|          0|\n",
      "|2001-01-01|2001|    1|  1|   1|      2|           1|      1|          1|\n",
      "|2001-01-01|2001|    1|  1|  15|      2|           1|      1|          2|\n",
      "|2001-08-23|2001|    8| 23|   5|      5|          34|      3|          3|\n",
      "|2002-10-21|2002|   10| 21|   0|      2|          43|      4|          4|\n",
      "+----------+----+-----+---+----+-------+------------+-------+-----------+\n",
      "only showing top 5 rows\n"
     ]
    }
   ],
   "source": [
    "calendar_df = (\n",
    "    silver_taxi_df.select(\"pickup_datetime\")\n",
    "    .union(silver_fhv_df.select(\"pickup_datetime\"))\n",
    "    .union(silver_fhvhv_df.select(\"pickup_datetime\"))\n",
    "    .distinct()\n",
    "    .withColumn(\"date\", to_date(col(\"pickup_datetime\")))\n",
    "    .withColumn(\"year\", year(col(\"pickup_datetime\")))\n",
    "    .withColumn(\"month\", month(col(\"pickup_datetime\")))\n",
    "    .withColumn(\"day\", dayofmonth(col(\"pickup_datetime\")))\n",
    "    .withColumn(\"hour\", hour(col(\"pickup_datetime\")))\n",
    "    .withColumn(\"weekday\", dayofweek(col(\"pickup_datetime\")))\n",
    "    .withColumn(\"week_of_year\", weekofyear(col(\"pickup_datetime\")))\n",
    "    .withColumn(\"quarter\", quarter(col(\"pickup_datetime\")))\n",
    "    .drop(\"pickup_datetime\")\n",
    "    .distinct()\n",
    "    .orderBy([\"date\", \"hour\"], ascending=[True, True])\n",
    "    .withColumn(\"calendar_id\", monotonically_increasing_id())\n",
    ")\n",
    "# calendar_df.show(5)\n",
    "\n",
    "# calendar_df.write.format(\"delta\").mode(\"overwrite\").save(f\"{GOLD_BASE}/dim_calendar\")"
   ]
  },
  {
   "cell_type": "code",
   "execution_count": 0,
   "metadata": {
    "application/vnd.databricks.v1+cell": {
     "cellMetadata": {
      "byteLimit": 2048000,
      "rowLimit": 10000
     },
     "inputWidgets": {},
     "nuid": "e6da6d42-1ae7-46d1-837e-d4c632b44de6",
     "showTitle": false,
     "tableResultSettingsMap": {},
     "title": ""
    }
   },
   "outputs": [
    {
     "data": {
      "text/html": [
       "<style scoped>\n",
       "  .table-result-container {\n",
       "    max-height: 300px;\n",
       "    overflow: auto;\n",
       "  }\n",
       "  table, th, td {\n",
       "    border: 1px solid black;\n",
       "    border-collapse: collapse;\n",
       "  }\n",
       "  th, td {\n",
       "    padding: 5px;\n",
       "  }\n",
       "  th {\n",
       "    text-align: left;\n",
       "  }\n",
       "</style><div class='table-result-container'><table class='table-result'><thead style='background-color: white'><tr><th>calendar_id</th><th>date</th><th>year</th><th>month</th><th>day</th><th>hour</th><th>weekday</th><th>week_of_year</th><th>quarter</th></tr></thead><tbody><tr><td>0</td><td>2001-01-01</td><td>2001</td><td>1</td><td>1</td><td>0</td><td>2</td><td>1</td><td>1</td></tr><tr><td>1</td><td>2001-01-01</td><td>2001</td><td>1</td><td>1</td><td>1</td><td>2</td><td>1</td><td>1</td></tr><tr><td>2</td><td>2001-01-01</td><td>2001</td><td>1</td><td>1</td><td>15</td><td>2</td><td>1</td><td>1</td></tr><tr><td>3</td><td>2001-08-23</td><td>2001</td><td>8</td><td>23</td><td>5</td><td>5</td><td>34</td><td>3</td></tr><tr><td>4</td><td>2002-10-21</td><td>2002</td><td>10</td><td>21</td><td>0</td><td>2</td><td>43</td><td>4</td></tr><tr><td>5</td><td>2002-10-21</td><td>2002</td><td>10</td><td>21</td><td>1</td><td>2</td><td>43</td><td>4</td></tr><tr><td>6</td><td>2002-10-21</td><td>2002</td><td>10</td><td>21</td><td>5</td><td>2</td><td>43</td><td>4</td></tr><tr><td>7</td><td>2002-10-21</td><td>2002</td><td>10</td><td>21</td><td>8</td><td>2</td><td>43</td><td>4</td></tr><tr><td>8</td><td>2002-10-21</td><td>2002</td><td>10</td><td>21</td><td>9</td><td>2</td><td>43</td><td>4</td></tr><tr><td>9</td><td>2002-10-21</td><td>2002</td><td>10</td><td>21</td><td>10</td><td>2</td><td>43</td><td>4</td></tr><tr><td>10</td><td>2002-10-21</td><td>2002</td><td>10</td><td>21</td><td>11</td><td>2</td><td>43</td><td>4</td></tr><tr><td>11</td><td>2002-10-21</td><td>2002</td><td>10</td><td>21</td><td>12</td><td>2</td><td>43</td><td>4</td></tr><tr><td>12</td><td>2002-10-21</td><td>2002</td><td>10</td><td>21</td><td>13</td><td>2</td><td>43</td><td>4</td></tr><tr><td>13</td><td>2002-10-21</td><td>2002</td><td>10</td><td>21</td><td>14</td><td>2</td><td>43</td><td>4</td></tr><tr><td>14</td><td>2002-10-21</td><td>2002</td><td>10</td><td>21</td><td>15</td><td>2</td><td>43</td><td>4</td></tr><tr><td>15</td><td>2002-10-21</td><td>2002</td><td>10</td><td>21</td><td>16</td><td>2</td><td>43</td><td>4</td></tr><tr><td>16</td><td>2002-10-21</td><td>2002</td><td>10</td><td>21</td><td>18</td><td>2</td><td>43</td><td>4</td></tr><tr><td>17</td><td>2002-10-21</td><td>2002</td><td>10</td><td>21</td><td>19</td><td>2</td><td>43</td><td>4</td></tr><tr><td>18</td><td>2002-10-22</td><td>2002</td><td>10</td><td>22</td><td>7</td><td>3</td><td>43</td><td>4</td></tr><tr><td>19</td><td>2002-10-22</td><td>2002</td><td>10</td><td>22</td><td>8</td><td>3</td><td>43</td><td>4</td></tr><tr><td>20</td><td>2002-10-22</td><td>2002</td><td>10</td><td>22</td><td>9</td><td>3</td><td>43</td><td>4</td></tr><tr><td>21</td><td>2002-10-22</td><td>2002</td><td>10</td><td>22</td><td>10</td><td>3</td><td>43</td><td>4</td></tr><tr><td>22</td><td>2002-10-22</td><td>2002</td><td>10</td><td>22</td><td>11</td><td>3</td><td>43</td><td>4</td></tr><tr><td>23</td><td>2002-10-22</td><td>2002</td><td>10</td><td>22</td><td>12</td><td>3</td><td>43</td><td>4</td></tr><tr><td>24</td><td>2002-10-22</td><td>2002</td><td>10</td><td>22</td><td>13</td><td>3</td><td>43</td><td>4</td></tr><tr><td>25</td><td>2002-10-22</td><td>2002</td><td>10</td><td>22</td><td>14</td><td>3</td><td>43</td><td>4</td></tr><tr><td>26</td><td>2002-10-22</td><td>2002</td><td>10</td><td>22</td><td>15</td><td>3</td><td>43</td><td>4</td></tr><tr><td>27</td><td>2002-10-22</td><td>2002</td><td>10</td><td>22</td><td>16</td><td>3</td><td>43</td><td>4</td></tr><tr><td>28</td><td>2002-10-22</td><td>2002</td><td>10</td><td>22</td><td>17</td><td>3</td><td>43</td><td>4</td></tr><tr><td>29</td><td>2002-10-22</td><td>2002</td><td>10</td><td>22</td><td>18</td><td>3</td><td>43</td><td>4</td></tr><tr><td>30</td><td>2002-10-22</td><td>2002</td><td>10</td><td>22</td><td>19</td><td>3</td><td>43</td><td>4</td></tr><tr><td>31</td><td>2002-10-22</td><td>2002</td><td>10</td><td>22</td><td>20</td><td>3</td><td>43</td><td>4</td></tr><tr><td>32</td><td>2002-10-22</td><td>2002</td><td>10</td><td>22</td><td>21</td><td>3</td><td>43</td><td>4</td></tr><tr><td>33</td><td>2002-10-22</td><td>2002</td><td>10</td><td>22</td><td>22</td><td>3</td><td>43</td><td>4</td></tr><tr><td>34</td><td>2002-10-22</td><td>2002</td><td>10</td><td>22</td><td>23</td><td>3</td><td>43</td><td>4</td></tr><tr><td>35</td><td>2002-10-23</td><td>2002</td><td>10</td><td>23</td><td>0</td><td>4</td><td>43</td><td>4</td></tr><tr><td>36</td><td>2002-10-23</td><td>2002</td><td>10</td><td>23</td><td>4</td><td>4</td><td>43</td><td>4</td></tr><tr><td>37</td><td>2002-10-23</td><td>2002</td><td>10</td><td>23</td><td>7</td><td>4</td><td>43</td><td>4</td></tr><tr><td>38</td><td>2002-10-23</td><td>2002</td><td>10</td><td>23</td><td>8</td><td>4</td><td>43</td><td>4</td></tr><tr><td>39</td><td>2002-10-23</td><td>2002</td><td>10</td><td>23</td><td>9</td><td>4</td><td>43</td><td>4</td></tr><tr><td>40</td><td>2002-10-23</td><td>2002</td><td>10</td><td>23</td><td>10</td><td>4</td><td>43</td><td>4</td></tr><tr><td>41</td><td>2002-10-23</td><td>2002</td><td>10</td><td>23</td><td>12</td><td>4</td><td>43</td><td>4</td></tr><tr><td>42</td><td>2002-10-23</td><td>2002</td><td>10</td><td>23</td><td>13</td><td>4</td><td>43</td><td>4</td></tr><tr><td>43</td><td>2002-10-23</td><td>2002</td><td>10</td><td>23</td><td>14</td><td>4</td><td>43</td><td>4</td></tr><tr><td>44</td><td>2002-10-23</td><td>2002</td><td>10</td><td>23</td><td>15</td><td>4</td><td>43</td><td>4</td></tr><tr><td>45</td><td>2002-10-23</td><td>2002</td><td>10</td><td>23</td><td>16</td><td>4</td><td>43</td><td>4</td></tr><tr><td>46</td><td>2002-10-23</td><td>2002</td><td>10</td><td>23</td><td>18</td><td>4</td><td>43</td><td>4</td></tr><tr><td>47</td><td>2002-10-23</td><td>2002</td><td>10</td><td>23</td><td>20</td><td>4</td><td>43</td><td>4</td></tr><tr><td>48</td><td>2002-10-23</td><td>2002</td><td>10</td><td>23</td><td>21</td><td>4</td><td>43</td><td>4</td></tr><tr><td>49</td><td>2002-10-23</td><td>2002</td><td>10</td><td>23</td><td>22</td><td>4</td><td>43</td><td>4</td></tr><tr><td>50</td><td>2002-10-23</td><td>2002</td><td>10</td><td>23</td><td>23</td><td>4</td><td>43</td><td>4</td></tr><tr><td>51</td><td>2002-10-24</td><td>2002</td><td>10</td><td>24</td><td>0</td><td>5</td><td>43</td><td>4</td></tr><tr><td>52</td><td>2002-10-24</td><td>2002</td><td>10</td><td>24</td><td>5</td><td>5</td><td>43</td><td>4</td></tr><tr><td>53</td><td>2002-10-24</td><td>2002</td><td>10</td><td>24</td><td>8</td><td>5</td><td>43</td><td>4</td></tr><tr><td>54</td><td>2002-10-24</td><td>2002</td><td>10</td><td>24</td><td>9</td><td>5</td><td>43</td><td>4</td></tr><tr><td>55</td><td>2002-10-24</td><td>2002</td><td>10</td><td>24</td><td>10</td><td>5</td><td>43</td><td>4</td></tr><tr><td>56</td><td>2002-10-24</td><td>2002</td><td>10</td><td>24</td><td>11</td><td>5</td><td>43</td><td>4</td></tr><tr><td>57</td><td>2002-10-24</td><td>2002</td><td>10</td><td>24</td><td>12</td><td>5</td><td>43</td><td>4</td></tr><tr><td>58</td><td>2002-10-24</td><td>2002</td><td>10</td><td>24</td><td>13</td><td>5</td><td>43</td><td>4</td></tr><tr><td>59</td><td>2002-10-24</td><td>2002</td><td>10</td><td>24</td><td>14</td><td>5</td><td>43</td><td>4</td></tr><tr><td>60</td><td>2002-10-24</td><td>2002</td><td>10</td><td>24</td><td>15</td><td>5</td><td>43</td><td>4</td></tr><tr><td>61</td><td>2002-10-24</td><td>2002</td><td>10</td><td>24</td><td>16</td><td>5</td><td>43</td><td>4</td></tr><tr><td>62</td><td>2002-10-24</td><td>2002</td><td>10</td><td>24</td><td>17</td><td>5</td><td>43</td><td>4</td></tr><tr><td>63</td><td>2002-10-24</td><td>2002</td><td>10</td><td>24</td><td>18</td><td>5</td><td>43</td><td>4</td></tr><tr><td>64</td><td>2002-10-24</td><td>2002</td><td>10</td><td>24</td><td>19</td><td>5</td><td>43</td><td>4</td></tr><tr><td>65</td><td>2002-10-24</td><td>2002</td><td>10</td><td>24</td><td>21</td><td>5</td><td>43</td><td>4</td></tr><tr><td>66</td><td>2002-10-24</td><td>2002</td><td>10</td><td>24</td><td>22</td><td>5</td><td>43</td><td>4</td></tr><tr><td>67</td><td>2002-10-24</td><td>2002</td><td>10</td><td>24</td><td>23</td><td>5</td><td>43</td><td>4</td></tr><tr><td>68</td><td>2002-10-25</td><td>2002</td><td>10</td><td>25</td><td>0</td><td>6</td><td>43</td><td>4</td></tr><tr><td>69</td><td>2002-10-25</td><td>2002</td><td>10</td><td>25</td><td>7</td><td>6</td><td>43</td><td>4</td></tr><tr><td>70</td><td>2002-10-25</td><td>2002</td><td>10</td><td>25</td><td>8</td><td>6</td><td>43</td><td>4</td></tr><tr><td>71</td><td>2002-10-25</td><td>2002</td><td>10</td><td>25</td><td>9</td><td>6</td><td>43</td><td>4</td></tr><tr><td>72</td><td>2002-10-25</td><td>2002</td><td>10</td><td>25</td><td>10</td><td>6</td><td>43</td><td>4</td></tr><tr><td>73</td><td>2002-10-25</td><td>2002</td><td>10</td><td>25</td><td>11</td><td>6</td><td>43</td><td>4</td></tr><tr><td>74</td><td>2002-10-25</td><td>2002</td><td>10</td><td>25</td><td>12</td><td>6</td><td>43</td><td>4</td></tr><tr><td>75</td><td>2002-10-25</td><td>2002</td><td>10</td><td>25</td><td>13</td><td>6</td><td>43</td><td>4</td></tr><tr><td>76</td><td>2002-10-25</td><td>2002</td><td>10</td><td>25</td><td>14</td><td>6</td><td>43</td><td>4</td></tr><tr><td>77</td><td>2002-10-25</td><td>2002</td><td>10</td><td>25</td><td>15</td><td>6</td><td>43</td><td>4</td></tr><tr><td>78</td><td>2002-10-25</td><td>2002</td><td>10</td><td>25</td><td>16</td><td>6</td><td>43</td><td>4</td></tr><tr><td>79</td><td>2002-10-25</td><td>2002</td><td>10</td><td>25</td><td>17</td><td>6</td><td>43</td><td>4</td></tr><tr><td>80</td><td>2002-10-25</td><td>2002</td><td>10</td><td>25</td><td>18</td><td>6</td><td>43</td><td>4</td></tr><tr><td>81</td><td>2002-10-25</td><td>2002</td><td>10</td><td>25</td><td>21</td><td>6</td><td>43</td><td>4</td></tr><tr><td>82</td><td>2002-10-25</td><td>2002</td><td>10</td><td>25</td><td>22</td><td>6</td><td>43</td><td>4</td></tr><tr><td>83</td><td>2002-10-25</td><td>2002</td><td>10</td><td>25</td><td>23</td><td>6</td><td>43</td><td>4</td></tr><tr><td>84</td><td>2002-10-26</td><td>2002</td><td>10</td><td>26</td><td>2</td><td>7</td><td>43</td><td>4</td></tr><tr><td>85</td><td>2002-10-26</td><td>2002</td><td>10</td><td>26</td><td>5</td><td>7</td><td>43</td><td>4</td></tr><tr><td>86</td><td>2002-10-26</td><td>2002</td><td>10</td><td>26</td><td>7</td><td>7</td><td>43</td><td>4</td></tr><tr><td>87</td><td>2002-10-26</td><td>2002</td><td>10</td><td>26</td><td>9</td><td>7</td><td>43</td><td>4</td></tr><tr><td>88</td><td>2002-10-26</td><td>2002</td><td>10</td><td>26</td><td>10</td><td>7</td><td>43</td><td>4</td></tr><tr><td>89</td><td>2002-10-26</td><td>2002</td><td>10</td><td>26</td><td>11</td><td>7</td><td>43</td><td>4</td></tr><tr><td>90</td><td>2002-10-26</td><td>2002</td><td>10</td><td>26</td><td>12</td><td>7</td><td>43</td><td>4</td></tr><tr><td>91</td><td>2002-10-26</td><td>2002</td><td>10</td><td>26</td><td>14</td><td>7</td><td>43</td><td>4</td></tr><tr><td>92</td><td>2002-10-26</td><td>2002</td><td>10</td><td>26</td><td>15</td><td>7</td><td>43</td><td>4</td></tr><tr><td>93</td><td>2002-10-26</td><td>2002</td><td>10</td><td>26</td><td>16</td><td>7</td><td>43</td><td>4</td></tr><tr><td>94</td><td>2002-10-26</td><td>2002</td><td>10</td><td>26</td><td>17</td><td>7</td><td>43</td><td>4</td></tr><tr><td>95</td><td>2002-10-26</td><td>2002</td><td>10</td><td>26</td><td>18</td><td>7</td><td>43</td><td>4</td></tr><tr><td>96</td><td>2002-10-26</td><td>2002</td><td>10</td><td>26</td><td>20</td><td>7</td><td>43</td><td>4</td></tr><tr><td>97</td><td>2002-10-26</td><td>2002</td><td>10</td><td>26</td><td>21</td><td>7</td><td>43</td><td>4</td></tr><tr><td>98</td><td>2002-10-26</td><td>2002</td><td>10</td><td>26</td><td>22</td><td>7</td><td>43</td><td>4</td></tr><tr><td>99</td><td>2002-10-26</td><td>2002</td><td>10</td><td>26</td><td>23</td><td>7</td><td>43</td><td>4</td></tr><tr><td>100</td><td>2002-10-27</td><td>2002</td><td>10</td><td>27</td><td>0</td><td>1</td><td>43</td><td>4</td></tr><tr><td>101</td><td>2002-10-27</td><td>2002</td><td>10</td><td>27</td><td>1</td><td>1</td><td>43</td><td>4</td></tr><tr><td>102</td><td>2002-10-27</td><td>2002</td><td>10</td><td>27</td><td>2</td><td>1</td><td>43</td><td>4</td></tr><tr><td>103</td><td>2002-10-27</td><td>2002</td><td>10</td><td>27</td><td>3</td><td>1</td><td>43</td><td>4</td></tr><tr><td>104</td><td>2002-10-27</td><td>2002</td><td>10</td><td>27</td><td>4</td><td>1</td><td>43</td><td>4</td></tr><tr><td>105</td><td>2002-10-27</td><td>2002</td><td>10</td><td>27</td><td>5</td><td>1</td><td>43</td><td>4</td></tr><tr><td>106</td><td>2002-10-27</td><td>2002</td><td>10</td><td>27</td><td>7</td><td>1</td><td>43</td><td>4</td></tr><tr><td>107</td><td>2002-10-27</td><td>2002</td><td>10</td><td>27</td><td>8</td><td>1</td><td>43</td><td>4</td></tr><tr><td>108</td><td>2002-10-27</td><td>2002</td><td>10</td><td>27</td><td>9</td><td>1</td><td>43</td><td>4</td></tr><tr><td>109</td><td>2002-10-27</td><td>2002</td><td>10</td><td>27</td><td>10</td><td>1</td><td>43</td><td>4</td></tr><tr><td>110</td><td>2002-10-27</td><td>2002</td><td>10</td><td>27</td><td>12</td><td>1</td><td>43</td><td>4</td></tr><tr><td>111</td><td>2002-10-27</td><td>2002</td><td>10</td><td>27</td><td>13</td><td>1</td><td>43</td><td>4</td></tr><tr><td>112</td><td>2002-10-27</td><td>2002</td><td>10</td><td>27</td><td>14</td><td>1</td><td>43</td><td>4</td></tr><tr><td>113</td><td>2002-10-27</td><td>2002</td><td>10</td><td>27</td><td>15</td><td>1</td><td>43</td><td>4</td></tr><tr><td>114</td><td>2002-10-27</td><td>2002</td><td>10</td><td>27</td><td>16</td><td>1</td><td>43</td><td>4</td></tr><tr><td>115</td><td>2002-10-27</td><td>2002</td><td>10</td><td>27</td><td>17</td><td>1</td><td>43</td><td>4</td></tr><tr><td>116</td><td>2002-10-27</td><td>2002</td><td>10</td><td>27</td><td>18</td><td>1</td><td>43</td><td>4</td></tr><tr><td>117</td><td>2002-10-27</td><td>2002</td><td>10</td><td>27</td><td>19</td><td>1</td><td>43</td><td>4</td></tr><tr><td>118</td><td>2002-10-27</td><td>2002</td><td>10</td><td>27</td><td>20</td><td>1</td><td>43</td><td>4</td></tr><tr><td>119</td><td>2002-10-27</td><td>2002</td><td>10</td><td>27</td><td>21</td><td>1</td><td>43</td><td>4</td></tr><tr><td>120</td><td>2002-10-27</td><td>2002</td><td>10</td><td>27</td><td>22</td><td>1</td><td>43</td><td>4</td></tr><tr><td>121</td><td>2002-10-28</td><td>2002</td><td>10</td><td>28</td><td>1</td><td>2</td><td>44</td><td>4</td></tr><tr><td>122</td><td>2002-10-28</td><td>2002</td><td>10</td><td>28</td><td>3</td><td>2</td><td>44</td><td>4</td></tr><tr><td>123</td><td>2002-10-28</td><td>2002</td><td>10</td><td>28</td><td>4</td><td>2</td><td>44</td><td>4</td></tr><tr><td>124</td><td>2002-10-28</td><td>2002</td><td>10</td><td>28</td><td>5</td><td>2</td><td>44</td><td>4</td></tr><tr><td>125</td><td>2002-10-28</td><td>2002</td><td>10</td><td>28</td><td>6</td><td>2</td><td>44</td><td>4</td></tr><tr><td>126</td><td>2002-10-28</td><td>2002</td><td>10</td><td>28</td><td>8</td><td>2</td><td>44</td><td>4</td></tr><tr><td>127</td><td>2002-10-28</td><td>2002</td><td>10</td><td>28</td><td>9</td><td>2</td><td>44</td><td>4</td></tr><tr><td>128</td><td>2002-10-28</td><td>2002</td><td>10</td><td>28</td><td>10</td><td>2</td><td>44</td><td>4</td></tr><tr><td>129</td><td>2002-10-28</td><td>2002</td><td>10</td><td>28</td><td>11</td><td>2</td><td>44</td><td>4</td></tr><tr><td>130</td><td>2002-10-28</td><td>2002</td><td>10</td><td>28</td><td>13</td><td>2</td><td>44</td><td>4</td></tr><tr><td>131</td><td>2002-10-28</td><td>2002</td><td>10</td><td>28</td><td>14</td><td>2</td><td>44</td><td>4</td></tr><tr><td>132</td><td>2002-10-28</td><td>2002</td><td>10</td><td>28</td><td>15</td><td>2</td><td>44</td><td>4</td></tr><tr><td>133</td><td>2002-12-31</td><td>2002</td><td>12</td><td>31</td><td>16</td><td>3</td><td>1</td><td>4</td></tr><tr><td>134</td><td>2002-12-31</td><td>2002</td><td>12</td><td>31</td><td>22</td><td>3</td><td>1</td><td>4</td></tr><tr><td>135</td><td>2002-12-31</td><td>2002</td><td>12</td><td>31</td><td>23</td><td>3</td><td>1</td><td>4</td></tr><tr><td>136</td><td>2003-01-01</td><td>2003</td><td>1</td><td>1</td><td>0</td><td>4</td><td>1</td><td>1</td></tr><tr><td>137</td><td>2003-01-01</td><td>2003</td><td>1</td><td>1</td><td>1</td><td>4</td><td>1</td><td>1</td></tr><tr><td>138</td><td>2003-01-01</td><td>2003</td><td>1</td><td>1</td><td>2</td><td>4</td><td>1</td><td>1</td></tr><tr><td>139</td><td>2003-01-01</td><td>2003</td><td>1</td><td>1</td><td>4</td><td>4</td><td>1</td><td>1</td></tr><tr><td>140</td><td>2004-04-04</td><td>2004</td><td>4</td><td>4</td><td>4</td><td>1</td><td>14</td><td>2</td></tr><tr><td>141</td><td>2007-12-05</td><td>2007</td><td>12</td><td>5</td><td>18</td><td>4</td><td>49</td><td>4</td></tr><tr><td>142</td><td>2008-12-31</td><td>2008</td><td>12</td><td>31</td><td>0</td><td>4</td><td>1</td><td>4</td></tr><tr><td>143</td><td>2008-12-31</td><td>2008</td><td>12</td><td>31</td><td>10</td><td>4</td><td>1</td><td>4</td></tr><tr><td>144</td><td>2008-12-31</td><td>2008</td><td>12</td><td>31</td><td>13</td><td>4</td><td>1</td><td>4</td></tr><tr><td>145</td><td>2008-12-31</td><td>2008</td><td>12</td><td>31</td><td>14</td><td>4</td><td>1</td><td>4</td></tr><tr><td>146</td><td>2008-12-31</td><td>2008</td><td>12</td><td>31</td><td>15</td><td>4</td><td>1</td><td>4</td></tr><tr><td>147</td><td>2008-12-31</td><td>2008</td><td>12</td><td>31</td><td>16</td><td>4</td><td>1</td><td>4</td></tr><tr><td>148</td><td>2008-12-31</td><td>2008</td><td>12</td><td>31</td><td>17</td><td>4</td><td>1</td><td>4</td></tr><tr><td>149</td><td>2008-12-31</td><td>2008</td><td>12</td><td>31</td><td>19</td><td>4</td><td>1</td><td>4</td></tr><tr><td>150</td><td>2008-12-31</td><td>2008</td><td>12</td><td>31</td><td>20</td><td>4</td><td>1</td><td>4</td></tr><tr><td>151</td><td>2008-12-31</td><td>2008</td><td>12</td><td>31</td><td>22</td><td>4</td><td>1</td><td>4</td></tr><tr><td>152</td><td>2008-12-31</td><td>2008</td><td>12</td><td>31</td><td>23</td><td>4</td><td>1</td><td>4</td></tr><tr><td>153</td><td>2009-01-01</td><td>2009</td><td>1</td><td>1</td><td>0</td><td>5</td><td>1</td><td>1</td></tr><tr><td>154</td><td>2009-01-01</td><td>2009</td><td>1</td><td>1</td><td>1</td><td>5</td><td>1</td><td>1</td></tr><tr><td>155</td><td>2009-01-01</td><td>2009</td><td>1</td><td>1</td><td>2</td><td>5</td><td>1</td><td>1</td></tr><tr><td>156</td><td>2009-01-01</td><td>2009</td><td>1</td><td>1</td><td>3</td><td>5</td><td>1</td><td>1</td></tr><tr><td>157</td><td>2009-01-01</td><td>2009</td><td>1</td><td>1</td><td>4</td><td>5</td><td>1</td><td>1</td></tr><tr><td>158</td><td>2009-01-01</td><td>2009</td><td>1</td><td>1</td><td>5</td><td>5</td><td>1</td><td>1</td></tr><tr><td>159</td><td>2009-01-01</td><td>2009</td><td>1</td><td>1</td><td>6</td><td>5</td><td>1</td><td>1</td></tr><tr><td>160</td><td>2009-01-01</td><td>2009</td><td>1</td><td>1</td><td>7</td><td>5</td><td>1</td><td>1</td></tr><tr><td>161</td><td>2009-01-01</td><td>2009</td><td>1</td><td>1</td><td>8</td><td>5</td><td>1</td><td>1</td></tr><tr><td>162</td><td>2009-01-01</td><td>2009</td><td>1</td><td>1</td><td>9</td><td>5</td><td>1</td><td>1</td></tr><tr><td>163</td><td>2009-01-01</td><td>2009</td><td>1</td><td>1</td><td>10</td><td>5</td><td>1</td><td>1</td></tr><tr><td>164</td><td>2009-01-01</td><td>2009</td><td>1</td><td>1</td><td>11</td><td>5</td><td>1</td><td>1</td></tr><tr><td>165</td><td>2009-01-01</td><td>2009</td><td>1</td><td>1</td><td>12</td><td>5</td><td>1</td><td>1</td></tr><tr><td>166</td><td>2009-01-01</td><td>2009</td><td>1</td><td>1</td><td>14</td><td>5</td><td>1</td><td>1</td></tr><tr><td>167</td><td>2009-01-01</td><td>2009</td><td>1</td><td>1</td><td>15</td><td>5</td><td>1</td><td>1</td></tr><tr><td>168</td><td>2009-01-01</td><td>2009</td><td>1</td><td>1</td><td>16</td><td>5</td><td>1</td><td>1</td></tr><tr><td>169</td><td>2009-01-01</td><td>2009</td><td>1</td><td>1</td><td>17</td><td>5</td><td>1</td><td>1</td></tr><tr><td>170</td><td>2009-01-01</td><td>2009</td><td>1</td><td>1</td><td>18</td><td>5</td><td>1</td><td>1</td></tr><tr><td>171</td><td>2009-01-01</td><td>2009</td><td>1</td><td>1</td><td>19</td><td>5</td><td>1</td><td>1</td></tr><tr><td>172</td><td>2009-01-01</td><td>2009</td><td>1</td><td>1</td><td>20</td><td>5</td><td>1</td><td>1</td></tr><tr><td>173</td><td>2009-01-01</td><td>2009</td><td>1</td><td>1</td><td>21</td><td>5</td><td>1</td><td>1</td></tr><tr><td>174</td><td>2009-01-01</td><td>2009</td><td>1</td><td>1</td><td>22</td><td>5</td><td>1</td><td>1</td></tr><tr><td>175</td><td>2009-01-01</td><td>2009</td><td>1</td><td>1</td><td>23</td><td>5</td><td>1</td><td>1</td></tr><tr><td>176</td><td>2009-01-02</td><td>2009</td><td>1</td><td>2</td><td>0</td><td>6</td><td>1</td><td>1</td></tr><tr><td>177</td><td>2009-01-02</td><td>2009</td><td>1</td><td>2</td><td>1</td><td>6</td><td>1</td><td>1</td></tr><tr><td>178</td><td>2010-09-23</td><td>2010</td><td>9</td><td>23</td><td>0</td><td>5</td><td>38</td><td>3</td></tr><tr><td>179</td><td>2011-01-31</td><td>2011</td><td>1</td><td>31</td><td>23</td><td>2</td><td>5</td><td>1</td></tr><tr><td>180</td><td>2011-02-01</td><td>2011</td><td>2</td><td>1</td><td>0</td><td>3</td><td>5</td><td>1</td></tr><tr><td>181</td><td>2014-11-19</td><td>2014</td><td>11</td><td>19</td><td>8</td><td>4</td><td>47</td><td>4</td></tr><tr><td>182</td><td>2019-12-31</td><td>2019</td><td>12</td><td>31</td><td>13</td><td>3</td><td>1</td><td>4</td></tr><tr><td>183</td><td>2019-12-31</td><td>2019</td><td>12</td><td>31</td><td>14</td><td>3</td><td>1</td><td>4</td></tr><tr><td>184</td><td>2019-12-31</td><td>2019</td><td>12</td><td>31</td><td>15</td><td>3</td><td>1</td><td>4</td></tr><tr><td>185</td><td>2019-12-31</td><td>2019</td><td>12</td><td>31</td><td>16</td><td>3</td><td>1</td><td>4</td></tr><tr><td>186</td><td>2019-12-31</td><td>2019</td><td>12</td><td>31</td><td>17</td><td>3</td><td>1</td><td>4</td></tr><tr><td>187</td><td>2019-12-31</td><td>2019</td><td>12</td><td>31</td><td>18</td><td>3</td><td>1</td><td>4</td></tr><tr><td>188</td><td>2019-12-31</td><td>2019</td><td>12</td><td>31</td><td>19</td><td>3</td><td>1</td><td>4</td></tr><tr><td>189</td><td>2019-12-31</td><td>2019</td><td>12</td><td>31</td><td>20</td><td>3</td><td>1</td><td>4</td></tr><tr><td>190</td><td>2019-12-31</td><td>2019</td><td>12</td><td>31</td><td>21</td><td>3</td><td>1</td><td>4</td></tr><tr><td>191</td><td>2019-12-31</td><td>2019</td><td>12</td><td>31</td><td>22</td><td>3</td><td>1</td><td>4</td></tr><tr><td>192</td><td>2019-12-31</td><td>2019</td><td>12</td><td>31</td><td>23</td><td>3</td><td>1</td><td>4</td></tr></tbody></table></div>"
      ]
     },
     "metadata": {
      "application/vnd.databricks.v1+output": {
       "addedWidgets": {},
       "aggData": [],
       "aggError": "",
       "aggOverflow": false,
       "aggSchema": [],
       "aggSeriesLimitReached": false,
       "aggType": "",
       "arguments": {},
       "columnCustomDisplayInfos": {},
       "data": [
        [
         0,
         "2001-01-01",
         2001,
         1,
         1,
         0,
         2,
         1,
         1
        ],
        [
         1,
         "2001-01-01",
         2001,
         1,
         1,
         1,
         2,
         1,
         1
        ],
        [
         2,
         "2001-01-01",
         2001,
         1,
         1,
         15,
         2,
         1,
         1
        ],
        [
         3,
         "2001-08-23",
         2001,
         8,
         23,
         5,
         5,
         34,
         3
        ],
        [
         4,
         "2002-10-21",
         2002,
         10,
         21,
         0,
         2,
         43,
         4
        ],
        [
         5,
         "2002-10-21",
         2002,
         10,
         21,
         1,
         2,
         43,
         4
        ],
        [
         6,
         "2002-10-21",
         2002,
         10,
         21,
         5,
         2,
         43,
         4
        ],
        [
         7,
         "2002-10-21",
         2002,
         10,
         21,
         8,
         2,
         43,
         4
        ],
        [
         8,
         "2002-10-21",
         2002,
         10,
         21,
         9,
         2,
         43,
         4
        ],
        [
         9,
         "2002-10-21",
         2002,
         10,
         21,
         10,
         2,
         43,
         4
        ],
        [
         10,
         "2002-10-21",
         2002,
         10,
         21,
         11,
         2,
         43,
         4
        ],
        [
         11,
         "2002-10-21",
         2002,
         10,
         21,
         12,
         2,
         43,
         4
        ],
        [
         12,
         "2002-10-21",
         2002,
         10,
         21,
         13,
         2,
         43,
         4
        ],
        [
         13,
         "2002-10-21",
         2002,
         10,
         21,
         14,
         2,
         43,
         4
        ],
        [
         14,
         "2002-10-21",
         2002,
         10,
         21,
         15,
         2,
         43,
         4
        ],
        [
         15,
         "2002-10-21",
         2002,
         10,
         21,
         16,
         2,
         43,
         4
        ],
        [
         16,
         "2002-10-21",
         2002,
         10,
         21,
         18,
         2,
         43,
         4
        ],
        [
         17,
         "2002-10-21",
         2002,
         10,
         21,
         19,
         2,
         43,
         4
        ],
        [
         18,
         "2002-10-22",
         2002,
         10,
         22,
         7,
         3,
         43,
         4
        ],
        [
         19,
         "2002-10-22",
         2002,
         10,
         22,
         8,
         3,
         43,
         4
        ],
        [
         20,
         "2002-10-22",
         2002,
         10,
         22,
         9,
         3,
         43,
         4
        ],
        [
         21,
         "2002-10-22",
         2002,
         10,
         22,
         10,
         3,
         43,
         4
        ],
        [
         22,
         "2002-10-22",
         2002,
         10,
         22,
         11,
         3,
         43,
         4
        ],
        [
         23,
         "2002-10-22",
         2002,
         10,
         22,
         12,
         3,
         43,
         4
        ],
        [
         24,
         "2002-10-22",
         2002,
         10,
         22,
         13,
         3,
         43,
         4
        ],
        [
         25,
         "2002-10-22",
         2002,
         10,
         22,
         14,
         3,
         43,
         4
        ],
        [
         26,
         "2002-10-22",
         2002,
         10,
         22,
         15,
         3,
         43,
         4
        ],
        [
         27,
         "2002-10-22",
         2002,
         10,
         22,
         16,
         3,
         43,
         4
        ],
        [
         28,
         "2002-10-22",
         2002,
         10,
         22,
         17,
         3,
         43,
         4
        ],
        [
         29,
         "2002-10-22",
         2002,
         10,
         22,
         18,
         3,
         43,
         4
        ],
        [
         30,
         "2002-10-22",
         2002,
         10,
         22,
         19,
         3,
         43,
         4
        ],
        [
         31,
         "2002-10-22",
         2002,
         10,
         22,
         20,
         3,
         43,
         4
        ],
        [
         32,
         "2002-10-22",
         2002,
         10,
         22,
         21,
         3,
         43,
         4
        ],
        [
         33,
         "2002-10-22",
         2002,
         10,
         22,
         22,
         3,
         43,
         4
        ],
        [
         34,
         "2002-10-22",
         2002,
         10,
         22,
         23,
         3,
         43,
         4
        ],
        [
         35,
         "2002-10-23",
         2002,
         10,
         23,
         0,
         4,
         43,
         4
        ],
        [
         36,
         "2002-10-23",
         2002,
         10,
         23,
         4,
         4,
         43,
         4
        ],
        [
         37,
         "2002-10-23",
         2002,
         10,
         23,
         7,
         4,
         43,
         4
        ],
        [
         38,
         "2002-10-23",
         2002,
         10,
         23,
         8,
         4,
         43,
         4
        ],
        [
         39,
         "2002-10-23",
         2002,
         10,
         23,
         9,
         4,
         43,
         4
        ],
        [
         40,
         "2002-10-23",
         2002,
         10,
         23,
         10,
         4,
         43,
         4
        ],
        [
         41,
         "2002-10-23",
         2002,
         10,
         23,
         12,
         4,
         43,
         4
        ],
        [
         42,
         "2002-10-23",
         2002,
         10,
         23,
         13,
         4,
         43,
         4
        ],
        [
         43,
         "2002-10-23",
         2002,
         10,
         23,
         14,
         4,
         43,
         4
        ],
        [
         44,
         "2002-10-23",
         2002,
         10,
         23,
         15,
         4,
         43,
         4
        ],
        [
         45,
         "2002-10-23",
         2002,
         10,
         23,
         16,
         4,
         43,
         4
        ],
        [
         46,
         "2002-10-23",
         2002,
         10,
         23,
         18,
         4,
         43,
         4
        ],
        [
         47,
         "2002-10-23",
         2002,
         10,
         23,
         20,
         4,
         43,
         4
        ],
        [
         48,
         "2002-10-23",
         2002,
         10,
         23,
         21,
         4,
         43,
         4
        ],
        [
         49,
         "2002-10-23",
         2002,
         10,
         23,
         22,
         4,
         43,
         4
        ],
        [
         50,
         "2002-10-23",
         2002,
         10,
         23,
         23,
         4,
         43,
         4
        ],
        [
         51,
         "2002-10-24",
         2002,
         10,
         24,
         0,
         5,
         43,
         4
        ],
        [
         52,
         "2002-10-24",
         2002,
         10,
         24,
         5,
         5,
         43,
         4
        ],
        [
         53,
         "2002-10-24",
         2002,
         10,
         24,
         8,
         5,
         43,
         4
        ],
        [
         54,
         "2002-10-24",
         2002,
         10,
         24,
         9,
         5,
         43,
         4
        ],
        [
         55,
         "2002-10-24",
         2002,
         10,
         24,
         10,
         5,
         43,
         4
        ],
        [
         56,
         "2002-10-24",
         2002,
         10,
         24,
         11,
         5,
         43,
         4
        ],
        [
         57,
         "2002-10-24",
         2002,
         10,
         24,
         12,
         5,
         43,
         4
        ],
        [
         58,
         "2002-10-24",
         2002,
         10,
         24,
         13,
         5,
         43,
         4
        ],
        [
         59,
         "2002-10-24",
         2002,
         10,
         24,
         14,
         5,
         43,
         4
        ],
        [
         60,
         "2002-10-24",
         2002,
         10,
         24,
         15,
         5,
         43,
         4
        ],
        [
         61,
         "2002-10-24",
         2002,
         10,
         24,
         16,
         5,
         43,
         4
        ],
        [
         62,
         "2002-10-24",
         2002,
         10,
         24,
         17,
         5,
         43,
         4
        ],
        [
         63,
         "2002-10-24",
         2002,
         10,
         24,
         18,
         5,
         43,
         4
        ],
        [
         64,
         "2002-10-24",
         2002,
         10,
         24,
         19,
         5,
         43,
         4
        ],
        [
         65,
         "2002-10-24",
         2002,
         10,
         24,
         21,
         5,
         43,
         4
        ],
        [
         66,
         "2002-10-24",
         2002,
         10,
         24,
         22,
         5,
         43,
         4
        ],
        [
         67,
         "2002-10-24",
         2002,
         10,
         24,
         23,
         5,
         43,
         4
        ],
        [
         68,
         "2002-10-25",
         2002,
         10,
         25,
         0,
         6,
         43,
         4
        ],
        [
         69,
         "2002-10-25",
         2002,
         10,
         25,
         7,
         6,
         43,
         4
        ],
        [
         70,
         "2002-10-25",
         2002,
         10,
         25,
         8,
         6,
         43,
         4
        ],
        [
         71,
         "2002-10-25",
         2002,
         10,
         25,
         9,
         6,
         43,
         4
        ],
        [
         72,
         "2002-10-25",
         2002,
         10,
         25,
         10,
         6,
         43,
         4
        ],
        [
         73,
         "2002-10-25",
         2002,
         10,
         25,
         11,
         6,
         43,
         4
        ],
        [
         74,
         "2002-10-25",
         2002,
         10,
         25,
         12,
         6,
         43,
         4
        ],
        [
         75,
         "2002-10-25",
         2002,
         10,
         25,
         13,
         6,
         43,
         4
        ],
        [
         76,
         "2002-10-25",
         2002,
         10,
         25,
         14,
         6,
         43,
         4
        ],
        [
         77,
         "2002-10-25",
         2002,
         10,
         25,
         15,
         6,
         43,
         4
        ],
        [
         78,
         "2002-10-25",
         2002,
         10,
         25,
         16,
         6,
         43,
         4
        ],
        [
         79,
         "2002-10-25",
         2002,
         10,
         25,
         17,
         6,
         43,
         4
        ],
        [
         80,
         "2002-10-25",
         2002,
         10,
         25,
         18,
         6,
         43,
         4
        ],
        [
         81,
         "2002-10-25",
         2002,
         10,
         25,
         21,
         6,
         43,
         4
        ],
        [
         82,
         "2002-10-25",
         2002,
         10,
         25,
         22,
         6,
         43,
         4
        ],
        [
         83,
         "2002-10-25",
         2002,
         10,
         25,
         23,
         6,
         43,
         4
        ],
        [
         84,
         "2002-10-26",
         2002,
         10,
         26,
         2,
         7,
         43,
         4
        ],
        [
         85,
         "2002-10-26",
         2002,
         10,
         26,
         5,
         7,
         43,
         4
        ],
        [
         86,
         "2002-10-26",
         2002,
         10,
         26,
         7,
         7,
         43,
         4
        ],
        [
         87,
         "2002-10-26",
         2002,
         10,
         26,
         9,
         7,
         43,
         4
        ],
        [
         88,
         "2002-10-26",
         2002,
         10,
         26,
         10,
         7,
         43,
         4
        ],
        [
         89,
         "2002-10-26",
         2002,
         10,
         26,
         11,
         7,
         43,
         4
        ],
        [
         90,
         "2002-10-26",
         2002,
         10,
         26,
         12,
         7,
         43,
         4
        ],
        [
         91,
         "2002-10-26",
         2002,
         10,
         26,
         14,
         7,
         43,
         4
        ],
        [
         92,
         "2002-10-26",
         2002,
         10,
         26,
         15,
         7,
         43,
         4
        ],
        [
         93,
         "2002-10-26",
         2002,
         10,
         26,
         16,
         7,
         43,
         4
        ],
        [
         94,
         "2002-10-26",
         2002,
         10,
         26,
         17,
         7,
         43,
         4
        ],
        [
         95,
         "2002-10-26",
         2002,
         10,
         26,
         18,
         7,
         43,
         4
        ],
        [
         96,
         "2002-10-26",
         2002,
         10,
         26,
         20,
         7,
         43,
         4
        ],
        [
         97,
         "2002-10-26",
         2002,
         10,
         26,
         21,
         7,
         43,
         4
        ],
        [
         98,
         "2002-10-26",
         2002,
         10,
         26,
         22,
         7,
         43,
         4
        ],
        [
         99,
         "2002-10-26",
         2002,
         10,
         26,
         23,
         7,
         43,
         4
        ],
        [
         100,
         "2002-10-27",
         2002,
         10,
         27,
         0,
         1,
         43,
         4
        ],
        [
         101,
         "2002-10-27",
         2002,
         10,
         27,
         1,
         1,
         43,
         4
        ],
        [
         102,
         "2002-10-27",
         2002,
         10,
         27,
         2,
         1,
         43,
         4
        ],
        [
         103,
         "2002-10-27",
         2002,
         10,
         27,
         3,
         1,
         43,
         4
        ],
        [
         104,
         "2002-10-27",
         2002,
         10,
         27,
         4,
         1,
         43,
         4
        ],
        [
         105,
         "2002-10-27",
         2002,
         10,
         27,
         5,
         1,
         43,
         4
        ],
        [
         106,
         "2002-10-27",
         2002,
         10,
         27,
         7,
         1,
         43,
         4
        ],
        [
         107,
         "2002-10-27",
         2002,
         10,
         27,
         8,
         1,
         43,
         4
        ],
        [
         108,
         "2002-10-27",
         2002,
         10,
         27,
         9,
         1,
         43,
         4
        ],
        [
         109,
         "2002-10-27",
         2002,
         10,
         27,
         10,
         1,
         43,
         4
        ],
        [
         110,
         "2002-10-27",
         2002,
         10,
         27,
         12,
         1,
         43,
         4
        ],
        [
         111,
         "2002-10-27",
         2002,
         10,
         27,
         13,
         1,
         43,
         4
        ],
        [
         112,
         "2002-10-27",
         2002,
         10,
         27,
         14,
         1,
         43,
         4
        ],
        [
         113,
         "2002-10-27",
         2002,
         10,
         27,
         15,
         1,
         43,
         4
        ],
        [
         114,
         "2002-10-27",
         2002,
         10,
         27,
         16,
         1,
         43,
         4
        ],
        [
         115,
         "2002-10-27",
         2002,
         10,
         27,
         17,
         1,
         43,
         4
        ],
        [
         116,
         "2002-10-27",
         2002,
         10,
         27,
         18,
         1,
         43,
         4
        ],
        [
         117,
         "2002-10-27",
         2002,
         10,
         27,
         19,
         1,
         43,
         4
        ],
        [
         118,
         "2002-10-27",
         2002,
         10,
         27,
         20,
         1,
         43,
         4
        ],
        [
         119,
         "2002-10-27",
         2002,
         10,
         27,
         21,
         1,
         43,
         4
        ],
        [
         120,
         "2002-10-27",
         2002,
         10,
         27,
         22,
         1,
         43,
         4
        ],
        [
         121,
         "2002-10-28",
         2002,
         10,
         28,
         1,
         2,
         44,
         4
        ],
        [
         122,
         "2002-10-28",
         2002,
         10,
         28,
         3,
         2,
         44,
         4
        ],
        [
         123,
         "2002-10-28",
         2002,
         10,
         28,
         4,
         2,
         44,
         4
        ],
        [
         124,
         "2002-10-28",
         2002,
         10,
         28,
         5,
         2,
         44,
         4
        ],
        [
         125,
         "2002-10-28",
         2002,
         10,
         28,
         6,
         2,
         44,
         4
        ],
        [
         126,
         "2002-10-28",
         2002,
         10,
         28,
         8,
         2,
         44,
         4
        ],
        [
         127,
         "2002-10-28",
         2002,
         10,
         28,
         9,
         2,
         44,
         4
        ],
        [
         128,
         "2002-10-28",
         2002,
         10,
         28,
         10,
         2,
         44,
         4
        ],
        [
         129,
         "2002-10-28",
         2002,
         10,
         28,
         11,
         2,
         44,
         4
        ],
        [
         130,
         "2002-10-28",
         2002,
         10,
         28,
         13,
         2,
         44,
         4
        ],
        [
         131,
         "2002-10-28",
         2002,
         10,
         28,
         14,
         2,
         44,
         4
        ],
        [
         132,
         "2002-10-28",
         2002,
         10,
         28,
         15,
         2,
         44,
         4
        ],
        [
         133,
         "2002-12-31",
         2002,
         12,
         31,
         16,
         3,
         1,
         4
        ],
        [
         134,
         "2002-12-31",
         2002,
         12,
         31,
         22,
         3,
         1,
         4
        ],
        [
         135,
         "2002-12-31",
         2002,
         12,
         31,
         23,
         3,
         1,
         4
        ],
        [
         136,
         "2003-01-01",
         2003,
         1,
         1,
         0,
         4,
         1,
         1
        ],
        [
         137,
         "2003-01-01",
         2003,
         1,
         1,
         1,
         4,
         1,
         1
        ],
        [
         138,
         "2003-01-01",
         2003,
         1,
         1,
         2,
         4,
         1,
         1
        ],
        [
         139,
         "2003-01-01",
         2003,
         1,
         1,
         4,
         4,
         1,
         1
        ],
        [
         140,
         "2004-04-04",
         2004,
         4,
         4,
         4,
         1,
         14,
         2
        ],
        [
         141,
         "2007-12-05",
         2007,
         12,
         5,
         18,
         4,
         49,
         4
        ],
        [
         142,
         "2008-12-31",
         2008,
         12,
         31,
         0,
         4,
         1,
         4
        ],
        [
         143,
         "2008-12-31",
         2008,
         12,
         31,
         10,
         4,
         1,
         4
        ],
        [
         144,
         "2008-12-31",
         2008,
         12,
         31,
         13,
         4,
         1,
         4
        ],
        [
         145,
         "2008-12-31",
         2008,
         12,
         31,
         14,
         4,
         1,
         4
        ],
        [
         146,
         "2008-12-31",
         2008,
         12,
         31,
         15,
         4,
         1,
         4
        ],
        [
         147,
         "2008-12-31",
         2008,
         12,
         31,
         16,
         4,
         1,
         4
        ],
        [
         148,
         "2008-12-31",
         2008,
         12,
         31,
         17,
         4,
         1,
         4
        ],
        [
         149,
         "2008-12-31",
         2008,
         12,
         31,
         19,
         4,
         1,
         4
        ],
        [
         150,
         "2008-12-31",
         2008,
         12,
         31,
         20,
         4,
         1,
         4
        ],
        [
         151,
         "2008-12-31",
         2008,
         12,
         31,
         22,
         4,
         1,
         4
        ],
        [
         152,
         "2008-12-31",
         2008,
         12,
         31,
         23,
         4,
         1,
         4
        ],
        [
         153,
         "2009-01-01",
         2009,
         1,
         1,
         0,
         5,
         1,
         1
        ],
        [
         154,
         "2009-01-01",
         2009,
         1,
         1,
         1,
         5,
         1,
         1
        ],
        [
         155,
         "2009-01-01",
         2009,
         1,
         1,
         2,
         5,
         1,
         1
        ],
        [
         156,
         "2009-01-01",
         2009,
         1,
         1,
         3,
         5,
         1,
         1
        ],
        [
         157,
         "2009-01-01",
         2009,
         1,
         1,
         4,
         5,
         1,
         1
        ],
        [
         158,
         "2009-01-01",
         2009,
         1,
         1,
         5,
         5,
         1,
         1
        ],
        [
         159,
         "2009-01-01",
         2009,
         1,
         1,
         6,
         5,
         1,
         1
        ],
        [
         160,
         "2009-01-01",
         2009,
         1,
         1,
         7,
         5,
         1,
         1
        ],
        [
         161,
         "2009-01-01",
         2009,
         1,
         1,
         8,
         5,
         1,
         1
        ],
        [
         162,
         "2009-01-01",
         2009,
         1,
         1,
         9,
         5,
         1,
         1
        ],
        [
         163,
         "2009-01-01",
         2009,
         1,
         1,
         10,
         5,
         1,
         1
        ],
        [
         164,
         "2009-01-01",
         2009,
         1,
         1,
         11,
         5,
         1,
         1
        ],
        [
         165,
         "2009-01-01",
         2009,
         1,
         1,
         12,
         5,
         1,
         1
        ],
        [
         166,
         "2009-01-01",
         2009,
         1,
         1,
         14,
         5,
         1,
         1
        ],
        [
         167,
         "2009-01-01",
         2009,
         1,
         1,
         15,
         5,
         1,
         1
        ],
        [
         168,
         "2009-01-01",
         2009,
         1,
         1,
         16,
         5,
         1,
         1
        ],
        [
         169,
         "2009-01-01",
         2009,
         1,
         1,
         17,
         5,
         1,
         1
        ],
        [
         170,
         "2009-01-01",
         2009,
         1,
         1,
         18,
         5,
         1,
         1
        ],
        [
         171,
         "2009-01-01",
         2009,
         1,
         1,
         19,
         5,
         1,
         1
        ],
        [
         172,
         "2009-01-01",
         2009,
         1,
         1,
         20,
         5,
         1,
         1
        ],
        [
         173,
         "2009-01-01",
         2009,
         1,
         1,
         21,
         5,
         1,
         1
        ],
        [
         174,
         "2009-01-01",
         2009,
         1,
         1,
         22,
         5,
         1,
         1
        ],
        [
         175,
         "2009-01-01",
         2009,
         1,
         1,
         23,
         5,
         1,
         1
        ],
        [
         176,
         "2009-01-02",
         2009,
         1,
         2,
         0,
         6,
         1,
         1
        ],
        [
         177,
         "2009-01-02",
         2009,
         1,
         2,
         1,
         6,
         1,
         1
        ],
        [
         178,
         "2010-09-23",
         2010,
         9,
         23,
         0,
         5,
         38,
         3
        ],
        [
         179,
         "2011-01-31",
         2011,
         1,
         31,
         23,
         2,
         5,
         1
        ],
        [
         180,
         "2011-02-01",
         2011,
         2,
         1,
         0,
         3,
         5,
         1
        ],
        [
         181,
         "2014-11-19",
         2014,
         11,
         19,
         8,
         4,
         47,
         4
        ],
        [
         182,
         "2019-12-31",
         2019,
         12,
         31,
         13,
         3,
         1,
         4
        ],
        [
         183,
         "2019-12-31",
         2019,
         12,
         31,
         14,
         3,
         1,
         4
        ],
        [
         184,
         "2019-12-31",
         2019,
         12,
         31,
         15,
         3,
         1,
         4
        ],
        [
         185,
         "2019-12-31",
         2019,
         12,
         31,
         16,
         3,
         1,
         4
        ],
        [
         186,
         "2019-12-31",
         2019,
         12,
         31,
         17,
         3,
         1,
         4
        ],
        [
         187,
         "2019-12-31",
         2019,
         12,
         31,
         18,
         3,
         1,
         4
        ],
        [
         188,
         "2019-12-31",
         2019,
         12,
         31,
         19,
         3,
         1,
         4
        ],
        [
         189,
         "2019-12-31",
         2019,
         12,
         31,
         20,
         3,
         1,
         4
        ],
        [
         190,
         "2019-12-31",
         2019,
         12,
         31,
         21,
         3,
         1,
         4
        ],
        [
         191,
         "2019-12-31",
         2019,
         12,
         31,
         22,
         3,
         1,
         4
        ],
        [
         192,
         "2019-12-31",
         2019,
         12,
         31,
         23,
         3,
         1,
         4
        ]
       ],
       "datasetInfos": [],
       "dbfsResultPath": null,
       "isJsonSchema": true,
       "metadata": {},
       "overflow": false,
       "plotOptions": {
        "customPlotOptions": {},
        "displayType": "table",
        "pivotAggregation": null,
        "pivotColumns": null,
        "xColumns": null,
        "yColumns": null
       },
       "removedWidgets": [],
       "schema": [
        {
         "metadata": "{}",
         "name": "calendar_id",
         "type": "\"long\""
        },
        {
         "metadata": "{}",
         "name": "date",
         "type": "\"date\""
        },
        {
         "metadata": "{}",
         "name": "year",
         "type": "\"integer\""
        },
        {
         "metadata": "{}",
         "name": "month",
         "type": "\"integer\""
        },
        {
         "metadata": "{}",
         "name": "day",
         "type": "\"integer\""
        },
        {
         "metadata": "{}",
         "name": "hour",
         "type": "\"integer\""
        },
        {
         "metadata": "{}",
         "name": "weekday",
         "type": "\"integer\""
        },
        {
         "metadata": "{}",
         "name": "week_of_year",
         "type": "\"integer\""
        },
        {
         "metadata": "{}",
         "name": "quarter",
         "type": "\"integer\""
        }
       ],
       "type": "table"
      }
     },
     "output_type": "display_data"
    }
   ],
   "source": [
    "dim_calendar = spark.read.format(\"delta\").load(f\"{GOLD_BASE}/dim_calendar\")\n",
    "display(dim_calendar.filter(dim_calendar[\"year\"] < 2020))"
   ]
  },
  {
   "cell_type": "code",
   "execution_count": 0,
   "metadata": {
    "application/vnd.databricks.v1+cell": {
     "cellMetadata": {
      "byteLimit": 2048000,
      "rowLimit": 10000
     },
     "inputWidgets": {},
     "nuid": "8af0f025-f4c4-46b9-a368-9673513f07c3",
     "showTitle": false,
     "tableResultSettingsMap": {},
     "title": ""
    }
   },
   "outputs": [],
   "source": [
    "zones_df = spark.read.csv(\"/Volumes/workspace/default/nyc_taxi/reference/taxi_zone_lookup.csv\", header=True, inferSchema=True)\n",
    "zones_df = (\n",
    "    zones_df \n",
    "    .withColumnRenamed(\"LocationID\", \"location_id\")\n",
    "    .withColumnRenamed(\"Borough\", \"borough\")\n",
    "    .withColumnRenamed(\"Zone\", \"zone\")\n",
    ")\n",
    "# zones_df.display()\n",
    "\n",
    "# zones_df.write.format(\"delta\").mode(\"overwrite\").save(f\"{GOLD_BASE}/dim_location\")"
   ]
  },
  {
   "cell_type": "code",
   "execution_count": 0,
   "metadata": {
    "application/vnd.databricks.v1+cell": {
     "cellMetadata": {
      "byteLimit": 2048000,
      "rowLimit": 10000
     },
     "inputWidgets": {},
     "nuid": "e5c626f7-f769-4c76-b732-91e354303420",
     "showTitle": false,
     "tableResultSettingsMap": {},
     "title": ""
    }
   },
   "outputs": [
    {
     "name": "stdout",
     "output_type": "stream",
     "text": [
      "+-----------+-------------+--------------------+------------+\n",
      "|location_id|      borough|                zone|service_zone|\n",
      "+-----------+-------------+--------------------+------------+\n",
      "|          1|          EWR|      Newark Airport|         EWR|\n",
      "|          2|       Queens|         Jamaica Bay|   Boro Zone|\n",
      "|          3|        Bronx|Allerton/Pelham G...|   Boro Zone|\n",
      "|          4|    Manhattan|       Alphabet City| Yellow Zone|\n",
      "|          5|Staten Island|       Arden Heights|   Boro Zone|\n",
      "+-----------+-------------+--------------------+------------+\n",
      "only showing top 5 rows\n"
     ]
    }
   ],
   "source": [
    "dim_location = spark.read.format(\"delta\").load(f\"{GOLD_BASE}/dim_location\")\n",
    "dim_location.show(5)"
   ]
  },
  {
   "cell_type": "code",
   "execution_count": 0,
   "metadata": {
    "application/vnd.databricks.v1+cell": {
     "cellMetadata": {
      "byteLimit": 2048000,
      "rowLimit": 10000
     },
     "inputWidgets": {},
     "nuid": "bebb3e55-0342-4951-8176-a47ea9c1142d",
     "showTitle": false,
     "tableResultSettingsMap": {
      "0": {
       "dataGridStateBlob": "{\"version\":1,\"tableState\":{\"columnPinning\":{\"left\":[\"#row_number#\"],\"right\":[]},\"columnSizing\":{},\"columnVisibility\":{}},\"settings\":{\"columns\":{}},\"syncTimestamp\":1756365669224}",
       "filterBlob": null,
       "queryPlanFiltersBlob": null,
       "tableResultIndex": 0
      }
     },
     "title": ""
    }
   },
   "outputs": [
    {
     "data": {
      "text/html": [
       "<style scoped>\n",
       "  .table-result-container {\n",
       "    max-height: 300px;\n",
       "    overflow: auto;\n",
       "  }\n",
       "  table, th, td {\n",
       "    border: 1px solid black;\n",
       "    border-collapse: collapse;\n",
       "  }\n",
       "  th, td {\n",
       "    padding: 5px;\n",
       "  }\n",
       "  th {\n",
       "    text-align: left;\n",
       "  }\n",
       "</style><div class='table-result-container'><table class='table-result'><thead style='background-color: white'><tr><th>vendor_code_key</th><th>trip_type</th><th>vendor_id</th></tr></thead><tbody><tr><td>2</td><td>taxi</td><td>0</td></tr><tr><td>6</td><td>taxi</td><td>1</td></tr><tr><td>5</td><td>taxi</td><td>2</td></tr><tr><td>1</td><td>taxi</td><td>3</td></tr><tr><td>B01663</td><td>fhv</td><td>4</td></tr><tr><td>B00608</td><td>fhv</td><td>5</td></tr><tr><td>B03417</td><td>fhv</td><td>6</td></tr><tr><td>B02852</td><td>fhv</td><td>7</td></tr><tr><td>B02770</td><td>fhv</td><td>8</td></tr><tr><td>B03309</td><td>fhv</td><td>9</td></tr><tr><td>B00235</td><td>fhv</td><td>10</td></tr><tr><td>B02287</td><td>fhv</td><td>11</td></tr><tr><td>B00225</td><td>fhv</td><td>12</td></tr><tr><td>B03229</td><td>fhv</td><td>13</td></tr><tr><td>B03276</td><td>fhv</td><td>14</td></tr><tr><td>B01413</td><td>fhv</td><td>15</td></tr><tr><td>B03028</td><td>fhv</td><td>16</td></tr><tr><td>B00906</td><td>fhv</td><td>17</td></tr><tr><td>B03349</td><td>fhv</td><td>18</td></tr><tr><td>B00448</td><td>fhv</td><td>19</td></tr><tr><td>B03315</td><td>fhv</td><td>20</td></tr><tr><td>B00149</td><td>fhv</td><td>21</td></tr><tr><td>B00445</td><td>fhv</td><td>22</td></tr><tr><td>B01268</td><td>fhv</td><td>23</td></tr><tr><td>B02655</td><td>fhv</td><td>24</td></tr><tr><td>B03455</td><td>fhv</td><td>25</td></tr><tr><td>B00014</td><td>fhv</td><td>26</td></tr><tr><td>B01768</td><td>fhv</td><td>27</td></tr><tr><td>B01913</td><td>fhv</td><td>28</td></tr><tr><td>B02719</td><td>fhv</td><td>29</td></tr><tr><td>B02331</td><td>fhv</td><td>30</td></tr><tr><td>B02814</td><td>fhv</td><td>31</td></tr><tr><td>B00652</td><td>fhv</td><td>32</td></tr><tr><td>B02658</td><td>fhv</td><td>33</td></tr><tr><td>B01492</td><td>fhv</td><td>34</td></tr><tr><td>B02975</td><td>fhv</td><td>35</td></tr><tr><td>B03282</td><td>fhv</td><td>36</td></tr><tr><td>B00208</td><td>fhv</td><td>37</td></tr><tr><td>B01338</td><td>fhv</td><td>38</td></tr><tr><td>B02311</td><td>fhv</td><td>39</td></tr><tr><td>B01546</td><td>fhv</td><td>40</td></tr><tr><td>B02868</td><td>fhv</td><td>41</td></tr><tr><td>B00860</td><td>fhv</td><td>42</td></tr><tr><td>B01730</td><td>fhv</td><td>43</td></tr><tr><td>B02120</td><td>fhv</td><td>44</td></tr><tr><td>B02163</td><td>fhv</td><td>45</td></tr><tr><td>B02998</td><td>fhv</td><td>46</td></tr><tr><td>B03126</td><td>fhv</td><td>47</td></tr><tr><td>B01346</td><td>fhv</td><td>48</td></tr><tr><td>B01593</td><td>fhv</td><td>49</td></tr><tr><td>B01928</td><td>fhv</td><td>50</td></tr><tr><td>B00112</td><td>fhv</td><td>51</td></tr><tr><td>B03199</td><td>fhv</td><td>52</td></tr><tr><td>B01970</td><td>fhv</td><td>53</td></tr><tr><td>B00196</td><td>fhv</td><td>54</td></tr><tr><td>B00227</td><td>fhv</td><td>55</td></tr><tr><td>B03326</td><td>fhv</td><td>56</td></tr><tr><td>B01777</td><td>fhv</td><td>57</td></tr><tr><td>B01606</td><td>fhv</td><td>58</td></tr><tr><td>B02517</td><td>fhv</td><td>59</td></tr><tr><td>B03038</td><td>fhv</td><td>60</td></tr><tr><td>B01745</td><td>fhv</td><td>61</td></tr><tr><td>B01083</td><td>fhv</td><td>62</td></tr><tr><td>B01616</td><td>fhv</td><td>63</td></tr><tr><td>B00151</td><td>fhv</td><td>64</td></tr><tr><td>B00628</td><td>fhv</td><td>65</td></tr><tr><td>B03254</td><td>fhv</td><td>66</td></tr><tr><td>B02067</td><td>fhv</td><td>67</td></tr><tr><td>B03292</td><td>fhv</td><td>68</td></tr><tr><td>B00457</td><td>fhv</td><td>69</td></tr><tr><td>B03263</td><td>fhv</td><td>70</td></tr><tr><td>B03233</td><td>fhv</td><td>71</td></tr><tr><td>B00095</td><td>fhv</td><td>72</td></tr><tr><td>B02942</td><td>fhv</td><td>73</td></tr><tr><td>B03030</td><td>fhv</td><td>74</td></tr><tr><td>B03436</td><td>fhv</td><td>75</td></tr><tr><td>B00477</td><td>fhv</td><td>76</td></tr><tr><td>B02406</td><td>fhv</td><td>77</td></tr><tr><td>B01710</td><td>fhv</td><td>78</td></tr><tr><td>B03330</td><td>fhv</td><td>79</td></tr><tr><td>B02962</td><td>fhv</td><td>80</td></tr><tr><td>B01843</td><td>fhv</td><td>81</td></tr><tr><td>B02127</td><td>fhv</td><td>82</td></tr><tr><td>B02173</td><td>fhv</td><td>83</td></tr><tr><td>B02687</td><td>fhv</td><td>84</td></tr><tr><td>B02990</td><td>fhv</td><td>85</td></tr><tr><td>B01553</td><td>fhv</td><td>86</td></tr><tr><td>B00948</td><td>fhv</td><td>87</td></tr><tr><td>B03158</td><td>fhv</td><td>88</td></tr><tr><td>B02902</td><td>fhv</td><td>89</td></tr><tr><td>B01306</td><td>fhv</td><td>90</td></tr><tr><td>b02594</td><td>fhv</td><td>91</td></tr><tr><td>B01482</td><td>fhv</td><td>92</td></tr><tr><td>B01273</td><td>fhv</td><td>93</td></tr><tr><td>B01938</td><td>fhv</td><td>94</td></tr><tr><td>B02228</td><td>fhv</td><td>95</td></tr><tr><td>B03314</td><td>fhv</td><td>96</td></tr><tr><td>B03402</td><td>fhv</td><td>97</td></tr><tr><td>B02546</td><td>fhv</td><td>98</td></tr><tr><td>B02731</td><td>fhv</td><td>99</td></tr><tr><td>B03269</td><td>fhv</td><td>100</td></tr><tr><td>B03147</td><td>fhv</td><td>101</td></tr><tr><td>B02334</td><td>fhv</td><td>102</td></tr><tr><td>B02760</td><td>fhv</td><td>103</td></tr><tr><td>B02674</td><td>fhv</td><td>104</td></tr><tr><td>B02917</td><td>fhv</td><td>105</td></tr><tr><td>B01436</td><td>fhv</td><td>106</td></tr><tr><td>B02846</td><td>fhv</td><td>107</td></tr><tr><td>B02563</td><td>fhv</td><td>108</td></tr><tr><td>B00221</td><td>fhv</td><td>109</td></tr><tr><td>B03156</td><td>fhv</td><td>110</td></tr><tr><td>B03050</td><td>fhv</td><td>111</td></tr><tr><td>B01743</td><td>fhv</td><td>112</td></tr><tr><td>B00429</td><td>fhv</td><td>113</td></tr><tr><td>B01349</td><td>fhv</td><td>114</td></tr><tr><td>B02968</td><td>fhv</td><td>115</td></tr><tr><td>B01779</td><td>fhv</td><td>116</td></tr><tr><td>B00531</td><td>fhv</td><td>117</td></tr><tr><td>B01066</td><td>fhv</td><td>118</td></tr><tr><td>B02898</td><td>fhv</td><td>119</td></tr><tr><td>B03424</td><td>fhv</td><td>120</td></tr><tr><td>B02972</td><td>fhv</td><td>121</td></tr><tr><td>B03032</td><td>fhv</td><td>122</td></tr><tr><td>B03138</td><td>fhv</td><td>123</td></tr><tr><td>B03041</td><td>fhv</td><td>124</td></tr><tr><td>B02096</td><td>fhv</td><td>125</td></tr><tr><td>B01215</td><td>fhv</td><td>126</td></tr><tr><td>B00381</td><td>fhv</td><td>127</td></tr><tr><td>B02664</td><td>fhv</td><td>128</td></tr><tr><td>B03287</td><td>fhv</td><td>129</td></tr><tr><td>B00972</td><td>fhv</td><td>130</td></tr><tr><td>B01391</td><td>fhv</td><td>131</td></tr><tr><td>B03303</td><td>fhv</td><td>132</td></tr><tr><td>B00449</td><td>fhv</td><td>133</td></tr><tr><td>B02738</td><td>fhv</td><td>134</td></tr><tr><td>B01081</td><td>fhv</td><td>135</td></tr><tr><td>B02342</td><td>fhv</td><td>136</td></tr><tr><td>B00837</td><td>fhv</td><td>137</td></tr><tr><td>B01057</td><td>fhv</td><td>138</td></tr><tr><td>B01362</td><td>fhv</td><td>139</td></tr><tr><td>B03016</td><td>fhv</td><td>140</td></tr><tr><td>B02855</td><td>fhv</td><td>141</td></tr><tr><td>B02301</td><td>fhv</td><td>142</td></tr><tr><td>B01536</td><td>fhv</td><td>143</td></tr><tr><td>B02739</td><td>fhv</td><td>144</td></tr><tr><td>B03057</td><td>fhv</td><td>145</td></tr><tr><td>B01061</td><td>fhv</td><td>146</td></tr><tr><td>B01527</td><td>fhv</td><td>147</td></tr><tr><td>B03113</td><td>fhv</td><td>148</td></tr><tr><td>B02424</td><td>fhv</td><td>149</td></tr><tr><td>B02095</td><td>fhv</td><td>150</td></tr><tr><td>B03391</td><td>fhv</td><td>151</td></tr><tr><td>B00625</td><td>fhv</td><td>152</td></tr><tr><td>B03248</td><td>fhv</td><td>153</td></tr><tr><td>B03240</td><td>fhv</td><td>154</td></tr><tr><td>B02522</td><td>fhv</td><td>155</td></tr><tr><td>B00277</td><td>fhv</td><td>156</td></tr><tr><td>B02803</td><td>fhv</td><td>157</td></tr><tr><td>B01470</td><td>fhv</td><td>158</td></tr><tr><td>B00345</td><td>fhv</td><td>159</td></tr><tr><td>B02819</td><td>fhv</td><td>160</td></tr><tr><td>B01183</td><td>fhv</td><td>161</td></tr><tr><td>B01854</td><td>fhv</td><td>162</td></tr><tr><td>B01406</td><td>fhv</td><td>163</td></tr><tr><td>B02989</td><td>fhv</td><td>164</td></tr><tr><td>B01009</td><td>fhv</td><td>165</td></tr><tr><td>B03177</td><td>fhv</td><td>166</td></tr><tr><td>B01678</td><td>fhv</td><td>167</td></tr><tr><td>B02292</td><td>fhv</td><td>168</td></tr><tr><td>B01020</td><td>fhv</td><td>169</td></tr><tr><td>B02728</td><td>fhv</td><td>170</td></tr><tr><td>B02429</td><td>fhv</td><td>171</td></tr><tr><td>B03171</td><td>fhv</td><td>172</td></tr><tr><td>B02784</td><td>fhv</td><td>173</td></tr><tr><td>B03191</td><td>fhv</td><td>174</td></tr><tr><td>B03256</td><td>fhv</td><td>175</td></tr><tr><td>B03060</td><td>fhv</td><td>176</td></tr><tr><td>B03480</td><td>fhv</td><td>177</td></tr><tr><td>B01534</td><td>fhv</td><td>178</td></tr><tr><td>B01341</td><td>fhv</td><td>179</td></tr><tr><td>B01509</td><td>fhv</td><td>180</td></tr><tr><td>B02670</td><td>fhv</td><td>181</td></tr><tr><td>B03262</td><td>fhv</td><td>182</td></tr><tr><td>B03393</td><td>fhv</td><td>183</td></tr><tr><td>B01196</td><td>fhv</td><td>184</td></tr><tr><td>B01984</td><td>fhv</td><td>185</td></tr><tr><td>B02627</td><td>fhv</td><td>186</td></tr><tr><td>B03380</td><td>fhv</td><td>187</td></tr><tr><td>B02787</td><td>fhv</td><td>188</td></tr><tr><td>B03346</td><td>fhv</td><td>189</td></tr><tr><td>B01537</td><td>fhv</td><td>190</td></tr><tr><td>B01559</td><td>fhv</td><td>191</td></tr><tr><td>B02550</td><td>fhv</td><td>192</td></tr><tr><td>B01016</td><td>fhv</td><td>193</td></tr><tr><td>B01726</td><td>fhv</td><td>194</td></tr><tr><td>B02641</td><td>fhv</td><td>195</td></tr><tr><td>B01340</td><td>fhv</td><td>196</td></tr><tr><td>B01381</td><td>fhv</td><td>197</td></tr><tr><td>B02737</td><td>fhv</td><td>198</td></tr><tr><td>B01963</td><td>fhv</td><td>199</td></tr><tr><td>B01466</td><td>fhv</td><td>200</td></tr><tr><td>B02162</td><td>fhv</td><td>201</td></tr><tr><td>B01629</td><td>fhv</td><td>202</td></tr><tr><td>B02774</td><td>fhv</td><td>203</td></tr><tr><td>B02909</td><td>fhv</td><td>204</td></tr><tr><td>B02437</td><td>fhv</td><td>205</td></tr><tr><td>B02339</td><td>fhv</td><td>206</td></tr><tr><td>B03403</td><td>fhv</td><td>207</td></tr><tr><td>B03181</td><td>fhv</td><td>208</td></tr><tr><td>B03390</td><td>fhv</td><td>209</td></tr><tr><td>B01417</td><td>fhv</td><td>210</td></tr><tr><td>B00078</td><td>fhv</td><td>211</td></tr><tr><td>B01899</td><td>fhv</td><td>212</td></tr><tr><td>B03357</td><td>fhv</td><td>213</td></tr><tr><td>B01367</td><td>fhv</td><td>214</td></tr><tr><td>B01625</td><td>fhv</td><td>215</td></tr><tr><td>B02273</td><td>fhv</td><td>216</td></tr><tr><td>B02677</td><td>fhv</td><td>217</td></tr><tr><td>B02373</td><td>fhv</td><td>218</td></tr><tr><td>B03185</td><td>fhv</td><td>219</td></tr><tr><td>B03359</td><td>fhv</td><td>220</td></tr><tr><td>B00446</td><td>fhv</td><td>221</td></tr><tr><td>B02060</td><td>fhv</td><td>222</td></tr><tr><td>B02005</td><td>fhv</td><td>223</td></tr><tr><td>B01437</td><td>fhv</td><td>224</td></tr><tr><td>B00254</td><td>fhv</td><td>225</td></tr><tr><td>B00053</td><td>fhv</td><td>226</td></tr><tr><td>B02148</td><td>fhv</td><td>227</td></tr><tr><td>B00623</td><td>fhv</td><td>228</td></tr><tr><td>B00111</td><td>fhv</td><td>229</td></tr><tr><td>B01455</td><td>fhv</td><td>230</td></tr><tr><td>B00856</td><td>fhv</td><td>231</td></tr><tr><td>B02573</td><td>fhv</td><td>232</td></tr><tr><td>B01233</td><td>fhv</td><td>233</td></tr><tr><td>B00350</td><td>fhv</td><td>234</td></tr><tr><td>B03382</td><td>fhv</td><td>235</td></tr><tr><td>B02249</td><td>fhv</td><td>236</td></tr><tr><td>B03209</td><td>fhv</td><td>237</td></tr><tr><td>B01644</td><td>fhv</td><td>238</td></tr><tr><td>B02817</td><td>fhv</td><td>239</td></tr><tr><td>B03387</td><td>fhv</td><td>240</td></tr><tr><td>B02736</td><td>fhv</td><td>241</td></tr><tr><td>B03297</td><td>fhv</td><td>242</td></tr><tr><td>B02254</td><td>fhv</td><td>243</td></tr><tr><td>B00248</td><td>fhv</td><td>244</td></tr><tr><td>B01282</td><td>fhv</td><td>245</td></tr><tr><td>B02016</td><td>fhv</td><td>246</td></tr><tr><td>B02794</td><td>fhv</td><td>247</td></tr><tr><td>B03267</td><td>fhv</td><td>248</td></tr><tr><td>B02920</td><td>fhv</td><td>249</td></tr><tr><td>B01311</td><td>fhv</td><td>250</td></tr><tr><td>B02217</td><td>fhv</td><td>251</td></tr><tr><td>B02924</td><td>fhv</td><td>252</td></tr><tr><td>B00271</td><td>fhv</td><td>253</td></tr><tr><td>B00850</td><td>fhv</td><td>254</td></tr><tr><td>B02853</td><td>fhv</td><td>255</td></tr><tr><td>B01452</td><td>fhv</td><td>256</td></tr><tr><td>B02901</td><td>fhv</td><td>257</td></tr><tr><td>B02833</td><td>fhv</td><td>258</td></tr><tr><td>B02103</td><td>fhv</td><td>259</td></tr><tr><td>B03482</td><td>fhv</td><td>260</td></tr><tr><td>B00222</td><td>fhv</td><td>261</td></tr><tr><td>B01124</td><td>fhv</td><td>262</td></tr><tr><td>B02391</td><td>fhv</td><td>263</td></tr><tr><td>B01877</td><td>fhv</td><td>264</td></tr><tr><td>B01029</td><td>fhv</td><td>265</td></tr><tr><td>B01336</td><td>fhv</td><td>266</td></tr><tr><td>B03194</td><td>fhv</td><td>267</td></tr><tr><td>B02929</td><td>fhv</td><td>268</td></tr><tr><td>B02401</td><td>fhv</td><td>269</td></tr><tr><td>B02110</td><td>fhv</td><td>270</td></tr><tr><td>B03085</td><td>fhv</td><td>271</td></tr><tr><td>B02897</td><td>fhv</td><td>272</td></tr><tr><td>B02453</td><td>fhv</td><td>273</td></tr><tr><td>B00597</td><td>fhv</td><td>274</td></tr><tr><td>B03100</td><td>fhv</td><td>275</td></tr><tr><td>B03107</td><td>fhv</td><td>276</td></tr><tr><td>B03206</td><td>fhv</td><td>277</td></tr><tr><td>B01667</td><td>fhv</td><td>278</td></tr><tr><td>B01469</td><td>fhv</td><td>279</td></tr><tr><td>B03285</td><td>fhv</td><td>280</td></tr><tr><td>B01717</td><td>fhv</td><td>281</td></tr><tr><td>B03335</td><td>fhv</td><td>282</td></tr><tr><td>B00975</td><td>fhv</td><td>283</td></tr><tr><td>B03258</td><td>fhv</td><td>284</td></tr><tr><td>B01194</td><td>fhv</td><td>285</td></tr><tr><td>B00827</td><td>fhv</td><td>286</td></tr><tr><td>B03466</td><td>fhv</td><td>287</td></tr><tr><td>B03408</td><td>fhv</td><td>288</td></tr><tr><td>B02782</td><td>fhv</td><td>289</td></tr><tr><td>B02167</td><td>fhv</td><td>290</td></tr><tr><td>B00054</td><td>fhv</td><td>291</td></tr><tr><td>B02027</td><td>fhv</td><td>292</td></tr><tr><td>B00692</td><td>fhv</td><td>293</td></tr><tr><td>B01424</td><td>fhv</td><td>294</td></tr><tr><td>B03334</td><td>fhv</td><td>295</td></tr><tr><td>B03421</td><td>fhv</td><td>296</td></tr><tr><td>B02599</td><td>fhv</td><td>297</td></tr><tr><td>B01485</td><td>fhv</td><td>298</td></tr><tr><td>B03361</td><td>fhv</td><td>299</td></tr><tr><td>B03172</td><td>fhv</td><td>300</td></tr><tr><td>B00756</td><td>fhv</td><td>301</td></tr><tr><td>B00256</td><td>fhv</td><td>302</td></tr><tr><td>B03283</td><td>fhv</td><td>303</td></tr><tr><td>B00009</td><td>fhv</td><td>304</td></tr><tr><td>B02832</td><td>fhv</td><td>305</td></tr><tr><td>B01540</td><td>fhv</td><td>306</td></tr><tr><td>B03211</td><td>fhv</td><td>307</td></tr><tr><td>B03291</td><td>fhv</td><td>308</td></tr><tr><td>B03157</td><td>fhv</td><td>309</td></tr><tr><td>B03336</td><td>fhv</td><td>310</td></tr><tr><td>B02735</td><td>fhv</td><td>311</td></tr><tr><td>B03381</td><td>fhv</td><td>312</td></tr><tr><td>B01626</td><td>fhv</td><td>313</td></tr><tr><td>B03239</td><td>fhv</td><td>314</td></tr><tr><td>B03064</td><td>fhv</td><td>315</td></tr><tr><td>B02099</td><td>fhv</td><td>316</td></tr><tr><td>B02912</td><td>fhv</td><td>317</td></tr><tr><td>B00013</td><td>fhv</td><td>318</td></tr><tr><td>B03187</td><td>fhv</td><td>319</td></tr><tr><td>B01454</td><td>fhv</td><td>320</td></tr><tr><td>B02967</td><td>fhv</td><td>321</td></tr><tr><td>B00789</td><td>fhv</td><td>322</td></tr><tr><td>B02352</td><td>fhv</td><td>323</td></tr><tr><td>B02248</td><td>fhv</td><td>324</td></tr><tr><td>B02899</td><td>fhv</td><td>325</td></tr><tr><td>B03371</td><td>fhv</td><td>326</td></tr><tr><td>B03047</td><td>fhv</td><td>327</td></tr><tr><td>B00387</td><td>fhv</td><td>328</td></tr><tr><td>B00411</td><td>fhv</td><td>329</td></tr><tr><td>B02418</td><td>fhv</td><td>330</td></tr><tr><td>B03145</td><td>fhv</td><td>331</td></tr><tr><td>B01944</td><td>fhv</td><td>332</td></tr><tr><td>B01200</td><td>fhv</td><td>333</td></tr><tr><td>B01259</td><td>fhv</td><td>334</td></tr><tr><td>B02152</td><td>fhv</td><td>335</td></tr><tr><td>B02055</td><td>fhv</td><td>336</td></tr><tr><td>B00932</td><td>fhv</td><td>337</td></tr><tr><td>B00965</td><td>fhv</td><td>338</td></tr><tr><td>B02050</td><td>fhv</td><td>339</td></tr><tr><td>B03438</td><td>fhv</td><td>340</td></tr><tr><td>B03061</td><td>fhv</td><td>341</td></tr><tr><td>B00459</td><td>fhv</td><td>342</td></tr><tr><td>B03367</td><td>fhv</td><td>343</td></tr><tr><td>B00802</td><td>fhv</td><td>344</td></tr><tr><td>B02003</td><td>fhv</td><td>345</td></tr><tr><td>B03286</td><td>fhv</td><td>346</td></tr><tr><td>B00556</td><td>fhv</td><td>347</td></tr><tr><td>B01315</td><td>fhv</td><td>348</td></tr><tr><td>B03341</td><td>fhv</td><td>349</td></tr><tr><td>B01742</td><td>fhv</td><td>350</td></tr><tr><td>B02157</td><td>fhv</td><td>351</td></tr><tr><td>B03268</td><td>fhv</td><td>352</td></tr><tr><td>B03355</td><td>fhv</td><td>353</td></tr><tr><td>B02834</td><td>fhv</td><td>354</td></tr><tr><td>B02285</td><td>fhv</td><td>355</td></tr><tr><td>B03388</td><td>fhv</td><td>356</td></tr><tr><td>B00310</td><td>fhv</td><td>357</td></tr><tr><td>B02997</td><td>fhv</td><td>358</td></tr><tr><td>B03174</td><td>fhv</td><td>359</td></tr><tr><td>B03339</td><td>fhv</td><td>360</td></tr><tr><td>B01091</td><td>fhv</td><td>361</td></tr><tr><td>B03164</td><td>fhv</td><td>362</td></tr><tr><td>B01176</td><td>fhv</td><td>363</td></tr><tr><td>B02491</td><td>fhv</td><td>364</td></tr><tr><td>B01013</td><td>fhv</td><td>365</td></tr><tr><td>B00255</td><td>fhv</td><td>366</td></tr><tr><td>B03002</td><td>fhv</td><td>367</td></tr><tr><td>B03081</td><td>fhv</td><td>368</td></tr><tr><td>B02825</td><td>fhv</td><td>369</td></tr><tr><td>B02240</td><td>fhv</td><td>370</td></tr><tr><td>B03338</td><td>fhv</td><td>371</td></tr><tr><td>B00887</td><td>fhv</td><td>372</td></tr><tr><td>B00008</td><td>fhv</td><td>373</td></tr><tr><td>B02461</td><td>fhv</td><td>374</td></tr><tr><td>B01339</td><td>fhv</td><td>375</td></tr><tr><td>B02671</td><td>fhv</td><td>376</td></tr><tr><td>B02111</td><td>fhv</td><td>377</td></tr><tr><td>B03320</td><td>fhv</td><td>378</td></tr><tr><td>B03333</td><td>fhv</td><td>379</td></tr><tr><td>B02133</td><td>fhv</td><td>380</td></tr><tr><td>B02532</td><td>fhv</td><td>381</td></tr><tr><td>B03266</td><td>fhv</td><td>382</td></tr><tr><td>B02410</td><td>fhv</td><td>383</td></tr><tr><td>B01239</td><td>fhv</td><td>384</td></tr><tr><td>B01364</td><td>fhv</td><td>385</td></tr><tr><td>B03236</td><td>fhv</td><td>386</td></tr><tr><td>B02747</td><td>fhv</td><td>387</td></tr><tr><td>B02470</td><td>fhv</td><td>388</td></tr><tr><td>B03329</td><td>fhv</td><td>389</td></tr><tr><td>B03144</td><td>fhv</td><td>390</td></tr><tr><td>B02101</td><td>fhv</td><td>391</td></tr><tr><td>B00559</td><td>fhv</td><td>392</td></tr><tr><td>B03015</td><td>fhv</td><td>393</td></tr><tr><td>B02397</td><td>fhv</td><td>394</td></tr><tr><td>B02661</td><td>fhv</td><td>395</td></tr><tr><td>B02934</td><td>fhv</td><td>396</td></tr><tr><td>B02320</td><td>fhv</td><td>397</td></tr><tr><td>B03116</td><td>fhv</td><td>398</td></tr><tr><td>B02537</td><td>fhv</td><td>399</td></tr><tr><td>B01432</td><td>fhv</td><td>400</td></tr><tr><td>B03033</td><td>fhv</td><td>401</td></tr><tr><td>B03153</td><td>fhv</td><td>402</td></tr><tr><td>B00821</td><td>fhv</td><td>403</td></tr><tr><td>B02536</td><td>fhv</td><td>404</td></tr><tr><td>B03074</td><td>fhv</td><td>405</td></tr><tr><td>B03105</td><td>fhv</td><td>406</td></tr><tr><td>B02838</td><td>fhv</td><td>407</td></tr><tr><td>B02207</td><td>fhv</td><td>408</td></tr><tr><td>B02849</td><td>fhv</td><td>409</td></tr><tr><td>B00889</td><td>fhv</td><td>410</td></tr><tr><td>B01871</td><td>fhv</td><td>411</td></tr><tr><td>B03492</td><td>fhv</td><td>412</td></tr><tr><td>B01079</td><td>fhv</td><td>413</td></tr><tr><td>B02799</td><td>fhv</td><td>414</td></tr><tr><td>B01958</td><td>fhv</td><td>415</td></tr><tr><td>B00823</td><td>fhv</td><td>416</td></tr><tr><td>B02462</td><td>fhv</td><td>417</td></tr><tr><td>B02629</td><td>fhv</td><td>418</td></tr><tr><td>B02531</td><td>fhv</td><td>419</td></tr><tr><td>B01065</td><td>fhv</td><td>420</td></tr><tr><td>B00536</td><td>fhv</td><td>421</td></tr><tr><td>B00937</td><td>fhv</td><td>422</td></tr><tr><td>B01312</td><td>fhv</td><td>423</td></tr><tr><td>B03055</td><td>fhv</td><td>424</td></tr><tr><td>B00280</td><td>fhv</td><td>425</td></tr><tr><td>B02315</td><td>fhv</td><td>426</td></tr><tr><td>B02811</td><td>fhv</td><td>427</td></tr><tr><td>B01280</td><td>fhv</td><td>428</td></tr><tr><td>B03281</td><td>fhv</td><td>429</td></tr><tr><td>B01803</td><td>fhv</td><td>430</td></tr><tr><td>B02762</td><td>fhv</td><td>431</td></tr><tr><td>B03284</td><td>fhv</td><td>432</td></tr><tr><td>B01639</td><td>fhv</td><td>433</td></tr><tr><td>B02881</td><td>fhv</td><td>434</td></tr><tr><td>B03343</td><td>fhv</td><td>435</td></tr><tr><td>B00272</td><td>fhv</td><td>436</td></tr><tr><td>B01601</td><td>fhv</td><td>437</td></tr><tr><td>B02756</td><td>fhv</td><td>438</td></tr><tr><td>B03299</td><td>fhv</td><td>439</td></tr><tr><td>B01386</td><td>fhv</td><td>440</td></tr><tr><td>B03197</td><td>fhv</td><td>441</td></tr><tr><td>B03433</td><td>fhv</td><td>442</td></tr><tr><td>B03312</td><td>fhv</td><td>443</td></tr><tr><td>B02416</td><td>fhv</td><td>444</td></tr><tr><td>B01445</td><td>fhv</td><td>445</td></tr><tr><td>B02093</td><td>fhv</td><td>446</td></tr><tr><td>B03097</td><td>fhv</td><td>447</td></tr><tr><td>B00911</td><td>fhv</td><td>448</td></tr><tr><td>B01128</td><td>fhv</td><td>449</td></tr><tr><td>B03340</td><td>fhv</td><td>450</td></tr><tr><td>B01236</td><td>fhv</td><td>451</td></tr><tr><td>B03166</td><td>fhv</td><td>452</td></tr><tr><td>B02298</td><td>fhv</td><td>453</td></tr><tr><td>B00647</td><td>fhv</td><td>454</td></tr><tr><td>B02509</td><td>fhv</td><td>455</td></tr><tr><td>B00706</td><td>fhv</td><td>456</td></tr><tr><td>B02107</td><td>fhv</td><td>457</td></tr><tr><td>B03321</td><td>fhv</td><td>458</td></tr><tr><td>B02613</td><td>fhv</td><td>459</td></tr><tr><td>B00001</td><td>fhv</td><td>460</td></tr><tr><td>B02724</td><td>fhv</td><td>461</td></tr><tr><td>B02699</td><td>fhv</td><td>462</td></tr><tr><td>B02279</td><td>fhv</td><td>463</td></tr><tr><td>B03352</td><td>fhv</td><td>464</td></tr><tr><td>B02905</td><td>fhv</td><td>465</td></tr><tr><td>B01980</td><td>fhv</td><td>466</td></tr><tr><td>B02987</td><td>fhv</td><td>467</td></tr><tr><td>B02557</td><td>fhv</td><td>468</td></tr><tr><td>B00412</td><td>fhv</td><td>469</td></tr><tr><td>B01145</td><td>fhv</td><td>470</td></tr><tr><td>B03296</td><td>fhv</td><td>471</td></tr><tr><td>B03017</td><td>fhv</td><td>472</td></tr><tr><td>B03324</td><td>fhv</td><td>473</td></tr><tr><td>B03018</td><td>fhv</td><td>474</td></tr><tr><td>B00037</td><td>fhv</td><td>475</td></tr><tr><td>B02021</td><td>fhv</td><td>476</td></tr><tr><td>B01231</td><td>fhv</td><td>477</td></tr><tr><td>B03046</td><td>fhv</td><td>478</td></tr><tr><td>B01995</td><td>fhv</td><td>479</td></tr><tr><td>B01568</td><td>fhv</td><td>480</td></tr><tr><td>B03139</td><td>fhv</td><td>481</td></tr><tr><td>B03051</td><td>fhv</td><td>482</td></tr><tr><td>B03275</td><td>fhv</td><td>483</td></tr><tr><td>B01738</td><td>fhv</td><td>484</td></tr><tr><td>B02971</td><td>fhv</td><td>485</td></tr><tr><td>B01285</td><td>fhv</td><td>486</td></tr><tr><td>B00900</td><td>fhv</td><td>487</td></tr><tr><td>B02823</td><td>fhv</td><td>488</td></tr><tr><td>B01087</td><td>fhv</td><td>489</td></tr><tr><td>B02182</td><td>fhv</td><td>490</td></tr><tr><td>B01800</td><td>fhv</td><td>491</td></tr><tr><td>B00202</td><td>fhv</td><td>492</td></tr><tr><td>B02472</td><td>fhv</td><td>493</td></tr><tr><td>B02144</td><td>fhv</td><td>494</td></tr><tr><td>B03104</td><td>fhv</td><td>495</td></tr><tr><td>B02594</td><td>fhv</td><td>496</td></tr><tr><td>B02930</td><td>fhv</td><td>497</td></tr><tr><td>B02947</td><td>fhv</td><td>498</td></tr><tr><td>B03037</td><td>fhv</td><td>499</td></tr><tr><td>B03123</td><td>fhv</td><td>500</td></tr><tr><td>B02795</td><td>fhv</td><td>501</td></tr><tr><td>B00888</td><td>fhv</td><td>502</td></tr><tr><td>B01721</td><td>fhv</td><td>503</td></tr><tr><td>B03040</td><td>fhv</td><td>504</td></tr><tr><td>B03208</td><td>fhv</td><td>505</td></tr><tr><td>B03202</td><td>fhv</td><td>506</td></tr><tr><td>B02860</td><td>fhv</td><td>507</td></tr><tr><td>B03505</td><td>fhv</td><td>508</td></tr><tr><td>B03204</td><td>fhv</td><td>509</td></tr><tr><td>B01600</td><td>fhv</td><td>510</td></tr><tr><td>B02949</td><td>fhv</td><td>511</td></tr><tr><td>B02725</td><td>fhv</td><td>512</td></tr><tr><td>B03308</td><td>fhv</td><td>513</td></tr><tr><td>B03137</td><td>fhv</td><td>514</td></tr><tr><td>B00919</td><td>fhv</td><td>515</td></tr><tr><td>B02824</td><td>fhv</td><td>516</td></tr><tr><td>B03456</td><td>fhv</td><td>517</td></tr><tr><td>B03494</td><td>fhv</td><td>518</td></tr><tr><td>B02913</td><td>fhv</td><td>519</td></tr><tr><td>B03423</td><td>fhv</td><td>520</td></tr><tr><td>b00429</td><td>fhv</td><td>521</td></tr><tr><td>B03517</td><td>fhv</td><td>522</td></tr><tr><td>B03298</td><td>fhv</td><td>523</td></tr><tr><td>B03513</td><td>fhv</td><td>524</td></tr><tr><td>B03409</td><td>fhv</td><td>525</td></tr><tr><td>B03419</td><td>fhv</td><td>526</td></tr><tr><td>B03368</td><td>fhv</td><td>527</td></tr><tr><td>B03344</td><td>fhv</td><td>528</td></tr><tr><td>B03425</td><td>fhv</td><td>529</td></tr><tr><td>B03500</td><td>fhv</td><td>530</td></tr><tr><td>B02797</td><td>fhv</td><td>531</td></tr><tr><td>B03348</td><td>fhv</td><td>532</td></tr><tr><td>B03478</td><td>fhv</td><td>533</td></tr><tr><td>B03504</td><td>fhv</td><td>534</td></tr><tr><td>B03170</td><td>fhv</td><td>535</td></tr><tr><td>B02944</td><td>fhv</td><td>536</td></tr><tr><td>B01300</td><td>fhv</td><td>537</td></tr><tr><td>B03200</td><td>fhv</td><td>538</td></tr><tr><td>B03435</td><td>fhv</td><td>539</td></tr><tr><td>B03173</td><td>fhv</td><td>540</td></tr><tr><td>B00987</td><td>fhv</td><td>541</td></tr><tr><td>B03375</td><td>fhv</td><td>542</td></tr><tr><td>B01392</td><td>fhv</td><td>543</td></tr><tr><td>B02925</td><td>fhv</td><td>544</td></tr><tr><td>B03140</td><td>fhv</td><td>545</td></tr><tr><td>B00811</td><td>fhv</td><td>546</td></tr><tr><td>B01318</td><td>fhv</td><td>547</td></tr><tr><td>B03218</td><td>fhv</td><td>548</td></tr><tr><td>B01269</td><td>fhv</td><td>549</td></tr><tr><td>B01109</td><td>fhv</td><td>550</td></tr><tr><td>B01308</td><td>fhv</td><td>551</td></tr><tr><td>B03101</td><td>fhv</td><td>552</td></tr><tr><td>B02180</td><td>fhv</td><td>553</td></tr><tr><td>B02634</td><td>fhv</td><td>554</td></tr><tr><td>B03198</td><td>fhv</td><td>555</td></tr><tr><td>B00693</td><td>fhv</td><td>556</td></tr><tr><td>B03117</td><td>fhv</td><td>557</td></tr><tr><td>B02856</td><td>fhv</td><td>558</td></tr><tr><td>B03331</td><td>fhv</td><td>559</td></tr><tr><td>B02956</td><td>fhv</td><td>560</td></tr><tr><td>B03022</td><td>fhv</td><td>561</td></tr><tr><td>B03006</td><td>fhv</td><td>562</td></tr><tr><td>B03364</td><td>fhv</td><td>563</td></tr><tr><td>B02686</td><td>fhv</td><td>564</td></tr><tr><td>B01679</td><td>fhv</td><td>565</td></tr><tr><td>B00296</td><td>fhv</td><td>566</td></tr><tr><td>B02783</td><td>fhv</td><td>567</td></tr><tr><td>B02751</td><td>fhv</td><td>568</td></tr><tr><td>B03327</td><td>fhv</td><td>569</td></tr><tr><td>B03366</td><td>fhv</td><td>570</td></tr><tr><td>B03356</td><td>fhv</td><td>571</td></tr><tr><td>b00706</td><td>fhv</td><td>572</td></tr><tr><td>B00021</td><td>fhv</td><td>573</td></tr><tr><td>B02903</td><td>fhv</td><td>574</td></tr><tr><td>B01623</td><td>fhv</td><td>575</td></tr><tr><td>B02729</td><td>fhv</td><td>576</td></tr><tr><td>B00171</td><td>fhv</td><td>577</td></tr><tr><td>B02653</td><td>fhv</td><td>578</td></tr><tr><td>B02008</td><td>fhv</td><td>579</td></tr><tr><td>B00619</td><td>fhv</td><td>580</td></tr><tr><td>B03226</td><td>fhv</td><td>581</td></tr><tr><td>B02840</td><td>fhv</td><td>582</td></tr><tr><td>B01699</td><td>fhv</td><td>583</td></tr><tr><td>B03316</td><td>fhv</td><td>584</td></tr><tr><td>B01288</td><td>fhv</td><td>585</td></tr><tr><td>B01069</td><td>fhv</td><td>586</td></tr><tr><td>B02253</td><td>fhv</td><td>587</td></tr><tr><td>B02569</td><td>fhv</td><td>588</td></tr><tr><td>B03337</td><td>fhv</td><td>589</td></tr><tr><td>B03011</td><td>fhv</td><td>590</td></tr><tr><td>B03106</td><td>fhv</td><td>591</td></tr><tr><td>B03250</td><td>fhv</td><td>592</td></tr><tr><td>B02245</td><td>fhv</td><td>593</td></tr><tr><td>B01250</td><td>fhv</td><td>594</td></tr><tr><td>B03323</td><td>fhv</td><td>595</td></tr><tr><td>B00290</td><td>fhv</td><td>596</td></tr><tr><td>B03360</td><td>fhv</td><td>597</td></tr><tr><td>B02996</td><td>fhv</td><td>598</td></tr><tr><td>B01039</td><td>fhv</td><td>599</td></tr><tr><td>B01510</td><td>fhv</td><td>600</td></tr><tr><td>B03128</td><td>fhv</td><td>601</td></tr><tr><td>B02727</td><td>fhv</td><td>602</td></tr><tr><td>B03160</td><td>fhv</td><td>603</td></tr><tr><td>B01811</td><td>fhv</td><td>604</td></tr><tr><td>B02138</td><td>fhv</td><td>605</td></tr><tr><td>B01479</td><td>fhv</td><td>606</td></tr><tr><td>B03369</td><td>fhv</td><td>607</td></tr><tr><td>B03124</td><td>fhv</td><td>608</td></tr><tr><td>B03398</td><td>fhv</td><td>609</td></tr><tr><td>b02339</td><td>fhv</td><td>610</td></tr><tr><td>b02418</td><td>fhv</td><td>611</td></tr><tr><td>B03235</td><td>fhv</td><td>612</td></tr><tr><td>B02330</td><td>fhv</td><td>613</td></tr><tr><td>B02657</td><td>fhv</td><td>614</td></tr><tr><td>B03353</td><td>fhv</td><td>615</td></tr><tr><td>b01710</td><td>fhv</td><td>616</td></tr><tr><td>B02892</td><td>fhv</td><td>617</td></tr><tr><td>B03529</td><td>fhv</td><td>618</td></tr><tr><td>B03295</td><td>fhv</td><td>619</td></tr><tr><td>B03523</td><td>fhv</td><td>620</td></tr><tr><td>B03530</td><td>fhv</td><td>621</td></tr><tr><td>B03447</td><td>fhv</td><td>622</td></tr><tr><td>B03506</td><td>fhv</td><td>623</td></tr><tr><td>B03399</td><td>fhv</td><td>624</td></tr><tr><td>b01349</td><td>fhv</td><td>625</td></tr><tr><td>B03049</td><td>fhv</td><td>626</td></tr><tr><td>B03512</td><td>fhv</td><td>627</td></tr><tr><td>B03230</td><td>fhv</td><td>628</td></tr><tr><td>B03462</td><td>fhv</td><td>629</td></tr><tr><td>B03554</td><td>fhv</td><td>630</td></tr><tr><td>B03377</td><td>fhv</td><td>631</td></tr><tr><td>B03551</td><td>fhv</td><td>632</td></tr><tr><td>B01118</td><td>fhv</td><td>633</td></tr><tr><td>B03473</td><td>fhv</td><td>634</td></tr><tr><td>B03278</td><td>fhv</td><td>635</td></tr><tr><td>B03440</td><td>fhv</td><td>636</td></tr><tr><td>B03531</td><td>fhv</td><td>637</td></tr><tr><td>B03470</td><td>fhv</td><td>638</td></tr><tr><td>B03252</td><td>fhv</td><td>639</td></tr><tr><td>B03475</td><td>fhv</td><td>640</td></tr><tr><td>B03446</td><td>fhv</td><td>641</td></tr><tr><td>B03463</td><td>fhv</td><td>642</td></tr><tr><td>B03111</td><td>fhv</td><td>643</td></tr><tr><td>B03565</td><td>fhv</td><td>644</td></tr><tr><td>B03279</td><td>fhv</td><td>645</td></tr><tr><td>B00401</td><td>fhv</td><td>646</td></tr><tr><td>B01907</td><td>fhv</td><td>647</td></tr><tr><td>B03214</td><td>fhv</td><td>648</td></tr><tr><td>B01328 </td><td>fhv</td><td>649</td></tr><tr><td>B00492</td><td>fhv</td><td>650</td></tr><tr><td>B02709</td><td>fhv</td><td>651</td></tr><tr><td>B00727</td><td>fhv</td><td>652</td></tr><tr><td>B02534</td><td>fhv</td><td>653</td></tr><tr><td>b00833</td><td>fhv</td><td>654</td></tr><tr><td>B01629 </td><td>fhv</td><td>655</td></tr><tr><td>B03231</td><td>fhv</td><td>656</td></tr><tr><td>B02106</td><td>fhv</td><td>657</td></tr><tr><td>B02004</td><td>fhv</td><td>658</td></tr><tr><td>B02293</td><td>fhv</td><td>659</td></tr><tr><td>B02637</td><td>fhv</td><td>660</td></tr><tr><td>B00991</td><td>fhv</td><td>661</td></tr><tr><td>B02970</td><td>fhv</td><td>662</td></tr><tr><td>B03020</td><td>fhv</td><td>663</td></tr><tr><td>B01129</td><td>fhv</td><td>664</td></tr><tr><td>B01088</td><td>fhv</td><td>665</td></tr><tr><td>B02254 </td><td>fhv</td><td>666</td></tr><tr><td>B02826</td><td>fhv</td><td>667</td></tr><tr><td>B03242</td><td>fhv</td><td>668</td></tr><tr><td>B03310</td><td>fhv</td><td>669</td></tr><tr><td>B02055 </td><td>fhv</td><td>670</td></tr><tr><td>B02517         </td><td>fhv</td><td>671</td></tr><tr><td>B00889         </td><td>fhv</td><td>672</td></tr><tr><td>B03184</td><td>fhv</td><td>673</td></tr><tr><td>B02004 </td><td>fhv</td><td>674</td></tr><tr><td>B01821</td><td>fhv</td><td>675</td></tr><tr><td>B03059</td><td>fhv</td><td>676</td></tr><tr><td>B02191</td><td>fhv</td><td>677</td></tr><tr><td>B03162</td><td>fhv</td><td>678</td></tr><tr><td>B01525</td><td>fhv</td><td>679</td></tr><tr><td>B02995</td><td>fhv</td><td>680</td></tr><tr><td>B00346</td><td>fhv</td><td>681</td></tr><tr><td>B01700</td><td>fhv</td><td>682</td></tr><tr><td>B02566</td><td>fhv</td><td>683</td></tr><tr><td>B01176         </td><td>fhv</td><td>684</td></tr><tr><td>B02574</td><td>fhv</td><td>685</td></tr><tr><td>B02597</td><td>fhv</td><td>686</td></tr><tr><td>B01614</td><td>fhv</td><td>687</td></tr><tr><td>B03048</td><td>fhv</td><td>688</td></tr><tr><td>B01197</td><td>fhv</td><td>689</td></tr><tr><td>B01653</td><td>fhv</td><td>690</td></tr><tr><td>B02379</td><td>fhv</td><td>691</td></tr><tr><td>B03268         </td><td>fhv</td><td>692</td></tr><tr><td>B00472</td><td>fhv</td><td>693</td></tr><tr><td>B03193</td><td>fhv</td><td>694</td></tr><tr><td>B01470     </td><td>fhv</td><td>695</td></tr><tr><td>B02416         </td><td>fhv</td><td>696</td></tr><tr><td>B01051</td><td>fhv</td><td>697</td></tr><tr><td>B02229</td><td>fhv</td><td>698</td></tr><tr><td>B00160</td><td>fhv</td><td>699</td></tr><tr><td>B02627                  </td><td>fhv</td><td>700</td></tr><tr><td>B00855</td><td>fhv</td><td>701</td></tr><tr><td>B03023</td><td>fhv</td><td>702</td></tr><tr><td>B00882</td><td>fhv</td><td>703</td></tr><tr><td>B03246</td><td>fhv</td><td>704</td></tr><tr><td>B02462         </td><td>fhv</td><td>705</td></tr><tr><td>B01985</td><td>fhv</td><td>706</td></tr><tr><td>B00319</td><td>fhv</td><td>707</td></tr><tr><td>B01364         </td><td>fhv</td><td>708</td></tr><tr><td>B02951</td><td>fhv</td><td>709</td></tr><tr><td>B01846</td><td>fhv</td><td>710</td></tr><tr><td>B02921</td><td>fhv</td><td>711</td></tr><tr><td>B01190</td><td>fhv</td><td>712</td></tr><tr><td>B03072</td><td>fhv</td><td>713</td></tr><tr><td>B01470         </td><td>fhv</td><td>714</td></tr><tr><td>B02553         </td><td>fhv</td><td>715</td></tr><tr><td>B00625         </td><td>fhv</td><td>716</td></tr><tr><td>B02460</td><td>fhv</td><td>717</td></tr><tr><td>B01215         </td><td>fhv</td><td>718</td></tr><tr><td>B02551</td><td>fhv</td><td>719</td></tr><tr><td>B02711</td><td>fhv</td><td>720</td></tr><tr><td>B03092</td><td>fhv</td><td>721</td></tr><tr><td>B00131</td><td>fhv</td><td>722</td></tr><tr><td>B02809</td><td>fhv</td><td>723</td></tr><tr><td>B01529</td><td>fhv</td><td>724</td></tr><tr><td>B00653</td><td>fhv</td><td>725</td></tr><tr><td>B00955         </td><td>fhv</td><td>726</td></tr><tr><td>B01467         </td><td>fhv</td><td>727</td></tr><tr><td>B03285         </td><td>fhv</td><td>728</td></tr><tr><td>B02037</td><td>fhv</td><td>729</td></tr><tr><td>B01309</td><td>fhv</td><td>730</td></tr><tr><td>B01066         </td><td>fhv</td><td>731</td></tr><tr><td>B01693</td><td>fhv</td><td>732</td></tr><tr><td>B00030</td><td>fhv</td><td>733</td></tr><tr><td>B01568       </td><td>fhv</td><td>734</td></tr><tr><td>B01263</td><td>fhv</td><td>735</td></tr><tr><td>B00290         </td><td>fhv</td><td>736</td></tr><tr><td>B00210</td><td>fhv</td><td>737</td></tr><tr><td>B01739         </td><td>fhv</td><td>738</td></tr><tr><td>B01964</td><td>fhv</td><td>739</td></tr><tr><td>B02279         </td><td>fhv</td><td>740</td></tr><tr><td>B00021         </td><td>fhv</td><td>741</td></tr><tr><td>B03062</td><td>fhv</td><td>742</td></tr><tr><td>B00419</td><td>fhv</td><td>743</td></tr><tr><td>B01534 </td><td>fhv</td><td>744</td></tr><tr><td>B03076         </td><td>fhv</td><td>745</td></tr><tr><td>B02535</td><td>fhv</td><td>746</td></tr><tr><td>B01995         </td><td>fhv</td><td>747</td></tr><tr><td>B03257</td><td>fhv</td><td>748</td></tr><tr><td>B01343</td><td>fhv</td><td>749</td></tr><tr><td>B03220</td><td>fhv</td><td>750</td></tr><tr><td>B01351</td><td>fhv</td><td>751</td></tr><tr><td>B03080</td><td>fhv</td><td>752</td></tr><tr><td>B02988</td><td>fhv</td><td>753</td></tr><tr><td>B01389</td><td>fhv</td><td>754</td></tr><tr><td>B01436         </td><td>fhv</td><td>755</td></tr><tr><td>B02408</td><td>fhv</td><td>756</td></tr><tr><td>B02769</td><td>fhv</td><td>757</td></tr><tr><td>B00975         </td><td>fhv</td><td>758</td></tr><tr><td>B02196</td><td>fhv</td><td>759</td></tr><tr><td>B01568         </td><td>fhv</td><td>760</td></tr><tr><td>B03084         </td><td>fhv</td><td>761</td></tr><tr><td>B01124         </td><td>fhv</td><td>762</td></tr><tr><td>B02243</td><td>fhv</td><td>763</td></tr><tr><td>B01328</td><td>fhv</td><td>764</td></tr><tr><td>B02026</td><td>fhv</td><td>765</td></tr><tr><td>B03280</td><td>fhv</td><td>766</td></tr><tr><td>B03130</td><td>fhv</td><td>767</td></tr><tr><td>B02811 </td><td>fhv</td><td>768</td></tr><tr><td>B03270</td><td>fhv</td><td>769</td></tr><tr><td>B03119</td><td>fhv</td><td>770</td></tr><tr><td>B03331         </td><td>fhv</td><td>771</td></tr><tr><td>B00639</td><td>fhv</td><td>772</td></tr><tr><td>B03290</td><td>fhv</td><td>773</td></tr><tr><td>B00955</td><td>fhv</td><td>774</td></tr><tr><td>B03255</td><td>fhv</td><td>775</td></tr><tr><td>B03186</td><td>fhv</td><td>776</td></tr><tr><td>B03328         </td><td>fhv</td><td>777</td></tr><tr><td>B03327         </td><td>fhv</td><td>778</td></tr><tr><td>B00833</td><td>fhv</td><td>779</td></tr><tr><td>B03522</td><td>fhv</td><td>780</td></tr><tr><td>B02507</td><td>fhv</td><td>781</td></tr><tr><td>B03407</td><td>fhv</td><td>782</td></tr><tr><td>B03614</td><td>fhv</td><td>783</td></tr><tr><td>B03534</td><td>fhv</td><td>784</td></tr><tr><td>B03646</td><td>fhv</td><td>785</td></tr><tr><td>B03617</td><td>fhv</td><td>786</td></tr><tr><td>B03127</td><td>fhv</td><td>787</td></tr><tr><td>B03525</td><td>fhv</td><td>788</td></tr><tr><td>B03430</td><td>fhv</td><td>789</td></tr><tr><td>B03582</td><td>fhv</td><td>790</td></tr><tr><td>B03370</td><td>fhv</td><td>791</td></tr><tr><td>B03653</td><td>fhv</td><td>792</td></tr><tr><td>B03578</td><td>fhv</td><td>793</td></tr><tr><td>B03590</td><td>fhv</td><td>794</td></tr><tr><td>B03544</td><td>fhv</td><td>795</td></tr><tr><td>B03426</td><td>fhv</td><td>796</td></tr><tr><td>B03603</td><td>fhv</td><td>797</td></tr><tr><td>B03557</td><td>fhv</td><td>798</td></tr><tr><td>B03562</td><td>fhv</td><td>799</td></tr><tr><td>B03553</td><td>fhv</td><td>800</td></tr><tr><td>B03584</td><td>fhv</td><td>801</td></tr><tr><td>B03477</td><td>fhv</td><td>802</td></tr><tr><td>b03464</td><td>fhv</td><td>803</td></tr><tr><td>B03471</td><td>fhv</td><td>804</td></tr><tr><td>B03396</td><td>fhv</td><td>805</td></tr><tr><td>B03524</td><td>fhv</td><td>806</td></tr><tr><td>B03569</td><td>fhv</td><td>807</td></tr><tr><td>B03514</td><td>fhv</td><td>808</td></tr><tr><td>B03599</td><td>fhv</td><td>809</td></tr><tr><td>B03627</td><td>fhv</td><td>810</td></tr><tr><td>B03622</td><td>fhv</td><td>811</td></tr><tr><td>B03207</td><td>fhv</td><td>812</td></tr><tr><td>B03572</td><td>fhv</td><td>813</td></tr><tr><td>B03445</td><td>fhv</td><td>814</td></tr><tr><td>B03618</td><td>fhv</td><td>815</td></tr><tr><td>B03637</td><td>fhv</td><td>816</td></tr><tr><td>B03577</td><td>fhv</td><td>817</td></tr><tr><td>B03654</td><td>fhv</td><td>818</td></tr><tr><td>B03659</td><td>fhv</td><td>819</td></tr><tr><td>B03567</td><td>fhv</td><td>820</td></tr><tr><td>B03581</td><td>fhv</td><td>821</td></tr><tr><td>B03502</td><td>fhv</td><td>822</td></tr><tr><td>B00306</td><td>fhv</td><td>823</td></tr><tr><td>B90612</td><td>fhv</td><td>824</td></tr><tr><td>B03464</td><td>fhv</td><td>825</td></tr><tr><td>B03558</td><td>fhv</td><td>826</td></tr><tr><td>b02167</td><td>fhv</td><td>827</td></tr><tr><td>B03570</td><td>fhv</td><td>828</td></tr><tr><td>B01957</td><td>fhv</td><td>829</td></tr><tr><td>B01444</td><td>fhv</td><td>830</td></tr><tr><td>B03094</td><td>fhv</td><td>831</td></tr><tr><td>b00639</td><td>fhv</td><td>832</td></tr><tr><td>B03125    </td><td>fhv</td><td>833</td></tr><tr><td>B00318</td><td>fhv</td><td>834</td></tr><tr><td>B01751</td><td>fhv</td><td>835</td></tr><tr><td>B03159</td><td>fhv</td><td>836</td></tr><tr><td>B03096</td><td>fhv</td><td>837</td></tr><tr><td>B03247</td><td>fhv</td><td>838</td></tr><tr><td>B02790</td><td>fhv</td><td>839</td></tr><tr><td>B00990</td><td>fhv</td><td>840</td></tr><tr><td>B01678         </td><td>fhv</td><td>841</td></tr><tr><td>B02965</td><td>fhv</td><td>842</td></tr><tr><td>B01326         </td><td>fhv</td><td>843</td></tr><tr><td>B01711         </td><td>fhv</td><td>844</td></tr><tr><td>B00337</td><td>fhv</td><td>845</td></tr><tr><td>B02552</td><td>fhv</td><td>846</td></tr><tr><td>B00056</td><td>fhv</td><td>847</td></tr><tr><td>B03243</td><td>fhv</td><td>848</td></tr><tr><td>B01420</td><td>fhv</td><td>849</td></tr><tr><td>B01674         </td><td>fhv</td><td>850</td></tr><tr><td>B03161</td><td>fhv</td><td>851</td></tr><tr><td>B02590</td><td>fhv</td><td>852</td></tr><tr><td>B03083</td><td>fhv</td><td>853</td></tr><tr><td>B02841</td><td>fhv</td><td>854</td></tr><tr><td>B01989</td><td>fhv</td><td>855</td></tr><tr><td>B03236         </td><td>fhv</td><td>856</td></tr><tr><td>B03196</td><td>fhv</td><td>857</td></tr><tr><td>B02335</td><td>fhv</td><td>858</td></tr><tr><td>B03113         </td><td>fhv</td><td>859</td></tr><tr><td>B01398</td><td>fhv</td><td>860</td></tr><tr><td>B02715</td><td>fhv</td><td>861</td></tr><tr><td>B00039</td><td>fhv</td><td>862</td></tr><tr><td>B02793         </td><td>fhv</td><td>863</td></tr><tr><td>B01332</td><td>fhv</td><td>864</td></tr><tr><td>B03007</td><td>fhv</td><td>865</td></tr><tr><td>B02891</td><td>fhv</td><td>866</td></tr><tr><td>B02447</td><td>fhv</td><td>867</td></tr><tr><td>B03261</td><td>fhv</td><td>868</td></tr><tr><td>b01700</td><td>fhv</td><td>869</td></tr><tr><td>B02839</td><td>fhv</td><td>870</td></tr><tr><td>B00984</td><td>fhv</td><td>871</td></tr><tr><td>B02468</td><td>fhv</td><td>872</td></tr><tr><td>B02389</td><td>fhv</td><td>873</td></tr><tr><td>B02252</td><td>fhv</td><td>874</td></tr><tr><td>B02011</td><td>fhv</td><td>875</td></tr><tr><td>B00325         </td><td>fhv</td><td>876</td></tr><tr><td>B01808</td><td>fhv</td><td>877</td></tr><tr><td>B02963</td><td>fhv</td><td>878</td></tr><tr><td>B01148</td><td>fhv</td><td>879</td></tr><tr><td>B01568        </td><td>fhv</td><td>880</td></tr><tr><td>B03077</td><td>fhv</td><td>881</td></tr><tr><td>B02200</td><td>fhv</td><td>882</td></tr><tr><td>B01876</td><td>fhv</td><td>883</td></tr><tr><td>B03031</td><td>fhv</td><td>884</td></tr><tr><td>B02369</td><td>fhv</td><td>885</td></tr><tr><td>B00031</td><td>fhv</td><td>886</td></tr><tr><td>B02651</td><td>fhv</td><td>887</td></tr><tr><td>B03129</td><td>fhv</td><td>888</td></tr><tr><td>B00369</td><td>fhv</td><td>889</td></tr><tr><td>B02554</td><td>fhv</td><td>890</td></tr><tr><td>B02346</td><td>fhv</td><td>891</td></tr><tr><td>B02643</td><td>fhv</td><td>892</td></tr><tr><td>B01801</td><td>fhv</td><td>893</td></tr><tr><td>B03125 </td><td>fhv</td><td>894</td></tr><tr><td>B03188         </td><td>fhv</td><td>895</td></tr><tr><td>B03142</td><td>fhv</td><td>896</td></tr><tr><td>B01081 </td><td>fhv</td><td>897</td></tr><tr><td>B01146</td><td>fhv</td><td>898</td></tr><tr><td>B00325</td><td>fhv</td><td>899</td></tr><tr><td>B02360</td><td>fhv</td><td>900</td></tr><tr><td>B01244</td><td>fhv</td><td>901</td></tr><tr><td>B02440</td><td>fhv</td><td>902</td></tr><tr><td>B03078</td><td>fhv</td><td>903</td></tr><tr><td>B01949</td><td>fhv</td><td>904</td></tr><tr><td>B03024</td><td>fhv</td><td>905</td></tr><tr><td>B03125</td><td>fhv</td><td>906</td></tr><tr><td>B01875</td><td>fhv</td><td>907</td></tr><tr><td>B02175</td><td>fhv</td><td>908</td></tr><tr><td>B02219</td><td>fhv</td><td>909</td></tr><tr><td>B03110</td><td>fhv</td><td>910</td></tr><tr><td>B00552</td><td>fhv</td><td>911</td></tr><tr><td>B03135</td><td>fhv</td><td>912</td></tr><tr><td>B03069</td><td>fhv</td><td>913</td></tr><tr><td>B01764</td><td>fhv</td><td>914</td></tr><tr><td>B00746         </td><td>fhv</td><td>915</td></tr><tr><td>B02390</td><td>fhv</td><td>916</td></tr><tr><td>b01445</td><td>fhv</td><td>917</td></tr><tr><td>B02465</td><td>fhv</td><td>918</td></tr><tr><td>B03213</td><td>fhv</td><td>919</td></tr><tr><td>B02806         </td><td>fhv</td><td>920</td></tr><tr><td>B02944 </td><td>fhv</td><td>921</td></tr><tr><td>B03109</td><td>fhv</td><td>922</td></tr><tr><td>B03293</td><td>fhv</td><td>923</td></tr><tr><td>B02288</td><td>fhv</td><td>924</td></tr><tr><td>B03324         </td><td>fhv</td><td>925</td></tr><tr><td>B01979</td><td>fhv</td><td>926</td></tr><tr><td>b03340</td><td>fhv</td><td>927</td></tr><tr><td>B03644</td><td>fhv</td><td>928</td></tr><tr><td>B03632</td><td>fhv</td><td>929</td></tr><tr><td>B03601</td><td>fhv</td><td>930</td></tr><tr><td>B03465</td><td>fhv</td><td>931</td></tr><tr><td>B03669</td><td>fhv</td><td>932</td></tr><tr><td>B01243</td><td>fhv</td><td>933</td></tr><tr><td>HV0005</td><td>fhvhv</td><td>934</td></tr><tr><td>HV0003</td><td>fhvhv</td><td>935</td></tr><tr><td>HV0004</td><td>fhvhv</td><td>936</td></tr></tbody></table></div>"
      ]
     },
     "metadata": {
      "application/vnd.databricks.v1+output": {
       "addedWidgets": {},
       "aggData": [],
       "aggError": "",
       "aggOverflow": false,
       "aggSchema": [],
       "aggSeriesLimitReached": false,
       "aggType": "",
       "arguments": {},
       "columnCustomDisplayInfos": {},
       "data": [
        [
         "2",
         "taxi",
         0
        ],
        [
         "6",
         "taxi",
         1
        ],
        [
         "5",
         "taxi",
         2
        ],
        [
         "1",
         "taxi",
         3
        ],
        [
         "B01663",
         "fhv",
         4
        ],
        [
         "B00608",
         "fhv",
         5
        ],
        [
         "B03417",
         "fhv",
         6
        ],
        [
         "B02852",
         "fhv",
         7
        ],
        [
         "B02770",
         "fhv",
         8
        ],
        [
         "B03309",
         "fhv",
         9
        ],
        [
         "B00235",
         "fhv",
         10
        ],
        [
         "B02287",
         "fhv",
         11
        ],
        [
         "B00225",
         "fhv",
         12
        ],
        [
         "B03229",
         "fhv",
         13
        ],
        [
         "B03276",
         "fhv",
         14
        ],
        [
         "B01413",
         "fhv",
         15
        ],
        [
         "B03028",
         "fhv",
         16
        ],
        [
         "B00906",
         "fhv",
         17
        ],
        [
         "B03349",
         "fhv",
         18
        ],
        [
         "B00448",
         "fhv",
         19
        ],
        [
         "B03315",
         "fhv",
         20
        ],
        [
         "B00149",
         "fhv",
         21
        ],
        [
         "B00445",
         "fhv",
         22
        ],
        [
         "B01268",
         "fhv",
         23
        ],
        [
         "B02655",
         "fhv",
         24
        ],
        [
         "B03455",
         "fhv",
         25
        ],
        [
         "B00014",
         "fhv",
         26
        ],
        [
         "B01768",
         "fhv",
         27
        ],
        [
         "B01913",
         "fhv",
         28
        ],
        [
         "B02719",
         "fhv",
         29
        ],
        [
         "B02331",
         "fhv",
         30
        ],
        [
         "B02814",
         "fhv",
         31
        ],
        [
         "B00652",
         "fhv",
         32
        ],
        [
         "B02658",
         "fhv",
         33
        ],
        [
         "B01492",
         "fhv",
         34
        ],
        [
         "B02975",
         "fhv",
         35
        ],
        [
         "B03282",
         "fhv",
         36
        ],
        [
         "B00208",
         "fhv",
         37
        ],
        [
         "B01338",
         "fhv",
         38
        ],
        [
         "B02311",
         "fhv",
         39
        ],
        [
         "B01546",
         "fhv",
         40
        ],
        [
         "B02868",
         "fhv",
         41
        ],
        [
         "B00860",
         "fhv",
         42
        ],
        [
         "B01730",
         "fhv",
         43
        ],
        [
         "B02120",
         "fhv",
         44
        ],
        [
         "B02163",
         "fhv",
         45
        ],
        [
         "B02998",
         "fhv",
         46
        ],
        [
         "B03126",
         "fhv",
         47
        ],
        [
         "B01346",
         "fhv",
         48
        ],
        [
         "B01593",
         "fhv",
         49
        ],
        [
         "B01928",
         "fhv",
         50
        ],
        [
         "B00112",
         "fhv",
         51
        ],
        [
         "B03199",
         "fhv",
         52
        ],
        [
         "B01970",
         "fhv",
         53
        ],
        [
         "B00196",
         "fhv",
         54
        ],
        [
         "B00227",
         "fhv",
         55
        ],
        [
         "B03326",
         "fhv",
         56
        ],
        [
         "B01777",
         "fhv",
         57
        ],
        [
         "B01606",
         "fhv",
         58
        ],
        [
         "B02517",
         "fhv",
         59
        ],
        [
         "B03038",
         "fhv",
         60
        ],
        [
         "B01745",
         "fhv",
         61
        ],
        [
         "B01083",
         "fhv",
         62
        ],
        [
         "B01616",
         "fhv",
         63
        ],
        [
         "B00151",
         "fhv",
         64
        ],
        [
         "B00628",
         "fhv",
         65
        ],
        [
         "B03254",
         "fhv",
         66
        ],
        [
         "B02067",
         "fhv",
         67
        ],
        [
         "B03292",
         "fhv",
         68
        ],
        [
         "B00457",
         "fhv",
         69
        ],
        [
         "B03263",
         "fhv",
         70
        ],
        [
         "B03233",
         "fhv",
         71
        ],
        [
         "B00095",
         "fhv",
         72
        ],
        [
         "B02942",
         "fhv",
         73
        ],
        [
         "B03030",
         "fhv",
         74
        ],
        [
         "B03436",
         "fhv",
         75
        ],
        [
         "B00477",
         "fhv",
         76
        ],
        [
         "B02406",
         "fhv",
         77
        ],
        [
         "B01710",
         "fhv",
         78
        ],
        [
         "B03330",
         "fhv",
         79
        ],
        [
         "B02962",
         "fhv",
         80
        ],
        [
         "B01843",
         "fhv",
         81
        ],
        [
         "B02127",
         "fhv",
         82
        ],
        [
         "B02173",
         "fhv",
         83
        ],
        [
         "B02687",
         "fhv",
         84
        ],
        [
         "B02990",
         "fhv",
         85
        ],
        [
         "B01553",
         "fhv",
         86
        ],
        [
         "B00948",
         "fhv",
         87
        ],
        [
         "B03158",
         "fhv",
         88
        ],
        [
         "B02902",
         "fhv",
         89
        ],
        [
         "B01306",
         "fhv",
         90
        ],
        [
         "b02594",
         "fhv",
         91
        ],
        [
         "B01482",
         "fhv",
         92
        ],
        [
         "B01273",
         "fhv",
         93
        ],
        [
         "B01938",
         "fhv",
         94
        ],
        [
         "B02228",
         "fhv",
         95
        ],
        [
         "B03314",
         "fhv",
         96
        ],
        [
         "B03402",
         "fhv",
         97
        ],
        [
         "B02546",
         "fhv",
         98
        ],
        [
         "B02731",
         "fhv",
         99
        ],
        [
         "B03269",
         "fhv",
         100
        ],
        [
         "B03147",
         "fhv",
         101
        ],
        [
         "B02334",
         "fhv",
         102
        ],
        [
         "B02760",
         "fhv",
         103
        ],
        [
         "B02674",
         "fhv",
         104
        ],
        [
         "B02917",
         "fhv",
         105
        ],
        [
         "B01436",
         "fhv",
         106
        ],
        [
         "B02846",
         "fhv",
         107
        ],
        [
         "B02563",
         "fhv",
         108
        ],
        [
         "B00221",
         "fhv",
         109
        ],
        [
         "B03156",
         "fhv",
         110
        ],
        [
         "B03050",
         "fhv",
         111
        ],
        [
         "B01743",
         "fhv",
         112
        ],
        [
         "B00429",
         "fhv",
         113
        ],
        [
         "B01349",
         "fhv",
         114
        ],
        [
         "B02968",
         "fhv",
         115
        ],
        [
         "B01779",
         "fhv",
         116
        ],
        [
         "B00531",
         "fhv",
         117
        ],
        [
         "B01066",
         "fhv",
         118
        ],
        [
         "B02898",
         "fhv",
         119
        ],
        [
         "B03424",
         "fhv",
         120
        ],
        [
         "B02972",
         "fhv",
         121
        ],
        [
         "B03032",
         "fhv",
         122
        ],
        [
         "B03138",
         "fhv",
         123
        ],
        [
         "B03041",
         "fhv",
         124
        ],
        [
         "B02096",
         "fhv",
         125
        ],
        [
         "B01215",
         "fhv",
         126
        ],
        [
         "B00381",
         "fhv",
         127
        ],
        [
         "B02664",
         "fhv",
         128
        ],
        [
         "B03287",
         "fhv",
         129
        ],
        [
         "B00972",
         "fhv",
         130
        ],
        [
         "B01391",
         "fhv",
         131
        ],
        [
         "B03303",
         "fhv",
         132
        ],
        [
         "B00449",
         "fhv",
         133
        ],
        [
         "B02738",
         "fhv",
         134
        ],
        [
         "B01081",
         "fhv",
         135
        ],
        [
         "B02342",
         "fhv",
         136
        ],
        [
         "B00837",
         "fhv",
         137
        ],
        [
         "B01057",
         "fhv",
         138
        ],
        [
         "B01362",
         "fhv",
         139
        ],
        [
         "B03016",
         "fhv",
         140
        ],
        [
         "B02855",
         "fhv",
         141
        ],
        [
         "B02301",
         "fhv",
         142
        ],
        [
         "B01536",
         "fhv",
         143
        ],
        [
         "B02739",
         "fhv",
         144
        ],
        [
         "B03057",
         "fhv",
         145
        ],
        [
         "B01061",
         "fhv",
         146
        ],
        [
         "B01527",
         "fhv",
         147
        ],
        [
         "B03113",
         "fhv",
         148
        ],
        [
         "B02424",
         "fhv",
         149
        ],
        [
         "B02095",
         "fhv",
         150
        ],
        [
         "B03391",
         "fhv",
         151
        ],
        [
         "B00625",
         "fhv",
         152
        ],
        [
         "B03248",
         "fhv",
         153
        ],
        [
         "B03240",
         "fhv",
         154
        ],
        [
         "B02522",
         "fhv",
         155
        ],
        [
         "B00277",
         "fhv",
         156
        ],
        [
         "B02803",
         "fhv",
         157
        ],
        [
         "B01470",
         "fhv",
         158
        ],
        [
         "B00345",
         "fhv",
         159
        ],
        [
         "B02819",
         "fhv",
         160
        ],
        [
         "B01183",
         "fhv",
         161
        ],
        [
         "B01854",
         "fhv",
         162
        ],
        [
         "B01406",
         "fhv",
         163
        ],
        [
         "B02989",
         "fhv",
         164
        ],
        [
         "B01009",
         "fhv",
         165
        ],
        [
         "B03177",
         "fhv",
         166
        ],
        [
         "B01678",
         "fhv",
         167
        ],
        [
         "B02292",
         "fhv",
         168
        ],
        [
         "B01020",
         "fhv",
         169
        ],
        [
         "B02728",
         "fhv",
         170
        ],
        [
         "B02429",
         "fhv",
         171
        ],
        [
         "B03171",
         "fhv",
         172
        ],
        [
         "B02784",
         "fhv",
         173
        ],
        [
         "B03191",
         "fhv",
         174
        ],
        [
         "B03256",
         "fhv",
         175
        ],
        [
         "B03060",
         "fhv",
         176
        ],
        [
         "B03480",
         "fhv",
         177
        ],
        [
         "B01534",
         "fhv",
         178
        ],
        [
         "B01341",
         "fhv",
         179
        ],
        [
         "B01509",
         "fhv",
         180
        ],
        [
         "B02670",
         "fhv",
         181
        ],
        [
         "B03262",
         "fhv",
         182
        ],
        [
         "B03393",
         "fhv",
         183
        ],
        [
         "B01196",
         "fhv",
         184
        ],
        [
         "B01984",
         "fhv",
         185
        ],
        [
         "B02627",
         "fhv",
         186
        ],
        [
         "B03380",
         "fhv",
         187
        ],
        [
         "B02787",
         "fhv",
         188
        ],
        [
         "B03346",
         "fhv",
         189
        ],
        [
         "B01537",
         "fhv",
         190
        ],
        [
         "B01559",
         "fhv",
         191
        ],
        [
         "B02550",
         "fhv",
         192
        ],
        [
         "B01016",
         "fhv",
         193
        ],
        [
         "B01726",
         "fhv",
         194
        ],
        [
         "B02641",
         "fhv",
         195
        ],
        [
         "B01340",
         "fhv",
         196
        ],
        [
         "B01381",
         "fhv",
         197
        ],
        [
         "B02737",
         "fhv",
         198
        ],
        [
         "B01963",
         "fhv",
         199
        ],
        [
         "B01466",
         "fhv",
         200
        ],
        [
         "B02162",
         "fhv",
         201
        ],
        [
         "B01629",
         "fhv",
         202
        ],
        [
         "B02774",
         "fhv",
         203
        ],
        [
         "B02909",
         "fhv",
         204
        ],
        [
         "B02437",
         "fhv",
         205
        ],
        [
         "B02339",
         "fhv",
         206
        ],
        [
         "B03403",
         "fhv",
         207
        ],
        [
         "B03181",
         "fhv",
         208
        ],
        [
         "B03390",
         "fhv",
         209
        ],
        [
         "B01417",
         "fhv",
         210
        ],
        [
         "B00078",
         "fhv",
         211
        ],
        [
         "B01899",
         "fhv",
         212
        ],
        [
         "B03357",
         "fhv",
         213
        ],
        [
         "B01367",
         "fhv",
         214
        ],
        [
         "B01625",
         "fhv",
         215
        ],
        [
         "B02273",
         "fhv",
         216
        ],
        [
         "B02677",
         "fhv",
         217
        ],
        [
         "B02373",
         "fhv",
         218
        ],
        [
         "B03185",
         "fhv",
         219
        ],
        [
         "B03359",
         "fhv",
         220
        ],
        [
         "B00446",
         "fhv",
         221
        ],
        [
         "B02060",
         "fhv",
         222
        ],
        [
         "B02005",
         "fhv",
         223
        ],
        [
         "B01437",
         "fhv",
         224
        ],
        [
         "B00254",
         "fhv",
         225
        ],
        [
         "B00053",
         "fhv",
         226
        ],
        [
         "B02148",
         "fhv",
         227
        ],
        [
         "B00623",
         "fhv",
         228
        ],
        [
         "B00111",
         "fhv",
         229
        ],
        [
         "B01455",
         "fhv",
         230
        ],
        [
         "B00856",
         "fhv",
         231
        ],
        [
         "B02573",
         "fhv",
         232
        ],
        [
         "B01233",
         "fhv",
         233
        ],
        [
         "B00350",
         "fhv",
         234
        ],
        [
         "B03382",
         "fhv",
         235
        ],
        [
         "B02249",
         "fhv",
         236
        ],
        [
         "B03209",
         "fhv",
         237
        ],
        [
         "B01644",
         "fhv",
         238
        ],
        [
         "B02817",
         "fhv",
         239
        ],
        [
         "B03387",
         "fhv",
         240
        ],
        [
         "B02736",
         "fhv",
         241
        ],
        [
         "B03297",
         "fhv",
         242
        ],
        [
         "B02254",
         "fhv",
         243
        ],
        [
         "B00248",
         "fhv",
         244
        ],
        [
         "B01282",
         "fhv",
         245
        ],
        [
         "B02016",
         "fhv",
         246
        ],
        [
         "B02794",
         "fhv",
         247
        ],
        [
         "B03267",
         "fhv",
         248
        ],
        [
         "B02920",
         "fhv",
         249
        ],
        [
         "B01311",
         "fhv",
         250
        ],
        [
         "B02217",
         "fhv",
         251
        ],
        [
         "B02924",
         "fhv",
         252
        ],
        [
         "B00271",
         "fhv",
         253
        ],
        [
         "B00850",
         "fhv",
         254
        ],
        [
         "B02853",
         "fhv",
         255
        ],
        [
         "B01452",
         "fhv",
         256
        ],
        [
         "B02901",
         "fhv",
         257
        ],
        [
         "B02833",
         "fhv",
         258
        ],
        [
         "B02103",
         "fhv",
         259
        ],
        [
         "B03482",
         "fhv",
         260
        ],
        [
         "B00222",
         "fhv",
         261
        ],
        [
         "B01124",
         "fhv",
         262
        ],
        [
         "B02391",
         "fhv",
         263
        ],
        [
         "B01877",
         "fhv",
         264
        ],
        [
         "B01029",
         "fhv",
         265
        ],
        [
         "B01336",
         "fhv",
         266
        ],
        [
         "B03194",
         "fhv",
         267
        ],
        [
         "B02929",
         "fhv",
         268
        ],
        [
         "B02401",
         "fhv",
         269
        ],
        [
         "B02110",
         "fhv",
         270
        ],
        [
         "B03085",
         "fhv",
         271
        ],
        [
         "B02897",
         "fhv",
         272
        ],
        [
         "B02453",
         "fhv",
         273
        ],
        [
         "B00597",
         "fhv",
         274
        ],
        [
         "B03100",
         "fhv",
         275
        ],
        [
         "B03107",
         "fhv",
         276
        ],
        [
         "B03206",
         "fhv",
         277
        ],
        [
         "B01667",
         "fhv",
         278
        ],
        [
         "B01469",
         "fhv",
         279
        ],
        [
         "B03285",
         "fhv",
         280
        ],
        [
         "B01717",
         "fhv",
         281
        ],
        [
         "B03335",
         "fhv",
         282
        ],
        [
         "B00975",
         "fhv",
         283
        ],
        [
         "B03258",
         "fhv",
         284
        ],
        [
         "B01194",
         "fhv",
         285
        ],
        [
         "B00827",
         "fhv",
         286
        ],
        [
         "B03466",
         "fhv",
         287
        ],
        [
         "B03408",
         "fhv",
         288
        ],
        [
         "B02782",
         "fhv",
         289
        ],
        [
         "B02167",
         "fhv",
         290
        ],
        [
         "B00054",
         "fhv",
         291
        ],
        [
         "B02027",
         "fhv",
         292
        ],
        [
         "B00692",
         "fhv",
         293
        ],
        [
         "B01424",
         "fhv",
         294
        ],
        [
         "B03334",
         "fhv",
         295
        ],
        [
         "B03421",
         "fhv",
         296
        ],
        [
         "B02599",
         "fhv",
         297
        ],
        [
         "B01485",
         "fhv",
         298
        ],
        [
         "B03361",
         "fhv",
         299
        ],
        [
         "B03172",
         "fhv",
         300
        ],
        [
         "B00756",
         "fhv",
         301
        ],
        [
         "B00256",
         "fhv",
         302
        ],
        [
         "B03283",
         "fhv",
         303
        ],
        [
         "B00009",
         "fhv",
         304
        ],
        [
         "B02832",
         "fhv",
         305
        ],
        [
         "B01540",
         "fhv",
         306
        ],
        [
         "B03211",
         "fhv",
         307
        ],
        [
         "B03291",
         "fhv",
         308
        ],
        [
         "B03157",
         "fhv",
         309
        ],
        [
         "B03336",
         "fhv",
         310
        ],
        [
         "B02735",
         "fhv",
         311
        ],
        [
         "B03381",
         "fhv",
         312
        ],
        [
         "B01626",
         "fhv",
         313
        ],
        [
         "B03239",
         "fhv",
         314
        ],
        [
         "B03064",
         "fhv",
         315
        ],
        [
         "B02099",
         "fhv",
         316
        ],
        [
         "B02912",
         "fhv",
         317
        ],
        [
         "B00013",
         "fhv",
         318
        ],
        [
         "B03187",
         "fhv",
         319
        ],
        [
         "B01454",
         "fhv",
         320
        ],
        [
         "B02967",
         "fhv",
         321
        ],
        [
         "B00789",
         "fhv",
         322
        ],
        [
         "B02352",
         "fhv",
         323
        ],
        [
         "B02248",
         "fhv",
         324
        ],
        [
         "B02899",
         "fhv",
         325
        ],
        [
         "B03371",
         "fhv",
         326
        ],
        [
         "B03047",
         "fhv",
         327
        ],
        [
         "B00387",
         "fhv",
         328
        ],
        [
         "B00411",
         "fhv",
         329
        ],
        [
         "B02418",
         "fhv",
         330
        ],
        [
         "B03145",
         "fhv",
         331
        ],
        [
         "B01944",
         "fhv",
         332
        ],
        [
         "B01200",
         "fhv",
         333
        ],
        [
         "B01259",
         "fhv",
         334
        ],
        [
         "B02152",
         "fhv",
         335
        ],
        [
         "B02055",
         "fhv",
         336
        ],
        [
         "B00932",
         "fhv",
         337
        ],
        [
         "B00965",
         "fhv",
         338
        ],
        [
         "B02050",
         "fhv",
         339
        ],
        [
         "B03438",
         "fhv",
         340
        ],
        [
         "B03061",
         "fhv",
         341
        ],
        [
         "B00459",
         "fhv",
         342
        ],
        [
         "B03367",
         "fhv",
         343
        ],
        [
         "B00802",
         "fhv",
         344
        ],
        [
         "B02003",
         "fhv",
         345
        ],
        [
         "B03286",
         "fhv",
         346
        ],
        [
         "B00556",
         "fhv",
         347
        ],
        [
         "B01315",
         "fhv",
         348
        ],
        [
         "B03341",
         "fhv",
         349
        ],
        [
         "B01742",
         "fhv",
         350
        ],
        [
         "B02157",
         "fhv",
         351
        ],
        [
         "B03268",
         "fhv",
         352
        ],
        [
         "B03355",
         "fhv",
         353
        ],
        [
         "B02834",
         "fhv",
         354
        ],
        [
         "B02285",
         "fhv",
         355
        ],
        [
         "B03388",
         "fhv",
         356
        ],
        [
         "B00310",
         "fhv",
         357
        ],
        [
         "B02997",
         "fhv",
         358
        ],
        [
         "B03174",
         "fhv",
         359
        ],
        [
         "B03339",
         "fhv",
         360
        ],
        [
         "B01091",
         "fhv",
         361
        ],
        [
         "B03164",
         "fhv",
         362
        ],
        [
         "B01176",
         "fhv",
         363
        ],
        [
         "B02491",
         "fhv",
         364
        ],
        [
         "B01013",
         "fhv",
         365
        ],
        [
         "B00255",
         "fhv",
         366
        ],
        [
         "B03002",
         "fhv",
         367
        ],
        [
         "B03081",
         "fhv",
         368
        ],
        [
         "B02825",
         "fhv",
         369
        ],
        [
         "B02240",
         "fhv",
         370
        ],
        [
         "B03338",
         "fhv",
         371
        ],
        [
         "B00887",
         "fhv",
         372
        ],
        [
         "B00008",
         "fhv",
         373
        ],
        [
         "B02461",
         "fhv",
         374
        ],
        [
         "B01339",
         "fhv",
         375
        ],
        [
         "B02671",
         "fhv",
         376
        ],
        [
         "B02111",
         "fhv",
         377
        ],
        [
         "B03320",
         "fhv",
         378
        ],
        [
         "B03333",
         "fhv",
         379
        ],
        [
         "B02133",
         "fhv",
         380
        ],
        [
         "B02532",
         "fhv",
         381
        ],
        [
         "B03266",
         "fhv",
         382
        ],
        [
         "B02410",
         "fhv",
         383
        ],
        [
         "B01239",
         "fhv",
         384
        ],
        [
         "B01364",
         "fhv",
         385
        ],
        [
         "B03236",
         "fhv",
         386
        ],
        [
         "B02747",
         "fhv",
         387
        ],
        [
         "B02470",
         "fhv",
         388
        ],
        [
         "B03329",
         "fhv",
         389
        ],
        [
         "B03144",
         "fhv",
         390
        ],
        [
         "B02101",
         "fhv",
         391
        ],
        [
         "B00559",
         "fhv",
         392
        ],
        [
         "B03015",
         "fhv",
         393
        ],
        [
         "B02397",
         "fhv",
         394
        ],
        [
         "B02661",
         "fhv",
         395
        ],
        [
         "B02934",
         "fhv",
         396
        ],
        [
         "B02320",
         "fhv",
         397
        ],
        [
         "B03116",
         "fhv",
         398
        ],
        [
         "B02537",
         "fhv",
         399
        ],
        [
         "B01432",
         "fhv",
         400
        ],
        [
         "B03033",
         "fhv",
         401
        ],
        [
         "B03153",
         "fhv",
         402
        ],
        [
         "B00821",
         "fhv",
         403
        ],
        [
         "B02536",
         "fhv",
         404
        ],
        [
         "B03074",
         "fhv",
         405
        ],
        [
         "B03105",
         "fhv",
         406
        ],
        [
         "B02838",
         "fhv",
         407
        ],
        [
         "B02207",
         "fhv",
         408
        ],
        [
         "B02849",
         "fhv",
         409
        ],
        [
         "B00889",
         "fhv",
         410
        ],
        [
         "B01871",
         "fhv",
         411
        ],
        [
         "B03492",
         "fhv",
         412
        ],
        [
         "B01079",
         "fhv",
         413
        ],
        [
         "B02799",
         "fhv",
         414
        ],
        [
         "B01958",
         "fhv",
         415
        ],
        [
         "B00823",
         "fhv",
         416
        ],
        [
         "B02462",
         "fhv",
         417
        ],
        [
         "B02629",
         "fhv",
         418
        ],
        [
         "B02531",
         "fhv",
         419
        ],
        [
         "B01065",
         "fhv",
         420
        ],
        [
         "B00536",
         "fhv",
         421
        ],
        [
         "B00937",
         "fhv",
         422
        ],
        [
         "B01312",
         "fhv",
         423
        ],
        [
         "B03055",
         "fhv",
         424
        ],
        [
         "B00280",
         "fhv",
         425
        ],
        [
         "B02315",
         "fhv",
         426
        ],
        [
         "B02811",
         "fhv",
         427
        ],
        [
         "B01280",
         "fhv",
         428
        ],
        [
         "B03281",
         "fhv",
         429
        ],
        [
         "B01803",
         "fhv",
         430
        ],
        [
         "B02762",
         "fhv",
         431
        ],
        [
         "B03284",
         "fhv",
         432
        ],
        [
         "B01639",
         "fhv",
         433
        ],
        [
         "B02881",
         "fhv",
         434
        ],
        [
         "B03343",
         "fhv",
         435
        ],
        [
         "B00272",
         "fhv",
         436
        ],
        [
         "B01601",
         "fhv",
         437
        ],
        [
         "B02756",
         "fhv",
         438
        ],
        [
         "B03299",
         "fhv",
         439
        ],
        [
         "B01386",
         "fhv",
         440
        ],
        [
         "B03197",
         "fhv",
         441
        ],
        [
         "B03433",
         "fhv",
         442
        ],
        [
         "B03312",
         "fhv",
         443
        ],
        [
         "B02416",
         "fhv",
         444
        ],
        [
         "B01445",
         "fhv",
         445
        ],
        [
         "B02093",
         "fhv",
         446
        ],
        [
         "B03097",
         "fhv",
         447
        ],
        [
         "B00911",
         "fhv",
         448
        ],
        [
         "B01128",
         "fhv",
         449
        ],
        [
         "B03340",
         "fhv",
         450
        ],
        [
         "B01236",
         "fhv",
         451
        ],
        [
         "B03166",
         "fhv",
         452
        ],
        [
         "B02298",
         "fhv",
         453
        ],
        [
         "B00647",
         "fhv",
         454
        ],
        [
         "B02509",
         "fhv",
         455
        ],
        [
         "B00706",
         "fhv",
         456
        ],
        [
         "B02107",
         "fhv",
         457
        ],
        [
         "B03321",
         "fhv",
         458
        ],
        [
         "B02613",
         "fhv",
         459
        ],
        [
         "B00001",
         "fhv",
         460
        ],
        [
         "B02724",
         "fhv",
         461
        ],
        [
         "B02699",
         "fhv",
         462
        ],
        [
         "B02279",
         "fhv",
         463
        ],
        [
         "B03352",
         "fhv",
         464
        ],
        [
         "B02905",
         "fhv",
         465
        ],
        [
         "B01980",
         "fhv",
         466
        ],
        [
         "B02987",
         "fhv",
         467
        ],
        [
         "B02557",
         "fhv",
         468
        ],
        [
         "B00412",
         "fhv",
         469
        ],
        [
         "B01145",
         "fhv",
         470
        ],
        [
         "B03296",
         "fhv",
         471
        ],
        [
         "B03017",
         "fhv",
         472
        ],
        [
         "B03324",
         "fhv",
         473
        ],
        [
         "B03018",
         "fhv",
         474
        ],
        [
         "B00037",
         "fhv",
         475
        ],
        [
         "B02021",
         "fhv",
         476
        ],
        [
         "B01231",
         "fhv",
         477
        ],
        [
         "B03046",
         "fhv",
         478
        ],
        [
         "B01995",
         "fhv",
         479
        ],
        [
         "B01568",
         "fhv",
         480
        ],
        [
         "B03139",
         "fhv",
         481
        ],
        [
         "B03051",
         "fhv",
         482
        ],
        [
         "B03275",
         "fhv",
         483
        ],
        [
         "B01738",
         "fhv",
         484
        ],
        [
         "B02971",
         "fhv",
         485
        ],
        [
         "B01285",
         "fhv",
         486
        ],
        [
         "B00900",
         "fhv",
         487
        ],
        [
         "B02823",
         "fhv",
         488
        ],
        [
         "B01087",
         "fhv",
         489
        ],
        [
         "B02182",
         "fhv",
         490
        ],
        [
         "B01800",
         "fhv",
         491
        ],
        [
         "B00202",
         "fhv",
         492
        ],
        [
         "B02472",
         "fhv",
         493
        ],
        [
         "B02144",
         "fhv",
         494
        ],
        [
         "B03104",
         "fhv",
         495
        ],
        [
         "B02594",
         "fhv",
         496
        ],
        [
         "B02930",
         "fhv",
         497
        ],
        [
         "B02947",
         "fhv",
         498
        ],
        [
         "B03037",
         "fhv",
         499
        ],
        [
         "B03123",
         "fhv",
         500
        ],
        [
         "B02795",
         "fhv",
         501
        ],
        [
         "B00888",
         "fhv",
         502
        ],
        [
         "B01721",
         "fhv",
         503
        ],
        [
         "B03040",
         "fhv",
         504
        ],
        [
         "B03208",
         "fhv",
         505
        ],
        [
         "B03202",
         "fhv",
         506
        ],
        [
         "B02860",
         "fhv",
         507
        ],
        [
         "B03505",
         "fhv",
         508
        ],
        [
         "B03204",
         "fhv",
         509
        ],
        [
         "B01600",
         "fhv",
         510
        ],
        [
         "B02949",
         "fhv",
         511
        ],
        [
         "B02725",
         "fhv",
         512
        ],
        [
         "B03308",
         "fhv",
         513
        ],
        [
         "B03137",
         "fhv",
         514
        ],
        [
         "B00919",
         "fhv",
         515
        ],
        [
         "B02824",
         "fhv",
         516
        ],
        [
         "B03456",
         "fhv",
         517
        ],
        [
         "B03494",
         "fhv",
         518
        ],
        [
         "B02913",
         "fhv",
         519
        ],
        [
         "B03423",
         "fhv",
         520
        ],
        [
         "b00429",
         "fhv",
         521
        ],
        [
         "B03517",
         "fhv",
         522
        ],
        [
         "B03298",
         "fhv",
         523
        ],
        [
         "B03513",
         "fhv",
         524
        ],
        [
         "B03409",
         "fhv",
         525
        ],
        [
         "B03419",
         "fhv",
         526
        ],
        [
         "B03368",
         "fhv",
         527
        ],
        [
         "B03344",
         "fhv",
         528
        ],
        [
         "B03425",
         "fhv",
         529
        ],
        [
         "B03500",
         "fhv",
         530
        ],
        [
         "B02797",
         "fhv",
         531
        ],
        [
         "B03348",
         "fhv",
         532
        ],
        [
         "B03478",
         "fhv",
         533
        ],
        [
         "B03504",
         "fhv",
         534
        ],
        [
         "B03170",
         "fhv",
         535
        ],
        [
         "B02944",
         "fhv",
         536
        ],
        [
         "B01300",
         "fhv",
         537
        ],
        [
         "B03200",
         "fhv",
         538
        ],
        [
         "B03435",
         "fhv",
         539
        ],
        [
         "B03173",
         "fhv",
         540
        ],
        [
         "B00987",
         "fhv",
         541
        ],
        [
         "B03375",
         "fhv",
         542
        ],
        [
         "B01392",
         "fhv",
         543
        ],
        [
         "B02925",
         "fhv",
         544
        ],
        [
         "B03140",
         "fhv",
         545
        ],
        [
         "B00811",
         "fhv",
         546
        ],
        [
         "B01318",
         "fhv",
         547
        ],
        [
         "B03218",
         "fhv",
         548
        ],
        [
         "B01269",
         "fhv",
         549
        ],
        [
         "B01109",
         "fhv",
         550
        ],
        [
         "B01308",
         "fhv",
         551
        ],
        [
         "B03101",
         "fhv",
         552
        ],
        [
         "B02180",
         "fhv",
         553
        ],
        [
         "B02634",
         "fhv",
         554
        ],
        [
         "B03198",
         "fhv",
         555
        ],
        [
         "B00693",
         "fhv",
         556
        ],
        [
         "B03117",
         "fhv",
         557
        ],
        [
         "B02856",
         "fhv",
         558
        ],
        [
         "B03331",
         "fhv",
         559
        ],
        [
         "B02956",
         "fhv",
         560
        ],
        [
         "B03022",
         "fhv",
         561
        ],
        [
         "B03006",
         "fhv",
         562
        ],
        [
         "B03364",
         "fhv",
         563
        ],
        [
         "B02686",
         "fhv",
         564
        ],
        [
         "B01679",
         "fhv",
         565
        ],
        [
         "B00296",
         "fhv",
         566
        ],
        [
         "B02783",
         "fhv",
         567
        ],
        [
         "B02751",
         "fhv",
         568
        ],
        [
         "B03327",
         "fhv",
         569
        ],
        [
         "B03366",
         "fhv",
         570
        ],
        [
         "B03356",
         "fhv",
         571
        ],
        [
         "b00706",
         "fhv",
         572
        ],
        [
         "B00021",
         "fhv",
         573
        ],
        [
         "B02903",
         "fhv",
         574
        ],
        [
         "B01623",
         "fhv",
         575
        ],
        [
         "B02729",
         "fhv",
         576
        ],
        [
         "B00171",
         "fhv",
         577
        ],
        [
         "B02653",
         "fhv",
         578
        ],
        [
         "B02008",
         "fhv",
         579
        ],
        [
         "B00619",
         "fhv",
         580
        ],
        [
         "B03226",
         "fhv",
         581
        ],
        [
         "B02840",
         "fhv",
         582
        ],
        [
         "B01699",
         "fhv",
         583
        ],
        [
         "B03316",
         "fhv",
         584
        ],
        [
         "B01288",
         "fhv",
         585
        ],
        [
         "B01069",
         "fhv",
         586
        ],
        [
         "B02253",
         "fhv",
         587
        ],
        [
         "B02569",
         "fhv",
         588
        ],
        [
         "B03337",
         "fhv",
         589
        ],
        [
         "B03011",
         "fhv",
         590
        ],
        [
         "B03106",
         "fhv",
         591
        ],
        [
         "B03250",
         "fhv",
         592
        ],
        [
         "B02245",
         "fhv",
         593
        ],
        [
         "B01250",
         "fhv",
         594
        ],
        [
         "B03323",
         "fhv",
         595
        ],
        [
         "B00290",
         "fhv",
         596
        ],
        [
         "B03360",
         "fhv",
         597
        ],
        [
         "B02996",
         "fhv",
         598
        ],
        [
         "B01039",
         "fhv",
         599
        ],
        [
         "B01510",
         "fhv",
         600
        ],
        [
         "B03128",
         "fhv",
         601
        ],
        [
         "B02727",
         "fhv",
         602
        ],
        [
         "B03160",
         "fhv",
         603
        ],
        [
         "B01811",
         "fhv",
         604
        ],
        [
         "B02138",
         "fhv",
         605
        ],
        [
         "B01479",
         "fhv",
         606
        ],
        [
         "B03369",
         "fhv",
         607
        ],
        [
         "B03124",
         "fhv",
         608
        ],
        [
         "B03398",
         "fhv",
         609
        ],
        [
         "b02339",
         "fhv",
         610
        ],
        [
         "b02418",
         "fhv",
         611
        ],
        [
         "B03235",
         "fhv",
         612
        ],
        [
         "B02330",
         "fhv",
         613
        ],
        [
         "B02657",
         "fhv",
         614
        ],
        [
         "B03353",
         "fhv",
         615
        ],
        [
         "b01710",
         "fhv",
         616
        ],
        [
         "B02892",
         "fhv",
         617
        ],
        [
         "B03529",
         "fhv",
         618
        ],
        [
         "B03295",
         "fhv",
         619
        ],
        [
         "B03523",
         "fhv",
         620
        ],
        [
         "B03530",
         "fhv",
         621
        ],
        [
         "B03447",
         "fhv",
         622
        ],
        [
         "B03506",
         "fhv",
         623
        ],
        [
         "B03399",
         "fhv",
         624
        ],
        [
         "b01349",
         "fhv",
         625
        ],
        [
         "B03049",
         "fhv",
         626
        ],
        [
         "B03512",
         "fhv",
         627
        ],
        [
         "B03230",
         "fhv",
         628
        ],
        [
         "B03462",
         "fhv",
         629
        ],
        [
         "B03554",
         "fhv",
         630
        ],
        [
         "B03377",
         "fhv",
         631
        ],
        [
         "B03551",
         "fhv",
         632
        ],
        [
         "B01118",
         "fhv",
         633
        ],
        [
         "B03473",
         "fhv",
         634
        ],
        [
         "B03278",
         "fhv",
         635
        ],
        [
         "B03440",
         "fhv",
         636
        ],
        [
         "B03531",
         "fhv",
         637
        ],
        [
         "B03470",
         "fhv",
         638
        ],
        [
         "B03252",
         "fhv",
         639
        ],
        [
         "B03475",
         "fhv",
         640
        ],
        [
         "B03446",
         "fhv",
         641
        ],
        [
         "B03463",
         "fhv",
         642
        ],
        [
         "B03111",
         "fhv",
         643
        ],
        [
         "B03565",
         "fhv",
         644
        ],
        [
         "B03279",
         "fhv",
         645
        ],
        [
         "B00401",
         "fhv",
         646
        ],
        [
         "B01907",
         "fhv",
         647
        ],
        [
         "B03214",
         "fhv",
         648
        ],
        [
         "B01328 ",
         "fhv",
         649
        ],
        [
         "B00492",
         "fhv",
         650
        ],
        [
         "B02709",
         "fhv",
         651
        ],
        [
         "B00727",
         "fhv",
         652
        ],
        [
         "B02534",
         "fhv",
         653
        ],
        [
         "b00833",
         "fhv",
         654
        ],
        [
         "B01629 ",
         "fhv",
         655
        ],
        [
         "B03231",
         "fhv",
         656
        ],
        [
         "B02106",
         "fhv",
         657
        ],
        [
         "B02004",
         "fhv",
         658
        ],
        [
         "B02293",
         "fhv",
         659
        ],
        [
         "B02637",
         "fhv",
         660
        ],
        [
         "B00991",
         "fhv",
         661
        ],
        [
         "B02970",
         "fhv",
         662
        ],
        [
         "B03020",
         "fhv",
         663
        ],
        [
         "B01129",
         "fhv",
         664
        ],
        [
         "B01088",
         "fhv",
         665
        ],
        [
         "B02254 ",
         "fhv",
         666
        ],
        [
         "B02826",
         "fhv",
         667
        ],
        [
         "B03242",
         "fhv",
         668
        ],
        [
         "B03310",
         "fhv",
         669
        ],
        [
         "B02055 ",
         "fhv",
         670
        ],
        [
         "B02517         ",
         "fhv",
         671
        ],
        [
         "B00889         ",
         "fhv",
         672
        ],
        [
         "B03184",
         "fhv",
         673
        ],
        [
         "B02004 ",
         "fhv",
         674
        ],
        [
         "B01821",
         "fhv",
         675
        ],
        [
         "B03059",
         "fhv",
         676
        ],
        [
         "B02191",
         "fhv",
         677
        ],
        [
         "B03162",
         "fhv",
         678
        ],
        [
         "B01525",
         "fhv",
         679
        ],
        [
         "B02995",
         "fhv",
         680
        ],
        [
         "B00346",
         "fhv",
         681
        ],
        [
         "B01700",
         "fhv",
         682
        ],
        [
         "B02566",
         "fhv",
         683
        ],
        [
         "B01176         ",
         "fhv",
         684
        ],
        [
         "B02574",
         "fhv",
         685
        ],
        [
         "B02597",
         "fhv",
         686
        ],
        [
         "B01614",
         "fhv",
         687
        ],
        [
         "B03048",
         "fhv",
         688
        ],
        [
         "B01197",
         "fhv",
         689
        ],
        [
         "B01653",
         "fhv",
         690
        ],
        [
         "B02379",
         "fhv",
         691
        ],
        [
         "B03268         ",
         "fhv",
         692
        ],
        [
         "B00472",
         "fhv",
         693
        ],
        [
         "B03193",
         "fhv",
         694
        ],
        [
         "B01470     ",
         "fhv",
         695
        ],
        [
         "B02416         ",
         "fhv",
         696
        ],
        [
         "B01051",
         "fhv",
         697
        ],
        [
         "B02229",
         "fhv",
         698
        ],
        [
         "B00160",
         "fhv",
         699
        ],
        [
         "B02627                  ",
         "fhv",
         700
        ],
        [
         "B00855",
         "fhv",
         701
        ],
        [
         "B03023",
         "fhv",
         702
        ],
        [
         "B00882",
         "fhv",
         703
        ],
        [
         "B03246",
         "fhv",
         704
        ],
        [
         "B02462         ",
         "fhv",
         705
        ],
        [
         "B01985",
         "fhv",
         706
        ],
        [
         "B00319",
         "fhv",
         707
        ],
        [
         "B01364         ",
         "fhv",
         708
        ],
        [
         "B02951",
         "fhv",
         709
        ],
        [
         "B01846",
         "fhv",
         710
        ],
        [
         "B02921",
         "fhv",
         711
        ],
        [
         "B01190",
         "fhv",
         712
        ],
        [
         "B03072",
         "fhv",
         713
        ],
        [
         "B01470         ",
         "fhv",
         714
        ],
        [
         "B02553         ",
         "fhv",
         715
        ],
        [
         "B00625         ",
         "fhv",
         716
        ],
        [
         "B02460",
         "fhv",
         717
        ],
        [
         "B01215         ",
         "fhv",
         718
        ],
        [
         "B02551",
         "fhv",
         719
        ],
        [
         "B02711",
         "fhv",
         720
        ],
        [
         "B03092",
         "fhv",
         721
        ],
        [
         "B00131",
         "fhv",
         722
        ],
        [
         "B02809",
         "fhv",
         723
        ],
        [
         "B01529",
         "fhv",
         724
        ],
        [
         "B00653",
         "fhv",
         725
        ],
        [
         "B00955         ",
         "fhv",
         726
        ],
        [
         "B01467         ",
         "fhv",
         727
        ],
        [
         "B03285         ",
         "fhv",
         728
        ],
        [
         "B02037",
         "fhv",
         729
        ],
        [
         "B01309",
         "fhv",
         730
        ],
        [
         "B01066         ",
         "fhv",
         731
        ],
        [
         "B01693",
         "fhv",
         732
        ],
        [
         "B00030",
         "fhv",
         733
        ],
        [
         "B01568       ",
         "fhv",
         734
        ],
        [
         "B01263",
         "fhv",
         735
        ],
        [
         "B00290         ",
         "fhv",
         736
        ],
        [
         "B00210",
         "fhv",
         737
        ],
        [
         "B01739         ",
         "fhv",
         738
        ],
        [
         "B01964",
         "fhv",
         739
        ],
        [
         "B02279         ",
         "fhv",
         740
        ],
        [
         "B00021         ",
         "fhv",
         741
        ],
        [
         "B03062",
         "fhv",
         742
        ],
        [
         "B00419",
         "fhv",
         743
        ],
        [
         "B01534 ",
         "fhv",
         744
        ],
        [
         "B03076         ",
         "fhv",
         745
        ],
        [
         "B02535",
         "fhv",
         746
        ],
        [
         "B01995         ",
         "fhv",
         747
        ],
        [
         "B03257",
         "fhv",
         748
        ],
        [
         "B01343",
         "fhv",
         749
        ],
        [
         "B03220",
         "fhv",
         750
        ],
        [
         "B01351",
         "fhv",
         751
        ],
        [
         "B03080",
         "fhv",
         752
        ],
        [
         "B02988",
         "fhv",
         753
        ],
        [
         "B01389",
         "fhv",
         754
        ],
        [
         "B01436         ",
         "fhv",
         755
        ],
        [
         "B02408",
         "fhv",
         756
        ],
        [
         "B02769",
         "fhv",
         757
        ],
        [
         "B00975         ",
         "fhv",
         758
        ],
        [
         "B02196",
         "fhv",
         759
        ],
        [
         "B01568         ",
         "fhv",
         760
        ],
        [
         "B03084         ",
         "fhv",
         761
        ],
        [
         "B01124         ",
         "fhv",
         762
        ],
        [
         "B02243",
         "fhv",
         763
        ],
        [
         "B01328",
         "fhv",
         764
        ],
        [
         "B02026",
         "fhv",
         765
        ],
        [
         "B03280",
         "fhv",
         766
        ],
        [
         "B03130",
         "fhv",
         767
        ],
        [
         "B02811 ",
         "fhv",
         768
        ],
        [
         "B03270",
         "fhv",
         769
        ],
        [
         "B03119",
         "fhv",
         770
        ],
        [
         "B03331         ",
         "fhv",
         771
        ],
        [
         "B00639",
         "fhv",
         772
        ],
        [
         "B03290",
         "fhv",
         773
        ],
        [
         "B00955",
         "fhv",
         774
        ],
        [
         "B03255",
         "fhv",
         775
        ],
        [
         "B03186",
         "fhv",
         776
        ],
        [
         "B03328         ",
         "fhv",
         777
        ],
        [
         "B03327         ",
         "fhv",
         778
        ],
        [
         "B00833",
         "fhv",
         779
        ],
        [
         "B03522",
         "fhv",
         780
        ],
        [
         "B02507",
         "fhv",
         781
        ],
        [
         "B03407",
         "fhv",
         782
        ],
        [
         "B03614",
         "fhv",
         783
        ],
        [
         "B03534",
         "fhv",
         784
        ],
        [
         "B03646",
         "fhv",
         785
        ],
        [
         "B03617",
         "fhv",
         786
        ],
        [
         "B03127",
         "fhv",
         787
        ],
        [
         "B03525",
         "fhv",
         788
        ],
        [
         "B03430",
         "fhv",
         789
        ],
        [
         "B03582",
         "fhv",
         790
        ],
        [
         "B03370",
         "fhv",
         791
        ],
        [
         "B03653",
         "fhv",
         792
        ],
        [
         "B03578",
         "fhv",
         793
        ],
        [
         "B03590",
         "fhv",
         794
        ],
        [
         "B03544",
         "fhv",
         795
        ],
        [
         "B03426",
         "fhv",
         796
        ],
        [
         "B03603",
         "fhv",
         797
        ],
        [
         "B03557",
         "fhv",
         798
        ],
        [
         "B03562",
         "fhv",
         799
        ],
        [
         "B03553",
         "fhv",
         800
        ],
        [
         "B03584",
         "fhv",
         801
        ],
        [
         "B03477",
         "fhv",
         802
        ],
        [
         "b03464",
         "fhv",
         803
        ],
        [
         "B03471",
         "fhv",
         804
        ],
        [
         "B03396",
         "fhv",
         805
        ],
        [
         "B03524",
         "fhv",
         806
        ],
        [
         "B03569",
         "fhv",
         807
        ],
        [
         "B03514",
         "fhv",
         808
        ],
        [
         "B03599",
         "fhv",
         809
        ],
        [
         "B03627",
         "fhv",
         810
        ],
        [
         "B03622",
         "fhv",
         811
        ],
        [
         "B03207",
         "fhv",
         812
        ],
        [
         "B03572",
         "fhv",
         813
        ],
        [
         "B03445",
         "fhv",
         814
        ],
        [
         "B03618",
         "fhv",
         815
        ],
        [
         "B03637",
         "fhv",
         816
        ],
        [
         "B03577",
         "fhv",
         817
        ],
        [
         "B03654",
         "fhv",
         818
        ],
        [
         "B03659",
         "fhv",
         819
        ],
        [
         "B03567",
         "fhv",
         820
        ],
        [
         "B03581",
         "fhv",
         821
        ],
        [
         "B03502",
         "fhv",
         822
        ],
        [
         "B00306",
         "fhv",
         823
        ],
        [
         "B90612",
         "fhv",
         824
        ],
        [
         "B03464",
         "fhv",
         825
        ],
        [
         "B03558",
         "fhv",
         826
        ],
        [
         "b02167",
         "fhv",
         827
        ],
        [
         "B03570",
         "fhv",
         828
        ],
        [
         "B01957",
         "fhv",
         829
        ],
        [
         "B01444",
         "fhv",
         830
        ],
        [
         "B03094",
         "fhv",
         831
        ],
        [
         "b00639",
         "fhv",
         832
        ],
        [
         "B03125    ",
         "fhv",
         833
        ],
        [
         "B00318",
         "fhv",
         834
        ],
        [
         "B01751",
         "fhv",
         835
        ],
        [
         "B03159",
         "fhv",
         836
        ],
        [
         "B03096",
         "fhv",
         837
        ],
        [
         "B03247",
         "fhv",
         838
        ],
        [
         "B02790",
         "fhv",
         839
        ],
        [
         "B00990",
         "fhv",
         840
        ],
        [
         "B01678         ",
         "fhv",
         841
        ],
        [
         "B02965",
         "fhv",
         842
        ],
        [
         "B01326         ",
         "fhv",
         843
        ],
        [
         "B01711         ",
         "fhv",
         844
        ],
        [
         "B00337",
         "fhv",
         845
        ],
        [
         "B02552",
         "fhv",
         846
        ],
        [
         "B00056",
         "fhv",
         847
        ],
        [
         "B03243",
         "fhv",
         848
        ],
        [
         "B01420",
         "fhv",
         849
        ],
        [
         "B01674         ",
         "fhv",
         850
        ],
        [
         "B03161",
         "fhv",
         851
        ],
        [
         "B02590",
         "fhv",
         852
        ],
        [
         "B03083",
         "fhv",
         853
        ],
        [
         "B02841",
         "fhv",
         854
        ],
        [
         "B01989",
         "fhv",
         855
        ],
        [
         "B03236         ",
         "fhv",
         856
        ],
        [
         "B03196",
         "fhv",
         857
        ],
        [
         "B02335",
         "fhv",
         858
        ],
        [
         "B03113         ",
         "fhv",
         859
        ],
        [
         "B01398",
         "fhv",
         860
        ],
        [
         "B02715",
         "fhv",
         861
        ],
        [
         "B00039",
         "fhv",
         862
        ],
        [
         "B02793         ",
         "fhv",
         863
        ],
        [
         "B01332",
         "fhv",
         864
        ],
        [
         "B03007",
         "fhv",
         865
        ],
        [
         "B02891",
         "fhv",
         866
        ],
        [
         "B02447",
         "fhv",
         867
        ],
        [
         "B03261",
         "fhv",
         868
        ],
        [
         "b01700",
         "fhv",
         869
        ],
        [
         "B02839",
         "fhv",
         870
        ],
        [
         "B00984",
         "fhv",
         871
        ],
        [
         "B02468",
         "fhv",
         872
        ],
        [
         "B02389",
         "fhv",
         873
        ],
        [
         "B02252",
         "fhv",
         874
        ],
        [
         "B02011",
         "fhv",
         875
        ],
        [
         "B00325         ",
         "fhv",
         876
        ],
        [
         "B01808",
         "fhv",
         877
        ],
        [
         "B02963",
         "fhv",
         878
        ],
        [
         "B01148",
         "fhv",
         879
        ],
        [
         "B01568        ",
         "fhv",
         880
        ],
        [
         "B03077",
         "fhv",
         881
        ],
        [
         "B02200",
         "fhv",
         882
        ],
        [
         "B01876",
         "fhv",
         883
        ],
        [
         "B03031",
         "fhv",
         884
        ],
        [
         "B02369",
         "fhv",
         885
        ],
        [
         "B00031",
         "fhv",
         886
        ],
        [
         "B02651",
         "fhv",
         887
        ],
        [
         "B03129",
         "fhv",
         888
        ],
        [
         "B00369",
         "fhv",
         889
        ],
        [
         "B02554",
         "fhv",
         890
        ],
        [
         "B02346",
         "fhv",
         891
        ],
        [
         "B02643",
         "fhv",
         892
        ],
        [
         "B01801",
         "fhv",
         893
        ],
        [
         "B03125 ",
         "fhv",
         894
        ],
        [
         "B03188         ",
         "fhv",
         895
        ],
        [
         "B03142",
         "fhv",
         896
        ],
        [
         "B01081 ",
         "fhv",
         897
        ],
        [
         "B01146",
         "fhv",
         898
        ],
        [
         "B00325",
         "fhv",
         899
        ],
        [
         "B02360",
         "fhv",
         900
        ],
        [
         "B01244",
         "fhv",
         901
        ],
        [
         "B02440",
         "fhv",
         902
        ],
        [
         "B03078",
         "fhv",
         903
        ],
        [
         "B01949",
         "fhv",
         904
        ],
        [
         "B03024",
         "fhv",
         905
        ],
        [
         "B03125",
         "fhv",
         906
        ],
        [
         "B01875",
         "fhv",
         907
        ],
        [
         "B02175",
         "fhv",
         908
        ],
        [
         "B02219",
         "fhv",
         909
        ],
        [
         "B03110",
         "fhv",
         910
        ],
        [
         "B00552",
         "fhv",
         911
        ],
        [
         "B03135",
         "fhv",
         912
        ],
        [
         "B03069",
         "fhv",
         913
        ],
        [
         "B01764",
         "fhv",
         914
        ],
        [
         "B00746         ",
         "fhv",
         915
        ],
        [
         "B02390",
         "fhv",
         916
        ],
        [
         "b01445",
         "fhv",
         917
        ],
        [
         "B02465",
         "fhv",
         918
        ],
        [
         "B03213",
         "fhv",
         919
        ],
        [
         "B02806         ",
         "fhv",
         920
        ],
        [
         "B02944 ",
         "fhv",
         921
        ],
        [
         "B03109",
         "fhv",
         922
        ],
        [
         "B03293",
         "fhv",
         923
        ],
        [
         "B02288",
         "fhv",
         924
        ],
        [
         "B03324         ",
         "fhv",
         925
        ],
        [
         "B01979",
         "fhv",
         926
        ],
        [
         "b03340",
         "fhv",
         927
        ],
        [
         "B03644",
         "fhv",
         928
        ],
        [
         "B03632",
         "fhv",
         929
        ],
        [
         "B03601",
         "fhv",
         930
        ],
        [
         "B03465",
         "fhv",
         931
        ],
        [
         "B03669",
         "fhv",
         932
        ],
        [
         "B01243",
         "fhv",
         933
        ],
        [
         "HV0005",
         "fhvhv",
         934
        ],
        [
         "HV0003",
         "fhvhv",
         935
        ],
        [
         "HV0004",
         "fhvhv",
         936
        ]
       ],
       "datasetInfos": [],
       "dbfsResultPath": null,
       "isJsonSchema": true,
       "metadata": {},
       "overflow": false,
       "plotOptions": {
        "customPlotOptions": {},
        "displayType": "table",
        "pivotAggregation": null,
        "pivotColumns": null,
        "xColumns": null,
        "yColumns": null
       },
       "removedWidgets": [],
       "schema": [
        {
         "metadata": "{}",
         "name": "vendor_code_key",
         "type": "\"string\""
        },
        {
         "metadata": "{}",
         "name": "trip_type",
         "type": "\"string\""
        },
        {
         "metadata": "{}",
         "name": "vendor_id",
         "type": "\"long\""
        }
       ],
       "type": "table"
      }
     },
     "output_type": "display_data"
    }
   ],
   "source": [
    "from pyspark.sql.functions import lit\n",
    "\n",
    "vendor_taxi = (\n",
    "    silver_taxi_df\n",
    "    .select(col(\"vendor_id\").cast(\"string\").alias(\"vendor_code_key\"))\n",
    "    .distinct()\n",
    "    .withColumn(\"trip_type\", lit(\"taxi\"))\n",
    ")\n",
    "\n",
    "vendor_fhv = (\n",
    "    silver_fhv_df\n",
    "    .select(col(\"dispatching_base_num\").alias(\"vendor_code_key\"))\n",
    "    .distinct()\n",
    "    .withColumn(\"trip_type\", lit(\"fhv\"))\n",
    ")\n",
    "\n",
    "vendor_fhvhv = (\n",
    "    silver_fhvhv_df\n",
    "    .select(col(\"hvfhs_license_num\").alias(\"vendor_code_key\"))\n",
    "    .distinct()\n",
    "    .withColumn(\"trip_type\", lit(\"fhvhv\"))\n",
    ")\n",
    "\n",
    "vendor_df = vendor_taxi.unionByName(vendor_fhv).unionByName(vendor_fhvhv)\n",
    "vendor_df = vendor_df.withColumn(\"vendor_id\", monotonically_increasing_id())\n",
    "vendor_df.display()\n",
    "\n",
    "vendor_df.write.format(\"delta\").mode(\"overwrite\").save(f\"{GOLD_BASE}/dim_vendor\")"
   ]
  },
  {
   "cell_type": "code",
   "execution_count": 0,
   "metadata": {
    "application/vnd.databricks.v1+cell": {
     "cellMetadata": {
      "byteLimit": 2048000,
      "rowLimit": 10000
     },
     "inputWidgets": {},
     "nuid": "ee02a01e-0e40-4d79-b923-3efbab382a14",
     "showTitle": false,
     "tableResultSettingsMap": {},
     "title": ""
    }
   },
   "outputs": [
    {
     "data": {
      "text/html": [
       "<style scoped>\n",
       "  .table-result-container {\n",
       "    max-height: 300px;\n",
       "    overflow: auto;\n",
       "  }\n",
       "  table, th, td {\n",
       "    border: 1px solid black;\n",
       "    border-collapse: collapse;\n",
       "  }\n",
       "  th, td {\n",
       "    padding: 5px;\n",
       "  }\n",
       "  th {\n",
       "    text-align: left;\n",
       "  }\n",
       "</style><div class='table-result-container'><table class='table-result'><thead style='background-color: white'><tr><th>vendor_code_key</th><th>trip_type</th><th>vendor_id</th></tr></thead><tbody><tr><td>2</td><td>taxi</td><td>0</td></tr><tr><td>6</td><td>taxi</td><td>1</td></tr><tr><td>5</td><td>taxi</td><td>2</td></tr><tr><td>1</td><td>taxi</td><td>3</td></tr><tr><td>B01663</td><td>fhv</td><td>8589934592</td></tr><tr><td>B00608</td><td>fhv</td><td>8589934593</td></tr><tr><td>B03417</td><td>fhv</td><td>8589934594</td></tr><tr><td>B02852</td><td>fhv</td><td>8589934595</td></tr><tr><td>B02770</td><td>fhv</td><td>8589934596</td></tr><tr><td>B03309</td><td>fhv</td><td>8589934597</td></tr><tr><td>B00235</td><td>fhv</td><td>8589934598</td></tr><tr><td>B02287</td><td>fhv</td><td>8589934599</td></tr><tr><td>B00225</td><td>fhv</td><td>8589934600</td></tr><tr><td>B03229</td><td>fhv</td><td>8589934601</td></tr><tr><td>B03276</td><td>fhv</td><td>8589934602</td></tr><tr><td>B01413</td><td>fhv</td><td>8589934603</td></tr><tr><td>B03028</td><td>fhv</td><td>8589934604</td></tr><tr><td>B00906</td><td>fhv</td><td>8589934605</td></tr><tr><td>B03349</td><td>fhv</td><td>8589934606</td></tr><tr><td>B00448</td><td>fhv</td><td>8589934607</td></tr><tr><td>B03315</td><td>fhv</td><td>8589934608</td></tr><tr><td>B00149</td><td>fhv</td><td>8589934609</td></tr><tr><td>B00445</td><td>fhv</td><td>8589934610</td></tr><tr><td>B01268</td><td>fhv</td><td>8589934611</td></tr><tr><td>B02655</td><td>fhv</td><td>8589934612</td></tr><tr><td>B03455</td><td>fhv</td><td>8589934613</td></tr><tr><td>B00014</td><td>fhv</td><td>8589934614</td></tr><tr><td>B01768</td><td>fhv</td><td>8589934615</td></tr><tr><td>B01913</td><td>fhv</td><td>8589934616</td></tr><tr><td>B02719</td><td>fhv</td><td>8589934617</td></tr><tr><td>B02331</td><td>fhv</td><td>8589934618</td></tr><tr><td>B02814</td><td>fhv</td><td>8589934619</td></tr><tr><td>B00652</td><td>fhv</td><td>8589934620</td></tr><tr><td>B02658</td><td>fhv</td><td>8589934621</td></tr><tr><td>B01492</td><td>fhv</td><td>8589934622</td></tr><tr><td>B02975</td><td>fhv</td><td>8589934623</td></tr><tr><td>B03282</td><td>fhv</td><td>8589934624</td></tr><tr><td>B00208</td><td>fhv</td><td>8589934625</td></tr><tr><td>B01338</td><td>fhv</td><td>8589934626</td></tr><tr><td>B02311</td><td>fhv</td><td>8589934627</td></tr><tr><td>B01546</td><td>fhv</td><td>8589934628</td></tr><tr><td>B02868</td><td>fhv</td><td>8589934629</td></tr><tr><td>B00860</td><td>fhv</td><td>8589934630</td></tr><tr><td>B01730</td><td>fhv</td><td>8589934631</td></tr><tr><td>B02120</td><td>fhv</td><td>8589934632</td></tr><tr><td>B02163</td><td>fhv</td><td>8589934633</td></tr><tr><td>B02998</td><td>fhv</td><td>8589934634</td></tr><tr><td>B03126</td><td>fhv</td><td>8589934635</td></tr><tr><td>B01346</td><td>fhv</td><td>8589934636</td></tr><tr><td>B01593</td><td>fhv</td><td>8589934637</td></tr><tr><td>B01928</td><td>fhv</td><td>8589934638</td></tr><tr><td>B00112</td><td>fhv</td><td>8589934639</td></tr><tr><td>B03199</td><td>fhv</td><td>8589934640</td></tr><tr><td>B01970</td><td>fhv</td><td>8589934641</td></tr><tr><td>B00196</td><td>fhv</td><td>8589934642</td></tr><tr><td>B00227</td><td>fhv</td><td>8589934643</td></tr><tr><td>B03326</td><td>fhv</td><td>8589934644</td></tr><tr><td>B01777</td><td>fhv</td><td>8589934645</td></tr><tr><td>B01606</td><td>fhv</td><td>8589934646</td></tr><tr><td>B02517</td><td>fhv</td><td>8589934647</td></tr><tr><td>B03038</td><td>fhv</td><td>8589934648</td></tr><tr><td>B01745</td><td>fhv</td><td>8589934649</td></tr><tr><td>B01083</td><td>fhv</td><td>8589934650</td></tr><tr><td>B01616</td><td>fhv</td><td>8589934651</td></tr><tr><td>B00151</td><td>fhv</td><td>8589934652</td></tr><tr><td>B00628</td><td>fhv</td><td>8589934653</td></tr><tr><td>B03254</td><td>fhv</td><td>8589934654</td></tr><tr><td>B02067</td><td>fhv</td><td>8589934655</td></tr><tr><td>B03292</td><td>fhv</td><td>8589934656</td></tr><tr><td>B00457</td><td>fhv</td><td>8589934657</td></tr><tr><td>B03263</td><td>fhv</td><td>8589934658</td></tr><tr><td>B03233</td><td>fhv</td><td>8589934659</td></tr><tr><td>B00095</td><td>fhv</td><td>8589934660</td></tr><tr><td>B02942</td><td>fhv</td><td>8589934661</td></tr><tr><td>B03030</td><td>fhv</td><td>8589934662</td></tr><tr><td>B03436</td><td>fhv</td><td>8589934663</td></tr><tr><td>B00477</td><td>fhv</td><td>8589934664</td></tr><tr><td>B02406</td><td>fhv</td><td>8589934665</td></tr><tr><td>B01710</td><td>fhv</td><td>8589934666</td></tr><tr><td>B03330</td><td>fhv</td><td>8589934667</td></tr><tr><td>B02962</td><td>fhv</td><td>8589934668</td></tr><tr><td>B01843</td><td>fhv</td><td>8589934669</td></tr><tr><td>B02127</td><td>fhv</td><td>8589934670</td></tr><tr><td>B02173</td><td>fhv</td><td>8589934671</td></tr><tr><td>B02687</td><td>fhv</td><td>8589934672</td></tr><tr><td>B02990</td><td>fhv</td><td>8589934673</td></tr><tr><td>B01553</td><td>fhv</td><td>8589934674</td></tr><tr><td>B00948</td><td>fhv</td><td>8589934675</td></tr><tr><td>B03158</td><td>fhv</td><td>8589934676</td></tr><tr><td>B02902</td><td>fhv</td><td>8589934677</td></tr><tr><td>B01306</td><td>fhv</td><td>8589934678</td></tr><tr><td>b02594</td><td>fhv</td><td>8589934679</td></tr><tr><td>B01482</td><td>fhv</td><td>8589934680</td></tr><tr><td>B01273</td><td>fhv</td><td>8589934681</td></tr><tr><td>B01938</td><td>fhv</td><td>8589934682</td></tr><tr><td>B02228</td><td>fhv</td><td>8589934683</td></tr><tr><td>B03314</td><td>fhv</td><td>8589934684</td></tr><tr><td>B03402</td><td>fhv</td><td>8589934685</td></tr><tr><td>B02546</td><td>fhv</td><td>8589934686</td></tr><tr><td>B02731</td><td>fhv</td><td>8589934687</td></tr><tr><td>B03269</td><td>fhv</td><td>8589934688</td></tr><tr><td>B03147</td><td>fhv</td><td>8589934689</td></tr><tr><td>B02334</td><td>fhv</td><td>8589934690</td></tr><tr><td>B02760</td><td>fhv</td><td>8589934691</td></tr><tr><td>B02674</td><td>fhv</td><td>8589934692</td></tr><tr><td>B02917</td><td>fhv</td><td>8589934693</td></tr><tr><td>B01436</td><td>fhv</td><td>8589934694</td></tr><tr><td>B02846</td><td>fhv</td><td>8589934695</td></tr><tr><td>B02563</td><td>fhv</td><td>8589934696</td></tr><tr><td>B00221</td><td>fhv</td><td>8589934697</td></tr><tr><td>B03156</td><td>fhv</td><td>8589934698</td></tr><tr><td>B03050</td><td>fhv</td><td>8589934699</td></tr><tr><td>B01743</td><td>fhv</td><td>8589934700</td></tr><tr><td>B00429</td><td>fhv</td><td>8589934701</td></tr><tr><td>B01349</td><td>fhv</td><td>8589934702</td></tr><tr><td>B02968</td><td>fhv</td><td>8589934703</td></tr><tr><td>B01779</td><td>fhv</td><td>8589934704</td></tr><tr><td>B00531</td><td>fhv</td><td>8589934705</td></tr><tr><td>B01066</td><td>fhv</td><td>8589934706</td></tr><tr><td>B02898</td><td>fhv</td><td>8589934707</td></tr><tr><td>B03424</td><td>fhv</td><td>8589934708</td></tr><tr><td>B02972</td><td>fhv</td><td>8589934709</td></tr><tr><td>B03032</td><td>fhv</td><td>8589934710</td></tr><tr><td>B03138</td><td>fhv</td><td>8589934711</td></tr><tr><td>B03041</td><td>fhv</td><td>8589934712</td></tr><tr><td>B02096</td><td>fhv</td><td>8589934713</td></tr><tr><td>B01215</td><td>fhv</td><td>8589934714</td></tr><tr><td>B00381</td><td>fhv</td><td>8589934715</td></tr><tr><td>B02664</td><td>fhv</td><td>8589934716</td></tr><tr><td>B03287</td><td>fhv</td><td>8589934717</td></tr><tr><td>B00972</td><td>fhv</td><td>8589934718</td></tr><tr><td>B01391</td><td>fhv</td><td>8589934719</td></tr><tr><td>B03303</td><td>fhv</td><td>8589934720</td></tr><tr><td>B00449</td><td>fhv</td><td>8589934721</td></tr><tr><td>B02738</td><td>fhv</td><td>8589934722</td></tr><tr><td>B01081</td><td>fhv</td><td>8589934723</td></tr><tr><td>B02342</td><td>fhv</td><td>8589934724</td></tr><tr><td>B00837</td><td>fhv</td><td>8589934725</td></tr><tr><td>B01057</td><td>fhv</td><td>8589934726</td></tr><tr><td>B01362</td><td>fhv</td><td>8589934727</td></tr><tr><td>B03016</td><td>fhv</td><td>8589934728</td></tr><tr><td>B02855</td><td>fhv</td><td>8589934729</td></tr><tr><td>B02301</td><td>fhv</td><td>8589934730</td></tr><tr><td>B01536</td><td>fhv</td><td>8589934731</td></tr><tr><td>B02739</td><td>fhv</td><td>8589934732</td></tr><tr><td>B03057</td><td>fhv</td><td>8589934733</td></tr><tr><td>B01061</td><td>fhv</td><td>8589934734</td></tr><tr><td>B01527</td><td>fhv</td><td>8589934735</td></tr><tr><td>B03113</td><td>fhv</td><td>8589934736</td></tr><tr><td>B02424</td><td>fhv</td><td>8589934737</td></tr><tr><td>B02095</td><td>fhv</td><td>8589934738</td></tr><tr><td>B03391</td><td>fhv</td><td>8589934739</td></tr><tr><td>B00625</td><td>fhv</td><td>8589934740</td></tr><tr><td>B03248</td><td>fhv</td><td>8589934741</td></tr><tr><td>B03240</td><td>fhv</td><td>8589934742</td></tr><tr><td>B02522</td><td>fhv</td><td>8589934743</td></tr><tr><td>B00277</td><td>fhv</td><td>8589934744</td></tr><tr><td>B02803</td><td>fhv</td><td>8589934745</td></tr><tr><td>B01470</td><td>fhv</td><td>8589934746</td></tr><tr><td>B00345</td><td>fhv</td><td>8589934747</td></tr><tr><td>B02819</td><td>fhv</td><td>8589934748</td></tr><tr><td>B01183</td><td>fhv</td><td>8589934749</td></tr><tr><td>B01854</td><td>fhv</td><td>8589934750</td></tr><tr><td>B01406</td><td>fhv</td><td>8589934751</td></tr><tr><td>B02989</td><td>fhv</td><td>8589934752</td></tr><tr><td>B01009</td><td>fhv</td><td>8589934753</td></tr><tr><td>B03177</td><td>fhv</td><td>8589934754</td></tr><tr><td>B01678</td><td>fhv</td><td>8589934755</td></tr><tr><td>B02292</td><td>fhv</td><td>8589934756</td></tr><tr><td>B01020</td><td>fhv</td><td>8589934757</td></tr><tr><td>B02728</td><td>fhv</td><td>8589934758</td></tr><tr><td>B02429</td><td>fhv</td><td>8589934759</td></tr><tr><td>B03171</td><td>fhv</td><td>8589934760</td></tr><tr><td>B02784</td><td>fhv</td><td>8589934761</td></tr><tr><td>B03191</td><td>fhv</td><td>8589934762</td></tr><tr><td>B03256</td><td>fhv</td><td>8589934763</td></tr><tr><td>B03060</td><td>fhv</td><td>8589934764</td></tr><tr><td>B03480</td><td>fhv</td><td>8589934765</td></tr><tr><td>B01534</td><td>fhv</td><td>8589934766</td></tr><tr><td>B01341</td><td>fhv</td><td>8589934767</td></tr><tr><td>B01509</td><td>fhv</td><td>8589934768</td></tr><tr><td>B02670</td><td>fhv</td><td>8589934769</td></tr><tr><td>B03262</td><td>fhv</td><td>8589934770</td></tr><tr><td>B03393</td><td>fhv</td><td>8589934771</td></tr><tr><td>B01196</td><td>fhv</td><td>8589934772</td></tr><tr><td>B01984</td><td>fhv</td><td>8589934773</td></tr><tr><td>B02627</td><td>fhv</td><td>8589934774</td></tr><tr><td>B03380</td><td>fhv</td><td>8589934775</td></tr><tr><td>B02787</td><td>fhv</td><td>8589934776</td></tr><tr><td>B03346</td><td>fhv</td><td>8589934777</td></tr><tr><td>B01537</td><td>fhv</td><td>8589934778</td></tr><tr><td>B01559</td><td>fhv</td><td>8589934779</td></tr><tr><td>B02550</td><td>fhv</td><td>8589934780</td></tr><tr><td>B01016</td><td>fhv</td><td>8589934781</td></tr><tr><td>B01726</td><td>fhv</td><td>8589934782</td></tr><tr><td>B02641</td><td>fhv</td><td>8589934783</td></tr><tr><td>B01340</td><td>fhv</td><td>8589934784</td></tr><tr><td>B01381</td><td>fhv</td><td>8589934785</td></tr><tr><td>B02737</td><td>fhv</td><td>8589934786</td></tr><tr><td>B01963</td><td>fhv</td><td>8589934787</td></tr><tr><td>B01466</td><td>fhv</td><td>8589934788</td></tr><tr><td>B02162</td><td>fhv</td><td>8589934789</td></tr><tr><td>B01629</td><td>fhv</td><td>8589934790</td></tr><tr><td>B02774</td><td>fhv</td><td>8589934791</td></tr><tr><td>B02909</td><td>fhv</td><td>8589934792</td></tr><tr><td>B02437</td><td>fhv</td><td>8589934793</td></tr><tr><td>B02339</td><td>fhv</td><td>8589934794</td></tr><tr><td>B03403</td><td>fhv</td><td>8589934795</td></tr><tr><td>B03181</td><td>fhv</td><td>8589934796</td></tr><tr><td>B03390</td><td>fhv</td><td>8589934797</td></tr><tr><td>B01417</td><td>fhv</td><td>8589934798</td></tr><tr><td>B00078</td><td>fhv</td><td>8589934799</td></tr><tr><td>B01899</td><td>fhv</td><td>8589934800</td></tr><tr><td>B03357</td><td>fhv</td><td>8589934801</td></tr><tr><td>B01367</td><td>fhv</td><td>8589934802</td></tr><tr><td>B01625</td><td>fhv</td><td>8589934803</td></tr><tr><td>B02273</td><td>fhv</td><td>8589934804</td></tr><tr><td>B02677</td><td>fhv</td><td>8589934805</td></tr><tr><td>B02373</td><td>fhv</td><td>8589934806</td></tr><tr><td>B03185</td><td>fhv</td><td>8589934807</td></tr><tr><td>B03359</td><td>fhv</td><td>8589934808</td></tr><tr><td>B00446</td><td>fhv</td><td>8589934809</td></tr><tr><td>B02060</td><td>fhv</td><td>8589934810</td></tr><tr><td>B02005</td><td>fhv</td><td>8589934811</td></tr><tr><td>B01437</td><td>fhv</td><td>8589934812</td></tr><tr><td>B00254</td><td>fhv</td><td>8589934813</td></tr><tr><td>B00053</td><td>fhv</td><td>8589934814</td></tr><tr><td>B02148</td><td>fhv</td><td>8589934815</td></tr><tr><td>B00623</td><td>fhv</td><td>8589934816</td></tr><tr><td>B00111</td><td>fhv</td><td>8589934817</td></tr><tr><td>B01455</td><td>fhv</td><td>8589934818</td></tr><tr><td>B00856</td><td>fhv</td><td>8589934819</td></tr><tr><td>B02573</td><td>fhv</td><td>8589934820</td></tr><tr><td>B01233</td><td>fhv</td><td>8589934821</td></tr><tr><td>B00350</td><td>fhv</td><td>8589934822</td></tr><tr><td>B03382</td><td>fhv</td><td>8589934823</td></tr><tr><td>B02249</td><td>fhv</td><td>8589934824</td></tr><tr><td>B03209</td><td>fhv</td><td>8589934825</td></tr><tr><td>B01644</td><td>fhv</td><td>8589934826</td></tr><tr><td>B02817</td><td>fhv</td><td>8589934827</td></tr><tr><td>B03387</td><td>fhv</td><td>8589934828</td></tr><tr><td>B02736</td><td>fhv</td><td>8589934829</td></tr><tr><td>B03297</td><td>fhv</td><td>8589934830</td></tr><tr><td>B02254</td><td>fhv</td><td>8589934831</td></tr><tr><td>B00248</td><td>fhv</td><td>8589934832</td></tr><tr><td>B01282</td><td>fhv</td><td>8589934833</td></tr><tr><td>B02016</td><td>fhv</td><td>8589934834</td></tr><tr><td>B02794</td><td>fhv</td><td>8589934835</td></tr><tr><td>B03267</td><td>fhv</td><td>8589934836</td></tr><tr><td>B02920</td><td>fhv</td><td>8589934837</td></tr><tr><td>B01311</td><td>fhv</td><td>8589934838</td></tr><tr><td>B02217</td><td>fhv</td><td>8589934839</td></tr><tr><td>B02924</td><td>fhv</td><td>8589934840</td></tr><tr><td>B00271</td><td>fhv</td><td>8589934841</td></tr><tr><td>B00850</td><td>fhv</td><td>8589934842</td></tr><tr><td>B02853</td><td>fhv</td><td>8589934843</td></tr><tr><td>B01452</td><td>fhv</td><td>8589934844</td></tr><tr><td>B02901</td><td>fhv</td><td>8589934845</td></tr><tr><td>B02833</td><td>fhv</td><td>8589934846</td></tr><tr><td>B02103</td><td>fhv</td><td>8589934847</td></tr><tr><td>B03482</td><td>fhv</td><td>8589934848</td></tr><tr><td>B00222</td><td>fhv</td><td>8589934849</td></tr><tr><td>B01124</td><td>fhv</td><td>8589934850</td></tr><tr><td>B02391</td><td>fhv</td><td>8589934851</td></tr><tr><td>B01877</td><td>fhv</td><td>8589934852</td></tr><tr><td>B01029</td><td>fhv</td><td>8589934853</td></tr><tr><td>B01336</td><td>fhv</td><td>8589934854</td></tr><tr><td>B03194</td><td>fhv</td><td>8589934855</td></tr><tr><td>B02929</td><td>fhv</td><td>8589934856</td></tr><tr><td>B02401</td><td>fhv</td><td>8589934857</td></tr><tr><td>B02110</td><td>fhv</td><td>8589934858</td></tr><tr><td>B03085</td><td>fhv</td><td>8589934859</td></tr><tr><td>B02897</td><td>fhv</td><td>8589934860</td></tr><tr><td>B02453</td><td>fhv</td><td>8589934861</td></tr><tr><td>B00597</td><td>fhv</td><td>8589934862</td></tr><tr><td>B03100</td><td>fhv</td><td>8589934863</td></tr><tr><td>B03107</td><td>fhv</td><td>8589934864</td></tr><tr><td>B03206</td><td>fhv</td><td>8589934865</td></tr><tr><td>B01667</td><td>fhv</td><td>8589934866</td></tr><tr><td>B01469</td><td>fhv</td><td>8589934867</td></tr><tr><td>B03285</td><td>fhv</td><td>8589934868</td></tr><tr><td>B01717</td><td>fhv</td><td>8589934869</td></tr><tr><td>B03335</td><td>fhv</td><td>8589934870</td></tr><tr><td>B00975</td><td>fhv</td><td>8589934871</td></tr><tr><td>B03258</td><td>fhv</td><td>8589934872</td></tr><tr><td>B01194</td><td>fhv</td><td>8589934873</td></tr><tr><td>B00827</td><td>fhv</td><td>8589934874</td></tr><tr><td>B03466</td><td>fhv</td><td>8589934875</td></tr><tr><td>B03408</td><td>fhv</td><td>8589934876</td></tr><tr><td>B02782</td><td>fhv</td><td>8589934877</td></tr><tr><td>B02167</td><td>fhv</td><td>8589934878</td></tr><tr><td>B00054</td><td>fhv</td><td>8589934879</td></tr><tr><td>B02027</td><td>fhv</td><td>8589934880</td></tr><tr><td>B00692</td><td>fhv</td><td>8589934881</td></tr><tr><td>B01424</td><td>fhv</td><td>8589934882</td></tr><tr><td>B03334</td><td>fhv</td><td>8589934883</td></tr><tr><td>B03421</td><td>fhv</td><td>8589934884</td></tr><tr><td>B02599</td><td>fhv</td><td>8589934885</td></tr><tr><td>B01485</td><td>fhv</td><td>8589934886</td></tr><tr><td>B03361</td><td>fhv</td><td>8589934887</td></tr><tr><td>B03172</td><td>fhv</td><td>8589934888</td></tr><tr><td>B00756</td><td>fhv</td><td>8589934889</td></tr><tr><td>B00256</td><td>fhv</td><td>8589934890</td></tr><tr><td>B03283</td><td>fhv</td><td>8589934891</td></tr><tr><td>B00009</td><td>fhv</td><td>8589934892</td></tr><tr><td>B02832</td><td>fhv</td><td>8589934893</td></tr><tr><td>B01540</td><td>fhv</td><td>8589934894</td></tr><tr><td>B03211</td><td>fhv</td><td>8589934895</td></tr><tr><td>B03291</td><td>fhv</td><td>8589934896</td></tr><tr><td>B03157</td><td>fhv</td><td>8589934897</td></tr><tr><td>B03336</td><td>fhv</td><td>8589934898</td></tr><tr><td>B02735</td><td>fhv</td><td>8589934899</td></tr><tr><td>B03381</td><td>fhv</td><td>8589934900</td></tr><tr><td>B01626</td><td>fhv</td><td>8589934901</td></tr><tr><td>B03239</td><td>fhv</td><td>8589934902</td></tr><tr><td>B03064</td><td>fhv</td><td>8589934903</td></tr><tr><td>B02099</td><td>fhv</td><td>8589934904</td></tr><tr><td>B02912</td><td>fhv</td><td>8589934905</td></tr><tr><td>B00013</td><td>fhv</td><td>8589934906</td></tr><tr><td>B03187</td><td>fhv</td><td>8589934907</td></tr><tr><td>B01454</td><td>fhv</td><td>8589934908</td></tr><tr><td>B02967</td><td>fhv</td><td>8589934909</td></tr><tr><td>B00789</td><td>fhv</td><td>8589934910</td></tr><tr><td>B02352</td><td>fhv</td><td>8589934911</td></tr><tr><td>B02248</td><td>fhv</td><td>8589934912</td></tr><tr><td>B02899</td><td>fhv</td><td>8589934913</td></tr><tr><td>B03371</td><td>fhv</td><td>8589934914</td></tr><tr><td>B03047</td><td>fhv</td><td>8589934915</td></tr><tr><td>B00387</td><td>fhv</td><td>8589934916</td></tr><tr><td>B00411</td><td>fhv</td><td>8589934917</td></tr><tr><td>B02418</td><td>fhv</td><td>8589934918</td></tr><tr><td>B03145</td><td>fhv</td><td>8589934919</td></tr><tr><td>B01944</td><td>fhv</td><td>8589934920</td></tr><tr><td>B01200</td><td>fhv</td><td>8589934921</td></tr><tr><td>B01259</td><td>fhv</td><td>8589934922</td></tr><tr><td>B02152</td><td>fhv</td><td>8589934923</td></tr><tr><td>B02055</td><td>fhv</td><td>8589934924</td></tr><tr><td>B00932</td><td>fhv</td><td>8589934925</td></tr><tr><td>B00965</td><td>fhv</td><td>8589934926</td></tr><tr><td>B02050</td><td>fhv</td><td>8589934927</td></tr><tr><td>B03438</td><td>fhv</td><td>8589934928</td></tr><tr><td>B03061</td><td>fhv</td><td>8589934929</td></tr><tr><td>B00459</td><td>fhv</td><td>8589934930</td></tr><tr><td>B03367</td><td>fhv</td><td>8589934931</td></tr><tr><td>B00802</td><td>fhv</td><td>8589934932</td></tr><tr><td>B02003</td><td>fhv</td><td>8589934933</td></tr><tr><td>B03286</td><td>fhv</td><td>8589934934</td></tr><tr><td>B00556</td><td>fhv</td><td>8589934935</td></tr><tr><td>B01315</td><td>fhv</td><td>8589934936</td></tr><tr><td>B03341</td><td>fhv</td><td>8589934937</td></tr><tr><td>B01742</td><td>fhv</td><td>8589934938</td></tr><tr><td>B02157</td><td>fhv</td><td>8589934939</td></tr><tr><td>B03268</td><td>fhv</td><td>8589934940</td></tr><tr><td>B03355</td><td>fhv</td><td>8589934941</td></tr><tr><td>B02834</td><td>fhv</td><td>8589934942</td></tr><tr><td>B02285</td><td>fhv</td><td>8589934943</td></tr><tr><td>B03388</td><td>fhv</td><td>8589934944</td></tr><tr><td>B00310</td><td>fhv</td><td>8589934945</td></tr><tr><td>B02997</td><td>fhv</td><td>8589934946</td></tr><tr><td>B03174</td><td>fhv</td><td>8589934947</td></tr><tr><td>B03339</td><td>fhv</td><td>8589934948</td></tr><tr><td>B01091</td><td>fhv</td><td>8589934949</td></tr><tr><td>B03164</td><td>fhv</td><td>8589934950</td></tr><tr><td>B01176</td><td>fhv</td><td>8589934951</td></tr><tr><td>B02491</td><td>fhv</td><td>8589934952</td></tr><tr><td>B01013</td><td>fhv</td><td>8589934953</td></tr><tr><td>B00255</td><td>fhv</td><td>8589934954</td></tr><tr><td>B03002</td><td>fhv</td><td>8589934955</td></tr><tr><td>B03081</td><td>fhv</td><td>8589934956</td></tr><tr><td>B02825</td><td>fhv</td><td>8589934957</td></tr><tr><td>B02240</td><td>fhv</td><td>8589934958</td></tr><tr><td>B03338</td><td>fhv</td><td>8589934959</td></tr><tr><td>B00887</td><td>fhv</td><td>8589934960</td></tr><tr><td>B00008</td><td>fhv</td><td>8589934961</td></tr><tr><td>B02461</td><td>fhv</td><td>8589934962</td></tr><tr><td>B01339</td><td>fhv</td><td>8589934963</td></tr><tr><td>B02671</td><td>fhv</td><td>8589934964</td></tr><tr><td>B02111</td><td>fhv</td><td>8589934965</td></tr><tr><td>B03320</td><td>fhv</td><td>8589934966</td></tr><tr><td>B03333</td><td>fhv</td><td>8589934967</td></tr><tr><td>B02133</td><td>fhv</td><td>8589934968</td></tr><tr><td>B02532</td><td>fhv</td><td>8589934969</td></tr><tr><td>B03266</td><td>fhv</td><td>8589934970</td></tr><tr><td>B02410</td><td>fhv</td><td>8589934971</td></tr><tr><td>B01239</td><td>fhv</td><td>8589934972</td></tr><tr><td>B01364</td><td>fhv</td><td>8589934973</td></tr><tr><td>B03236</td><td>fhv</td><td>8589934974</td></tr><tr><td>B02747</td><td>fhv</td><td>8589934975</td></tr><tr><td>B02470</td><td>fhv</td><td>8589934976</td></tr><tr><td>B03329</td><td>fhv</td><td>8589934977</td></tr><tr><td>B03144</td><td>fhv</td><td>8589934978</td></tr><tr><td>B02101</td><td>fhv</td><td>8589934979</td></tr><tr><td>B00559</td><td>fhv</td><td>8589934980</td></tr><tr><td>B03015</td><td>fhv</td><td>8589934981</td></tr><tr><td>B02397</td><td>fhv</td><td>8589934982</td></tr><tr><td>B02661</td><td>fhv</td><td>8589934983</td></tr><tr><td>B02934</td><td>fhv</td><td>8589934984</td></tr><tr><td>B02320</td><td>fhv</td><td>8589934985</td></tr><tr><td>B03116</td><td>fhv</td><td>8589934986</td></tr><tr><td>B02537</td><td>fhv</td><td>8589934987</td></tr><tr><td>B01432</td><td>fhv</td><td>8589934988</td></tr><tr><td>B03033</td><td>fhv</td><td>8589934989</td></tr><tr><td>B03153</td><td>fhv</td><td>8589934990</td></tr><tr><td>B00821</td><td>fhv</td><td>8589934991</td></tr><tr><td>B02536</td><td>fhv</td><td>8589934992</td></tr><tr><td>B03074</td><td>fhv</td><td>8589934993</td></tr><tr><td>B03105</td><td>fhv</td><td>8589934994</td></tr><tr><td>B02838</td><td>fhv</td><td>8589934995</td></tr><tr><td>B02207</td><td>fhv</td><td>8589934996</td></tr><tr><td>B02849</td><td>fhv</td><td>8589934997</td></tr><tr><td>B00889</td><td>fhv</td><td>8589934998</td></tr><tr><td>B01871</td><td>fhv</td><td>8589934999</td></tr><tr><td>B03492</td><td>fhv</td><td>8589935000</td></tr><tr><td>B01079</td><td>fhv</td><td>8589935001</td></tr><tr><td>B02799</td><td>fhv</td><td>8589935002</td></tr><tr><td>B01958</td><td>fhv</td><td>8589935003</td></tr><tr><td>B00823</td><td>fhv</td><td>8589935004</td></tr><tr><td>B02462</td><td>fhv</td><td>8589935005</td></tr><tr><td>B02629</td><td>fhv</td><td>8589935006</td></tr><tr><td>B02531</td><td>fhv</td><td>8589935007</td></tr><tr><td>B01065</td><td>fhv</td><td>8589935008</td></tr><tr><td>B00536</td><td>fhv</td><td>8589935009</td></tr><tr><td>B00937</td><td>fhv</td><td>8589935010</td></tr><tr><td>B01312</td><td>fhv</td><td>8589935011</td></tr><tr><td>B03055</td><td>fhv</td><td>8589935012</td></tr><tr><td>B00280</td><td>fhv</td><td>8589935013</td></tr><tr><td>B02315</td><td>fhv</td><td>8589935014</td></tr><tr><td>B02811</td><td>fhv</td><td>8589935015</td></tr><tr><td>B01280</td><td>fhv</td><td>8589935016</td></tr><tr><td>B03281</td><td>fhv</td><td>8589935017</td></tr><tr><td>B01803</td><td>fhv</td><td>8589935018</td></tr><tr><td>B02762</td><td>fhv</td><td>8589935019</td></tr><tr><td>B03284</td><td>fhv</td><td>8589935020</td></tr><tr><td>B01639</td><td>fhv</td><td>8589935021</td></tr><tr><td>B02881</td><td>fhv</td><td>8589935022</td></tr><tr><td>B03343</td><td>fhv</td><td>8589935023</td></tr><tr><td>B00272</td><td>fhv</td><td>8589935024</td></tr><tr><td>B01601</td><td>fhv</td><td>8589935025</td></tr><tr><td>B02756</td><td>fhv</td><td>8589935026</td></tr><tr><td>B03299</td><td>fhv</td><td>8589935027</td></tr><tr><td>B01386</td><td>fhv</td><td>8589935028</td></tr><tr><td>B03197</td><td>fhv</td><td>8589935029</td></tr><tr><td>B03433</td><td>fhv</td><td>8589935030</td></tr><tr><td>B03312</td><td>fhv</td><td>8589935031</td></tr><tr><td>B02416</td><td>fhv</td><td>8589935032</td></tr><tr><td>B01445</td><td>fhv</td><td>8589935033</td></tr><tr><td>B02093</td><td>fhv</td><td>8589935034</td></tr><tr><td>B03097</td><td>fhv</td><td>8589935035</td></tr><tr><td>B00911</td><td>fhv</td><td>8589935036</td></tr><tr><td>B01128</td><td>fhv</td><td>8589935037</td></tr><tr><td>B03340</td><td>fhv</td><td>8589935038</td></tr><tr><td>B01236</td><td>fhv</td><td>8589935039</td></tr><tr><td>B03166</td><td>fhv</td><td>8589935040</td></tr><tr><td>B02298</td><td>fhv</td><td>8589935041</td></tr><tr><td>B00647</td><td>fhv</td><td>8589935042</td></tr><tr><td>B02509</td><td>fhv</td><td>8589935043</td></tr><tr><td>B00706</td><td>fhv</td><td>8589935044</td></tr><tr><td>B02107</td><td>fhv</td><td>8589935045</td></tr><tr><td>B03321</td><td>fhv</td><td>8589935046</td></tr><tr><td>B02613</td><td>fhv</td><td>8589935047</td></tr><tr><td>B00001</td><td>fhv</td><td>8589935048</td></tr><tr><td>B02724</td><td>fhv</td><td>8589935049</td></tr><tr><td>B02699</td><td>fhv</td><td>8589935050</td></tr><tr><td>B02279</td><td>fhv</td><td>8589935051</td></tr><tr><td>B03352</td><td>fhv</td><td>8589935052</td></tr><tr><td>B02905</td><td>fhv</td><td>8589935053</td></tr><tr><td>B01980</td><td>fhv</td><td>8589935054</td></tr><tr><td>B02987</td><td>fhv</td><td>8589935055</td></tr><tr><td>B02557</td><td>fhv</td><td>8589935056</td></tr><tr><td>B00412</td><td>fhv</td><td>8589935057</td></tr><tr><td>B01145</td><td>fhv</td><td>8589935058</td></tr><tr><td>B03296</td><td>fhv</td><td>8589935059</td></tr><tr><td>B03017</td><td>fhv</td><td>8589935060</td></tr><tr><td>B03324</td><td>fhv</td><td>8589935061</td></tr><tr><td>B03018</td><td>fhv</td><td>8589935062</td></tr><tr><td>B00037</td><td>fhv</td><td>8589935063</td></tr><tr><td>B02021</td><td>fhv</td><td>8589935064</td></tr><tr><td>B01231</td><td>fhv</td><td>8589935065</td></tr><tr><td>B03046</td><td>fhv</td><td>8589935066</td></tr><tr><td>B01995</td><td>fhv</td><td>8589935067</td></tr><tr><td>B01568</td><td>fhv</td><td>8589935068</td></tr><tr><td>B03139</td><td>fhv</td><td>8589935069</td></tr><tr><td>B03051</td><td>fhv</td><td>8589935070</td></tr><tr><td>B03275</td><td>fhv</td><td>8589935071</td></tr><tr><td>B01738</td><td>fhv</td><td>8589935072</td></tr><tr><td>B02971</td><td>fhv</td><td>8589935073</td></tr><tr><td>B01285</td><td>fhv</td><td>8589935074</td></tr><tr><td>B00900</td><td>fhv</td><td>8589935075</td></tr><tr><td>B02823</td><td>fhv</td><td>8589935076</td></tr><tr><td>B01087</td><td>fhv</td><td>8589935077</td></tr><tr><td>B02182</td><td>fhv</td><td>8589935078</td></tr><tr><td>B01800</td><td>fhv</td><td>8589935079</td></tr><tr><td>B00202</td><td>fhv</td><td>8589935080</td></tr><tr><td>B02472</td><td>fhv</td><td>8589935081</td></tr><tr><td>B02144</td><td>fhv</td><td>8589935082</td></tr><tr><td>B03104</td><td>fhv</td><td>8589935083</td></tr><tr><td>B02594</td><td>fhv</td><td>8589935084</td></tr><tr><td>B02930</td><td>fhv</td><td>8589935085</td></tr><tr><td>B02947</td><td>fhv</td><td>8589935086</td></tr><tr><td>B03037</td><td>fhv</td><td>8589935087</td></tr><tr><td>B03123</td><td>fhv</td><td>8589935088</td></tr><tr><td>B02795</td><td>fhv</td><td>8589935089</td></tr><tr><td>B00888</td><td>fhv</td><td>8589935090</td></tr><tr><td>B01721</td><td>fhv</td><td>8589935091</td></tr><tr><td>B03040</td><td>fhv</td><td>8589935092</td></tr><tr><td>B03208</td><td>fhv</td><td>8589935093</td></tr><tr><td>B03202</td><td>fhv</td><td>8589935094</td></tr><tr><td>B02860</td><td>fhv</td><td>8589935095</td></tr><tr><td>B03505</td><td>fhv</td><td>8589935096</td></tr><tr><td>B03204</td><td>fhv</td><td>8589935097</td></tr><tr><td>B01600</td><td>fhv</td><td>8589935098</td></tr><tr><td>B02949</td><td>fhv</td><td>8589935099</td></tr><tr><td>B02725</td><td>fhv</td><td>8589935100</td></tr><tr><td>B03308</td><td>fhv</td><td>8589935101</td></tr><tr><td>B03137</td><td>fhv</td><td>8589935102</td></tr><tr><td>B00919</td><td>fhv</td><td>8589935103</td></tr><tr><td>B02824</td><td>fhv</td><td>8589935104</td></tr><tr><td>B03456</td><td>fhv</td><td>8589935105</td></tr><tr><td>B03494</td><td>fhv</td><td>8589935106</td></tr><tr><td>B02913</td><td>fhv</td><td>8589935107</td></tr><tr><td>B03423</td><td>fhv</td><td>8589935108</td></tr><tr><td>b00429</td><td>fhv</td><td>8589935109</td></tr><tr><td>B03517</td><td>fhv</td><td>8589935110</td></tr><tr><td>B03298</td><td>fhv</td><td>8589935111</td></tr><tr><td>B03513</td><td>fhv</td><td>8589935112</td></tr><tr><td>B03409</td><td>fhv</td><td>8589935113</td></tr><tr><td>B03419</td><td>fhv</td><td>8589935114</td></tr><tr><td>B03368</td><td>fhv</td><td>8589935115</td></tr><tr><td>B03344</td><td>fhv</td><td>8589935116</td></tr><tr><td>B03425</td><td>fhv</td><td>8589935117</td></tr><tr><td>B03500</td><td>fhv</td><td>8589935118</td></tr><tr><td>B02797</td><td>fhv</td><td>8589935119</td></tr><tr><td>B03348</td><td>fhv</td><td>8589935120</td></tr><tr><td>B03478</td><td>fhv</td><td>8589935121</td></tr><tr><td>B03504</td><td>fhv</td><td>8589935122</td></tr><tr><td>B03170</td><td>fhv</td><td>8589935123</td></tr><tr><td>B02944</td><td>fhv</td><td>8589935124</td></tr><tr><td>B01300</td><td>fhv</td><td>8589935125</td></tr><tr><td>B03200</td><td>fhv</td><td>8589935126</td></tr><tr><td>B03435</td><td>fhv</td><td>8589935127</td></tr><tr><td>B03173</td><td>fhv</td><td>8589935128</td></tr><tr><td>B00987</td><td>fhv</td><td>8589935129</td></tr><tr><td>B03375</td><td>fhv</td><td>8589935130</td></tr><tr><td>B01392</td><td>fhv</td><td>8589935131</td></tr><tr><td>B02925</td><td>fhv</td><td>8589935132</td></tr><tr><td>B03140</td><td>fhv</td><td>8589935133</td></tr><tr><td>B00811</td><td>fhv</td><td>8589935134</td></tr><tr><td>B01318</td><td>fhv</td><td>8589935135</td></tr><tr><td>B03218</td><td>fhv</td><td>8589935136</td></tr><tr><td>B01269</td><td>fhv</td><td>8589935137</td></tr><tr><td>B01109</td><td>fhv</td><td>8589935138</td></tr><tr><td>B01308</td><td>fhv</td><td>8589935139</td></tr><tr><td>B03101</td><td>fhv</td><td>8589935140</td></tr><tr><td>B02180</td><td>fhv</td><td>8589935141</td></tr><tr><td>B02634</td><td>fhv</td><td>8589935142</td></tr><tr><td>B03198</td><td>fhv</td><td>8589935143</td></tr><tr><td>B00693</td><td>fhv</td><td>8589935144</td></tr><tr><td>B03117</td><td>fhv</td><td>8589935145</td></tr><tr><td>B02856</td><td>fhv</td><td>8589935146</td></tr><tr><td>B03331</td><td>fhv</td><td>8589935147</td></tr><tr><td>B02956</td><td>fhv</td><td>8589935148</td></tr><tr><td>B03022</td><td>fhv</td><td>8589935149</td></tr><tr><td>B03006</td><td>fhv</td><td>8589935150</td></tr><tr><td>B03364</td><td>fhv</td><td>8589935151</td></tr><tr><td>B02686</td><td>fhv</td><td>8589935152</td></tr><tr><td>B01679</td><td>fhv</td><td>8589935153</td></tr><tr><td>B00296</td><td>fhv</td><td>8589935154</td></tr><tr><td>B02783</td><td>fhv</td><td>8589935155</td></tr><tr><td>B02751</td><td>fhv</td><td>8589935156</td></tr><tr><td>B03327</td><td>fhv</td><td>8589935157</td></tr><tr><td>B03366</td><td>fhv</td><td>8589935158</td></tr><tr><td>B03356</td><td>fhv</td><td>8589935159</td></tr><tr><td>b00706</td><td>fhv</td><td>8589935160</td></tr><tr><td>B00021</td><td>fhv</td><td>8589935161</td></tr><tr><td>B02903</td><td>fhv</td><td>8589935162</td></tr><tr><td>B01623</td><td>fhv</td><td>8589935163</td></tr><tr><td>B02729</td><td>fhv</td><td>8589935164</td></tr><tr><td>B00171</td><td>fhv</td><td>8589935165</td></tr><tr><td>B02653</td><td>fhv</td><td>8589935166</td></tr><tr><td>B02008</td><td>fhv</td><td>8589935167</td></tr><tr><td>B00619</td><td>fhv</td><td>8589935168</td></tr><tr><td>B03226</td><td>fhv</td><td>8589935169</td></tr><tr><td>B02840</td><td>fhv</td><td>8589935170</td></tr><tr><td>B01699</td><td>fhv</td><td>8589935171</td></tr><tr><td>B03316</td><td>fhv</td><td>8589935172</td></tr><tr><td>B01288</td><td>fhv</td><td>8589935173</td></tr><tr><td>B01069</td><td>fhv</td><td>8589935174</td></tr><tr><td>B02253</td><td>fhv</td><td>8589935175</td></tr><tr><td>B02569</td><td>fhv</td><td>8589935176</td></tr><tr><td>B03337</td><td>fhv</td><td>8589935177</td></tr><tr><td>B03011</td><td>fhv</td><td>8589935178</td></tr><tr><td>B03106</td><td>fhv</td><td>8589935179</td></tr><tr><td>B03250</td><td>fhv</td><td>8589935180</td></tr><tr><td>B02245</td><td>fhv</td><td>8589935181</td></tr><tr><td>B01250</td><td>fhv</td><td>8589935182</td></tr><tr><td>B03323</td><td>fhv</td><td>8589935183</td></tr><tr><td>B00290</td><td>fhv</td><td>8589935184</td></tr><tr><td>B03360</td><td>fhv</td><td>8589935185</td></tr><tr><td>B02996</td><td>fhv</td><td>8589935186</td></tr><tr><td>B01039</td><td>fhv</td><td>8589935187</td></tr><tr><td>B01510</td><td>fhv</td><td>8589935188</td></tr><tr><td>B03128</td><td>fhv</td><td>8589935189</td></tr><tr><td>B02727</td><td>fhv</td><td>8589935190</td></tr><tr><td>B03160</td><td>fhv</td><td>8589935191</td></tr><tr><td>B01811</td><td>fhv</td><td>8589935192</td></tr><tr><td>B02138</td><td>fhv</td><td>8589935193</td></tr><tr><td>B01479</td><td>fhv</td><td>8589935194</td></tr><tr><td>B03369</td><td>fhv</td><td>8589935195</td></tr><tr><td>B03124</td><td>fhv</td><td>8589935196</td></tr><tr><td>B03398</td><td>fhv</td><td>8589935197</td></tr><tr><td>b02339</td><td>fhv</td><td>8589935198</td></tr><tr><td>b02418</td><td>fhv</td><td>8589935199</td></tr><tr><td>B03235</td><td>fhv</td><td>8589935200</td></tr><tr><td>B02330</td><td>fhv</td><td>8589935201</td></tr><tr><td>B02657</td><td>fhv</td><td>8589935202</td></tr><tr><td>B03353</td><td>fhv</td><td>8589935203</td></tr><tr><td>b01710</td><td>fhv</td><td>8589935204</td></tr><tr><td>B02892</td><td>fhv</td><td>8589935205</td></tr><tr><td>B03529</td><td>fhv</td><td>8589935206</td></tr><tr><td>B03295</td><td>fhv</td><td>8589935207</td></tr><tr><td>B03523</td><td>fhv</td><td>8589935208</td></tr><tr><td>B03530</td><td>fhv</td><td>8589935209</td></tr><tr><td>B03447</td><td>fhv</td><td>8589935210</td></tr><tr><td>B03506</td><td>fhv</td><td>8589935211</td></tr><tr><td>B03399</td><td>fhv</td><td>8589935212</td></tr><tr><td>b01349</td><td>fhv</td><td>8589935213</td></tr><tr><td>B03049</td><td>fhv</td><td>8589935214</td></tr><tr><td>B03512</td><td>fhv</td><td>8589935215</td></tr><tr><td>B03230</td><td>fhv</td><td>8589935216</td></tr><tr><td>B03462</td><td>fhv</td><td>8589935217</td></tr><tr><td>B03554</td><td>fhv</td><td>8589935218</td></tr><tr><td>B03377</td><td>fhv</td><td>8589935219</td></tr><tr><td>B03551</td><td>fhv</td><td>8589935220</td></tr><tr><td>B01118</td><td>fhv</td><td>8589935221</td></tr><tr><td>B03473</td><td>fhv</td><td>8589935222</td></tr><tr><td>B03278</td><td>fhv</td><td>8589935223</td></tr><tr><td>B03440</td><td>fhv</td><td>8589935224</td></tr><tr><td>B03531</td><td>fhv</td><td>8589935225</td></tr><tr><td>B03470</td><td>fhv</td><td>8589935226</td></tr><tr><td>B03252</td><td>fhv</td><td>8589935227</td></tr><tr><td>B03475</td><td>fhv</td><td>8589935228</td></tr><tr><td>B03446</td><td>fhv</td><td>8589935229</td></tr><tr><td>B03463</td><td>fhv</td><td>8589935230</td></tr><tr><td>B03111</td><td>fhv</td><td>8589935231</td></tr><tr><td>B03565</td><td>fhv</td><td>8589935232</td></tr><tr><td>B03279</td><td>fhv</td><td>8589935233</td></tr><tr><td>B00401</td><td>fhv</td><td>8589935234</td></tr><tr><td>B01907</td><td>fhv</td><td>8589935235</td></tr><tr><td>B03214</td><td>fhv</td><td>8589935236</td></tr><tr><td>B01328 </td><td>fhv</td><td>8589935237</td></tr><tr><td>B00492</td><td>fhv</td><td>8589935238</td></tr><tr><td>B02709</td><td>fhv</td><td>8589935239</td></tr><tr><td>B00727</td><td>fhv</td><td>8589935240</td></tr><tr><td>B02534</td><td>fhv</td><td>8589935241</td></tr><tr><td>b00833</td><td>fhv</td><td>8589935242</td></tr><tr><td>B01629 </td><td>fhv</td><td>8589935243</td></tr><tr><td>B03231</td><td>fhv</td><td>8589935244</td></tr><tr><td>B02106</td><td>fhv</td><td>8589935245</td></tr><tr><td>B02004</td><td>fhv</td><td>8589935246</td></tr><tr><td>B02293</td><td>fhv</td><td>8589935247</td></tr><tr><td>B02637</td><td>fhv</td><td>8589935248</td></tr><tr><td>B00991</td><td>fhv</td><td>8589935249</td></tr><tr><td>B02970</td><td>fhv</td><td>8589935250</td></tr><tr><td>B03020</td><td>fhv</td><td>8589935251</td></tr><tr><td>B01129</td><td>fhv</td><td>8589935252</td></tr><tr><td>B01088</td><td>fhv</td><td>8589935253</td></tr><tr><td>B02254 </td><td>fhv</td><td>8589935254</td></tr><tr><td>B02826</td><td>fhv</td><td>8589935255</td></tr><tr><td>B03242</td><td>fhv</td><td>8589935256</td></tr><tr><td>B03310</td><td>fhv</td><td>8589935257</td></tr><tr><td>B02055 </td><td>fhv</td><td>8589935258</td></tr><tr><td>B02517         </td><td>fhv</td><td>8589935259</td></tr><tr><td>B00889         </td><td>fhv</td><td>8589935260</td></tr><tr><td>B03184</td><td>fhv</td><td>8589935261</td></tr><tr><td>B02004 </td><td>fhv</td><td>8589935262</td></tr><tr><td>B01821</td><td>fhv</td><td>8589935263</td></tr><tr><td>B03059</td><td>fhv</td><td>8589935264</td></tr><tr><td>B02191</td><td>fhv</td><td>8589935265</td></tr><tr><td>B03162</td><td>fhv</td><td>8589935266</td></tr><tr><td>B01525</td><td>fhv</td><td>8589935267</td></tr><tr><td>B02995</td><td>fhv</td><td>8589935268</td></tr><tr><td>B00346</td><td>fhv</td><td>8589935269</td></tr><tr><td>B01700</td><td>fhv</td><td>8589935270</td></tr><tr><td>B02566</td><td>fhv</td><td>8589935271</td></tr><tr><td>B01176         </td><td>fhv</td><td>8589935272</td></tr><tr><td>B02574</td><td>fhv</td><td>8589935273</td></tr><tr><td>B02597</td><td>fhv</td><td>8589935274</td></tr><tr><td>B01614</td><td>fhv</td><td>8589935275</td></tr><tr><td>B03048</td><td>fhv</td><td>8589935276</td></tr><tr><td>B01197</td><td>fhv</td><td>8589935277</td></tr><tr><td>B01653</td><td>fhv</td><td>8589935278</td></tr><tr><td>B02379</td><td>fhv</td><td>8589935279</td></tr><tr><td>B03268         </td><td>fhv</td><td>8589935280</td></tr><tr><td>B00472</td><td>fhv</td><td>8589935281</td></tr><tr><td>B03193</td><td>fhv</td><td>8589935282</td></tr><tr><td>B01470     </td><td>fhv</td><td>8589935283</td></tr><tr><td>B02416         </td><td>fhv</td><td>8589935284</td></tr><tr><td>B01051</td><td>fhv</td><td>8589935285</td></tr><tr><td>B02229</td><td>fhv</td><td>8589935286</td></tr><tr><td>B00160</td><td>fhv</td><td>8589935287</td></tr><tr><td>B02627                  </td><td>fhv</td><td>8589935288</td></tr><tr><td>B00855</td><td>fhv</td><td>8589935289</td></tr><tr><td>B03023</td><td>fhv</td><td>8589935290</td></tr><tr><td>B00882</td><td>fhv</td><td>8589935291</td></tr><tr><td>B03246</td><td>fhv</td><td>8589935292</td></tr><tr><td>B02462         </td><td>fhv</td><td>8589935293</td></tr><tr><td>B01985</td><td>fhv</td><td>8589935294</td></tr><tr><td>B00319</td><td>fhv</td><td>8589935295</td></tr><tr><td>B01364         </td><td>fhv</td><td>8589935296</td></tr><tr><td>B02951</td><td>fhv</td><td>8589935297</td></tr><tr><td>B01846</td><td>fhv</td><td>8589935298</td></tr><tr><td>B02921</td><td>fhv</td><td>8589935299</td></tr><tr><td>B01190</td><td>fhv</td><td>8589935300</td></tr><tr><td>B03072</td><td>fhv</td><td>8589935301</td></tr><tr><td>B01470         </td><td>fhv</td><td>8589935302</td></tr><tr><td>B02553         </td><td>fhv</td><td>8589935303</td></tr><tr><td>B00625         </td><td>fhv</td><td>8589935304</td></tr><tr><td>B02460</td><td>fhv</td><td>8589935305</td></tr><tr><td>B01215         </td><td>fhv</td><td>8589935306</td></tr><tr><td>B02551</td><td>fhv</td><td>8589935307</td></tr><tr><td>B02711</td><td>fhv</td><td>8589935308</td></tr><tr><td>B03092</td><td>fhv</td><td>8589935309</td></tr><tr><td>B00131</td><td>fhv</td><td>8589935310</td></tr><tr><td>B02809</td><td>fhv</td><td>8589935311</td></tr><tr><td>B01529</td><td>fhv</td><td>8589935312</td></tr><tr><td>B00653</td><td>fhv</td><td>8589935313</td></tr><tr><td>B00955         </td><td>fhv</td><td>8589935314</td></tr><tr><td>B01467         </td><td>fhv</td><td>8589935315</td></tr><tr><td>B03285         </td><td>fhv</td><td>8589935316</td></tr><tr><td>B02037</td><td>fhv</td><td>8589935317</td></tr><tr><td>B01309</td><td>fhv</td><td>8589935318</td></tr><tr><td>B01066         </td><td>fhv</td><td>8589935319</td></tr><tr><td>B01693</td><td>fhv</td><td>8589935320</td></tr><tr><td>B00030</td><td>fhv</td><td>8589935321</td></tr><tr><td>B01568       </td><td>fhv</td><td>8589935322</td></tr><tr><td>B01263</td><td>fhv</td><td>8589935323</td></tr><tr><td>B00290         </td><td>fhv</td><td>8589935324</td></tr><tr><td>B00210</td><td>fhv</td><td>8589935325</td></tr><tr><td>B01739         </td><td>fhv</td><td>8589935326</td></tr><tr><td>B01964</td><td>fhv</td><td>8589935327</td></tr><tr><td>B02279         </td><td>fhv</td><td>8589935328</td></tr><tr><td>B00021         </td><td>fhv</td><td>8589935329</td></tr><tr><td>B03062</td><td>fhv</td><td>8589935330</td></tr><tr><td>B00419</td><td>fhv</td><td>8589935331</td></tr><tr><td>B01534 </td><td>fhv</td><td>8589935332</td></tr><tr><td>B03076         </td><td>fhv</td><td>8589935333</td></tr><tr><td>B02535</td><td>fhv</td><td>8589935334</td></tr><tr><td>B01995         </td><td>fhv</td><td>8589935335</td></tr><tr><td>B03257</td><td>fhv</td><td>8589935336</td></tr><tr><td>B01343</td><td>fhv</td><td>8589935337</td></tr><tr><td>B03220</td><td>fhv</td><td>8589935338</td></tr><tr><td>B01351</td><td>fhv</td><td>8589935339</td></tr><tr><td>B03080</td><td>fhv</td><td>8589935340</td></tr><tr><td>B02988</td><td>fhv</td><td>8589935341</td></tr><tr><td>B01389</td><td>fhv</td><td>8589935342</td></tr><tr><td>B01436         </td><td>fhv</td><td>8589935343</td></tr><tr><td>B02408</td><td>fhv</td><td>8589935344</td></tr><tr><td>B02769</td><td>fhv</td><td>8589935345</td></tr><tr><td>B00975         </td><td>fhv</td><td>8589935346</td></tr><tr><td>B02196</td><td>fhv</td><td>8589935347</td></tr><tr><td>B01568         </td><td>fhv</td><td>8589935348</td></tr><tr><td>B03084         </td><td>fhv</td><td>8589935349</td></tr><tr><td>B01124         </td><td>fhv</td><td>8589935350</td></tr><tr><td>B02243</td><td>fhv</td><td>8589935351</td></tr><tr><td>B01328</td><td>fhv</td><td>8589935352</td></tr><tr><td>B02026</td><td>fhv</td><td>8589935353</td></tr><tr><td>B03280</td><td>fhv</td><td>8589935354</td></tr><tr><td>B03130</td><td>fhv</td><td>8589935355</td></tr><tr><td>B02811 </td><td>fhv</td><td>8589935356</td></tr><tr><td>B03270</td><td>fhv</td><td>8589935357</td></tr><tr><td>B03119</td><td>fhv</td><td>8589935358</td></tr><tr><td>B03331         </td><td>fhv</td><td>8589935359</td></tr><tr><td>B00639</td><td>fhv</td><td>8589935360</td></tr><tr><td>B03290</td><td>fhv</td><td>8589935361</td></tr><tr><td>B00955</td><td>fhv</td><td>8589935362</td></tr><tr><td>B03255</td><td>fhv</td><td>8589935363</td></tr><tr><td>B03186</td><td>fhv</td><td>8589935364</td></tr><tr><td>B03328         </td><td>fhv</td><td>8589935365</td></tr><tr><td>B03327         </td><td>fhv</td><td>8589935366</td></tr><tr><td>B00833</td><td>fhv</td><td>8589935367</td></tr><tr><td>B03522</td><td>fhv</td><td>8589935368</td></tr><tr><td>B02507</td><td>fhv</td><td>8589935369</td></tr><tr><td>B03407</td><td>fhv</td><td>8589935370</td></tr><tr><td>B03614</td><td>fhv</td><td>8589935371</td></tr><tr><td>B03534</td><td>fhv</td><td>8589935372</td></tr><tr><td>B03646</td><td>fhv</td><td>8589935373</td></tr><tr><td>B03617</td><td>fhv</td><td>8589935374</td></tr><tr><td>B03127</td><td>fhv</td><td>8589935375</td></tr><tr><td>B03525</td><td>fhv</td><td>8589935376</td></tr><tr><td>B03430</td><td>fhv</td><td>8589935377</td></tr><tr><td>B03582</td><td>fhv</td><td>8589935378</td></tr><tr><td>B03370</td><td>fhv</td><td>8589935379</td></tr><tr><td>B03653</td><td>fhv</td><td>8589935380</td></tr><tr><td>B03578</td><td>fhv</td><td>8589935381</td></tr><tr><td>B03590</td><td>fhv</td><td>8589935382</td></tr><tr><td>B03544</td><td>fhv</td><td>8589935383</td></tr><tr><td>B03426</td><td>fhv</td><td>8589935384</td></tr><tr><td>B03603</td><td>fhv</td><td>8589935385</td></tr><tr><td>B03557</td><td>fhv</td><td>8589935386</td></tr><tr><td>B03562</td><td>fhv</td><td>8589935387</td></tr><tr><td>B03553</td><td>fhv</td><td>8589935388</td></tr><tr><td>B03584</td><td>fhv</td><td>8589935389</td></tr><tr><td>B03477</td><td>fhv</td><td>8589935390</td></tr><tr><td>b03464</td><td>fhv</td><td>8589935391</td></tr><tr><td>B03471</td><td>fhv</td><td>8589935392</td></tr><tr><td>B03396</td><td>fhv</td><td>8589935393</td></tr><tr><td>B03524</td><td>fhv</td><td>8589935394</td></tr><tr><td>B03569</td><td>fhv</td><td>8589935395</td></tr><tr><td>B03514</td><td>fhv</td><td>8589935396</td></tr><tr><td>B03599</td><td>fhv</td><td>8589935397</td></tr><tr><td>B03627</td><td>fhv</td><td>8589935398</td></tr><tr><td>B03622</td><td>fhv</td><td>8589935399</td></tr><tr><td>B03207</td><td>fhv</td><td>8589935400</td></tr><tr><td>B03572</td><td>fhv</td><td>8589935401</td></tr><tr><td>B03445</td><td>fhv</td><td>8589935402</td></tr><tr><td>B03618</td><td>fhv</td><td>8589935403</td></tr><tr><td>B03637</td><td>fhv</td><td>8589935404</td></tr><tr><td>B03577</td><td>fhv</td><td>8589935405</td></tr><tr><td>B03654</td><td>fhv</td><td>8589935406</td></tr><tr><td>B03659</td><td>fhv</td><td>8589935407</td></tr><tr><td>B03567</td><td>fhv</td><td>8589935408</td></tr><tr><td>B03581</td><td>fhv</td><td>8589935409</td></tr><tr><td>B03502</td><td>fhv</td><td>8589935410</td></tr><tr><td>B00306</td><td>fhv</td><td>8589935411</td></tr><tr><td>B90612</td><td>fhv</td><td>8589935412</td></tr><tr><td>B03464</td><td>fhv</td><td>8589935413</td></tr><tr><td>B03558</td><td>fhv</td><td>8589935414</td></tr><tr><td>b02167</td><td>fhv</td><td>8589935415</td></tr><tr><td>B03570</td><td>fhv</td><td>8589935416</td></tr><tr><td>B01957</td><td>fhv</td><td>8589935417</td></tr><tr><td>B01444</td><td>fhv</td><td>8589935418</td></tr><tr><td>B03094</td><td>fhv</td><td>8589935419</td></tr><tr><td>b00639</td><td>fhv</td><td>8589935420</td></tr><tr><td>B03125    </td><td>fhv</td><td>8589935421</td></tr><tr><td>B00318</td><td>fhv</td><td>8589935422</td></tr><tr><td>B01751</td><td>fhv</td><td>8589935423</td></tr><tr><td>B03159</td><td>fhv</td><td>8589935424</td></tr><tr><td>B03096</td><td>fhv</td><td>8589935425</td></tr><tr><td>B03247</td><td>fhv</td><td>8589935426</td></tr><tr><td>B02790</td><td>fhv</td><td>8589935427</td></tr><tr><td>B00990</td><td>fhv</td><td>8589935428</td></tr><tr><td>B01678         </td><td>fhv</td><td>8589935429</td></tr><tr><td>B02965</td><td>fhv</td><td>8589935430</td></tr><tr><td>B01326         </td><td>fhv</td><td>8589935431</td></tr><tr><td>B01711         </td><td>fhv</td><td>8589935432</td></tr><tr><td>B00337</td><td>fhv</td><td>8589935433</td></tr><tr><td>B02552</td><td>fhv</td><td>8589935434</td></tr><tr><td>B00056</td><td>fhv</td><td>8589935435</td></tr><tr><td>B03243</td><td>fhv</td><td>8589935436</td></tr><tr><td>B01420</td><td>fhv</td><td>8589935437</td></tr><tr><td>B01674         </td><td>fhv</td><td>8589935438</td></tr><tr><td>B03161</td><td>fhv</td><td>8589935439</td></tr><tr><td>B02590</td><td>fhv</td><td>8589935440</td></tr><tr><td>B03083</td><td>fhv</td><td>8589935441</td></tr><tr><td>B02841</td><td>fhv</td><td>8589935442</td></tr><tr><td>B01989</td><td>fhv</td><td>8589935443</td></tr><tr><td>B03236         </td><td>fhv</td><td>8589935444</td></tr><tr><td>B03196</td><td>fhv</td><td>8589935445</td></tr><tr><td>B02335</td><td>fhv</td><td>8589935446</td></tr><tr><td>B03113         </td><td>fhv</td><td>8589935447</td></tr><tr><td>B01398</td><td>fhv</td><td>8589935448</td></tr><tr><td>B02715</td><td>fhv</td><td>8589935449</td></tr><tr><td>B00039</td><td>fhv</td><td>8589935450</td></tr><tr><td>B02793         </td><td>fhv</td><td>8589935451</td></tr><tr><td>B01332</td><td>fhv</td><td>8589935452</td></tr><tr><td>B03007</td><td>fhv</td><td>8589935453</td></tr><tr><td>B02891</td><td>fhv</td><td>8589935454</td></tr><tr><td>B02447</td><td>fhv</td><td>8589935455</td></tr><tr><td>B03261</td><td>fhv</td><td>8589935456</td></tr><tr><td>b01700</td><td>fhv</td><td>8589935457</td></tr><tr><td>B02839</td><td>fhv</td><td>8589935458</td></tr><tr><td>B00984</td><td>fhv</td><td>8589935459</td></tr><tr><td>B02468</td><td>fhv</td><td>8589935460</td></tr><tr><td>B02389</td><td>fhv</td><td>8589935461</td></tr><tr><td>B02252</td><td>fhv</td><td>8589935462</td></tr><tr><td>B02011</td><td>fhv</td><td>8589935463</td></tr><tr><td>B00325         </td><td>fhv</td><td>8589935464</td></tr><tr><td>B01808</td><td>fhv</td><td>8589935465</td></tr><tr><td>B02963</td><td>fhv</td><td>8589935466</td></tr><tr><td>B01148</td><td>fhv</td><td>8589935467</td></tr><tr><td>B01568        </td><td>fhv</td><td>8589935468</td></tr><tr><td>B03077</td><td>fhv</td><td>8589935469</td></tr><tr><td>B02200</td><td>fhv</td><td>8589935470</td></tr><tr><td>B01876</td><td>fhv</td><td>8589935471</td></tr><tr><td>B03031</td><td>fhv</td><td>8589935472</td></tr><tr><td>B02369</td><td>fhv</td><td>8589935473</td></tr><tr><td>B00031</td><td>fhv</td><td>8589935474</td></tr><tr><td>B02651</td><td>fhv</td><td>8589935475</td></tr><tr><td>B03129</td><td>fhv</td><td>8589935476</td></tr><tr><td>B00369</td><td>fhv</td><td>8589935477</td></tr><tr><td>B02554</td><td>fhv</td><td>8589935478</td></tr><tr><td>B02346</td><td>fhv</td><td>8589935479</td></tr><tr><td>B02643</td><td>fhv</td><td>8589935480</td></tr><tr><td>B01801</td><td>fhv</td><td>8589935481</td></tr><tr><td>B03125 </td><td>fhv</td><td>8589935482</td></tr><tr><td>B03188         </td><td>fhv</td><td>8589935483</td></tr><tr><td>B03142</td><td>fhv</td><td>8589935484</td></tr><tr><td>B01081 </td><td>fhv</td><td>8589935485</td></tr><tr><td>B01146</td><td>fhv</td><td>8589935486</td></tr><tr><td>B00325</td><td>fhv</td><td>8589935487</td></tr><tr><td>B02360</td><td>fhv</td><td>8589935488</td></tr><tr><td>B01244</td><td>fhv</td><td>8589935489</td></tr><tr><td>B02440</td><td>fhv</td><td>8589935490</td></tr><tr><td>B03078</td><td>fhv</td><td>8589935491</td></tr><tr><td>B01949</td><td>fhv</td><td>8589935492</td></tr><tr><td>B03024</td><td>fhv</td><td>8589935493</td></tr><tr><td>B03125</td><td>fhv</td><td>8589935494</td></tr><tr><td>B01875</td><td>fhv</td><td>8589935495</td></tr><tr><td>B02175</td><td>fhv</td><td>8589935496</td></tr><tr><td>B02219</td><td>fhv</td><td>8589935497</td></tr><tr><td>B03110</td><td>fhv</td><td>8589935498</td></tr><tr><td>B00552</td><td>fhv</td><td>8589935499</td></tr><tr><td>B03135</td><td>fhv</td><td>8589935500</td></tr><tr><td>B03069</td><td>fhv</td><td>8589935501</td></tr><tr><td>B01764</td><td>fhv</td><td>8589935502</td></tr><tr><td>B00746         </td><td>fhv</td><td>8589935503</td></tr><tr><td>B02390</td><td>fhv</td><td>8589935504</td></tr><tr><td>b01445</td><td>fhv</td><td>8589935505</td></tr><tr><td>B02465</td><td>fhv</td><td>8589935506</td></tr><tr><td>B03213</td><td>fhv</td><td>8589935507</td></tr><tr><td>B02806         </td><td>fhv</td><td>8589935508</td></tr><tr><td>B02944 </td><td>fhv</td><td>8589935509</td></tr><tr><td>B03109</td><td>fhv</td><td>8589935510</td></tr><tr><td>B03293</td><td>fhv</td><td>8589935511</td></tr><tr><td>B02288</td><td>fhv</td><td>8589935512</td></tr><tr><td>B03324         </td><td>fhv</td><td>8589935513</td></tr><tr><td>B01979</td><td>fhv</td><td>8589935514</td></tr><tr><td>b03340</td><td>fhv</td><td>8589935515</td></tr><tr><td>B03644</td><td>fhv</td><td>8589935516</td></tr><tr><td>B03632</td><td>fhv</td><td>8589935517</td></tr><tr><td>B03601</td><td>fhv</td><td>8589935518</td></tr><tr><td>B03465</td><td>fhv</td><td>8589935519</td></tr><tr><td>B03669</td><td>fhv</td><td>8589935520</td></tr><tr><td>B01243</td><td>fhv</td><td>8589935521</td></tr><tr><td>HV0005</td><td>fhvhv</td><td>17179869184</td></tr><tr><td>HV0003</td><td>fhvhv</td><td>17179869185</td></tr><tr><td>HV0004</td><td>fhvhv</td><td>17179869186</td></tr></tbody></table></div>"
      ]
     },
     "metadata": {
      "application/vnd.databricks.v1+output": {
       "addedWidgets": {},
       "aggData": [],
       "aggError": "",
       "aggOverflow": false,
       "aggSchema": [],
       "aggSeriesLimitReached": false,
       "aggType": "",
       "arguments": {},
       "columnCustomDisplayInfos": {},
       "data": [
        [
         "2",
         "taxi",
         0
        ],
        [
         "6",
         "taxi",
         1
        ],
        [
         "5",
         "taxi",
         2
        ],
        [
         "1",
         "taxi",
         3
        ],
        [
         "B01663",
         "fhv",
         8589934592
        ],
        [
         "B00608",
         "fhv",
         8589934593
        ],
        [
         "B03417",
         "fhv",
         8589934594
        ],
        [
         "B02852",
         "fhv",
         8589934595
        ],
        [
         "B02770",
         "fhv",
         8589934596
        ],
        [
         "B03309",
         "fhv",
         8589934597
        ],
        [
         "B00235",
         "fhv",
         8589934598
        ],
        [
         "B02287",
         "fhv",
         8589934599
        ],
        [
         "B00225",
         "fhv",
         8589934600
        ],
        [
         "B03229",
         "fhv",
         8589934601
        ],
        [
         "B03276",
         "fhv",
         8589934602
        ],
        [
         "B01413",
         "fhv",
         8589934603
        ],
        [
         "B03028",
         "fhv",
         8589934604
        ],
        [
         "B00906",
         "fhv",
         8589934605
        ],
        [
         "B03349",
         "fhv",
         8589934606
        ],
        [
         "B00448",
         "fhv",
         8589934607
        ],
        [
         "B03315",
         "fhv",
         8589934608
        ],
        [
         "B00149",
         "fhv",
         8589934609
        ],
        [
         "B00445",
         "fhv",
         8589934610
        ],
        [
         "B01268",
         "fhv",
         8589934611
        ],
        [
         "B02655",
         "fhv",
         8589934612
        ],
        [
         "B03455",
         "fhv",
         8589934613
        ],
        [
         "B00014",
         "fhv",
         8589934614
        ],
        [
         "B01768",
         "fhv",
         8589934615
        ],
        [
         "B01913",
         "fhv",
         8589934616
        ],
        [
         "B02719",
         "fhv",
         8589934617
        ],
        [
         "B02331",
         "fhv",
         8589934618
        ],
        [
         "B02814",
         "fhv",
         8589934619
        ],
        [
         "B00652",
         "fhv",
         8589934620
        ],
        [
         "B02658",
         "fhv",
         8589934621
        ],
        [
         "B01492",
         "fhv",
         8589934622
        ],
        [
         "B02975",
         "fhv",
         8589934623
        ],
        [
         "B03282",
         "fhv",
         8589934624
        ],
        [
         "B00208",
         "fhv",
         8589934625
        ],
        [
         "B01338",
         "fhv",
         8589934626
        ],
        [
         "B02311",
         "fhv",
         8589934627
        ],
        [
         "B01546",
         "fhv",
         8589934628
        ],
        [
         "B02868",
         "fhv",
         8589934629
        ],
        [
         "B00860",
         "fhv",
         8589934630
        ],
        [
         "B01730",
         "fhv",
         8589934631
        ],
        [
         "B02120",
         "fhv",
         8589934632
        ],
        [
         "B02163",
         "fhv",
         8589934633
        ],
        [
         "B02998",
         "fhv",
         8589934634
        ],
        [
         "B03126",
         "fhv",
         8589934635
        ],
        [
         "B01346",
         "fhv",
         8589934636
        ],
        [
         "B01593",
         "fhv",
         8589934637
        ],
        [
         "B01928",
         "fhv",
         8589934638
        ],
        [
         "B00112",
         "fhv",
         8589934639
        ],
        [
         "B03199",
         "fhv",
         8589934640
        ],
        [
         "B01970",
         "fhv",
         8589934641
        ],
        [
         "B00196",
         "fhv",
         8589934642
        ],
        [
         "B00227",
         "fhv",
         8589934643
        ],
        [
         "B03326",
         "fhv",
         8589934644
        ],
        [
         "B01777",
         "fhv",
         8589934645
        ],
        [
         "B01606",
         "fhv",
         8589934646
        ],
        [
         "B02517",
         "fhv",
         8589934647
        ],
        [
         "B03038",
         "fhv",
         8589934648
        ],
        [
         "B01745",
         "fhv",
         8589934649
        ],
        [
         "B01083",
         "fhv",
         8589934650
        ],
        [
         "B01616",
         "fhv",
         8589934651
        ],
        [
         "B00151",
         "fhv",
         8589934652
        ],
        [
         "B00628",
         "fhv",
         8589934653
        ],
        [
         "B03254",
         "fhv",
         8589934654
        ],
        [
         "B02067",
         "fhv",
         8589934655
        ],
        [
         "B03292",
         "fhv",
         8589934656
        ],
        [
         "B00457",
         "fhv",
         8589934657
        ],
        [
         "B03263",
         "fhv",
         8589934658
        ],
        [
         "B03233",
         "fhv",
         8589934659
        ],
        [
         "B00095",
         "fhv",
         8589934660
        ],
        [
         "B02942",
         "fhv",
         8589934661
        ],
        [
         "B03030",
         "fhv",
         8589934662
        ],
        [
         "B03436",
         "fhv",
         8589934663
        ],
        [
         "B00477",
         "fhv",
         8589934664
        ],
        [
         "B02406",
         "fhv",
         8589934665
        ],
        [
         "B01710",
         "fhv",
         8589934666
        ],
        [
         "B03330",
         "fhv",
         8589934667
        ],
        [
         "B02962",
         "fhv",
         8589934668
        ],
        [
         "B01843",
         "fhv",
         8589934669
        ],
        [
         "B02127",
         "fhv",
         8589934670
        ],
        [
         "B02173",
         "fhv",
         8589934671
        ],
        [
         "B02687",
         "fhv",
         8589934672
        ],
        [
         "B02990",
         "fhv",
         8589934673
        ],
        [
         "B01553",
         "fhv",
         8589934674
        ],
        [
         "B00948",
         "fhv",
         8589934675
        ],
        [
         "B03158",
         "fhv",
         8589934676
        ],
        [
         "B02902",
         "fhv",
         8589934677
        ],
        [
         "B01306",
         "fhv",
         8589934678
        ],
        [
         "b02594",
         "fhv",
         8589934679
        ],
        [
         "B01482",
         "fhv",
         8589934680
        ],
        [
         "B01273",
         "fhv",
         8589934681
        ],
        [
         "B01938",
         "fhv",
         8589934682
        ],
        [
         "B02228",
         "fhv",
         8589934683
        ],
        [
         "B03314",
         "fhv",
         8589934684
        ],
        [
         "B03402",
         "fhv",
         8589934685
        ],
        [
         "B02546",
         "fhv",
         8589934686
        ],
        [
         "B02731",
         "fhv",
         8589934687
        ],
        [
         "B03269",
         "fhv",
         8589934688
        ],
        [
         "B03147",
         "fhv",
         8589934689
        ],
        [
         "B02334",
         "fhv",
         8589934690
        ],
        [
         "B02760",
         "fhv",
         8589934691
        ],
        [
         "B02674",
         "fhv",
         8589934692
        ],
        [
         "B02917",
         "fhv",
         8589934693
        ],
        [
         "B01436",
         "fhv",
         8589934694
        ],
        [
         "B02846",
         "fhv",
         8589934695
        ],
        [
         "B02563",
         "fhv",
         8589934696
        ],
        [
         "B00221",
         "fhv",
         8589934697
        ],
        [
         "B03156",
         "fhv",
         8589934698
        ],
        [
         "B03050",
         "fhv",
         8589934699
        ],
        [
         "B01743",
         "fhv",
         8589934700
        ],
        [
         "B00429",
         "fhv",
         8589934701
        ],
        [
         "B01349",
         "fhv",
         8589934702
        ],
        [
         "B02968",
         "fhv",
         8589934703
        ],
        [
         "B01779",
         "fhv",
         8589934704
        ],
        [
         "B00531",
         "fhv",
         8589934705
        ],
        [
         "B01066",
         "fhv",
         8589934706
        ],
        [
         "B02898",
         "fhv",
         8589934707
        ],
        [
         "B03424",
         "fhv",
         8589934708
        ],
        [
         "B02972",
         "fhv",
         8589934709
        ],
        [
         "B03032",
         "fhv",
         8589934710
        ],
        [
         "B03138",
         "fhv",
         8589934711
        ],
        [
         "B03041",
         "fhv",
         8589934712
        ],
        [
         "B02096",
         "fhv",
         8589934713
        ],
        [
         "B01215",
         "fhv",
         8589934714
        ],
        [
         "B00381",
         "fhv",
         8589934715
        ],
        [
         "B02664",
         "fhv",
         8589934716
        ],
        [
         "B03287",
         "fhv",
         8589934717
        ],
        [
         "B00972",
         "fhv",
         8589934718
        ],
        [
         "B01391",
         "fhv",
         8589934719
        ],
        [
         "B03303",
         "fhv",
         8589934720
        ],
        [
         "B00449",
         "fhv",
         8589934721
        ],
        [
         "B02738",
         "fhv",
         8589934722
        ],
        [
         "B01081",
         "fhv",
         8589934723
        ],
        [
         "B02342",
         "fhv",
         8589934724
        ],
        [
         "B00837",
         "fhv",
         8589934725
        ],
        [
         "B01057",
         "fhv",
         8589934726
        ],
        [
         "B01362",
         "fhv",
         8589934727
        ],
        [
         "B03016",
         "fhv",
         8589934728
        ],
        [
         "B02855",
         "fhv",
         8589934729
        ],
        [
         "B02301",
         "fhv",
         8589934730
        ],
        [
         "B01536",
         "fhv",
         8589934731
        ],
        [
         "B02739",
         "fhv",
         8589934732
        ],
        [
         "B03057",
         "fhv",
         8589934733
        ],
        [
         "B01061",
         "fhv",
         8589934734
        ],
        [
         "B01527",
         "fhv",
         8589934735
        ],
        [
         "B03113",
         "fhv",
         8589934736
        ],
        [
         "B02424",
         "fhv",
         8589934737
        ],
        [
         "B02095",
         "fhv",
         8589934738
        ],
        [
         "B03391",
         "fhv",
         8589934739
        ],
        [
         "B00625",
         "fhv",
         8589934740
        ],
        [
         "B03248",
         "fhv",
         8589934741
        ],
        [
         "B03240",
         "fhv",
         8589934742
        ],
        [
         "B02522",
         "fhv",
         8589934743
        ],
        [
         "B00277",
         "fhv",
         8589934744
        ],
        [
         "B02803",
         "fhv",
         8589934745
        ],
        [
         "B01470",
         "fhv",
         8589934746
        ],
        [
         "B00345",
         "fhv",
         8589934747
        ],
        [
         "B02819",
         "fhv",
         8589934748
        ],
        [
         "B01183",
         "fhv",
         8589934749
        ],
        [
         "B01854",
         "fhv",
         8589934750
        ],
        [
         "B01406",
         "fhv",
         8589934751
        ],
        [
         "B02989",
         "fhv",
         8589934752
        ],
        [
         "B01009",
         "fhv",
         8589934753
        ],
        [
         "B03177",
         "fhv",
         8589934754
        ],
        [
         "B01678",
         "fhv",
         8589934755
        ],
        [
         "B02292",
         "fhv",
         8589934756
        ],
        [
         "B01020",
         "fhv",
         8589934757
        ],
        [
         "B02728",
         "fhv",
         8589934758
        ],
        [
         "B02429",
         "fhv",
         8589934759
        ],
        [
         "B03171",
         "fhv",
         8589934760
        ],
        [
         "B02784",
         "fhv",
         8589934761
        ],
        [
         "B03191",
         "fhv",
         8589934762
        ],
        [
         "B03256",
         "fhv",
         8589934763
        ],
        [
         "B03060",
         "fhv",
         8589934764
        ],
        [
         "B03480",
         "fhv",
         8589934765
        ],
        [
         "B01534",
         "fhv",
         8589934766
        ],
        [
         "B01341",
         "fhv",
         8589934767
        ],
        [
         "B01509",
         "fhv",
         8589934768
        ],
        [
         "B02670",
         "fhv",
         8589934769
        ],
        [
         "B03262",
         "fhv",
         8589934770
        ],
        [
         "B03393",
         "fhv",
         8589934771
        ],
        [
         "B01196",
         "fhv",
         8589934772
        ],
        [
         "B01984",
         "fhv",
         8589934773
        ],
        [
         "B02627",
         "fhv",
         8589934774
        ],
        [
         "B03380",
         "fhv",
         8589934775
        ],
        [
         "B02787",
         "fhv",
         8589934776
        ],
        [
         "B03346",
         "fhv",
         8589934777
        ],
        [
         "B01537",
         "fhv",
         8589934778
        ],
        [
         "B01559",
         "fhv",
         8589934779
        ],
        [
         "B02550",
         "fhv",
         8589934780
        ],
        [
         "B01016",
         "fhv",
         8589934781
        ],
        [
         "B01726",
         "fhv",
         8589934782
        ],
        [
         "B02641",
         "fhv",
         8589934783
        ],
        [
         "B01340",
         "fhv",
         8589934784
        ],
        [
         "B01381",
         "fhv",
         8589934785
        ],
        [
         "B02737",
         "fhv",
         8589934786
        ],
        [
         "B01963",
         "fhv",
         8589934787
        ],
        [
         "B01466",
         "fhv",
         8589934788
        ],
        [
         "B02162",
         "fhv",
         8589934789
        ],
        [
         "B01629",
         "fhv",
         8589934790
        ],
        [
         "B02774",
         "fhv",
         8589934791
        ],
        [
         "B02909",
         "fhv",
         8589934792
        ],
        [
         "B02437",
         "fhv",
         8589934793
        ],
        [
         "B02339",
         "fhv",
         8589934794
        ],
        [
         "B03403",
         "fhv",
         8589934795
        ],
        [
         "B03181",
         "fhv",
         8589934796
        ],
        [
         "B03390",
         "fhv",
         8589934797
        ],
        [
         "B01417",
         "fhv",
         8589934798
        ],
        [
         "B00078",
         "fhv",
         8589934799
        ],
        [
         "B01899",
         "fhv",
         8589934800
        ],
        [
         "B03357",
         "fhv",
         8589934801
        ],
        [
         "B01367",
         "fhv",
         8589934802
        ],
        [
         "B01625",
         "fhv",
         8589934803
        ],
        [
         "B02273",
         "fhv",
         8589934804
        ],
        [
         "B02677",
         "fhv",
         8589934805
        ],
        [
         "B02373",
         "fhv",
         8589934806
        ],
        [
         "B03185",
         "fhv",
         8589934807
        ],
        [
         "B03359",
         "fhv",
         8589934808
        ],
        [
         "B00446",
         "fhv",
         8589934809
        ],
        [
         "B02060",
         "fhv",
         8589934810
        ],
        [
         "B02005",
         "fhv",
         8589934811
        ],
        [
         "B01437",
         "fhv",
         8589934812
        ],
        [
         "B00254",
         "fhv",
         8589934813
        ],
        [
         "B00053",
         "fhv",
         8589934814
        ],
        [
         "B02148",
         "fhv",
         8589934815
        ],
        [
         "B00623",
         "fhv",
         8589934816
        ],
        [
         "B00111",
         "fhv",
         8589934817
        ],
        [
         "B01455",
         "fhv",
         8589934818
        ],
        [
         "B00856",
         "fhv",
         8589934819
        ],
        [
         "B02573",
         "fhv",
         8589934820
        ],
        [
         "B01233",
         "fhv",
         8589934821
        ],
        [
         "B00350",
         "fhv",
         8589934822
        ],
        [
         "B03382",
         "fhv",
         8589934823
        ],
        [
         "B02249",
         "fhv",
         8589934824
        ],
        [
         "B03209",
         "fhv",
         8589934825
        ],
        [
         "B01644",
         "fhv",
         8589934826
        ],
        [
         "B02817",
         "fhv",
         8589934827
        ],
        [
         "B03387",
         "fhv",
         8589934828
        ],
        [
         "B02736",
         "fhv",
         8589934829
        ],
        [
         "B03297",
         "fhv",
         8589934830
        ],
        [
         "B02254",
         "fhv",
         8589934831
        ],
        [
         "B00248",
         "fhv",
         8589934832
        ],
        [
         "B01282",
         "fhv",
         8589934833
        ],
        [
         "B02016",
         "fhv",
         8589934834
        ],
        [
         "B02794",
         "fhv",
         8589934835
        ],
        [
         "B03267",
         "fhv",
         8589934836
        ],
        [
         "B02920",
         "fhv",
         8589934837
        ],
        [
         "B01311",
         "fhv",
         8589934838
        ],
        [
         "B02217",
         "fhv",
         8589934839
        ],
        [
         "B02924",
         "fhv",
         8589934840
        ],
        [
         "B00271",
         "fhv",
         8589934841
        ],
        [
         "B00850",
         "fhv",
         8589934842
        ],
        [
         "B02853",
         "fhv",
         8589934843
        ],
        [
         "B01452",
         "fhv",
         8589934844
        ],
        [
         "B02901",
         "fhv",
         8589934845
        ],
        [
         "B02833",
         "fhv",
         8589934846
        ],
        [
         "B02103",
         "fhv",
         8589934847
        ],
        [
         "B03482",
         "fhv",
         8589934848
        ],
        [
         "B00222",
         "fhv",
         8589934849
        ],
        [
         "B01124",
         "fhv",
         8589934850
        ],
        [
         "B02391",
         "fhv",
         8589934851
        ],
        [
         "B01877",
         "fhv",
         8589934852
        ],
        [
         "B01029",
         "fhv",
         8589934853
        ],
        [
         "B01336",
         "fhv",
         8589934854
        ],
        [
         "B03194",
         "fhv",
         8589934855
        ],
        [
         "B02929",
         "fhv",
         8589934856
        ],
        [
         "B02401",
         "fhv",
         8589934857
        ],
        [
         "B02110",
         "fhv",
         8589934858
        ],
        [
         "B03085",
         "fhv",
         8589934859
        ],
        [
         "B02897",
         "fhv",
         8589934860
        ],
        [
         "B02453",
         "fhv",
         8589934861
        ],
        [
         "B00597",
         "fhv",
         8589934862
        ],
        [
         "B03100",
         "fhv",
         8589934863
        ],
        [
         "B03107",
         "fhv",
         8589934864
        ],
        [
         "B03206",
         "fhv",
         8589934865
        ],
        [
         "B01667",
         "fhv",
         8589934866
        ],
        [
         "B01469",
         "fhv",
         8589934867
        ],
        [
         "B03285",
         "fhv",
         8589934868
        ],
        [
         "B01717",
         "fhv",
         8589934869
        ],
        [
         "B03335",
         "fhv",
         8589934870
        ],
        [
         "B00975",
         "fhv",
         8589934871
        ],
        [
         "B03258",
         "fhv",
         8589934872
        ],
        [
         "B01194",
         "fhv",
         8589934873
        ],
        [
         "B00827",
         "fhv",
         8589934874
        ],
        [
         "B03466",
         "fhv",
         8589934875
        ],
        [
         "B03408",
         "fhv",
         8589934876
        ],
        [
         "B02782",
         "fhv",
         8589934877
        ],
        [
         "B02167",
         "fhv",
         8589934878
        ],
        [
         "B00054",
         "fhv",
         8589934879
        ],
        [
         "B02027",
         "fhv",
         8589934880
        ],
        [
         "B00692",
         "fhv",
         8589934881
        ],
        [
         "B01424",
         "fhv",
         8589934882
        ],
        [
         "B03334",
         "fhv",
         8589934883
        ],
        [
         "B03421",
         "fhv",
         8589934884
        ],
        [
         "B02599",
         "fhv",
         8589934885
        ],
        [
         "B01485",
         "fhv",
         8589934886
        ],
        [
         "B03361",
         "fhv",
         8589934887
        ],
        [
         "B03172",
         "fhv",
         8589934888
        ],
        [
         "B00756",
         "fhv",
         8589934889
        ],
        [
         "B00256",
         "fhv",
         8589934890
        ],
        [
         "B03283",
         "fhv",
         8589934891
        ],
        [
         "B00009",
         "fhv",
         8589934892
        ],
        [
         "B02832",
         "fhv",
         8589934893
        ],
        [
         "B01540",
         "fhv",
         8589934894
        ],
        [
         "B03211",
         "fhv",
         8589934895
        ],
        [
         "B03291",
         "fhv",
         8589934896
        ],
        [
         "B03157",
         "fhv",
         8589934897
        ],
        [
         "B03336",
         "fhv",
         8589934898
        ],
        [
         "B02735",
         "fhv",
         8589934899
        ],
        [
         "B03381",
         "fhv",
         8589934900
        ],
        [
         "B01626",
         "fhv",
         8589934901
        ],
        [
         "B03239",
         "fhv",
         8589934902
        ],
        [
         "B03064",
         "fhv",
         8589934903
        ],
        [
         "B02099",
         "fhv",
         8589934904
        ],
        [
         "B02912",
         "fhv",
         8589934905
        ],
        [
         "B00013",
         "fhv",
         8589934906
        ],
        [
         "B03187",
         "fhv",
         8589934907
        ],
        [
         "B01454",
         "fhv",
         8589934908
        ],
        [
         "B02967",
         "fhv",
         8589934909
        ],
        [
         "B00789",
         "fhv",
         8589934910
        ],
        [
         "B02352",
         "fhv",
         8589934911
        ],
        [
         "B02248",
         "fhv",
         8589934912
        ],
        [
         "B02899",
         "fhv",
         8589934913
        ],
        [
         "B03371",
         "fhv",
         8589934914
        ],
        [
         "B03047",
         "fhv",
         8589934915
        ],
        [
         "B00387",
         "fhv",
         8589934916
        ],
        [
         "B00411",
         "fhv",
         8589934917
        ],
        [
         "B02418",
         "fhv",
         8589934918
        ],
        [
         "B03145",
         "fhv",
         8589934919
        ],
        [
         "B01944",
         "fhv",
         8589934920
        ],
        [
         "B01200",
         "fhv",
         8589934921
        ],
        [
         "B01259",
         "fhv",
         8589934922
        ],
        [
         "B02152",
         "fhv",
         8589934923
        ],
        [
         "B02055",
         "fhv",
         8589934924
        ],
        [
         "B00932",
         "fhv",
         8589934925
        ],
        [
         "B00965",
         "fhv",
         8589934926
        ],
        [
         "B02050",
         "fhv",
         8589934927
        ],
        [
         "B03438",
         "fhv",
         8589934928
        ],
        [
         "B03061",
         "fhv",
         8589934929
        ],
        [
         "B00459",
         "fhv",
         8589934930
        ],
        [
         "B03367",
         "fhv",
         8589934931
        ],
        [
         "B00802",
         "fhv",
         8589934932
        ],
        [
         "B02003",
         "fhv",
         8589934933
        ],
        [
         "B03286",
         "fhv",
         8589934934
        ],
        [
         "B00556",
         "fhv",
         8589934935
        ],
        [
         "B01315",
         "fhv",
         8589934936
        ],
        [
         "B03341",
         "fhv",
         8589934937
        ],
        [
         "B01742",
         "fhv",
         8589934938
        ],
        [
         "B02157",
         "fhv",
         8589934939
        ],
        [
         "B03268",
         "fhv",
         8589934940
        ],
        [
         "B03355",
         "fhv",
         8589934941
        ],
        [
         "B02834",
         "fhv",
         8589934942
        ],
        [
         "B02285",
         "fhv",
         8589934943
        ],
        [
         "B03388",
         "fhv",
         8589934944
        ],
        [
         "B00310",
         "fhv",
         8589934945
        ],
        [
         "B02997",
         "fhv",
         8589934946
        ],
        [
         "B03174",
         "fhv",
         8589934947
        ],
        [
         "B03339",
         "fhv",
         8589934948
        ],
        [
         "B01091",
         "fhv",
         8589934949
        ],
        [
         "B03164",
         "fhv",
         8589934950
        ],
        [
         "B01176",
         "fhv",
         8589934951
        ],
        [
         "B02491",
         "fhv",
         8589934952
        ],
        [
         "B01013",
         "fhv",
         8589934953
        ],
        [
         "B00255",
         "fhv",
         8589934954
        ],
        [
         "B03002",
         "fhv",
         8589934955
        ],
        [
         "B03081",
         "fhv",
         8589934956
        ],
        [
         "B02825",
         "fhv",
         8589934957
        ],
        [
         "B02240",
         "fhv",
         8589934958
        ],
        [
         "B03338",
         "fhv",
         8589934959
        ],
        [
         "B00887",
         "fhv",
         8589934960
        ],
        [
         "B00008",
         "fhv",
         8589934961
        ],
        [
         "B02461",
         "fhv",
         8589934962
        ],
        [
         "B01339",
         "fhv",
         8589934963
        ],
        [
         "B02671",
         "fhv",
         8589934964
        ],
        [
         "B02111",
         "fhv",
         8589934965
        ],
        [
         "B03320",
         "fhv",
         8589934966
        ],
        [
         "B03333",
         "fhv",
         8589934967
        ],
        [
         "B02133",
         "fhv",
         8589934968
        ],
        [
         "B02532",
         "fhv",
         8589934969
        ],
        [
         "B03266",
         "fhv",
         8589934970
        ],
        [
         "B02410",
         "fhv",
         8589934971
        ],
        [
         "B01239",
         "fhv",
         8589934972
        ],
        [
         "B01364",
         "fhv",
         8589934973
        ],
        [
         "B03236",
         "fhv",
         8589934974
        ],
        [
         "B02747",
         "fhv",
         8589934975
        ],
        [
         "B02470",
         "fhv",
         8589934976
        ],
        [
         "B03329",
         "fhv",
         8589934977
        ],
        [
         "B03144",
         "fhv",
         8589934978
        ],
        [
         "B02101",
         "fhv",
         8589934979
        ],
        [
         "B00559",
         "fhv",
         8589934980
        ],
        [
         "B03015",
         "fhv",
         8589934981
        ],
        [
         "B02397",
         "fhv",
         8589934982
        ],
        [
         "B02661",
         "fhv",
         8589934983
        ],
        [
         "B02934",
         "fhv",
         8589934984
        ],
        [
         "B02320",
         "fhv",
         8589934985
        ],
        [
         "B03116",
         "fhv",
         8589934986
        ],
        [
         "B02537",
         "fhv",
         8589934987
        ],
        [
         "B01432",
         "fhv",
         8589934988
        ],
        [
         "B03033",
         "fhv",
         8589934989
        ],
        [
         "B03153",
         "fhv",
         8589934990
        ],
        [
         "B00821",
         "fhv",
         8589934991
        ],
        [
         "B02536",
         "fhv",
         8589934992
        ],
        [
         "B03074",
         "fhv",
         8589934993
        ],
        [
         "B03105",
         "fhv",
         8589934994
        ],
        [
         "B02838",
         "fhv",
         8589934995
        ],
        [
         "B02207",
         "fhv",
         8589934996
        ],
        [
         "B02849",
         "fhv",
         8589934997
        ],
        [
         "B00889",
         "fhv",
         8589934998
        ],
        [
         "B01871",
         "fhv",
         8589934999
        ],
        [
         "B03492",
         "fhv",
         8589935000
        ],
        [
         "B01079",
         "fhv",
         8589935001
        ],
        [
         "B02799",
         "fhv",
         8589935002
        ],
        [
         "B01958",
         "fhv",
         8589935003
        ],
        [
         "B00823",
         "fhv",
         8589935004
        ],
        [
         "B02462",
         "fhv",
         8589935005
        ],
        [
         "B02629",
         "fhv",
         8589935006
        ],
        [
         "B02531",
         "fhv",
         8589935007
        ],
        [
         "B01065",
         "fhv",
         8589935008
        ],
        [
         "B00536",
         "fhv",
         8589935009
        ],
        [
         "B00937",
         "fhv",
         8589935010
        ],
        [
         "B01312",
         "fhv",
         8589935011
        ],
        [
         "B03055",
         "fhv",
         8589935012
        ],
        [
         "B00280",
         "fhv",
         8589935013
        ],
        [
         "B02315",
         "fhv",
         8589935014
        ],
        [
         "B02811",
         "fhv",
         8589935015
        ],
        [
         "B01280",
         "fhv",
         8589935016
        ],
        [
         "B03281",
         "fhv",
         8589935017
        ],
        [
         "B01803",
         "fhv",
         8589935018
        ],
        [
         "B02762",
         "fhv",
         8589935019
        ],
        [
         "B03284",
         "fhv",
         8589935020
        ],
        [
         "B01639",
         "fhv",
         8589935021
        ],
        [
         "B02881",
         "fhv",
         8589935022
        ],
        [
         "B03343",
         "fhv",
         8589935023
        ],
        [
         "B00272",
         "fhv",
         8589935024
        ],
        [
         "B01601",
         "fhv",
         8589935025
        ],
        [
         "B02756",
         "fhv",
         8589935026
        ],
        [
         "B03299",
         "fhv",
         8589935027
        ],
        [
         "B01386",
         "fhv",
         8589935028
        ],
        [
         "B03197",
         "fhv",
         8589935029
        ],
        [
         "B03433",
         "fhv",
         8589935030
        ],
        [
         "B03312",
         "fhv",
         8589935031
        ],
        [
         "B02416",
         "fhv",
         8589935032
        ],
        [
         "B01445",
         "fhv",
         8589935033
        ],
        [
         "B02093",
         "fhv",
         8589935034
        ],
        [
         "B03097",
         "fhv",
         8589935035
        ],
        [
         "B00911",
         "fhv",
         8589935036
        ],
        [
         "B01128",
         "fhv",
         8589935037
        ],
        [
         "B03340",
         "fhv",
         8589935038
        ],
        [
         "B01236",
         "fhv",
         8589935039
        ],
        [
         "B03166",
         "fhv",
         8589935040
        ],
        [
         "B02298",
         "fhv",
         8589935041
        ],
        [
         "B00647",
         "fhv",
         8589935042
        ],
        [
         "B02509",
         "fhv",
         8589935043
        ],
        [
         "B00706",
         "fhv",
         8589935044
        ],
        [
         "B02107",
         "fhv",
         8589935045
        ],
        [
         "B03321",
         "fhv",
         8589935046
        ],
        [
         "B02613",
         "fhv",
         8589935047
        ],
        [
         "B00001",
         "fhv",
         8589935048
        ],
        [
         "B02724",
         "fhv",
         8589935049
        ],
        [
         "B02699",
         "fhv",
         8589935050
        ],
        [
         "B02279",
         "fhv",
         8589935051
        ],
        [
         "B03352",
         "fhv",
         8589935052
        ],
        [
         "B02905",
         "fhv",
         8589935053
        ],
        [
         "B01980",
         "fhv",
         8589935054
        ],
        [
         "B02987",
         "fhv",
         8589935055
        ],
        [
         "B02557",
         "fhv",
         8589935056
        ],
        [
         "B00412",
         "fhv",
         8589935057
        ],
        [
         "B01145",
         "fhv",
         8589935058
        ],
        [
         "B03296",
         "fhv",
         8589935059
        ],
        [
         "B03017",
         "fhv",
         8589935060
        ],
        [
         "B03324",
         "fhv",
         8589935061
        ],
        [
         "B03018",
         "fhv",
         8589935062
        ],
        [
         "B00037",
         "fhv",
         8589935063
        ],
        [
         "B02021",
         "fhv",
         8589935064
        ],
        [
         "B01231",
         "fhv",
         8589935065
        ],
        [
         "B03046",
         "fhv",
         8589935066
        ],
        [
         "B01995",
         "fhv",
         8589935067
        ],
        [
         "B01568",
         "fhv",
         8589935068
        ],
        [
         "B03139",
         "fhv",
         8589935069
        ],
        [
         "B03051",
         "fhv",
         8589935070
        ],
        [
         "B03275",
         "fhv",
         8589935071
        ],
        [
         "B01738",
         "fhv",
         8589935072
        ],
        [
         "B02971",
         "fhv",
         8589935073
        ],
        [
         "B01285",
         "fhv",
         8589935074
        ],
        [
         "B00900",
         "fhv",
         8589935075
        ],
        [
         "B02823",
         "fhv",
         8589935076
        ],
        [
         "B01087",
         "fhv",
         8589935077
        ],
        [
         "B02182",
         "fhv",
         8589935078
        ],
        [
         "B01800",
         "fhv",
         8589935079
        ],
        [
         "B00202",
         "fhv",
         8589935080
        ],
        [
         "B02472",
         "fhv",
         8589935081
        ],
        [
         "B02144",
         "fhv",
         8589935082
        ],
        [
         "B03104",
         "fhv",
         8589935083
        ],
        [
         "B02594",
         "fhv",
         8589935084
        ],
        [
         "B02930",
         "fhv",
         8589935085
        ],
        [
         "B02947",
         "fhv",
         8589935086
        ],
        [
         "B03037",
         "fhv",
         8589935087
        ],
        [
         "B03123",
         "fhv",
         8589935088
        ],
        [
         "B02795",
         "fhv",
         8589935089
        ],
        [
         "B00888",
         "fhv",
         8589935090
        ],
        [
         "B01721",
         "fhv",
         8589935091
        ],
        [
         "B03040",
         "fhv",
         8589935092
        ],
        [
         "B03208",
         "fhv",
         8589935093
        ],
        [
         "B03202",
         "fhv",
         8589935094
        ],
        [
         "B02860",
         "fhv",
         8589935095
        ],
        [
         "B03505",
         "fhv",
         8589935096
        ],
        [
         "B03204",
         "fhv",
         8589935097
        ],
        [
         "B01600",
         "fhv",
         8589935098
        ],
        [
         "B02949",
         "fhv",
         8589935099
        ],
        [
         "B02725",
         "fhv",
         8589935100
        ],
        [
         "B03308",
         "fhv",
         8589935101
        ],
        [
         "B03137",
         "fhv",
         8589935102
        ],
        [
         "B00919",
         "fhv",
         8589935103
        ],
        [
         "B02824",
         "fhv",
         8589935104
        ],
        [
         "B03456",
         "fhv",
         8589935105
        ],
        [
         "B03494",
         "fhv",
         8589935106
        ],
        [
         "B02913",
         "fhv",
         8589935107
        ],
        [
         "B03423",
         "fhv",
         8589935108
        ],
        [
         "b00429",
         "fhv",
         8589935109
        ],
        [
         "B03517",
         "fhv",
         8589935110
        ],
        [
         "B03298",
         "fhv",
         8589935111
        ],
        [
         "B03513",
         "fhv",
         8589935112
        ],
        [
         "B03409",
         "fhv",
         8589935113
        ],
        [
         "B03419",
         "fhv",
         8589935114
        ],
        [
         "B03368",
         "fhv",
         8589935115
        ],
        [
         "B03344",
         "fhv",
         8589935116
        ],
        [
         "B03425",
         "fhv",
         8589935117
        ],
        [
         "B03500",
         "fhv",
         8589935118
        ],
        [
         "B02797",
         "fhv",
         8589935119
        ],
        [
         "B03348",
         "fhv",
         8589935120
        ],
        [
         "B03478",
         "fhv",
         8589935121
        ],
        [
         "B03504",
         "fhv",
         8589935122
        ],
        [
         "B03170",
         "fhv",
         8589935123
        ],
        [
         "B02944",
         "fhv",
         8589935124
        ],
        [
         "B01300",
         "fhv",
         8589935125
        ],
        [
         "B03200",
         "fhv",
         8589935126
        ],
        [
         "B03435",
         "fhv",
         8589935127
        ],
        [
         "B03173",
         "fhv",
         8589935128
        ],
        [
         "B00987",
         "fhv",
         8589935129
        ],
        [
         "B03375",
         "fhv",
         8589935130
        ],
        [
         "B01392",
         "fhv",
         8589935131
        ],
        [
         "B02925",
         "fhv",
         8589935132
        ],
        [
         "B03140",
         "fhv",
         8589935133
        ],
        [
         "B00811",
         "fhv",
         8589935134
        ],
        [
         "B01318",
         "fhv",
         8589935135
        ],
        [
         "B03218",
         "fhv",
         8589935136
        ],
        [
         "B01269",
         "fhv",
         8589935137
        ],
        [
         "B01109",
         "fhv",
         8589935138
        ],
        [
         "B01308",
         "fhv",
         8589935139
        ],
        [
         "B03101",
         "fhv",
         8589935140
        ],
        [
         "B02180",
         "fhv",
         8589935141
        ],
        [
         "B02634",
         "fhv",
         8589935142
        ],
        [
         "B03198",
         "fhv",
         8589935143
        ],
        [
         "B00693",
         "fhv",
         8589935144
        ],
        [
         "B03117",
         "fhv",
         8589935145
        ],
        [
         "B02856",
         "fhv",
         8589935146
        ],
        [
         "B03331",
         "fhv",
         8589935147
        ],
        [
         "B02956",
         "fhv",
         8589935148
        ],
        [
         "B03022",
         "fhv",
         8589935149
        ],
        [
         "B03006",
         "fhv",
         8589935150
        ],
        [
         "B03364",
         "fhv",
         8589935151
        ],
        [
         "B02686",
         "fhv",
         8589935152
        ],
        [
         "B01679",
         "fhv",
         8589935153
        ],
        [
         "B00296",
         "fhv",
         8589935154
        ],
        [
         "B02783",
         "fhv",
         8589935155
        ],
        [
         "B02751",
         "fhv",
         8589935156
        ],
        [
         "B03327",
         "fhv",
         8589935157
        ],
        [
         "B03366",
         "fhv",
         8589935158
        ],
        [
         "B03356",
         "fhv",
         8589935159
        ],
        [
         "b00706",
         "fhv",
         8589935160
        ],
        [
         "B00021",
         "fhv",
         8589935161
        ],
        [
         "B02903",
         "fhv",
         8589935162
        ],
        [
         "B01623",
         "fhv",
         8589935163
        ],
        [
         "B02729",
         "fhv",
         8589935164
        ],
        [
         "B00171",
         "fhv",
         8589935165
        ],
        [
         "B02653",
         "fhv",
         8589935166
        ],
        [
         "B02008",
         "fhv",
         8589935167
        ],
        [
         "B00619",
         "fhv",
         8589935168
        ],
        [
         "B03226",
         "fhv",
         8589935169
        ],
        [
         "B02840",
         "fhv",
         8589935170
        ],
        [
         "B01699",
         "fhv",
         8589935171
        ],
        [
         "B03316",
         "fhv",
         8589935172
        ],
        [
         "B01288",
         "fhv",
         8589935173
        ],
        [
         "B01069",
         "fhv",
         8589935174
        ],
        [
         "B02253",
         "fhv",
         8589935175
        ],
        [
         "B02569",
         "fhv",
         8589935176
        ],
        [
         "B03337",
         "fhv",
         8589935177
        ],
        [
         "B03011",
         "fhv",
         8589935178
        ],
        [
         "B03106",
         "fhv",
         8589935179
        ],
        [
         "B03250",
         "fhv",
         8589935180
        ],
        [
         "B02245",
         "fhv",
         8589935181
        ],
        [
         "B01250",
         "fhv",
         8589935182
        ],
        [
         "B03323",
         "fhv",
         8589935183
        ],
        [
         "B00290",
         "fhv",
         8589935184
        ],
        [
         "B03360",
         "fhv",
         8589935185
        ],
        [
         "B02996",
         "fhv",
         8589935186
        ],
        [
         "B01039",
         "fhv",
         8589935187
        ],
        [
         "B01510",
         "fhv",
         8589935188
        ],
        [
         "B03128",
         "fhv",
         8589935189
        ],
        [
         "B02727",
         "fhv",
         8589935190
        ],
        [
         "B03160",
         "fhv",
         8589935191
        ],
        [
         "B01811",
         "fhv",
         8589935192
        ],
        [
         "B02138",
         "fhv",
         8589935193
        ],
        [
         "B01479",
         "fhv",
         8589935194
        ],
        [
         "B03369",
         "fhv",
         8589935195
        ],
        [
         "B03124",
         "fhv",
         8589935196
        ],
        [
         "B03398",
         "fhv",
         8589935197
        ],
        [
         "b02339",
         "fhv",
         8589935198
        ],
        [
         "b02418",
         "fhv",
         8589935199
        ],
        [
         "B03235",
         "fhv",
         8589935200
        ],
        [
         "B02330",
         "fhv",
         8589935201
        ],
        [
         "B02657",
         "fhv",
         8589935202
        ],
        [
         "B03353",
         "fhv",
         8589935203
        ],
        [
         "b01710",
         "fhv",
         8589935204
        ],
        [
         "B02892",
         "fhv",
         8589935205
        ],
        [
         "B03529",
         "fhv",
         8589935206
        ],
        [
         "B03295",
         "fhv",
         8589935207
        ],
        [
         "B03523",
         "fhv",
         8589935208
        ],
        [
         "B03530",
         "fhv",
         8589935209
        ],
        [
         "B03447",
         "fhv",
         8589935210
        ],
        [
         "B03506",
         "fhv",
         8589935211
        ],
        [
         "B03399",
         "fhv",
         8589935212
        ],
        [
         "b01349",
         "fhv",
         8589935213
        ],
        [
         "B03049",
         "fhv",
         8589935214
        ],
        [
         "B03512",
         "fhv",
         8589935215
        ],
        [
         "B03230",
         "fhv",
         8589935216
        ],
        [
         "B03462",
         "fhv",
         8589935217
        ],
        [
         "B03554",
         "fhv",
         8589935218
        ],
        [
         "B03377",
         "fhv",
         8589935219
        ],
        [
         "B03551",
         "fhv",
         8589935220
        ],
        [
         "B01118",
         "fhv",
         8589935221
        ],
        [
         "B03473",
         "fhv",
         8589935222
        ],
        [
         "B03278",
         "fhv",
         8589935223
        ],
        [
         "B03440",
         "fhv",
         8589935224
        ],
        [
         "B03531",
         "fhv",
         8589935225
        ],
        [
         "B03470",
         "fhv",
         8589935226
        ],
        [
         "B03252",
         "fhv",
         8589935227
        ],
        [
         "B03475",
         "fhv",
         8589935228
        ],
        [
         "B03446",
         "fhv",
         8589935229
        ],
        [
         "B03463",
         "fhv",
         8589935230
        ],
        [
         "B03111",
         "fhv",
         8589935231
        ],
        [
         "B03565",
         "fhv",
         8589935232
        ],
        [
         "B03279",
         "fhv",
         8589935233
        ],
        [
         "B00401",
         "fhv",
         8589935234
        ],
        [
         "B01907",
         "fhv",
         8589935235
        ],
        [
         "B03214",
         "fhv",
         8589935236
        ],
        [
         "B01328 ",
         "fhv",
         8589935237
        ],
        [
         "B00492",
         "fhv",
         8589935238
        ],
        [
         "B02709",
         "fhv",
         8589935239
        ],
        [
         "B00727",
         "fhv",
         8589935240
        ],
        [
         "B02534",
         "fhv",
         8589935241
        ],
        [
         "b00833",
         "fhv",
         8589935242
        ],
        [
         "B01629 ",
         "fhv",
         8589935243
        ],
        [
         "B03231",
         "fhv",
         8589935244
        ],
        [
         "B02106",
         "fhv",
         8589935245
        ],
        [
         "B02004",
         "fhv",
         8589935246
        ],
        [
         "B02293",
         "fhv",
         8589935247
        ],
        [
         "B02637",
         "fhv",
         8589935248
        ],
        [
         "B00991",
         "fhv",
         8589935249
        ],
        [
         "B02970",
         "fhv",
         8589935250
        ],
        [
         "B03020",
         "fhv",
         8589935251
        ],
        [
         "B01129",
         "fhv",
         8589935252
        ],
        [
         "B01088",
         "fhv",
         8589935253
        ],
        [
         "B02254 ",
         "fhv",
         8589935254
        ],
        [
         "B02826",
         "fhv",
         8589935255
        ],
        [
         "B03242",
         "fhv",
         8589935256
        ],
        [
         "B03310",
         "fhv",
         8589935257
        ],
        [
         "B02055 ",
         "fhv",
         8589935258
        ],
        [
         "B02517         ",
         "fhv",
         8589935259
        ],
        [
         "B00889         ",
         "fhv",
         8589935260
        ],
        [
         "B03184",
         "fhv",
         8589935261
        ],
        [
         "B02004 ",
         "fhv",
         8589935262
        ],
        [
         "B01821",
         "fhv",
         8589935263
        ],
        [
         "B03059",
         "fhv",
         8589935264
        ],
        [
         "B02191",
         "fhv",
         8589935265
        ],
        [
         "B03162",
         "fhv",
         8589935266
        ],
        [
         "B01525",
         "fhv",
         8589935267
        ],
        [
         "B02995",
         "fhv",
         8589935268
        ],
        [
         "B00346",
         "fhv",
         8589935269
        ],
        [
         "B01700",
         "fhv",
         8589935270
        ],
        [
         "B02566",
         "fhv",
         8589935271
        ],
        [
         "B01176         ",
         "fhv",
         8589935272
        ],
        [
         "B02574",
         "fhv",
         8589935273
        ],
        [
         "B02597",
         "fhv",
         8589935274
        ],
        [
         "B01614",
         "fhv",
         8589935275
        ],
        [
         "B03048",
         "fhv",
         8589935276
        ],
        [
         "B01197",
         "fhv",
         8589935277
        ],
        [
         "B01653",
         "fhv",
         8589935278
        ],
        [
         "B02379",
         "fhv",
         8589935279
        ],
        [
         "B03268         ",
         "fhv",
         8589935280
        ],
        [
         "B00472",
         "fhv",
         8589935281
        ],
        [
         "B03193",
         "fhv",
         8589935282
        ],
        [
         "B01470     ",
         "fhv",
         8589935283
        ],
        [
         "B02416         ",
         "fhv",
         8589935284
        ],
        [
         "B01051",
         "fhv",
         8589935285
        ],
        [
         "B02229",
         "fhv",
         8589935286
        ],
        [
         "B00160",
         "fhv",
         8589935287
        ],
        [
         "B02627                  ",
         "fhv",
         8589935288
        ],
        [
         "B00855",
         "fhv",
         8589935289
        ],
        [
         "B03023",
         "fhv",
         8589935290
        ],
        [
         "B00882",
         "fhv",
         8589935291
        ],
        [
         "B03246",
         "fhv",
         8589935292
        ],
        [
         "B02462         ",
         "fhv",
         8589935293
        ],
        [
         "B01985",
         "fhv",
         8589935294
        ],
        [
         "B00319",
         "fhv",
         8589935295
        ],
        [
         "B01364         ",
         "fhv",
         8589935296
        ],
        [
         "B02951",
         "fhv",
         8589935297
        ],
        [
         "B01846",
         "fhv",
         8589935298
        ],
        [
         "B02921",
         "fhv",
         8589935299
        ],
        [
         "B01190",
         "fhv",
         8589935300
        ],
        [
         "B03072",
         "fhv",
         8589935301
        ],
        [
         "B01470         ",
         "fhv",
         8589935302
        ],
        [
         "B02553         ",
         "fhv",
         8589935303
        ],
        [
         "B00625         ",
         "fhv",
         8589935304
        ],
        [
         "B02460",
         "fhv",
         8589935305
        ],
        [
         "B01215         ",
         "fhv",
         8589935306
        ],
        [
         "B02551",
         "fhv",
         8589935307
        ],
        [
         "B02711",
         "fhv",
         8589935308
        ],
        [
         "B03092",
         "fhv",
         8589935309
        ],
        [
         "B00131",
         "fhv",
         8589935310
        ],
        [
         "B02809",
         "fhv",
         8589935311
        ],
        [
         "B01529",
         "fhv",
         8589935312
        ],
        [
         "B00653",
         "fhv",
         8589935313
        ],
        [
         "B00955         ",
         "fhv",
         8589935314
        ],
        [
         "B01467         ",
         "fhv",
         8589935315
        ],
        [
         "B03285         ",
         "fhv",
         8589935316
        ],
        [
         "B02037",
         "fhv",
         8589935317
        ],
        [
         "B01309",
         "fhv",
         8589935318
        ],
        [
         "B01066         ",
         "fhv",
         8589935319
        ],
        [
         "B01693",
         "fhv",
         8589935320
        ],
        [
         "B00030",
         "fhv",
         8589935321
        ],
        [
         "B01568       ",
         "fhv",
         8589935322
        ],
        [
         "B01263",
         "fhv",
         8589935323
        ],
        [
         "B00290         ",
         "fhv",
         8589935324
        ],
        [
         "B00210",
         "fhv",
         8589935325
        ],
        [
         "B01739         ",
         "fhv",
         8589935326
        ],
        [
         "B01964",
         "fhv",
         8589935327
        ],
        [
         "B02279         ",
         "fhv",
         8589935328
        ],
        [
         "B00021         ",
         "fhv",
         8589935329
        ],
        [
         "B03062",
         "fhv",
         8589935330
        ],
        [
         "B00419",
         "fhv",
         8589935331
        ],
        [
         "B01534 ",
         "fhv",
         8589935332
        ],
        [
         "B03076         ",
         "fhv",
         8589935333
        ],
        [
         "B02535",
         "fhv",
         8589935334
        ],
        [
         "B01995         ",
         "fhv",
         8589935335
        ],
        [
         "B03257",
         "fhv",
         8589935336
        ],
        [
         "B01343",
         "fhv",
         8589935337
        ],
        [
         "B03220",
         "fhv",
         8589935338
        ],
        [
         "B01351",
         "fhv",
         8589935339
        ],
        [
         "B03080",
         "fhv",
         8589935340
        ],
        [
         "B02988",
         "fhv",
         8589935341
        ],
        [
         "B01389",
         "fhv",
         8589935342
        ],
        [
         "B01436         ",
         "fhv",
         8589935343
        ],
        [
         "B02408",
         "fhv",
         8589935344
        ],
        [
         "B02769",
         "fhv",
         8589935345
        ],
        [
         "B00975         ",
         "fhv",
         8589935346
        ],
        [
         "B02196",
         "fhv",
         8589935347
        ],
        [
         "B01568         ",
         "fhv",
         8589935348
        ],
        [
         "B03084         ",
         "fhv",
         8589935349
        ],
        [
         "B01124         ",
         "fhv",
         8589935350
        ],
        [
         "B02243",
         "fhv",
         8589935351
        ],
        [
         "B01328",
         "fhv",
         8589935352
        ],
        [
         "B02026",
         "fhv",
         8589935353
        ],
        [
         "B03280",
         "fhv",
         8589935354
        ],
        [
         "B03130",
         "fhv",
         8589935355
        ],
        [
         "B02811 ",
         "fhv",
         8589935356
        ],
        [
         "B03270",
         "fhv",
         8589935357
        ],
        [
         "B03119",
         "fhv",
         8589935358
        ],
        [
         "B03331         ",
         "fhv",
         8589935359
        ],
        [
         "B00639",
         "fhv",
         8589935360
        ],
        [
         "B03290",
         "fhv",
         8589935361
        ],
        [
         "B00955",
         "fhv",
         8589935362
        ],
        [
         "B03255",
         "fhv",
         8589935363
        ],
        [
         "B03186",
         "fhv",
         8589935364
        ],
        [
         "B03328         ",
         "fhv",
         8589935365
        ],
        [
         "B03327         ",
         "fhv",
         8589935366
        ],
        [
         "B00833",
         "fhv",
         8589935367
        ],
        [
         "B03522",
         "fhv",
         8589935368
        ],
        [
         "B02507",
         "fhv",
         8589935369
        ],
        [
         "B03407",
         "fhv",
         8589935370
        ],
        [
         "B03614",
         "fhv",
         8589935371
        ],
        [
         "B03534",
         "fhv",
         8589935372
        ],
        [
         "B03646",
         "fhv",
         8589935373
        ],
        [
         "B03617",
         "fhv",
         8589935374
        ],
        [
         "B03127",
         "fhv",
         8589935375
        ],
        [
         "B03525",
         "fhv",
         8589935376
        ],
        [
         "B03430",
         "fhv",
         8589935377
        ],
        [
         "B03582",
         "fhv",
         8589935378
        ],
        [
         "B03370",
         "fhv",
         8589935379
        ],
        [
         "B03653",
         "fhv",
         8589935380
        ],
        [
         "B03578",
         "fhv",
         8589935381
        ],
        [
         "B03590",
         "fhv",
         8589935382
        ],
        [
         "B03544",
         "fhv",
         8589935383
        ],
        [
         "B03426",
         "fhv",
         8589935384
        ],
        [
         "B03603",
         "fhv",
         8589935385
        ],
        [
         "B03557",
         "fhv",
         8589935386
        ],
        [
         "B03562",
         "fhv",
         8589935387
        ],
        [
         "B03553",
         "fhv",
         8589935388
        ],
        [
         "B03584",
         "fhv",
         8589935389
        ],
        [
         "B03477",
         "fhv",
         8589935390
        ],
        [
         "b03464",
         "fhv",
         8589935391
        ],
        [
         "B03471",
         "fhv",
         8589935392
        ],
        [
         "B03396",
         "fhv",
         8589935393
        ],
        [
         "B03524",
         "fhv",
         8589935394
        ],
        [
         "B03569",
         "fhv",
         8589935395
        ],
        [
         "B03514",
         "fhv",
         8589935396
        ],
        [
         "B03599",
         "fhv",
         8589935397
        ],
        [
         "B03627",
         "fhv",
         8589935398
        ],
        [
         "B03622",
         "fhv",
         8589935399
        ],
        [
         "B03207",
         "fhv",
         8589935400
        ],
        [
         "B03572",
         "fhv",
         8589935401
        ],
        [
         "B03445",
         "fhv",
         8589935402
        ],
        [
         "B03618",
         "fhv",
         8589935403
        ],
        [
         "B03637",
         "fhv",
         8589935404
        ],
        [
         "B03577",
         "fhv",
         8589935405
        ],
        [
         "B03654",
         "fhv",
         8589935406
        ],
        [
         "B03659",
         "fhv",
         8589935407
        ],
        [
         "B03567",
         "fhv",
         8589935408
        ],
        [
         "B03581",
         "fhv",
         8589935409
        ],
        [
         "B03502",
         "fhv",
         8589935410
        ],
        [
         "B00306",
         "fhv",
         8589935411
        ],
        [
         "B90612",
         "fhv",
         8589935412
        ],
        [
         "B03464",
         "fhv",
         8589935413
        ],
        [
         "B03558",
         "fhv",
         8589935414
        ],
        [
         "b02167",
         "fhv",
         8589935415
        ],
        [
         "B03570",
         "fhv",
         8589935416
        ],
        [
         "B01957",
         "fhv",
         8589935417
        ],
        [
         "B01444",
         "fhv",
         8589935418
        ],
        [
         "B03094",
         "fhv",
         8589935419
        ],
        [
         "b00639",
         "fhv",
         8589935420
        ],
        [
         "B03125    ",
         "fhv",
         8589935421
        ],
        [
         "B00318",
         "fhv",
         8589935422
        ],
        [
         "B01751",
         "fhv",
         8589935423
        ],
        [
         "B03159",
         "fhv",
         8589935424
        ],
        [
         "B03096",
         "fhv",
         8589935425
        ],
        [
         "B03247",
         "fhv",
         8589935426
        ],
        [
         "B02790",
         "fhv",
         8589935427
        ],
        [
         "B00990",
         "fhv",
         8589935428
        ],
        [
         "B01678         ",
         "fhv",
         8589935429
        ],
        [
         "B02965",
         "fhv",
         8589935430
        ],
        [
         "B01326         ",
         "fhv",
         8589935431
        ],
        [
         "B01711         ",
         "fhv",
         8589935432
        ],
        [
         "B00337",
         "fhv",
         8589935433
        ],
        [
         "B02552",
         "fhv",
         8589935434
        ],
        [
         "B00056",
         "fhv",
         8589935435
        ],
        [
         "B03243",
         "fhv",
         8589935436
        ],
        [
         "B01420",
         "fhv",
         8589935437
        ],
        [
         "B01674         ",
         "fhv",
         8589935438
        ],
        [
         "B03161",
         "fhv",
         8589935439
        ],
        [
         "B02590",
         "fhv",
         8589935440
        ],
        [
         "B03083",
         "fhv",
         8589935441
        ],
        [
         "B02841",
         "fhv",
         8589935442
        ],
        [
         "B01989",
         "fhv",
         8589935443
        ],
        [
         "B03236         ",
         "fhv",
         8589935444
        ],
        [
         "B03196",
         "fhv",
         8589935445
        ],
        [
         "B02335",
         "fhv",
         8589935446
        ],
        [
         "B03113         ",
         "fhv",
         8589935447
        ],
        [
         "B01398",
         "fhv",
         8589935448
        ],
        [
         "B02715",
         "fhv",
         8589935449
        ],
        [
         "B00039",
         "fhv",
         8589935450
        ],
        [
         "B02793         ",
         "fhv",
         8589935451
        ],
        [
         "B01332",
         "fhv",
         8589935452
        ],
        [
         "B03007",
         "fhv",
         8589935453
        ],
        [
         "B02891",
         "fhv",
         8589935454
        ],
        [
         "B02447",
         "fhv",
         8589935455
        ],
        [
         "B03261",
         "fhv",
         8589935456
        ],
        [
         "b01700",
         "fhv",
         8589935457
        ],
        [
         "B02839",
         "fhv",
         8589935458
        ],
        [
         "B00984",
         "fhv",
         8589935459
        ],
        [
         "B02468",
         "fhv",
         8589935460
        ],
        [
         "B02389",
         "fhv",
         8589935461
        ],
        [
         "B02252",
         "fhv",
         8589935462
        ],
        [
         "B02011",
         "fhv",
         8589935463
        ],
        [
         "B00325         ",
         "fhv",
         8589935464
        ],
        [
         "B01808",
         "fhv",
         8589935465
        ],
        [
         "B02963",
         "fhv",
         8589935466
        ],
        [
         "B01148",
         "fhv",
         8589935467
        ],
        [
         "B01568        ",
         "fhv",
         8589935468
        ],
        [
         "B03077",
         "fhv",
         8589935469
        ],
        [
         "B02200",
         "fhv",
         8589935470
        ],
        [
         "B01876",
         "fhv",
         8589935471
        ],
        [
         "B03031",
         "fhv",
         8589935472
        ],
        [
         "B02369",
         "fhv",
         8589935473
        ],
        [
         "B00031",
         "fhv",
         8589935474
        ],
        [
         "B02651",
         "fhv",
         8589935475
        ],
        [
         "B03129",
         "fhv",
         8589935476
        ],
        [
         "B00369",
         "fhv",
         8589935477
        ],
        [
         "B02554",
         "fhv",
         8589935478
        ],
        [
         "B02346",
         "fhv",
         8589935479
        ],
        [
         "B02643",
         "fhv",
         8589935480
        ],
        [
         "B01801",
         "fhv",
         8589935481
        ],
        [
         "B03125 ",
         "fhv",
         8589935482
        ],
        [
         "B03188         ",
         "fhv",
         8589935483
        ],
        [
         "B03142",
         "fhv",
         8589935484
        ],
        [
         "B01081 ",
         "fhv",
         8589935485
        ],
        [
         "B01146",
         "fhv",
         8589935486
        ],
        [
         "B00325",
         "fhv",
         8589935487
        ],
        [
         "B02360",
         "fhv",
         8589935488
        ],
        [
         "B01244",
         "fhv",
         8589935489
        ],
        [
         "B02440",
         "fhv",
         8589935490
        ],
        [
         "B03078",
         "fhv",
         8589935491
        ],
        [
         "B01949",
         "fhv",
         8589935492
        ],
        [
         "B03024",
         "fhv",
         8589935493
        ],
        [
         "B03125",
         "fhv",
         8589935494
        ],
        [
         "B01875",
         "fhv",
         8589935495
        ],
        [
         "B02175",
         "fhv",
         8589935496
        ],
        [
         "B02219",
         "fhv",
         8589935497
        ],
        [
         "B03110",
         "fhv",
         8589935498
        ],
        [
         "B00552",
         "fhv",
         8589935499
        ],
        [
         "B03135",
         "fhv",
         8589935500
        ],
        [
         "B03069",
         "fhv",
         8589935501
        ],
        [
         "B01764",
         "fhv",
         8589935502
        ],
        [
         "B00746         ",
         "fhv",
         8589935503
        ],
        [
         "B02390",
         "fhv",
         8589935504
        ],
        [
         "b01445",
         "fhv",
         8589935505
        ],
        [
         "B02465",
         "fhv",
         8589935506
        ],
        [
         "B03213",
         "fhv",
         8589935507
        ],
        [
         "B02806         ",
         "fhv",
         8589935508
        ],
        [
         "B02944 ",
         "fhv",
         8589935509
        ],
        [
         "B03109",
         "fhv",
         8589935510
        ],
        [
         "B03293",
         "fhv",
         8589935511
        ],
        [
         "B02288",
         "fhv",
         8589935512
        ],
        [
         "B03324         ",
         "fhv",
         8589935513
        ],
        [
         "B01979",
         "fhv",
         8589935514
        ],
        [
         "b03340",
         "fhv",
         8589935515
        ],
        [
         "B03644",
         "fhv",
         8589935516
        ],
        [
         "B03632",
         "fhv",
         8589935517
        ],
        [
         "B03601",
         "fhv",
         8589935518
        ],
        [
         "B03465",
         "fhv",
         8589935519
        ],
        [
         "B03669",
         "fhv",
         8589935520
        ],
        [
         "B01243",
         "fhv",
         8589935521
        ],
        [
         "HV0005",
         "fhvhv",
         17179869184
        ],
        [
         "HV0003",
         "fhvhv",
         17179869185
        ],
        [
         "HV0004",
         "fhvhv",
         17179869186
        ]
       ],
       "datasetInfos": [],
       "dbfsResultPath": null,
       "isJsonSchema": true,
       "metadata": {},
       "overflow": false,
       "plotOptions": {
        "customPlotOptions": {},
        "displayType": "table",
        "pivotAggregation": null,
        "pivotColumns": null,
        "xColumns": null,
        "yColumns": null
       },
       "removedWidgets": [],
       "schema": [
        {
         "metadata": "{}",
         "name": "vendor_code_key",
         "type": "\"string\""
        },
        {
         "metadata": "{}",
         "name": "trip_type",
         "type": "\"string\""
        },
        {
         "metadata": "{}",
         "name": "vendor_id",
         "type": "\"long\""
        }
       ],
       "type": "table"
      }
     },
     "output_type": "display_data"
    }
   ],
   "source": [
    "dim_vendor = spark.read.format(\"delta\").load(f\"{GOLD_BASE}/dim_vendor\")\n",
    "dim_vendor.orderBy(\"vendor_id\").display()"
   ]
  },
  {
   "cell_type": "code",
   "execution_count": 0,
   "metadata": {
    "application/vnd.databricks.v1+cell": {
     "cellMetadata": {},
     "inputWidgets": {},
     "nuid": "887bf037-4992-4358-b727-9749998b83da",
     "showTitle": false,
     "tableResultSettingsMap": {},
     "title": ""
    }
   },
   "outputs": [],
   "source": []
  }
 ],
 "metadata": {
  "application/vnd.databricks.v1+notebook": {
   "computePreferences": {
    "hardware": {
     "accelerator": null,
     "gpuPoolId": null,
     "memory": null
    }
   },
   "dashboards": [],
   "environmentMetadata": {
    "base_environment": "",
    "environment_version": "2"
   },
   "inputWidgetPreferences": null,
   "language": "python",
   "notebookMetadata": {
    "mostRecentlyExecutedCommandWithImplicitDF": {
     "commandId": 7998748105843085,
     "dataframes": [
      "_sqldf"
     ]
    },
    "pythonIndentUnit": 4
   },
   "notebookName": "NYC Taxi Data Ingestion",
   "widgets": {}
  },
  "language_info": {
   "name": "python"
  }
 },
 "nbformat": 4,
 "nbformat_minor": 0
}
